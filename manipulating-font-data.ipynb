{
 "cells": [
  {
   "cell_type": "markdown",
   "metadata": {},
   "source": [
    "# Manipulating font data\n",
    "\n",
    "By [Allison Parrish](https://www.decontextualize.com/)\n",
    "\n",
    "This is a short notebook showing some techniques for loading data from TrueType/OpenType font files with [Flat](https://xxyxyz.org/flat) and then doing weird things with it using [Bezmerizing](https://github.com/aparrish/bezmerizing/). Make sure you've gone through these introductory notebooks before proceeding:\n",
    "\n",
    "* [Flat and asemic writing](flat-asemic-writing.ipynb)\n",
    "* [Lines and asemic writing](lines-and-asemic.ipynb)\n",
    "\n",
    "We'll start with some introductory information about typography and font files.\n",
    "\n",
    "## Typography terminology\n",
    "\n",
    "First off, there are a number of terms that describe certain distances between parts of letterforms:\n",
    "\n",
    "![Diagram of typography line terms](http://comptypo.decontextualize.com/public/images/800px-Typography_Line_Terms.svg.png)\n",
    "\n",
    "Units of measurement:\n",
    "\n",
    "* Point (1/72nd of an inch)\n",
    "* Em (the width of a capital 'M' in a font)\n",
    "* Pixel (the distance from one side of a pixel in a display to the other; may\n",
    "  differ horizontally and vertically; some LCDs can have meaningful 'sub-pixel'\n",
    "  addressing; \"pixel\" can mean something different on high-density displays)\n",
    "\n",
    "Letter forms by their nature are analog (formed from continuous curves). *Rasterization* is the process of \"sampling\" the analog curves to a grid, for (e.g.) display on a screen.\n",
    "\n",
    "## Components of TrueType/OpenType fonts\n",
    "\n",
    "The most common digital formats for fonts are TrueType (`.ttf`) and OpenType (`.otf`), two closely related standards defined and implemented by [a dizzying amalgamation of Adobe, Apple and Microsoft during the 1990s and early\n",
    "2000s](https://en.wikipedia.org/wiki/OpenType#History). Both are variants of the [SFNT format](https://en.wikipedia.org/wiki/SFNT) and share many of the same abstractions but differ in many particulars. I attempt to explain the important components of both formats in this section.\n",
    "\n",
    "### Characters and glyphs\n",
    "\n",
    "A text is often said to be made up of a string of characters. A character is the basic unit of writing: they're what you learn when you learn to write.\n",
    "\n",
    "The most important part of a font file is the \"glyphs,\" which are the individual, distinct marks that the font can produce. In many cases, there is a one-to-one correspondence between glyphs and characters (e.g., the glyph *c*\n",
    "represents the character `c`) but some glyphs represent multiple characters (e.g., ligatures like ﬁ) and some characters may be represeted by more than one glyph (stylistic or contextual variants, e.g., the character `s` in early modern English, represented as *ſ* when found in the middle of a word, and *s* when found at the end).\n",
    "\n",
    "For this reason, TTF/OTF fonts include information on how to map characters to glyphs. The most straightforward way to do this is with the [cmap table](https://docs.microsoft.com/en-us/typography/opentype/spec/cmap), which links a character (given as, e.g., Unicode code points) to a numbered glyph in\n",
    "the font. [Substitution features](http://ilovetypography.com/OpenType/opentype-features.html) in OpenType allow the font designer to specify that certain sequences of characters should be represented with particular glyphs (like ligatures, but this feature also be creatively misused; see [Sans Bullshit Sans](https://pixelambacht.nl/2015/sans-bullshit-sans/) and [Doggy](https://www.swiss-miss.com/2012/09/doggy.html)). A font file may also specify other visual aspects of how the text should be rendered, like kerning (adjusting the horizontal and/or vertical space between pairs or longer sequences of characters), which in OpenType is specified in the [GPOS table](https://docs.microsoft.com/en-us/typography/opentype/spec/gpos).\n",
    "\n",
    "Another aspect of appearance often specified in a font is [hinting](https://en.wikipedia.org/wiki/Font_hinting), which specifies how the vector data in the font should be adjusted during the rasterization process (i.e., displaying on a pixel-based screen), to ensure that the important parts of each glyph are displayed even when interpolated. The TrueType font format has [an absurdly sophisticated system for font hinting](https://docs.microsoft.com/en-us/typography/truetype/hinting), including a Turing-complete programming language, which has led to some [truly\n",
    "spectacular security vulnerabilities](https://www.youtube.com/watch?v=jioFhWanFxU).\n",
    "\n",
    "### Shape information\n",
    "\n",
    "In TrueType and OpenType fonts, the shape of a glyph is specified using data in an sfnt table (called either `glyf` or `CFF `). The point of the data is to define the lines and curves that form the outline of the shapes. The actual formats of these tables are quite frankly baroque and overly complicated; see the [`glyf` specification](https://developer.apple.com/fonts/TrueType-Reference-Manual/RM06/Chap6glyf.html) and the [`CFF `\n",
    "specification](https://docs.microsoft.com/en-us/typography/opentype/spec/cff). For our purposes, it's not worth talking about the details, since the library we'll be using to parse the font files will smooth everything over for us.\n",
    "\n",
    "In general, the outline of a glyph is comprised of a series of one or more contours (shapes), which are in turn comprised of lines and curves (with 2D coordinates). In TrueType and OpenType fonts, the start/end positions are\n",
    "integers on a grid whose resolution is defined by the font itself (e.g., 2048 units per em), with the origin generally at the lower left-hand corner of the glyph.\n",
    "\n",
    "This illustration from the [FreeType documentation](https://www.freetype.org/freetype2/docs/glyphs/index.html) names\n",
    "some of the metrics associated with a (horizontal) glyph. For example, the character's *bearing* is a measure of how far from the origin the glyph is; the *advance* of a character controls how much the \"pen\" should be moved forward\n",
    "after drawing the character; this may be different from the character's *width*.\n",
    "\n",
    "![OpenType metrics diagram](http://comptypo.decontextualize.com/public/images/metrics.png)\n",
    "\n",
    "### Curves\n",
    "\n",
    "A contour specification consists of lines and curves. Representing a line as data is very easy; you just need to indicate the coordinates of the start and end of the segment. Representing a curve is a little bit more difficult, and\n",
    "there are multiple strategies for accomplishing this. The most common way to represent curves is as [Bézier\n",
    "curves](https://en.wikipedia.org/wiki/B%C3%A9zier_curve). Named after French engineer [Pierre Bézier](https://en.wikipedia.org/wiki/Pierre_B%C3%A9zier), who used the math behind the curve in industrial design in the 1960s, a Bézier curve consists of two *anchor points* and a series of *control points*.  The anchor points define the beginning and ending of the curve, and the control points define the extent of the curvature. A Bézier curve with one control point is called *quadratic* and one with two control points is called *cubic*. Higher order curves are possible, but because the use of cubic curves is so widespread in software, the term \"Bézier\" is often used specifically to mean *cubic* Bézier curves. (This reflects the usage in, e.g., p5.js: see [bezier()](https://p5js.org/reference/#/p5/bezier) and [quadraticVertex()](https://p5js.org/reference/#/p5/quadraticVertex) in the\n",
    "documentation.)\n",
    "\n",
    "The following demo lets you play with a cubic Bézier's anchor and control points: [(Cubic) Bezier curve demo](https://editor.p5js.org/allison.parrish/sketches/H1QQ3Nt67)\n",
    "\n",
    "And the demo below does the same for a quadratic curve: [Quadratic curve demo](https://editor.p5js.org/allison.parrish/sketches/HysPl9FT7)\n",
    "\n",
    "Here's [a helpful introduction to the math behind Bézier curves](https://pomax.github.io/bezierinfo/), how they're represented as data and how to efficiently rasterize them. (You don't need to read or understand all of this in order to make use of Bézier curves, but it's helpful to read at least the first few sections.) The author of that tutorial has also made a [wonderful library for working with Bézier curves in JavaScript](https://pomax.github.io/bezierjs/). \n",
    "\n",
    "The distinction between quadratic and cubic curves is important, because TrueType fonts (with `glyf` tables) *only* support quadratic curves, while OpenType fonts (specifically those that use the `CFF ` table) make use of cubic curves. If you want to be able to draw glyphs from either format, you have to be able to draw both kinds of curves.\n",
    "\n",
    "### Counters and cutouts\n",
    "\n",
    "Many glyph outlines consist of more than one contour: the letter `j` for example has a contour for the body of the letter and a separate (non-overlapping) contour for the dot.\n",
    "\n",
    "Additionally, some glyph outlines have have closed [counters](https://en.wikipedia.org/wiki/Counter_(typography)): contours of the glyph that are completely enclosed within another contour. (The \"hole\" in the letter `O` is an example; a capital `B` has two counters.) Some glyph outlines, like `®`, have contours within contours within contours!\n",
    "\n",
    "So the question arises: in a glyph outline, how do you know which contours should be filled in, and which should be \"cut out\"? (Otherwise stated: how do you know which points are \"inside\" the letter and should be filled in, and\n",
    "which points are \"outside\" the letter and should be left blank?)\n",
    "\n",
    "This is one of the trickier parts of rendering a glyph. TrueType `glyf` fonts use one strategy: if the points in a contour are defined in a clockwise fashion, then the shape should be filled; if they're defined in a counter-clockwise fashion, then the shape should be cut out. In OpenType `CFF ` fonts, contours are considered cutouts if they're contained inside an odd number of other paths. ([Source](https://github.com/opentypejs/opentype.js/issues/347).) In either case, finding out whether a contour should be cut out or filled in depends on doing some math on the points and curves of the contours themselves.\n",
    "\n",
    "### Variable fonts\n",
    "\n",
    "Recent versions of the OpenType standard include support for [\"variable\" fonts](https://simoncozens.github.io/fonts-and-layout/opentype.html#opentype-font-variations). Variable fonts contain multiple \"masters\" (i.e., different versions of the same glyphs), alongside information about how to interpolate between the points in those masters. The end goal of variable fonts is to make it possible to dynamically adjust (e.g.) the weight of a font (without having to include separate font data for each weight). As of this writing, support for variable fonts remains incomplete (even in some web browsers), and the library we're using to work with TrueType/OpenType files (sadly) does not support variable fonts. But it's worth knowing about! This [Variable Fonts website](https://v-fonts.com/) has a ton of variable fonts you can play around with to get an idea for how they work."
   ]
  },
  {
   "cell_type": "markdown",
   "metadata": {},
   "source": [
    "## Code preliminaries\n",
    "\n",
    "Whew! With all of that in mind, we can start programming. Before we begin, some preliminary imports from Flat and Bezmerizing:"
   ]
  },
  {
   "cell_type": "code",
   "execution_count": 1,
   "metadata": {},
   "outputs": [],
   "source": [
    "from flat import document, rgb, rgba, font, strike, shape\n",
    "from flat.command import moveto, quadto, curveto, lineto, closepath\n",
    "from bezmerizing import Polyline, Path\n",
    "import numpy as np\n",
    "from copy import copy"
   ]
  },
  {
   "cell_type": "markdown",
   "metadata": {},
   "source": [
    "And some functions from `numpy` which we'll use for generating random numbers."
   ]
  },
  {
   "cell_type": "code",
   "execution_count": 2,
   "metadata": {},
   "outputs": [],
   "source": [
    "from numpy.random import uniform, normal, choice"
   ]
  },
  {
   "cell_type": "markdown",
   "metadata": {},
   "source": [
    "Plus our trusty function for displaying Flat drawings inline:"
   ]
  },
  {
   "cell_type": "code",
   "execution_count": 3,
   "metadata": {},
   "outputs": [],
   "source": [
    "from IPython.display import SVG, display\n",
    "def show(page):\n",
    "    display(SVG(page.svg()))"
   ]
  },
  {
   "cell_type": "markdown",
   "metadata": {},
   "source": [
    "## Flat paths"
   ]
  },
  {
   "cell_type": "markdown",
   "metadata": {},
   "source": [
    "Flat has a concept of a \"path,\" which is a Python list of `command`s. Five such commands are supported:\n",
    "\n",
    "* `moveto(x, y)`: Moves pen to x, y.\n",
    "* `lineto(x, y)`: Moves pen to x, y, drawing a line along the way.\n",
    "* `quadto(x1, y1, x, y)`: Draws a quadratic Bezier curve from current pen position to x, y, using control point x1, y1.\n",
    "* `curveto(x1, y1, x2, y2, x, y)`: Draws a cubic Bezier curve from current point to x, y, using control points x1, y1 and x2, y2.\n",
    "* `closepath`: Closes the current subpath.\n",
    "\n",
    "To draw a path, create a list of `command`s and pass them to a `shape` object's `path` command. For example, to draw a little strange triangle:"
   ]
  },
  {
   "cell_type": "code",
   "execution_count": 4,
   "metadata": {},
   "outputs": [
    {
     "data": {
      "image/svg+xml": [
       "<svg height=\"283.4646pt\" version=\"1.1\" width=\"283.4646pt\" xmlns=\"http://www.w3.org/2000/svg\" xmlns:xlink=\"http://www.w3.org/1999/xlink\">\n",
       "<title>Untitled</title>\n",
       "<path d=\"M141.7323,93.5433 L189.9213,189.9213 C170.0787,141.7323,113.3858,141.7323,93.5433,189.9213 z\" fill=\"rgba(128,128,128,1)\" stroke=\"rgba(0,0,0,1)\" stroke-miterlimit=\"10\" stroke-width=\"4\"/>\n",
       "</svg>"
      ],
      "text/plain": [
       "<IPython.core.display.SVG object>"
      ]
     },
     "metadata": {},
     "output_type": "display_data"
    }
   ],
   "source": [
    "d = document(100, 100, 'mm') # create a document 100mm x 100mm (can replace 'mm' with 'pt')\n",
    "page = d.addpage() # add a page\n",
    "pen = shape().stroke(rgba(0, 0, 0, 255)).fill(rgba(128, 128, 128, 255)).width(4)\n",
    "my_cmds = [moveto(50, 33),\n",
    "           lineto(67, 67),\n",
    "           curveto(60, 50, 40, 50, 33, 67),\n",
    "           closepath]\n",
    "tri_path = pen.path(my_cmds)\n",
    "page.place(tri_path)\n",
    "show(page) # show the page"
   ]
  },
  {
   "cell_type": "markdown",
   "metadata": {},
   "source": [
    "A potential drawback to specifying paths like this is that the coordinates are hard-coded, making it difficult to do things like draw the path at a different size or at a different location on the canvas. To mitigate this drawback, we'll want to be able to apply [affine transformations](https://en.wikipedia.org/wiki/Affine_transformation) to paths, such as translation, rotation, scale, etc. Flat natively supports a \"transformation matrix\" to apply affine transformations, but that support is a little bit clunky and requires you to hand-code even simple transformations. Instead, we'll use the Bezmerizing `Path` object, which has built-in methods for the most common transformations.\n",
    "\n",
    "> If you need an explanation of affine transformations or the transformation matrix, I recommend this [helpful introduction](https://www.alanzucconi.com/2016/02/10/tranfsormation-matrix/)—not specific to Flat, but the concepts are the same.\n",
    "\n",
    "To create a `Path` object, call `Path()` with a list of Flat commands:"
   ]
  },
  {
   "cell_type": "code",
   "execution_count": 5,
   "metadata": {},
   "outputs": [],
   "source": [
    "doodad = Path(my_cmds)"
   ]
  },
  {
   "cell_type": "markdown",
   "metadata": {},
   "source": [
    "Evaluating the path object shows its contents:"
   ]
  },
  {
   "cell_type": "code",
   "execution_count": 6,
   "metadata": {},
   "outputs": [
    {
     "data": {
      "text/plain": [
       "Path([moveto(x=50.0000, y=33.0000), lineto(x=67.0000, y=67.0000), curveto(x1=60.0000, y1=50.0000, x2=40.0000, y2=50.0000, x=33.0000, y=67.0000), closepath])"
      ]
     },
     "execution_count": 6,
     "metadata": {},
     "output_type": "execute_result"
    }
   ],
   "source": [
    "doodad"
   ]
  },
  {
   "cell_type": "markdown",
   "metadata": {},
   "source": [
    "To draw a path, pass it to a `shape` object's `.path()` method:"
   ]
  },
  {
   "cell_type": "code",
   "execution_count": 7,
   "metadata": {},
   "outputs": [
    {
     "data": {
      "image/svg+xml": [
       "<svg height=\"226.7717pt\" version=\"1.1\" width=\"226.7717pt\" xmlns=\"http://www.w3.org/2000/svg\" xmlns:xlink=\"http://www.w3.org/1999/xlink\">\n",
       "<title>Untitled</title>\n",
       "<path d=\"M141.7323,93.5433 L189.9213,189.9213 C170.0787,141.7323,113.3858,141.7323,93.5433,189.9213 z\" fill=\"rgba(128,128,128,1)\" stroke=\"rgba(0,0,0,1)\" stroke-miterlimit=\"10\" stroke-width=\"4\"/>\n",
       "</svg>"
      ],
      "text/plain": [
       "<IPython.core.display.SVG object>"
      ]
     },
     "metadata": {},
     "output_type": "display_data"
    }
   ],
   "source": [
    "page = document(80, 80, 'mm').addpage()\n",
    "pen = shape().stroke(rgba(0, 0, 0, 255)).fill(rgba(128, 128, 128, 255)).width(4)\n",
    "page.place(pen.path(doodad))\n",
    "show(page) # show the page"
   ]
  },
  {
   "cell_type": "markdown",
   "metadata": {},
   "source": [
    "To transform a path, call one of the `Path` object's transformation functions: `.translate()`, `.rotate()`, or `.scale()`. This will return a new `Path` with the transformation applied to copies of the commands in the original path. (The commands in the original path will be unchanged.) The code below shows the effect of the commands, with the transformed shapes drawn with slight transparency:"
   ]
  },
  {
   "cell_type": "code",
   "execution_count": 9,
   "metadata": {},
   "outputs": [
    {
     "data": {
      "image/svg+xml": [
       "<svg height=\"226.7717pt\" version=\"1.1\" width=\"226.7717pt\" xmlns=\"http://www.w3.org/2000/svg\" xmlns:xlink=\"http://www.w3.org/1999/xlink\">\n",
       "<title>Untitled</title>\n",
       "<path d=\"M141.7323,93.5433 L189.9213,189.9213 C170.0787,141.7323,113.3858,141.7323,93.5433,189.9213 z\" fill=\"rgba(128,128,128,1)\" stroke=\"rgba(0,0,0,1)\" stroke-miterlimit=\"10\" stroke-width=\"4\"/>\n",
       "<path d=\"M85.0394,36.8504 L133.2283,133.2283 C113.3858,85.0394,56.6929,85.0394,36.8504,133.2283 z\" fill=\"rgba(0,0,0,0.251)\" stroke=\"rgba(0,0,0,0.502)\" stroke-miterlimit=\"10\" stroke-width=\"4\"/>\n",
       "<path d=\"M212.5984,140.315 L284.8819,284.8819 C255.1181,212.5984,170.0787,212.5984,140.315,284.8819 z\" fill=\"rgba(0,0,0,0.251)\" stroke=\"rgba(0,0,0,0.502)\" stroke-miterlimit=\"10\" stroke-width=\"4\"/>\n",
       "<path d=\"M166.741,32.1842 L248.1441,102.7846 C211.3709,65.8572,158.9934,87.5527,159.1025,139.6669 z\" fill=\"rgba(0,0,0,0.251)\" stroke=\"rgba(0,0,0,0.502)\" stroke-miterlimit=\"10\" stroke-width=\"4\"/>\n",
       "</svg>"
      ],
      "text/plain": [
       "<IPython.core.display.SVG object>"
      ]
     },
     "metadata": {},
     "output_type": "display_data"
    }
   ],
   "source": [
    "d = document(80, 80, 'mm')\n",
    "page = d.addpage()\n",
    "pen = shape().stroke(rgba(0, 0, 0, 255)).fill(rgba(128, 128, 128, 255)).width(4)\n",
    "alpha_pen = shape().stroke(rgba(0, 0, 0, 128)).fill(rgba(0, 0, 0, 64)).width(4)\n",
    "\n",
    "page.place(pen.path(doodad))\n",
    "\n",
    "# move the path up and to the left\n",
    "translated_path = doodad.translate(-20, -20)\n",
    "page.place(alpha_pen.path(translated_path))\n",
    "\n",
    "# scale the path by a factor of 1.5x\n",
    "scaled_path = doodad.scale(1.5)\n",
    "page.place(alpha_pen.path(scaled_path))\n",
    "\n",
    "# rotate the path\n",
    "rotated_path = doodad.rotate(np.pi * 0.125)\n",
    "page.place(alpha_pen.path(rotated_path))\n",
    "\n",
    "show(page)"
   ]
  },
  {
   "cell_type": "markdown",
   "metadata": {},
   "source": [
    "You'll notice that all of these transformations use the origin (i.e., coordinate `(0, 0)`) as the \"center\" of the transformation, so (e.g.) the \"center\" of the `rotate()` transformation is in the upper left-hand corner of the screen. For this reason, when specifying paths for use with transformations, programmers often intentionally center the figure around the origin:"
   ]
  },
  {
   "cell_type": "code",
   "execution_count": 10,
   "metadata": {},
   "outputs": [],
   "source": [
    "doodad_center = Path([moveto(x=0, y=-17),\n",
    "                      lineto(x=17, y=17),\n",
    "                      curveto(x1=10, y1=0, x2=-10, y2=0, x=-17, y=17),\n",
    "                      closepath])"
   ]
  },
  {
   "cell_type": "markdown",
   "metadata": {},
   "source": [
    "The cell below shows a series of chained transformations on this centered path:"
   ]
  },
  {
   "cell_type": "code",
   "execution_count": 12,
   "metadata": {},
   "outputs": [
    {
     "data": {
      "image/svg+xml": [
       "<svg height=\"226.7717pt\" version=\"1.1\" width=\"226.7717pt\" xmlns=\"http://www.w3.org/2000/svg\" xmlns:xlink=\"http://www.w3.org/1999/xlink\">\n",
       "<title>Untitled</title>\n",
       "<path d=\"M85.7241,46.6046 L207.8287,152.5054 C152.6689,97.1142,74.1028,129.6574,74.2663,207.8287 z\" fill=\"rgba(0,0,0,0.251)\" stroke=\"rgba(0,0,0,0.502)\" stroke-miterlimit=\"10\" stroke-width=\"4\"/>\n",
       "</svg>"
      ],
      "text/plain": [
       "<IPython.core.display.SVG object>"
      ]
     },
     "metadata": {},
     "output_type": "display_data"
    }
   ],
   "source": [
    "d = document(80, 80, 'mm')\n",
    "page = d.addpage()\n",
    "pen = shape().stroke(rgba(0, 0, 0, 255)).fill(rgba(128, 128, 128, 255)).width(4)\n",
    "alpha_pen = shape().stroke(rgba(0, 0, 0, 128)).fill(rgba(0, 0, 0, 64)).width(4)\n",
    "\n",
    "scaled_path = doodad_center.scale(1.5)\n",
    "rotated_path = scaled_path.rotate(np.pi * 0.125)\n",
    "translated_path = rotated_path.translate(40, 40)\n",
    "\n",
    "page.place(alpha_pen.path(translated_path))\n",
    "\n",
    "show(page)"
   ]
  },
  {
   "cell_type": "markdown",
   "metadata": {},
   "source": [
    "Example of chaining transformations in a loop:"
   ]
  },
  {
   "cell_type": "code",
   "execution_count": 13,
   "metadata": {},
   "outputs": [
    {
     "data": {
      "image/svg+xml": [
       "<svg height=\"85.0394pt\" version=\"1.1\" width=\"680.315pt\" xmlns=\"http://www.w3.org/2000/svg\" xmlns:xlink=\"http://www.w3.org/1999/xlink\">\n",
       "<title>Untitled</title>\n",
       "<path d=\"M17.0079,26.4728 L33.0548,58.5666 C26.4472,42.5197,7.5685,42.5197,0.9609,58.5666 z\" fill=\"rgba(128,128,128,1)\" stroke=\"rgba(0,0,0,1)\" stroke-miterlimit=\"10\" stroke-width=\"2\"/>\n",
       "<path d=\"M49.4216,26.5529 L68.5924,56.8844 C60.4158,41.5773,41.6314,43.462,36.6589,60.0885 z\" fill=\"rgba(128,128,128,1)\" stroke=\"rgba(0,0,0,1)\" stroke-miterlimit=\"10\" stroke-width=\"2\"/>\n",
       "<path d=\"M81.8513,26.7926 L103.9545,55.0587 C94.2906,40.6444,75.7882,44.395,72.5003,61.4348 z\" fill=\"rgba(128,128,128,1)\" stroke=\"rgba(0,0,0,1)\" stroke-miterlimit=\"10\" stroke-width=\"2\"/>\n",
       "<path d=\"M114.3129,27.1895 L139.1275,53.1077 C128.0729,39.7302,110.0373,45.3092,108.4671,62.5921 z\" fill=\"rgba(128,128,128,1)\" stroke=\"rgba(0,0,0,1)\" stroke-miterlimit=\"10\" stroke-width=\"2\"/>\n",
       "<path d=\"M146.8219,27.7395 L174.1,51.0509 C161.7651,38.8438,144.3766,46.1955,144.5396,63.5489 z\" fill=\"rgba(128,128,128,1)\" stroke=\"rgba(0,0,0,1)\" stroke-miterlimit=\"10\" stroke-width=\"2\"/>\n",
       "<path d=\"M179.3933,28.4372 L208.8624,48.9089 C195.3704,37.9942,178.8028,47.0452,180.6974,64.2955 z\" fill=\"rgba(128,128,128,1)\" stroke=\"rgba(0,0,0,1)\" stroke-miterlimit=\"10\" stroke-width=\"2\"/>\n",
       "<path d=\"M212.0416,29.2756 L243.4072,46.703 C228.893,37.1898,213.3117,47.8496,216.919,64.8246 z\" fill=\"rgba(128,128,128,1)\" stroke=\"rgba(0,0,0,1)\" stroke-miterlimit=\"10\" stroke-width=\"2\"/>\n",
       "<path d=\"M244.7804,30.2463 L277.7292,44.4553 C262.3377,36.4387,247.8985,48.6007,253.1825,65.1308 z\" fill=\"rgba(128,128,128,1)\" stroke=\"rgba(0,0,0,1)\" stroke-miterlimit=\"10\" stroke-width=\"2\"/>\n",
       "<path d=\"M277.6225,31.3397 L311.8252,42.1883 C295.7103,35.7483,282.5574,49.2911,289.4652,65.2111 z\" fill=\"rgba(128,128,128,1)\" stroke=\"rgba(0,0,0,1)\" stroke-miterlimit=\"10\" stroke-width=\"2\"/>\n",
       "<path d=\"M310.5796,32.5448 L345.6945,39.9246 C329.0172,35.1256,317.282,49.9138,325.7447,65.0646 z\" fill=\"rgba(128,128,128,1)\" stroke=\"rgba(0,0,0,1)\" stroke-miterlimit=\"10\" stroke-width=\"2\"/>\n",
       "<path d=\"M343.6623,33.8495 L379.3386,37.6869 C362.2655,34.5767,352.0652,50.4626,361.9982,64.6929 z\" fill=\"rgba(128,128,128,1)\" stroke=\"rgba(0,0,0,1)\" stroke-miterlimit=\"10\" stroke-width=\"2\"/>\n",
       "<path d=\"M376.88,35.2409 L412.7611,35.4974 C395.4628,34.1072,386.8994,50.9321,398.2034,64.0997 z\" fill=\"rgba(128,128,128,1)\" stroke=\"rgba(0,0,0,1)\" stroke-miterlimit=\"10\" stroke-width=\"2\"/>\n",
       "<path d=\"M410.2405,36.705 L445.9679,33.378 C428.6173,33.7218,421.7764,51.3175,434.3385,63.2908 z\" fill=\"rgba(128,128,128,1)\" stroke=\"rgba(0,0,0,1)\" stroke-miterlimit=\"10\" stroke-width=\"2\"/>\n",
       "<path d=\"M443.7504,38.2272 L478.9673,31.3501 C461.7376,33.4243,456.6876,51.6151,470.3822,62.2744 z\" fill=\"rgba(128,128,128,1)\" stroke=\"rgba(0,0,0,1)\" stroke-miterlimit=\"10\" stroke-width=\"2\"/>\n",
       "<path d=\"M477.4149,39.7922 L511.7692,29.4337 C494.8327,33.2177,491.624,51.8217,506.3143,61.0606 z\" fill=\"rgba(128,128,128,1)\" stroke=\"rgba(0,0,0,1)\" stroke-miterlimit=\"10\" stroke-width=\"2\"/>\n",
       "<path d=\"M511.2374,41.3846 L544.3859,27.6481 C527.9118,33.104,526.5764,51.9354,542.1157,59.6615 z\" fill=\"rgba(128,128,128,1)\" stroke=\"rgba(0,0,0,1)\" stroke-miterlimit=\"10\" stroke-width=\"2\"/>\n",
       "<path d=\"M545.2198,42.9882 L576.8314,26.011 C560.9842,33.0843,561.5355,51.955,577.7685,58.0912 z\" fill=\"rgba(128,128,128,1)\" stroke=\"rgba(0,0,0,1)\" stroke-miterlimit=\"10\" stroke-width=\"2\"/>\n",
       "<path d=\"M579.3624,44.5872 L609.1212,24.539 C594.0594,33.159,596.4918,51.8804,613.2563,56.3653 z\" fill=\"rgba(128,128,128,1)\" stroke=\"rgba(0,0,0,1)\" stroke-miterlimit=\"10\" stroke-width=\"2\"/>\n",
       "<path d=\"M613.6641,46.1656 L641.2727,23.2465 C627.1467,33.3272,631.436,51.7122,648.5645,54.5011 z\" fill=\"rgba(128,128,128,1)\" stroke=\"rgba(0,0,0,1)\" stroke-miterlimit=\"10\" stroke-width=\"2\"/>\n",
       "<path d=\"M648.1219,47.7075 L673.3045,22.1467 C660.2554,33.5872,666.3587,51.4522,683.6801,52.5171 z\" fill=\"rgba(128,128,128,1)\" stroke=\"rgba(0,0,0,1)\" stroke-miterlimit=\"10\" stroke-width=\"2\"/>\n",
       "</svg>"
      ],
      "text/plain": [
       "<IPython.core.display.SVG object>"
      ]
     },
     "metadata": {},
     "output_type": "display_data"
    }
   ],
   "source": [
    "width = 240\n",
    "height = 30\n",
    "n = 20\n",
    "page = document(width, height, 'mm').addpage()\n",
    "pen = shape().stroke(rgba(0, 0, 0, 255)).fill(rgba(128, 128, 128, 255)).width(2)\n",
    "\n",
    "for i in range(n):\n",
    "    this_path = (doodad_center\n",
    "                 .rotate(i*0.1)\n",
    "                 .scale(0.333)\n",
    "                 .translate((width/n)*0.5 + (width / n)*i, height/2))\n",
    "    page.place(pen.path(this_path))\n",
    "\n",
    "show(page)"
   ]
  },
  {
   "cell_type": "markdown",
   "metadata": {},
   "source": [
    "## Drawing strings with flat\n",
    "\n",
    "Flat has a handful of helpful functions for drawing strings to the screen with a given font. You need to download the font file for the font you want to use, put it in the same directory as this notebook, and then call `font.open` as below. We'll use a font from Google's [Noto collection](https://www.google.com/get/noto/)."
   ]
  },
  {
   "cell_type": "code",
   "execution_count": 14,
   "metadata": {},
   "outputs": [],
   "source": [
    "f = font.open(\"./NotoSans-Regular.ttf\")"
   ]
  },
  {
   "cell_type": "markdown",
   "metadata": {},
   "source": [
    "The `strike()` call is like `shape()` but for text; `.size()`'s parameters set the font size and leading, respectively; `.frame()` on the placement reflows the text in an invisible rectangle with the given coordinates and size. Once you've created a strike, you can place the text on the page using the `.text()` method, like so:"
   ]
  },
  {
   "cell_type": "code",
   "execution_count": 15,
   "metadata": {},
   "outputs": [
    {
     "data": {
      "image/svg+xml": [
       "<svg height=\"226.7717pt\" version=\"1.1\" width=\"226.7717pt\" xmlns=\"http://www.w3.org/2000/svg\" xmlns:xlink=\"http://www.w3.org/1999/xlink\">\n",
       "<title>Untitled</title>\n",
       "<defs>\n",
       "<style>\n",
       "@font-face {\n",
       "    font-family: &quot;NotoSans-Regular&quot;;\n",
       "    src: url(&quot;data:font/sfnt;base64,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&quot;);\n",
       "}\n",
       "</style>\n",
       "</defs>\n",
       "<text x=\"28.3465\" xml:space=\"preserve\" y=\"54.0025\"><tspan fill=\"rgba(0,0,0,1)\" font-family=\"NotoSans-Regular\" font-size=\"24\">Sphinx of black </tspan></text>\n",
       "<text x=\"28.3465\" xml:space=\"preserve\" y=\"86.0025\"><tspan fill=\"rgba(0,0,0,1)\" font-family=\"NotoSans-Regular\" font-size=\"24\">quartz, judge </tspan></text>\n",
       "<text x=\"28.3465\" xml:space=\"preserve\" y=\"118.0025\"><tspan fill=\"rgba(0,0,0,1)\" font-family=\"NotoSans-Regular\" font-size=\"24\">my vow.</tspan></text>\n",
       "</svg>"
      ],
      "text/plain": [
       "<IPython.core.display.SVG object>"
      ]
     },
     "metadata": {},
     "output_type": "display_data"
    }
   ],
   "source": [
    "d = document(80, 80, 'mm')\n",
    "page = d.addpage()\n",
    "pen = shape().stroke(rgba(0, 0, 0, 255)).fill(rgba(128, 128, 128, 255)).width(4)\n",
    "text_pen = strike(f).color(rgba(0, 0, 0, 255)).size(24, 32)\n",
    "page.place(text_pen.text(\"Sphinx of black quartz, judge my vow.\")).frame(10, 10, 60, 60)\n",
    "show(page)"
   ]
  },
  {
   "cell_type": "markdown",
   "metadata": {},
   "source": [
    "Flat has a fairly sophisticated system for text layout that is [worth looking into](https://xxyxyz.org/flat#tutorial). But in this tutorial, we're more interested at getting at the actual geometry data in the fonts themselves."
   ]
  },
  {
   "cell_type": "markdown",
   "metadata": {},
   "source": [
    "## Glyph paths\n",
    "\n",
    "Fortunately, Flat lets us access the geometry of glyphs in the font directly. Each glyph has an index, and calling the font's `.glyph()` method returns a list of Flat path commands for that glyph, like so:"
   ]
  },
  {
   "cell_type": "code",
   "execution_count": 16,
   "metadata": {},
   "outputs": [
    {
     "data": {
      "text/plain": [
       "[<flat.command.moveto at 0x107cf5cc0>,\n",
       " <flat.command.quadto at 0x1138a2480>,\n",
       " <flat.command.quadto at 0x1138c5ab0>,\n",
       " <flat.command.quadto at 0x1138c5af8>,\n",
       " <flat.command.quadto at 0x1138c5b40>,\n",
       " <flat.command.quadto at 0x1138c5b88>,\n",
       " <flat.command.quadto at 0x1138c5bd0>,\n",
       " <flat.command.quadto at 0x1138c5c18>,\n",
       " <flat.command.lineto at 0x107cf5c18>,\n",
       " <flat.command.quadto at 0x1138c5c60>,\n",
       " <flat.command.quadto at 0x1138c5ca8>,\n",
       " <flat.command.quadto at 0x1138c5cf0>,\n",
       " <flat.command.quadto at 0x1138c5d38>,\n",
       " <flat.command.quadto at 0x1138c5d80>,\n",
       " <flat.command.quadto at 0x1138c5dc8>,\n",
       " <flat.command.quadto at 0x1138c5e10>,\n",
       " <flat.command.quadto at 0x1138c5e58>,\n",
       " <flat.command.quadto at 0x1138c5ea0>,\n",
       " <flat.command.lineto at 0x107cf5b00>,\n",
       " <flat.command.quadto at 0x1138c5ee8>,\n",
       " <flat.command.closepath at 0x1058f6358>]"
      ]
     },
     "execution_count": 16,
     "metadata": {},
     "output_type": "execute_result"
    }
   ],
   "source": [
    "f.glyph(38)"
   ]
  },
  {
   "cell_type": "markdown",
   "metadata": {},
   "source": [
    "For the rest of the notebook, I'm going to create Bezmerizing `Path` objects from these lists, which make the data a bit easier to work with:"
   ]
  },
  {
   "cell_type": "code",
   "execution_count": 17,
   "metadata": {},
   "outputs": [
    {
     "data": {
      "text/plain": [
       "Path([moveto(x=491.5000, y=-633.0000), quadto(x1=451.0000, y1=-645.0000, x=403.0000, y=-645.0000), quadto(x1=288.0000, y1=-645.0000, x=222.0000, y=-568.0000), quadto(x1=156.0000, y1=-491.0000, x=156.0000, y=-357.0000), quadto(x1=156.0000, y1=-224.0000, x=217.5000, y=-146.5000), quadto(x1=279.0000, y1=-69.0000, x=402.0000, y=-69.0000), quadto(x1=448.0000, y1=-69.0000, x=490.0000, y=-77.0000), quadto(x1=532.0000, y1=-85.0000, x=573.0000, y=-97.0000), lineto(x=573.0000, y=-19.0000), quadto(x1=533.0000, y1=-4.0000, x=490.5000, y=3.0000), quadto(x1=448.0000, y1=10.0000, x=389.0000, y=10.0000), quadto(x1=280.0000, y1=10.0000, x=207.0000, y=-35.0000), quadto(x1=134.0000, y1=-80.0000, x=97.5000, y=-163.0000), quadto(x1=61.0000, y1=-246.0000, x=61.0000, y=-358.0000), quadto(x1=61.0000, y1=-466.0000, x=100.5000, y=-548.5000), quadto(x1=140.0000, y1=-631.0000, x=217.0000, y=-677.5000), quadto(x1=294.0000, y1=-724.0000, x=404.0000, y=-724.0000), quadto(x1=517.0000, y1=-724.0000, x=601.0000, y=-682.0000), lineto(x=565.0000, y=-606.0000), quadto(x1=532.0000, y1=-621.0000, x=491.5000, y=-633.0000), closepath])"
      ]
     },
     "execution_count": 17,
     "metadata": {},
     "output_type": "execute_result"
    }
   ],
   "source": [
    "glyph_path = Path(f.glyph(38))\n",
    "glyph_path"
   ]
  },
  {
   "cell_type": "markdown",
   "metadata": {},
   "source": [
    "Looking at the path data reveals a couple of interesting things. The first is that the path consists mainly of `lineto` and `quadto` commands. A `lineto` command moves the cursor from the current position to the specified position, drawing a line along the way; a `quadto` command draws a quadratic Bézier curve to the specified `x` and `y` point, with a control point at the coordinates specified by `x1` and `y1`. You'll also notice that y-coordinates are mostly negative. That's because glyphs in fonts are generally drawn with the origin of the coordinate system (`0, 0`) in the *lower left-hand* corner.\n",
    "\n",
    "> A quadratic Bézier curve has one control point; a cubic Bézier has two control points. TrueType fonts (TTFs) use quadratic Bézier curves exclusively; OpenType fonts (generally) use cubic Bézier curves.\n",
    "\n",
    "The coordinates of points in TrueType and OpenType fonts are always specified as integers. The value of these integers doesn't correspond with any real-world unit; instead, each font must specify a \"density\" parameter that indicates how many units in the font's coordinate system correspond with an em-width. In Flat, you can access this with the `.density` attribute of the font object:"
   ]
  },
  {
   "cell_type": "code",
   "execution_count": 18,
   "metadata": {},
   "outputs": [
    {
     "data": {
      "text/plain": [
       "1000"
      ]
     },
     "execution_count": 18,
     "metadata": {},
     "output_type": "execute_result"
    }
   ],
   "source": [
    "f.density"
   ]
  },
  {
   "cell_type": "markdown",
   "metadata": {},
   "source": [
    "This means that there are 1000 \"font space\" units per em. Broadly speaking, this means that in order to draw this font at 72 point size, you'd need to scale the glyph by 24 / 1000 (0.024):"
   ]
  },
  {
   "cell_type": "code",
   "execution_count": 19,
   "metadata": {},
   "outputs": [
    {
     "data": {
      "text/plain": [
       "Path([moveto(x=35.3880, y=-45.5760), quadto(x1=32.4720, y1=-46.4400, x=29.0160, y=-46.4400), quadto(x1=20.7360, y1=-46.4400, x=15.9840, y=-40.8960), quadto(x1=11.2320, y1=-35.3520, x=11.2320, y=-25.7040), quadto(x1=11.2320, y1=-16.1280, x=15.6600, y=-10.5480), quadto(x1=20.0880, y1=-4.9680, x=28.9440, y=-4.9680), quadto(x1=32.2560, y1=-4.9680, x=35.2800, y=-5.5440), quadto(x1=38.3040, y1=-6.1200, x=41.2560, y=-6.9840), lineto(x=41.2560, y=-1.3680), quadto(x1=38.3760, y1=-0.2880, x=35.3160, y=0.2160), quadto(x1=32.2560, y1=0.7200, x=28.0080, y=0.7200), quadto(x1=20.1600, y1=0.7200, x=14.9040, y=-2.5200), quadto(x1=9.6480, y1=-5.7600, x=7.0200, y=-11.7360), quadto(x1=4.3920, y1=-17.7120, x=4.3920, y=-25.7760), quadto(x1=4.3920, y1=-33.5520, x=7.2360, y=-39.4920), quadto(x1=10.0800, y1=-45.4320, x=15.6240, y=-48.7800), quadto(x1=21.1680, y1=-52.1280, x=29.0880, y=-52.1280), quadto(x1=37.2240, y1=-52.1280, x=43.2720, y=-49.1040), lineto(x=40.6800, y=-43.6320), quadto(x1=38.3040, y1=-44.7120, x=35.3880, y=-45.5760), closepath])"
      ]
     },
     "execution_count": 19,
     "metadata": {},
     "output_type": "execute_result"
    }
   ],
   "source": [
    "glyph_path.scale(72 / f.density)"
   ]
  },
  {
   "cell_type": "markdown",
   "metadata": {},
   "source": [
    "Note that this *doesn't* mean that drawing the glyph with Flat will result in a glyph that is exactly 72 points tall! You have to take into account the units of the Flat canvas as well. If your Flat canvas is in millimeters, you'd convert these units to millimeters first (1pt = ~0.385mm):"
   ]
  },
  {
   "cell_type": "code",
   "execution_count": 20,
   "metadata": {},
   "outputs": [
    {
     "data": {
      "text/plain": [
       "Path([moveto(x=13.6244, y=-17.5468), quadto(x1=12.5017, y1=-17.8794, x=11.1712, y=-17.8794), quadto(x1=7.9834, y1=-17.8794, x=6.1538, y=-15.7450), quadto(x1=4.3243, y1=-13.6105, x=4.3243, y=-9.8960), quadto(x1=4.3243, y1=-6.2093, x=6.0291, y=-4.0610), quadto(x1=7.7339, y1=-1.9127, x=11.1434, y=-1.9127), quadto(x1=12.4186, y1=-1.9127, x=13.5828, y=-2.1344), quadto(x1=14.7470, y1=-2.3562, x=15.8836, y=-2.6888), lineto(x=15.8836, y=-0.5267), quadto(x1=14.7748, y1=-0.1109, x=13.5967, y=0.0832), quadto(x1=12.4186, y1=0.2772, x=10.7831, y=0.2772), quadto(x1=7.7616, y1=0.2772, x=5.7380, y=-0.9702), quadto(x1=3.7145, y1=-2.2176, x=2.7027, y=-4.5184), quadto(x1=1.6909, y1=-6.8191, x=1.6909, y=-9.9238), quadto(x1=1.6909, y1=-12.9175, x=2.7859, y=-15.2044), quadto(x1=3.8808, y1=-17.4913, x=6.0152, y=-18.7803), quadto(x1=8.1497, y1=-20.0693, x=11.1989, y=-20.0693), quadto(x1=14.3312, y1=-20.0693, x=16.6597, y=-18.9050), lineto(x=15.6618, y=-16.7983), quadto(x1=14.7470, y1=-17.2141, x=13.6244, y=-17.5468), closepath])"
      ]
     },
     "execution_count": 20,
     "metadata": {},
     "output_type": "execute_result"
    }
   ],
   "source": [
    "glyph_path.scale(72 / f.density * 0.385)"
   ]
  },
  {
   "cell_type": "markdown",
   "metadata": {},
   "source": [
    "With all of this in mind, we can actually draw the glyph to the screen:"
   ]
  },
  {
   "cell_type": "code",
   "execution_count": 21,
   "metadata": {},
   "outputs": [
    {
     "data": {
      "image/svg+xml": [
       "<svg height=\"113.3858pt\" version=\"1.1\" width=\"113.3858pt\" xmlns=\"http://www.w3.org/2000/svg\" xmlns:xlink=\"http://www.w3.org/1999/xlink\">\n",
       "<title>Untitled</title>\n",
       "<path d=\"M38.6203,28.8375 Q35.4379,27.8946,31.6663,27.8946 Q22.63,27.8946,17.444,33.945 Q12.2579,39.9954,12.2579,50.5246 Q12.2579,60.9753,17.0904,67.0649 Q21.9228,73.1546,31.5877,73.1546 Q35.2022,73.1546,38.5024,72.526 Q41.8026,71.8974,45.0243,70.9545 L45.0243,77.0834 Q41.8812,78.2621,38.5417,78.8121 Q35.2022,79.3621,30.5662,79.3621 Q22.0014,79.3621,16.2653,75.8262 Q10.5292,72.2903,7.6612,65.7684 Q4.7932,59.2466,4.7932,50.446 Q4.7932,41.9598,7.8969,35.4772 Q11.0007,28.9947,17.0511,25.3409 Q23.1015,21.6871,31.7449,21.6871 Q40.624,21.6871,47.2244,24.9873 L44.3957,30.9591 Q41.8026,29.7804,38.6203,28.8375 z\" fill=\"rgb(240,240,240)\" stroke=\"rgb(40,40,40)\" stroke-miterlimit=\"10\" stroke-width=\"2\"/>\n",
       "</svg>"
      ],
      "text/plain": [
       "<IPython.core.display.SVG object>"
      ]
     },
     "metadata": {},
     "output_type": "display_data"
    }
   ],
   "source": [
    "glyph_path = Path(f.glyph(38)).translate(0, f.density).scale(72 / f.density * 0.385)\n",
    "page = document(40, 40, 'mm').addpage()\n",
    "pen = shape().stroke(rgb(40, 40, 40)).fill(rgb(240, 240, 240)).width(2)\n",
    "page.place(pen.path(glyph_path))\n",
    "show(page)"
   ]
  },
  {
   "cell_type": "markdown",
   "metadata": {},
   "source": [
    "(I translated the figure \"down\" by the font density to make sure that we get the whole thing on the canvas.) Try replacing `38` with some other number!\n",
    "\n",
    "Things get a little bit easier if we use points as the measurement unit for the Flat canvas. That way, we don't have to always include the conversion from points to millimeters. A point is 1/72nd of an inch, so a canvas 144pts wide should be about two inches. (Your browser should show this as about two inches on your actual screen!)"
   ]
  },
  {
   "cell_type": "code",
   "execution_count": 22,
   "metadata": {},
   "outputs": [
    {
     "data": {
      "image/svg+xml": [
       "<svg height=\"72pt\" version=\"1.1\" width=\"144pt\" xmlns=\"http://www.w3.org/2000/svg\" xmlns:xlink=\"http://www.w3.org/1999/xlink\">\n",
       "<title>Untitled</title>\n",
       "<path d=\"M4.4235,3.303 Q4.059,3.195,3.627,3.195 Q2.592,3.195,1.998,3.888 Q1.404,4.581,1.404,5.787 Q1.404,6.984,1.9575,7.6815 Q2.511,8.379,3.618,8.379 Q4.032,8.379,4.41,8.307 Q4.788,8.235,5.157,8.127 L5.157,8.829 Q4.797,8.964,4.4145,9.027 Q4.032,9.09,3.501,9.09 Q2.52,9.09,1.863,8.685 Q1.206,8.28,0.8775,7.533 Q0.549,6.786,0.549,5.778 Q0.549,4.806,0.9045,4.0635 Q1.26,3.321,1.953,2.9025 Q2.646,2.484,3.636,2.484 Q4.653,2.484,5.409,2.862 L5.085,3.546 Q4.788,3.411,4.4235,3.303 z\" fill=\"rgb(240,240,240)\" stroke=\"rgb(40,40,40)\" stroke-miterlimit=\"10\" stroke-width=\"2\"/>\n",
       "<path d=\"M14.898,4.404 Q14.412,4.26,13.836,4.26 Q12.456,4.26,11.664,5.184 Q10.872,6.108,10.872,7.716 Q10.872,9.312,11.61,10.242 Q12.348,11.172,13.824,11.172 Q14.376,11.172,14.88,11.076 Q15.384,10.98,15.876,10.836 L15.876,11.772 Q15.396,11.952,14.886,12.036 Q14.376,12.12,13.668,12.12 Q12.36,12.12,11.484,11.58 Q10.608,11.04,10.17,10.044 Q9.732,9.048,9.732,7.704 Q9.732,6.408,10.206,5.418 Q10.68,4.428,11.604,3.87 Q12.528,3.312,13.848,3.312 Q15.204,3.312,16.212,3.816 L15.78,4.728 Q15.384,4.548,14.898,4.404 z\" fill=\"rgb(240,240,240)\" stroke=\"rgb(40,40,40)\" stroke-miterlimit=\"10\" stroke-width=\"2\"/>\n",
       "<path d=\"M27.881,5.138 Q27.314,4.97,26.642,4.97 Q25.032,4.97,24.108,6.048 Q23.184,7.126,23.184,9.002 Q23.184,10.864,24.045,11.949 Q24.906,13.034,26.628,13.034 Q27.272,13.034,27.86,12.922 Q28.448,12.81,29.022,12.642 L29.022,13.734 Q28.462,13.944,27.867,14.042 Q27.272,14.14,26.446,14.14 Q24.92,14.14,23.898,13.51 Q22.876,12.88,22.365,11.718 Q21.854,10.556,21.854,8.988 Q21.854,7.476,22.407,6.321 Q22.96,5.166,24.038,4.515 Q25.116,3.864,26.656,3.864 Q28.238,3.864,29.414,4.452 L28.91,5.516 Q28.448,5.306,27.881,5.138 z\" fill=\"rgb(240,240,240)\" stroke=\"rgb(40,40,40)\" stroke-miterlimit=\"10\" stroke-width=\"2\"/>\n",
       "<path d=\"M46.796,8.808 Q45.824,8.52,44.672,8.52 Q41.912,8.52,40.328,10.368 Q38.744,12.216,38.744,15.432 Q38.744,18.624,40.22,20.484 Q41.696,22.344,44.648,22.344 Q45.752,22.344,46.76,22.152 Q47.768,21.96,48.752,21.672 L48.752,23.544 Q47.792,23.904,46.772,24.072 Q45.752,24.24,44.336,24.24 Q41.72,24.24,39.968,23.16 Q38.216,22.08,37.34,20.088 Q36.464,18.096,36.464,15.408 Q36.464,12.816,37.412,10.836 Q38.36,8.856,40.208,7.74 Q42.056,6.624,44.696,6.624 Q47.408,6.624,49.424,7.632 L48.56,9.456 Q47.768,9.096,46.796,8.808 z\" fill=\"rgb(240,240,240)\" stroke=\"rgb(40,40,40)\" stroke-miterlimit=\"10\" stroke-width=\"2\"/>\n",
       "<path d=\"M76.694,13.212 Q75.236,12.78,73.508,12.78 Q69.368,12.78,66.992,15.552 Q64.616,18.324,64.616,23.148 Q64.616,27.936,66.83,30.726 Q69.044,33.516,73.472,33.516 Q75.128,33.516,76.64,33.228 Q78.152,32.94,79.628,32.508 L79.628,35.316 Q78.188,35.856,76.658,36.108 Q75.128,36.36,73.004,36.36 Q69.08,36.36,66.452,34.74 Q63.824,33.12,62.51,30.132 Q61.196,27.144,61.196,23.112 Q61.196,19.224,62.618,16.254 Q64.04,13.284,66.812,11.61 Q69.584,9.936,73.544,9.936 Q77.612,9.936,80.636,11.448 L79.34,14.184 Q78.152,13.644,76.694,13.212 z\" fill=\"rgb(240,240,240)\" stroke=\"rgb(40,40,40)\" stroke-miterlimit=\"10\" stroke-width=\"2\"/>\n",
       "<path d=\"M118.592,17.616 Q116.648,17.04,114.344,17.04 Q108.824,17.04,105.656,20.736 Q102.488,24.432,102.488,30.864 Q102.488,37.248,105.44,40.968 Q108.392,44.688,114.296,44.688 Q116.504,44.688,118.52,44.304 Q120.536,43.92,122.504,43.344 L122.504,47.088 Q120.584,47.808,118.544,48.144 Q116.504,48.48,113.672,48.48 Q108.44,48.48,104.936,46.32 Q101.432,44.16,99.68,40.176 Q97.928,36.192,97.928,30.816 Q97.928,25.632,99.824,21.672 Q101.72,17.712,105.416,15.48 Q109.112,13.248,114.392,13.248 Q119.816,13.248,123.848,15.264 L122.12,18.912 Q120.536,18.192,118.592,17.616 z\" fill=\"rgb(240,240,240)\" stroke=\"rgb(40,40,40)\" stroke-miterlimit=\"10\" stroke-width=\"2\"/>\n",
       "<path d=\"M178.388,26.424 Q175.472,25.56,172.016,25.56 Q163.736,25.56,158.984,31.104 Q154.232,36.648,154.232,46.296 Q154.232,55.872,158.66,61.452 Q163.088,67.032,171.944,67.032 Q175.256,67.032,178.28,66.456 Q181.304,65.88,184.256,65.016 L184.256,70.632 Q181.376,71.712,178.316,72.216 Q175.256,72.72,171.008,72.72 Q163.16,72.72,157.904,69.48 Q152.648,66.24,150.02,60.264 Q147.392,54.288,147.392,46.224 Q147.392,38.448,150.236,32.508 Q153.08,26.568,158.624,23.22 Q164.168,19.872,172.088,19.872 Q180.224,19.872,186.272,22.896 L183.68,28.368 Q181.304,27.288,178.388,26.424 z\" fill=\"rgb(240,240,240)\" stroke=\"rgb(40,40,40)\" stroke-miterlimit=\"10\" stroke-width=\"2\"/>\n",
       "</svg>"
      ],
      "text/plain": [
       "<IPython.core.display.SVG object>"
      ]
     },
     "metadata": {},
     "output_type": "display_data"
    }
   ],
   "source": [
    "glyph_path = Path(f.glyph(38)).translate(0, f.density)\n",
    "page = document(144, 72, 'pt').addpage()\n",
    "pen = shape().stroke(rgb(40, 40, 40)).fill(rgb(240, 240, 240)).width(2)\n",
    "current_x = 0\n",
    "for size in [9, 12, 14, 24, 36, 48, 72]:\n",
    "    page.place(pen.path(glyph_path.scale(size/f.density).translate(current_x, 0)))\n",
    "    current_x += size\n",
    "show(page)"
   ]
  },
  {
   "cell_type": "markdown",
   "metadata": {},
   "source": [
    "### The character map and advances\n",
    "\n",
    "Glyph indices (i.e., the number you pass to the `.glyph()` method) are arbitrary, presumably assigned by the type designer when creating the font, or something? As mentioned above, figuring out which glyphs to use to represent a given string of characters is not a straightforward task. But for the trivial case of looking up the glyph for a single character, there's a shortcut: the `.charmap` attribute of the font object, which maps Unicode codepoints to glyph indices.\n",
    "\n",
    "For example, to get the glyph for the letter `a`, first find its Unicode codepoint:"
   ]
  },
  {
   "cell_type": "code",
   "execution_count": 23,
   "metadata": {},
   "outputs": [
    {
     "data": {
      "text/plain": [
       "97"
      ]
     },
     "execution_count": 23,
     "metadata": {},
     "output_type": "execute_result"
    }
   ],
   "source": [
    "ord(\"a\")"
   ]
  },
  {
   "cell_type": "markdown",
   "metadata": {},
   "source": [
    "... and then look it up in the font's `charmap`:"
   ]
  },
  {
   "cell_type": "code",
   "execution_count": 24,
   "metadata": {
    "scrolled": true
   },
   "outputs": [
    {
     "data": {
      "text/plain": [
       "68"
      ]
     },
     "execution_count": 24,
     "metadata": {},
     "output_type": "execute_result"
    }
   ],
   "source": [
    "f.charmap[ord(\"a\")]"
   ]
  },
  {
   "cell_type": "markdown",
   "metadata": {},
   "source": [
    "... then pass that value to the `.glyph()` method. Putting it all together in one expression:"
   ]
  },
  {
   "cell_type": "code",
   "execution_count": 25,
   "metadata": {},
   "outputs": [
    {
     "data": {
      "text/plain": [
       "[<flat.command.moveto at 0x107cf5320>,\n",
       " <flat.command.quadto at 0x1138de3a8>,\n",
       " <flat.command.quadto at 0x1138de2d0>,\n",
       " <flat.command.quadto at 0x1138dbd80>,\n",
       " <flat.command.lineto at 0x107cf54e0>,\n",
       " <flat.command.lineto at 0x107cf5630>,\n",
       " <flat.command.lineto at 0x107cf59e8>,\n",
       " <flat.command.lineto at 0x107cf5cf8>,\n",
       " <flat.command.quadto at 0x1138db120>,\n",
       " <flat.command.quadto at 0x107b92d38>,\n",
       " <flat.command.quadto at 0x107b92cf0>,\n",
       " <flat.command.quadto at 0x107bed360>,\n",
       " <flat.command.quadto at 0x107caa7e0>,\n",
       " <flat.command.quadto at 0x107cf01f8>,\n",
       " <flat.command.lineto at 0x107cf5748>,\n",
       " <flat.command.lineto at 0x107cf5438>,\n",
       " <flat.command.quadto at 0x107cf09d8>,\n",
       " <flat.command.quadto at 0x107cf0678>,\n",
       " <flat.command.quadto at 0x107cf0c18>,\n",
       " <flat.command.quadto at 0x107cf0a20>,\n",
       " <flat.command.lineto at 0x107cf5470>,\n",
       " <flat.command.quadto at 0x107be43f0>,\n",
       " <flat.command.closepath at 0x1058f6358>,\n",
       " <flat.command.moveto at 0x107bf6f60>,\n",
       " <flat.command.lineto at 0x107bf6f28>,\n",
       " <flat.command.lineto at 0x107bf6908>,\n",
       " <flat.command.quadto at 0x1138a29d8>,\n",
       " <flat.command.quadto at 0x1138a2fc0>,\n",
       " <flat.command.quadto at 0x1138a2f30>,\n",
       " <flat.command.quadto at 0x1138a2bd0>,\n",
       " <flat.command.quadto at 0x1138a2c18>,\n",
       " <flat.command.quadto at 0x1138a2e58>,\n",
       " <flat.command.closepath at 0x1058f6358>]"
      ]
     },
     "execution_count": 25,
     "metadata": {},
     "output_type": "execute_result"
    }
   ],
   "source": [
    "f.glyph(f.charmap[ord(\"a\")])"
   ]
  },
  {
   "cell_type": "markdown",
   "metadata": {},
   "source": [
    "So, to draw a lower-case `a`:"
   ]
  },
  {
   "cell_type": "code",
   "execution_count": 26,
   "metadata": {},
   "outputs": [
    {
     "data": {
      "image/svg+xml": [
       "<svg height=\"72pt\" version=\"1.1\" width=\"72pt\" xmlns=\"http://www.w3.org/2000/svg\" xmlns:xlink=\"http://www.w3.org/1999/xlink\">\n",
       "<title>Untitled</title>\n",
       "<path d=\"M13.536,33.732 Q16.992,32.76,20.736,32.76 Q27.792,32.76,31.176,35.856 Q34.56,38.952,34.56,45.72 L34.56,72 L29.952,72 L28.728,66.528 L28.44,66.528 Q25.92,69.696,23.112,71.208 Q20.304,72.72,15.48,72.72 Q10.224,72.72,6.768,69.948 Q3.312,67.176,3.312,61.272 Q3.312,55.512,7.848,52.38 Q12.384,49.248,21.816,48.96 L28.368,48.744 L28.368,46.44 Q28.368,41.616,26.28,39.744 Q24.192,37.872,20.376,37.872 Q17.352,37.872,14.616,38.772 Q11.88,39.672,9.504,40.824 L7.56,36.072 Q10.08,34.704,13.536,33.732 z M28.296,56.592 L28.296,53.136 L22.608,53.352 Q15.408,53.64,12.636,55.656 Q9.864,57.672,9.864,61.344 Q9.864,64.584,11.844,66.096 Q13.824,67.608,16.92,67.608 Q21.744,67.608,25.02,64.908 Q28.296,62.208,28.296,56.592 z\" fill=\"rgb(240,240,240)\" stroke=\"rgb(40,40,40)\" stroke-miterlimit=\"10\" stroke-width=\"2\"/>\n",
       "</svg>"
      ],
      "text/plain": [
       "<IPython.core.display.SVG object>"
      ]
     },
     "metadata": {},
     "output_type": "display_data"
    }
   ],
   "source": [
    "a_glyph = Path(f.glyph(f.charmap[ord(\"a\")]))\n",
    "a_glyph = a_glyph.translate(0, f.density).scale(72 / f.density)\n",
    "page = document(72, 72, 'pt').addpage()\n",
    "pen = shape().stroke(rgb(40, 40, 40)).fill(rgb(240, 240, 240)).width(2)\n",
    "page.place(pen.path(a_glyph))\n",
    "show(page)"
   ]
  },
  {
   "cell_type": "markdown",
   "metadata": {},
   "source": [
    "The font also stores \"advances\" for each character, i.e., how much the pen should move horizontally after drawing the character. Advances can be positive or negative (e.g., for a glyph that represents a diacritic). In TrueType and OpenType, there are both horizontal and vertical advances, but Flat only makes the horizontal advances available. Access the advances with the font object's `.advances` attribute, which is a dictionary mapping glyph IDs to their advance widths. For example:"
   ]
  },
  {
   "cell_type": "code",
   "execution_count": 27,
   "metadata": {
    "scrolled": true
   },
   "outputs": [
    {
     "data": {
      "text/plain": [
       "561"
      ]
     },
     "execution_count": 27,
     "metadata": {},
     "output_type": "execute_result"
    }
   ],
   "source": [
    "f.advances[f.charmap[ord(\"a\")]]"
   ]
  },
  {
   "cell_type": "markdown",
   "metadata": {},
   "source": [
    "These two helper functions get the path commands for a given character and the advance for a given character:"
   ]
  },
  {
   "cell_type": "code",
   "execution_count": 28,
   "metadata": {},
   "outputs": [],
   "source": [
    "def glyphcommands(f, ch):\n",
    "    return Path([copy(cmd) for cmd in f.glyph(f.charmap[ord(ch)])])\n",
    "def advancefor(f, ch):\n",
    "    return f.advances[f.charmap[ord(ch)]]"
   ]
  },
  {
   "cell_type": "markdown",
   "metadata": {},
   "source": [
    "The path for the letter `z`:"
   ]
  },
  {
   "cell_type": "code",
   "execution_count": 29,
   "metadata": {},
   "outputs": [
    {
     "data": {
      "text/plain": [
       "Path([moveto(x=431.0000, y=-68.0000), lineto(x=431.0000, y=0.0000), lineto(x=39.0000, y=0.0000), lineto(x=39.0000, y=-58.0000), lineto(x=327.0000, y=-468.0000), lineto(x=56.0000, y=-468.0000), lineto(x=56.0000, y=-536.0000), lineto(x=424.0000, y=-536.0000), lineto(x=424.0000, y=-470.0000), lineto(x=140.0000, y=-68.0000), lineto(x=431.0000, y=-68.0000), closepath])"
      ]
     },
     "execution_count": 29,
     "metadata": {},
     "output_type": "execute_result"
    }
   ],
   "source": [
    "glyphcommands(f, \"z\")"
   ]
  },
  {
   "cell_type": "markdown",
   "metadata": {},
   "source": [
    "... and its advance:"
   ]
  },
  {
   "cell_type": "code",
   "execution_count": 30,
   "metadata": {},
   "outputs": [
    {
     "data": {
      "text/plain": [
       "470"
      ]
     },
     "execution_count": 30,
     "metadata": {},
     "output_type": "execute_result"
    }
   ],
   "source": [
    "advancefor(f, \"z\")"
   ]
  },
  {
   "cell_type": "markdown",
   "metadata": {},
   "source": [
    "### Application: Glyph complexity analysis\n",
    "\n",
    "One potential small application of this data is the ability to analyze the font's glyphs. We can get a full list of all of the glyph indices with the `.values()` attribute of `.charmap`:"
   ]
  },
  {
   "cell_type": "code",
   "execution_count": 31,
   "metadata": {},
   "outputs": [],
   "source": [
    "all_indices = list(f.charmap.values())"
   ]
  },
  {
   "cell_type": "markdown",
   "metadata": {},
   "source": [
    "(Note that glyph indices are not guaranteed to be contiguous or consecutive.) That gives us the total number of glyphs in the font (or, at least, glyphs that are associated with individual Unicode characters):"
   ]
  },
  {
   "cell_type": "code",
   "execution_count": 32,
   "metadata": {},
   "outputs": [
    {
     "data": {
      "text/plain": [
       "2794"
      ]
     },
     "execution_count": 32,
     "metadata": {},
     "output_type": "execute_result"
    }
   ],
   "source": [
    "len(all_indices)"
   ]
  },
  {
   "cell_type": "markdown",
   "metadata": {},
   "source": [
    "Let's quickly find out which character in the font is the most complex—i.e., which glyph has the largest number of commands in its path. To do this, we'll make a list that has a tuple with the glyph index and the length of the glyph's path (obtained with the font's `.glyph()` method):"
   ]
  },
  {
   "cell_type": "code",
   "execution_count": 33,
   "metadata": {},
   "outputs": [],
   "source": [
    "glyph_path_lengths = [(idx, len(f.glyph(idx))) for idx in all_indices]"
   ]
  },
  {
   "cell_type": "markdown",
   "metadata": {},
   "source": [
    "The resulting data structure looks like this:"
   ]
  },
  {
   "cell_type": "code",
   "execution_count": 34,
   "metadata": {},
   "outputs": [
    {
     "data": {
      "text/plain": [
       "[(1, 0),\n",
       " (2, 0),\n",
       " (3, 0),\n",
       " (4, 16),\n",
       " (5, 12),\n",
       " (6, 36),\n",
       " (7, 43),\n",
       " (8, 42),\n",
       " (9, 44),\n",
       " (10, 6),\n",
       " (11, 12),\n",
       " (12, 12)]"
      ]
     },
     "execution_count": 34,
     "metadata": {},
     "output_type": "execute_result"
    }
   ],
   "source": [
    "glyph_path_lengths[:12]"
   ]
  },
  {
   "cell_type": "markdown",
   "metadata": {},
   "source": [
    "... which tells us that the glyph at index 4 has 16 elements in its path; the glyph at index 7 has 43 elements, etc. The following code sorts this list in reverse order by the value in the second element of the tuple, grabbing just the top ten:"
   ]
  },
  {
   "cell_type": "code",
   "execution_count": 35,
   "metadata": {},
   "outputs": [
    {
     "data": {
      "text/plain": [
       "[(2418, 238),\n",
       " (571, 168),\n",
       " (3018, 152),\n",
       " (2653, 146),\n",
       " (2439, 128),\n",
       " (2791, 126),\n",
       " (2438, 119),\n",
       " (2443, 116),\n",
       " (3171, 112),\n",
       " (2458, 109)]"
      ]
     },
     "execution_count": 35,
     "metadata": {},
     "output_type": "execute_result"
    }
   ],
   "source": [
    "glyphs_by_complexity = sorted(glyph_path_lengths, key=lambda x: x[1], reverse=True)[:10]\n",
    "glyphs_by_complexity"
   ]
  },
  {
   "cell_type": "markdown",
   "metadata": {},
   "source": [
    "To get the index of just the most complex character:"
   ]
  },
  {
   "cell_type": "code",
   "execution_count": 36,
   "metadata": {},
   "outputs": [],
   "source": [
    "most_complex_index = glyphs_by_complexity[0][0]"
   ]
  },
  {
   "cell_type": "markdown",
   "metadata": {},
   "source": [
    "Let's draw it to see what this glyph looks like!"
   ]
  },
  {
   "cell_type": "code",
   "execution_count": 37,
   "metadata": {},
   "outputs": [
    {
     "data": {
      "image/svg+xml": [
       "<svg height=\"72pt\" version=\"1.1\" width=\"72pt\" xmlns=\"http://www.w3.org/2000/svg\" xmlns:xlink=\"http://www.w3.org/1999/xlink\">\n",
       "<title>Untitled</title>\n",
       "<path d=\"M59.1847,44.5789 Q60.3834,47.216,60.3834,50.7642 Q60.3834,54.3124,59.1847,56.9496 Q57.986,59.5868,55.6365,61.0572 Q53.287,62.5277,49.8666,62.5277 Q46.3184,62.5277,43.9689,61.0572 Q41.6195,59.5868,40.4687,56.9336 Q39.3179,54.2805,39.3179,50.7323 Q39.3179,47.248,40.4687,44.6108 Q41.6195,41.9736,43.9689,40.5032 Q46.3184,39.0328,49.8986,39.0328 Q53.3189,39.0328,55.6524,40.4872 Q57.986,41.9417,59.1847,44.5789 z M44.1767,44.0035 Q42.3547,46.4489,42.3547,50.7642 Q42.3547,55.0796,44.1767,57.557 Q45.9988,60.0343,49.8666,60.0343 Q53.7345,60.0343,55.5406,57.557 Q57.3466,55.0796,57.3466,50.7642 Q57.3466,46.4489,55.5566,44.0035 Q53.7665,41.5581,49.8986,41.5581 Q45.9988,41.5581,44.1767,44.0035 z M48.588,52.2986 Q48.0126,51.7871,48.0126,50.6364 Q48.0126,49.4536,48.588,48.9742 Q49.1634,48.4947,49.9625,48.4947 Q50.7617,48.4947,51.369,48.9742 Q51.9764,49.4536,51.9764,50.6364 Q51.9764,51.7871,51.369,52.2986 Q50.7617,52.81,49.9625,52.81 Q49.1634,52.81,48.588,52.2986 z M22.9687,44.5789 Q24.1674,47.216,24.1674,50.7642 Q24.1674,54.3124,22.9687,56.9496 Q21.77,59.5868,19.4205,61.0572 Q17.071,62.5277,13.6506,62.5277 Q10.1024,62.5277,7.7529,61.0572 Q5.4035,59.5868,4.2527,56.9336 Q3.1019,54.2805,3.1019,50.7323 Q3.1019,47.248,4.2527,44.6108 Q5.4035,41.9736,7.7529,40.5032 Q10.1024,39.0328,13.6826,39.0328 Q17.1029,39.0328,19.4364,40.4872 Q21.77,41.9417,22.9687,44.5789 z M7.9607,44.0035 Q6.1387,46.4489,6.1387,50.7642 Q6.1387,55.0796,7.9607,57.557 Q9.7828,60.0343,13.6506,60.0343 Q17.5185,60.0343,19.3246,57.557 Q21.1306,55.0796,21.1306,50.7642 Q21.1306,46.4489,19.3406,44.0035 Q17.5505,41.5581,13.6826,41.5581 Q9.7828,41.5581,7.9607,44.0035 z M12.372,52.2986 Q11.7966,51.7871,11.7966,50.6364 Q11.7966,49.4536,12.372,48.9742 Q12.9474,48.4947,13.7465,48.4947 Q14.5457,48.4947,15.153,48.9742 Q15.7604,49.4536,15.7604,50.6364 Q15.7604,51.7871,15.153,52.2986 Q14.5457,52.81,13.7465,52.81 Q12.9474,52.81,12.372,52.2986 z M50.1127,25.4269 Q51.3114,28.064,51.3114,31.6122 Q51.3114,35.1604,50.1127,37.7976 Q48.914,40.4348,46.5645,41.9052 Q44.215,43.3757,40.7946,43.3757 Q37.2464,43.3757,34.8969,41.9052 Q32.5475,40.4348,31.3967,37.7816 Q30.2459,35.1285,30.2459,31.5803 Q30.2459,28.096,31.3967,25.4588 Q32.5475,22.8216,34.8969,21.3512 Q37.2464,19.8808,40.8266,19.8808 Q44.2469,19.8808,46.5804,21.3352 Q48.914,22.7897,50.1127,25.4269 z M35.1047,24.8515 Q33.2827,27.2969,33.2827,31.6122 Q33.2827,35.9276,35.1047,38.405 Q36.9268,40.8823,40.7946,40.8823 Q44.6625,40.8823,46.4686,38.405 Q48.2746,35.9276,48.2746,31.6122 Q48.2746,27.2969,46.4846,24.8515 Q44.6945,22.4061,40.8266,22.4061 Q36.9268,22.4061,35.1047,24.8515 z M39.516,33.1466 Q38.9406,32.6351,38.9406,31.4844 Q38.9406,30.3016,39.516,29.8222 Q40.0914,29.3427,40.8905,29.3427 Q41.6897,29.3427,42.297,29.8222 Q42.9044,30.3016,42.9044,31.4844 Q42.9044,32.6351,42.297,33.1466 Q41.6897,33.658,40.8905,33.658 Q40.0914,33.658,39.516,33.1466 z M41.0407,44.5789 Q42.2394,47.216,42.2394,50.7642 Q42.2394,54.3124,41.0407,56.9496 Q39.842,59.5868,37.4925,61.0572 Q35.143,62.5277,31.7226,62.5277 Q28.1744,62.5277,25.8249,61.0572 Q23.4755,59.5868,22.3247,56.9336 Q21.1739,54.2805,21.1739,50.7323 Q21.1739,47.248,22.3247,44.6108 Q23.4755,41.9736,25.8249,40.5032 Q28.1744,39.0328,31.7546,39.0328 Q35.1749,39.0328,37.5084,40.4872 Q39.842,41.9417,41.0407,44.5789 z M26.0327,44.0035 Q24.2107,46.4489,24.2107,50.7642 Q24.2107,55.0796,26.0327,57.557 Q27.8548,60.0343,31.7226,60.0343 Q35.5905,60.0343,37.3966,57.557 Q39.2026,55.0796,39.2026,50.7642 Q39.2026,46.4489,37.4126,44.0035 Q35.6225,41.5581,31.7546,41.5581 Q27.8548,41.5581,26.0327,44.0035 z M30.444,52.2986 Q29.8686,51.7871,29.8686,50.6364 Q29.8686,49.4536,30.444,48.9742 Q31.0194,48.4947,31.8185,48.4947 Q32.6177,48.4947,33.225,48.9742 Q33.8324,49.4536,33.8324,50.6364 Q33.8324,51.7871,33.225,52.2986 Q32.6177,52.81,31.8185,52.81 Q31.0194,52.81,30.444,52.2986 z M32.0407,25.4269 Q33.2394,28.064,33.2394,31.6122 Q33.2394,35.1604,32.0407,37.7976 Q30.842,40.4348,28.4925,41.9052 Q26.143,43.3757,22.7226,43.3757 Q19.1744,43.3757,16.8249,41.9052 Q14.4755,40.4348,13.3247,37.7816 Q12.1739,35.1285,12.1739,31.5803 Q12.1739,28.096,13.3247,25.4588 Q14.4755,22.8216,16.8249,21.3512 Q19.1744,19.8808,22.7546,19.8808 Q26.1749,19.8808,28.5084,21.3352 Q30.842,22.7897,32.0407,25.4269 z M17.0327,24.8515 Q15.2107,27.2969,15.2107,31.6122 Q15.2107,35.9276,17.0327,38.405 Q18.8548,40.8823,22.7226,40.8823 Q26.5905,40.8823,28.3966,38.405 Q30.2026,35.9276,30.2026,31.6122 Q30.2026,27.2969,28.4126,24.8515 Q26.6225,22.4061,22.7546,22.4061 Q18.8548,22.4061,17.0327,24.8515 z M21.444,33.1466 Q20.8686,32.6351,20.8686,31.4844 Q20.8686,30.3016,21.444,29.8222 Q22.0194,29.3427,22.8185,29.3427 Q23.6177,29.3427,24.225,29.8222 Q24.8324,30.3016,24.8324,31.4844 Q24.8324,32.6351,24.225,33.1466 Q23.6177,33.658,22.8185,33.658 Q22.0194,33.658,21.444,33.1466 z M50.1127,63.8029 Q51.3114,66.44,51.3114,69.9882 Q51.3114,73.5364,50.1127,76.1736 Q48.914,78.8108,46.5645,80.2812 Q44.215,81.7517,40.7946,81.7517 Q37.2464,81.7517,34.8969,80.2812 Q32.5475,78.8108,31.3967,76.1576 Q30.2459,73.5045,30.2459,69.9563 Q30.2459,66.472,31.3967,63.8348 Q32.5475,61.1976,34.8969,59.7272 Q37.2464,58.2568,40.8266,58.2568 Q44.2469,58.2568,46.5804,59.7112 Q48.914,61.1657,50.1127,63.8029 z M35.1047,63.2275 Q33.2827,65.6729,33.2827,69.9882 Q33.2827,74.3036,35.1047,76.781 Q36.9268,79.2583,40.7946,79.2583 Q44.6625,79.2583,46.4686,76.781 Q48.2746,74.3036,48.2746,69.9882 Q48.2746,65.6729,46.4846,63.2275 Q44.6945,60.7821,40.8266,60.7821 Q36.9268,60.7821,35.1047,63.2275 z M39.516,71.5226 Q38.9406,71.0111,38.9406,69.8604 Q38.9406,68.6776,39.516,68.1982 Q40.0914,67.7187,40.8905,67.7187 Q41.6897,67.7187,42.297,68.1982 Q42.9044,68.6776,42.9044,69.8604 Q42.9044,71.0111,42.297,71.5226 Q41.6897,72.034,40.8905,72.034 Q40.0914,72.034,39.516,71.5226 z M32.0407,63.8029 Q33.2394,66.44,33.2394,69.9882 Q33.2394,73.5364,32.0407,76.1736 Q30.842,78.8108,28.4925,80.2812 Q26.143,81.7517,22.7226,81.7517 Q19.1744,81.7517,16.8249,80.2812 Q14.4755,78.8108,13.3247,76.1576 Q12.1739,73.5045,12.1739,69.9563 Q12.1739,66.472,13.3247,63.8348 Q14.4755,61.1976,16.8249,59.7272 Q19.1744,58.2568,22.7546,58.2568 Q26.1749,58.2568,28.5084,59.7112 Q30.842,61.1657,32.0407,63.8029 z M17.0327,63.2275 Q15.2107,65.6729,15.2107,69.9882 Q15.2107,74.3036,17.0327,76.781 Q18.8548,79.2583,22.7226,79.2583 Q26.5905,79.2583,28.3966,76.781 Q30.2026,74.3036,30.2026,69.9882 Q30.2026,65.6729,28.4126,63.2275 Q26.6225,60.7821,22.7546,60.7821 Q18.8548,60.7821,17.0327,63.2275 z M21.444,71.5226 Q20.8686,71.0111,20.8686,69.8604 Q20.8686,68.6776,21.444,68.1982 Q22.0194,67.7187,22.8185,67.7187 Q23.6177,67.7187,24.225,68.1982 Q24.8324,68.6776,24.8324,69.8604 Q24.8324,71.0111,24.225,71.5226 Q23.6177,72.034,22.8185,72.034 Q22.0194,72.034,21.444,71.5226 z\" fill=\"rgb(240,240,240)\" stroke=\"rgb(40,40,40)\" stroke-miterlimit=\"10\" stroke-width=\"2\"/>\n",
       "</svg>"
      ],
      "text/plain": [
       "<IPython.core.display.SVG object>"
      ]
     },
     "metadata": {},
     "output_type": "display_data"
    }
   ],
   "source": [
    "glyph = Path(f.glyph(most_complex_index))\n",
    "glyph = glyph.translate(0, f.density).scale(72 / f.density)\n",
    "page = document(72, 72, 'pt').addpage()\n",
    "pen = shape().stroke(rgb(40, 40, 40)).fill(rgb(240, 240, 240)).width(2)\n",
    "page.place(pen.path(glyph))\n",
    "show(page)"
   ]
  },
  {
   "cell_type": "markdown",
   "metadata": {},
   "source": [
    "Whoa! What is that wonderful thing? In order to find out, we need some way to track the glyph index back to the Unicode character it represents. An easy way to do this is to \"flipping\" the `.charmap` dictionary, creating a new dictionary with the values as keys and the keys as values. This gives us a rough reverse-lookup, which we'll use to identify the Unicode character associated with the glyph:"
   ]
  },
  {
   "cell_type": "code",
   "execution_count": 38,
   "metadata": {},
   "outputs": [],
   "source": [
    "unicode_lookup = {v: k for k, v in f.charmap.items()}"
   ]
  },
  {
   "cell_type": "markdown",
   "metadata": {},
   "source": [
    "(This is a [dictionary comprehension](https://www.python.org/dev/peps/pep-0274/), which works like a list comprehension but has a key/value pair as the predicate expression, and evaluates to a dictionary with the resulting key/value pairs.)\n",
    "\n",
    "For example, the glyph at index 42 has the following Unicode code point:"
   ]
  },
  {
   "cell_type": "code",
   "execution_count": 39,
   "metadata": {
    "scrolled": true
   },
   "outputs": [
    {
     "data": {
      "text/plain": [
       "71"
      ]
     },
     "execution_count": 39,
     "metadata": {},
     "output_type": "execute_result"
    }
   ],
   "source": [
    "unicode_lookup[42]"
   ]
  },
  {
   "cell_type": "markdown",
   "metadata": {},
   "source": [
    "Using Python's `unicodedata` module, we can get the name for this character:"
   ]
  },
  {
   "cell_type": "code",
   "execution_count": 40,
   "metadata": {},
   "outputs": [],
   "source": [
    "import unicodedata"
   ]
  },
  {
   "cell_type": "code",
   "execution_count": 41,
   "metadata": {},
   "outputs": [
    {
     "data": {
      "text/plain": [
       "'LATIN CAPITAL LETTER G'"
      ]
     },
     "execution_count": 41,
     "metadata": {},
     "output_type": "execute_result"
    }
   ],
   "source": [
    "unicodedata.name(chr(unicode_lookup[42]))"
   ]
  },
  {
   "cell_type": "markdown",
   "metadata": {},
   "source": [
    "So what's our mystery glyph?"
   ]
  },
  {
   "cell_type": "code",
   "execution_count": 42,
   "metadata": {},
   "outputs": [
    {
     "data": {
      "text/plain": [
       "'CYRILLIC LETTER MULTIOCULAR O'"
      ]
     },
     "execution_count": 42,
     "metadata": {},
     "output_type": "execute_result"
    }
   ],
   "source": [
    "unicodedata.name(chr(unicode_lookup[most_complex_index]))"
   ]
  },
  {
   "cell_type": "markdown",
   "metadata": {},
   "source": [
    "It's the [multiocular O](https://en.wikipedia.org/wiki/Multiocular_O) (ꙮ), a variant of the Cyrillic letter O found in a handful of medieval manuscripts and also probably the coolest codepoint in Unicode.\n",
    "\n",
    "### Visualizing glyph complexity\n",
    "\n",
    "Let's build on this a little bit to make some asemic writing. Or maybe this is more like a text visualization experiment? I'm not sure! I'm going to write some code that \"rewrites\" a text by replacing each character with a rectangle whose fill color corresponds to the complexity of that character's corresponding glyph, and whose width corresponds to the advance of the character.\n",
    "\n",
    "We'll use Robert Frost's \"The Road Not Taken,\" [included in this repository as frost.txt](frost.txt).\n",
    "\n",
    "The code below does a couple of tricky things. Some of those tricky things are layout-related, which we'll cover in more detail in the following section."
   ]
  },
  {
   "cell_type": "code",
   "execution_count": 43,
   "metadata": {},
   "outputs": [
    {
     "data": {
      "image/svg+xml": [
       "<svg height=\"288pt\" version=\"1.1\" width=\"360pt\" xmlns=\"http://www.w3.org/2000/svg\" xmlns:xlink=\"http://www.w3.org/1999/xlink\">\n",
       "<title>Untitled</title>\n",
       "<rect fill=\"rgb(205,205,205)\" height=\"12\" width=\"8.896\" x=\"9\" y=\"9\"/>\n",
       "<rect fill=\"rgb(100,100,100)\" height=\"12\" width=\"12.576\" x=\"17\" y=\"9\"/>\n",
       "<rect fill=\"rgb(145,145,145)\" height=\"12\" width=\"9.68\" x=\"29\" y=\"9\"/>\n",
       "<rect fill=\"rgb(255,255,255)\" height=\"12\" width=\"4.16\" x=\"38\" y=\"9\"/>\n",
       "<rect fill=\"rgb(165,165,165)\" height=\"12\" width=\"6.608\" x=\"42\" y=\"9\"/>\n",
       "<rect fill=\"rgb(145,145,145)\" height=\"12\" width=\"9.68\" x=\"48\" y=\"9\"/>\n",
       "<rect fill=\"rgb(90,90,90)\" height=\"12\" width=\"8.976\" x=\"57\" y=\"9\"/>\n",
       "<rect fill=\"rgb(105,105,105)\" height=\"12\" width=\"9.84\" x=\"65\" y=\"9\"/>\n",
       "<rect fill=\"rgb(95,95,95)\" height=\"12\" width=\"7.664\" x=\"74\" y=\"9\"/>\n",
       "<rect fill=\"rgb(255,255,255)\" height=\"12\" width=\"4.16\" x=\"81\" y=\"9\"/>\n",
       "<rect fill=\"rgb(105,105,105)\" height=\"12\" width=\"9.84\" x=\"85\" y=\"9\"/>\n",
       "<rect fill=\"rgb(175,175,175)\" height=\"12\" width=\"4.128\" x=\"94\" y=\"9\"/>\n",
       "<rect fill=\"rgb(175,175,175)\" height=\"12\" width=\"8.128\" x=\"98\" y=\"9\"/>\n",
       "<rect fill=\"rgb(120,120,120)\" height=\"12\" width=\"9.024\" x=\"106\" y=\"9\"/>\n",
       "<rect fill=\"rgb(165,165,165)\" height=\"12\" width=\"6.608\" x=\"115\" y=\"9\"/>\n",
       "<rect fill=\"rgb(80,80,80)\" height=\"12\" width=\"9.84\" x=\"121\" y=\"9\"/>\n",
       "<rect fill=\"rgb(120,120,120)\" height=\"12\" width=\"9.024\" x=\"130\" y=\"9\"/>\n",
       "<rect fill=\"rgb(105,105,105)\" height=\"12\" width=\"9.84\" x=\"139\" y=\"9\"/>\n",
       "<rect fill=\"rgb(255,255,255)\" height=\"12\" width=\"4.16\" x=\"148\" y=\"9\"/>\n",
       "<rect fill=\"rgb(175,175,175)\" height=\"12\" width=\"4.128\" x=\"152\" y=\"9\"/>\n",
       "<rect fill=\"rgb(165,165,165)\" height=\"12\" width=\"9.888\" x=\"156\" y=\"9\"/>\n",
       "<rect fill=\"rgb(255,255,255)\" height=\"12\" width=\"4.16\" x=\"165\" y=\"9\"/>\n",
       "<rect fill=\"rgb(90,90,90)\" height=\"12\" width=\"8.976\" x=\"169\" y=\"9\"/>\n",
       "<rect fill=\"rgb(255,255,255)\" height=\"12\" width=\"4.16\" x=\"177\" y=\"9\"/>\n",
       "<rect fill=\"rgb(140,140,140)\" height=\"12\" width=\"8.16\" x=\"181\" y=\"9\"/>\n",
       "<rect fill=\"rgb(120,120,120)\" height=\"12\" width=\"9.024\" x=\"189\" y=\"9\"/>\n",
       "<rect fill=\"rgb(225,225,225)\" height=\"12\" width=\"4.128\" x=\"198\" y=\"9\"/>\n",
       "<rect fill=\"rgb(225,225,225)\" height=\"12\" width=\"4.128\" x=\"202\" y=\"9\"/>\n",
       "<rect fill=\"rgb(145,145,145)\" height=\"12\" width=\"9.68\" x=\"206\" y=\"9\"/>\n",
       "<rect fill=\"rgb(100,100,100)\" height=\"12\" width=\"12.576\" x=\"215\" y=\"9\"/>\n",
       "<rect fill=\"rgb(255,255,255)\" height=\"12\" width=\"4.16\" x=\"227\" y=\"9\"/>\n",
       "<rect fill=\"rgb(100,100,100)\" height=\"12\" width=\"12.576\" x=\"231\" y=\"9\"/>\n",
       "<rect fill=\"rgb(145,145,145)\" height=\"12\" width=\"9.68\" x=\"243\" y=\"9\"/>\n",
       "<rect fill=\"rgb(145,145,145)\" height=\"12\" width=\"9.68\" x=\"252\" y=\"9\"/>\n",
       "<rect fill=\"rgb(105,105,105)\" height=\"12\" width=\"9.84\" x=\"261\" y=\"9\"/>\n",
       "<rect fill=\"rgb(210,210,210)\" height=\"12\" width=\"4.288\" x=\"270\" y=\"9\"/>\n",
       "<rect fill=\"rgb(155,155,155)\" height=\"12\" width=\"10.224\" x=\"9\" y=\"25\"/>\n",
       "<rect fill=\"rgb(165,165,165)\" height=\"12\" width=\"9.888\" x=\"19\" y=\"25\"/>\n",
       "<rect fill=\"rgb(105,105,105)\" height=\"12\" width=\"9.84\" x=\"28\" y=\"25\"/>\n",
       "<rect fill=\"rgb(255,255,255)\" height=\"12\" width=\"4.16\" x=\"37\" y=\"25\"/>\n",
       "<rect fill=\"rgb(95,95,95)\" height=\"12\" width=\"7.664\" x=\"41\" y=\"25\"/>\n",
       "<rect fill=\"rgb(145,145,145)\" height=\"12\" width=\"9.68\" x=\"48\" y=\"25\"/>\n",
       "<rect fill=\"rgb(165,165,165)\" height=\"12\" width=\"6.608\" x=\"57\" y=\"25\"/>\n",
       "<rect fill=\"rgb(165,165,165)\" height=\"12\" width=\"6.608\" x=\"63\" y=\"25\"/>\n",
       "<rect fill=\"rgb(140,140,140)\" height=\"12\" width=\"8.16\" x=\"69\" y=\"25\"/>\n",
       "<rect fill=\"rgb(255,255,255)\" height=\"12\" width=\"4.16\" x=\"77\" y=\"25\"/>\n",
       "<rect fill=\"rgb(185,185,185)\" height=\"12\" width=\"5.424\" x=\"81\" y=\"25\"/>\n",
       "<rect fill=\"rgb(255,255,255)\" height=\"12\" width=\"4.16\" x=\"86\" y=\"25\"/>\n",
       "<rect fill=\"rgb(150,150,150)\" height=\"12\" width=\"7.68\" x=\"90\" y=\"25\"/>\n",
       "<rect fill=\"rgb(145,145,145)\" height=\"12\" width=\"9.68\" x=\"97\" y=\"25\"/>\n",
       "<rect fill=\"rgb(165,165,165)\" height=\"12\" width=\"9.888\" x=\"106\" y=\"25\"/>\n",
       "<rect fill=\"rgb(225,225,225)\" height=\"12\" width=\"4.128\" x=\"115\" y=\"25\"/>\n",
       "<rect fill=\"rgb(105,105,105)\" height=\"12\" width=\"9.84\" x=\"119\" y=\"25\"/>\n",
       "<rect fill=\"rgb(255,255,255)\" height=\"12\" width=\"4.16\" x=\"128\" y=\"25\"/>\n",
       "<rect fill=\"rgb(165,165,165)\" height=\"12\" width=\"9.888\" x=\"132\" y=\"25\"/>\n",
       "<rect fill=\"rgb(145,145,145)\" height=\"12\" width=\"9.68\" x=\"141\" y=\"25\"/>\n",
       "<rect fill=\"rgb(140,140,140)\" height=\"12\" width=\"5.776\" x=\"150\" y=\"25\"/>\n",
       "<rect fill=\"rgb(255,255,255)\" height=\"12\" width=\"4.16\" x=\"155\" y=\"25\"/>\n",
       "<rect fill=\"rgb(140,140,140)\" height=\"12\" width=\"5.776\" x=\"159\" y=\"25\"/>\n",
       "<rect fill=\"rgb(165,165,165)\" height=\"12\" width=\"6.608\" x=\"164\" y=\"25\"/>\n",
       "<rect fill=\"rgb(90,90,90)\" height=\"12\" width=\"8.976\" x=\"170\" y=\"25\"/>\n",
       "<rect fill=\"rgb(175,175,175)\" height=\"12\" width=\"8.128\" x=\"178\" y=\"25\"/>\n",
       "<rect fill=\"rgb(120,120,120)\" height=\"12\" width=\"9.024\" x=\"186\" y=\"25\"/>\n",
       "<rect fill=\"rgb(225,225,225)\" height=\"12\" width=\"4.128\" x=\"195\" y=\"25\"/>\n",
       "<rect fill=\"rgb(255,255,255)\" height=\"12\" width=\"4.16\" x=\"199\" y=\"25\"/>\n",
       "<rect fill=\"rgb(110,110,110)\" height=\"12\" width=\"9.84\" x=\"203\" y=\"25\"/>\n",
       "<rect fill=\"rgb(145,145,145)\" height=\"12\" width=\"9.68\" x=\"212\" y=\"25\"/>\n",
       "<rect fill=\"rgb(140,140,140)\" height=\"12\" width=\"5.776\" x=\"221\" y=\"25\"/>\n",
       "<rect fill=\"rgb(160,160,160)\" height=\"12\" width=\"9.888\" x=\"226\" y=\"25\"/>\n",
       "<rect fill=\"rgb(155,155,155)\" height=\"12\" width=\"10.224\" x=\"9\" y=\"41\"/>\n",
       "<rect fill=\"rgb(165,165,165)\" height=\"12\" width=\"9.888\" x=\"19\" y=\"41\"/>\n",
       "<rect fill=\"rgb(105,105,105)\" height=\"12\" width=\"9.84\" x=\"28\" y=\"41\"/>\n",
       "<rect fill=\"rgb(255,255,255)\" height=\"12\" width=\"4.16\" x=\"37\" y=\"41\"/>\n",
       "<rect fill=\"rgb(110,110,110)\" height=\"12\" width=\"9.84\" x=\"41\" y=\"41\"/>\n",
       "<rect fill=\"rgb(120,120,120)\" height=\"12\" width=\"9.024\" x=\"50\" y=\"41\"/>\n",
       "<rect fill=\"rgb(255,255,255)\" height=\"12\" width=\"4.16\" x=\"59\" y=\"41\"/>\n",
       "<rect fill=\"rgb(145,145,145)\" height=\"12\" width=\"9.68\" x=\"63\" y=\"41\"/>\n",
       "<rect fill=\"rgb(165,165,165)\" height=\"12\" width=\"9.888\" x=\"72\" y=\"41\"/>\n",
       "<rect fill=\"rgb(120,120,120)\" height=\"12\" width=\"9.024\" x=\"81\" y=\"41\"/>\n",
       "<rect fill=\"rgb(255,255,255)\" height=\"12\" width=\"4.16\" x=\"90\" y=\"41\"/>\n",
       "<rect fill=\"rgb(140,140,140)\" height=\"12\" width=\"5.776\" x=\"94\" y=\"41\"/>\n",
       "<rect fill=\"rgb(165,165,165)\" height=\"12\" width=\"6.608\" x=\"99\" y=\"41\"/>\n",
       "<rect fill=\"rgb(90,90,90)\" height=\"12\" width=\"8.976\" x=\"105\" y=\"41\"/>\n",
       "<rect fill=\"rgb(175,175,175)\" height=\"12\" width=\"8.128\" x=\"113\" y=\"41\"/>\n",
       "<rect fill=\"rgb(120,120,120)\" height=\"12\" width=\"9.024\" x=\"121\" y=\"41\"/>\n",
       "<rect fill=\"rgb(225,225,225)\" height=\"12\" width=\"4.128\" x=\"130\" y=\"41\"/>\n",
       "<rect fill=\"rgb(120,120,120)\" height=\"12\" width=\"9.024\" x=\"134\" y=\"41\"/>\n",
       "<rect fill=\"rgb(165,165,165)\" height=\"12\" width=\"6.608\" x=\"143\" y=\"41\"/>\n",
       "<rect fill=\"rgb(210,210,210)\" height=\"12\" width=\"4.288\" x=\"149\" y=\"41\"/>\n",
       "<rect fill=\"rgb(255,255,255)\" height=\"12\" width=\"4.16\" x=\"153\" y=\"41\"/>\n",
       "<rect fill=\"rgb(225,225,225)\" height=\"12\" width=\"4.128\" x=\"157\" y=\"41\"/>\n",
       "<rect fill=\"rgb(145,145,145)\" height=\"12\" width=\"9.68\" x=\"161\" y=\"41\"/>\n",
       "<rect fill=\"rgb(165,165,165)\" height=\"12\" width=\"9.888\" x=\"170\" y=\"41\"/>\n",
       "<rect fill=\"rgb(80,80,80)\" height=\"12\" width=\"9.84\" x=\"179\" y=\"41\"/>\n",
       "<rect fill=\"rgb(255,255,255)\" height=\"12\" width=\"4.16\" x=\"188\" y=\"41\"/>\n",
       "<rect fill=\"rgb(185,185,185)\" height=\"12\" width=\"5.424\" x=\"192\" y=\"41\"/>\n",
       "<rect fill=\"rgb(255,255,255)\" height=\"12\" width=\"4.16\" x=\"197\" y=\"41\"/>\n",
       "<rect fill=\"rgb(95,95,95)\" height=\"12\" width=\"7.664\" x=\"201\" y=\"41\"/>\n",
       "<rect fill=\"rgb(140,140,140)\" height=\"12\" width=\"5.776\" x=\"208\" y=\"41\"/>\n",
       "<rect fill=\"rgb(145,145,145)\" height=\"12\" width=\"9.68\" x=\"213\" y=\"41\"/>\n",
       "<rect fill=\"rgb(145,145,145)\" height=\"12\" width=\"9.68\" x=\"222\" y=\"41\"/>\n",
       "<rect fill=\"rgb(105,105,105)\" height=\"12\" width=\"9.84\" x=\"231\" y=\"41\"/>\n",
       "<rect fill=\"rgb(155,155,155)\" height=\"12\" width=\"10.224\" x=\"9\" y=\"57\"/>\n",
       "<rect fill=\"rgb(165,165,165)\" height=\"12\" width=\"9.888\" x=\"19\" y=\"57\"/>\n",
       "<rect fill=\"rgb(105,105,105)\" height=\"12\" width=\"9.84\" x=\"28\" y=\"57\"/>\n",
       "<rect fill=\"rgb(255,255,255)\" height=\"12\" width=\"4.16\" x=\"37\" y=\"57\"/>\n",
       "<rect fill=\"rgb(225,225,225)\" height=\"12\" width=\"4.128\" x=\"41\" y=\"57\"/>\n",
       "<rect fill=\"rgb(145,145,145)\" height=\"12\" width=\"9.68\" x=\"45\" y=\"57\"/>\n",
       "<rect fill=\"rgb(145,145,145)\" height=\"12\" width=\"9.68\" x=\"54\" y=\"57\"/>\n",
       "<rect fill=\"rgb(155,155,155)\" height=\"12\" width=\"8.544\" x=\"63\" y=\"57\"/>\n",
       "<rect fill=\"rgb(120,120,120)\" height=\"12\" width=\"9.024\" x=\"71\" y=\"57\"/>\n",
       "<rect fill=\"rgb(105,105,105)\" height=\"12\" width=\"9.84\" x=\"80\" y=\"57\"/>\n",
       "<rect fill=\"rgb(255,255,255)\" height=\"12\" width=\"4.16\" x=\"89\" y=\"57\"/>\n",
       "<rect fill=\"rgb(105,105,105)\" height=\"12\" width=\"9.84\" x=\"93\" y=\"57\"/>\n",
       "<rect fill=\"rgb(145,145,145)\" height=\"12\" width=\"9.68\" x=\"102\" y=\"57\"/>\n",
       "<rect fill=\"rgb(100,100,100)\" height=\"12\" width=\"12.576\" x=\"111\" y=\"57\"/>\n",
       "<rect fill=\"rgb(165,165,165)\" height=\"12\" width=\"9.888\" x=\"123\" y=\"57\"/>\n",
       "<rect fill=\"rgb(255,255,255)\" height=\"12\" width=\"4.16\" x=\"132\" y=\"57\"/>\n",
       "<rect fill=\"rgb(145,145,145)\" height=\"12\" width=\"9.68\" x=\"136\" y=\"57\"/>\n",
       "<rect fill=\"rgb(165,165,165)\" height=\"12\" width=\"9.888\" x=\"145\" y=\"57\"/>\n",
       "<rect fill=\"rgb(120,120,120)\" height=\"12\" width=\"9.024\" x=\"154\" y=\"57\"/>\n",
       "<rect fill=\"rgb(255,255,255)\" height=\"12\" width=\"4.16\" x=\"163\" y=\"57\"/>\n",
       "<rect fill=\"rgb(90,90,90)\" height=\"12\" width=\"8.976\" x=\"167\" y=\"57\"/>\n",
       "<rect fill=\"rgb(95,95,95)\" height=\"12\" width=\"7.664\" x=\"175\" y=\"57\"/>\n",
       "<rect fill=\"rgb(255,255,255)\" height=\"12\" width=\"4.16\" x=\"182\" y=\"57\"/>\n",
       "<rect fill=\"rgb(145,145,145)\" height=\"12\" width=\"5.504\" x=\"186\" y=\"57\"/>\n",
       "<rect fill=\"rgb(90,90,90)\" height=\"12\" width=\"8.976\" x=\"191\" y=\"57\"/>\n",
       "<rect fill=\"rgb(165,165,165)\" height=\"12\" width=\"6.608\" x=\"199\" y=\"57\"/>\n",
       "<rect fill=\"rgb(255,255,255)\" height=\"12\" width=\"4.16\" x=\"205\" y=\"57\"/>\n",
       "<rect fill=\"rgb(90,90,90)\" height=\"12\" width=\"8.976\" x=\"209\" y=\"57\"/>\n",
       "<rect fill=\"rgb(95,95,95)\" height=\"12\" width=\"7.664\" x=\"217\" y=\"57\"/>\n",
       "<rect fill=\"rgb(255,255,255)\" height=\"12\" width=\"4.16\" x=\"224\" y=\"57\"/>\n",
       "<rect fill=\"rgb(185,185,185)\" height=\"12\" width=\"5.424\" x=\"228\" y=\"57\"/>\n",
       "<rect fill=\"rgb(255,255,255)\" height=\"12\" width=\"4.16\" x=\"233\" y=\"57\"/>\n",
       "<rect fill=\"rgb(150,150,150)\" height=\"12\" width=\"7.68\" x=\"237\" y=\"57\"/>\n",
       "<rect fill=\"rgb(145,145,145)\" height=\"12\" width=\"9.68\" x=\"244\" y=\"57\"/>\n",
       "<rect fill=\"rgb(165,165,165)\" height=\"12\" width=\"9.888\" x=\"253\" y=\"57\"/>\n",
       "<rect fill=\"rgb(225,225,225)\" height=\"12\" width=\"4.128\" x=\"262\" y=\"57\"/>\n",
       "<rect fill=\"rgb(105,105,105)\" height=\"12\" width=\"9.84\" x=\"266\" y=\"57\"/>\n",
       "<rect fill=\"rgb(205,205,205)\" height=\"12\" width=\"8.896\" x=\"9\" y=\"73\"/>\n",
       "<rect fill=\"rgb(145,145,145)\" height=\"12\" width=\"9.68\" x=\"17\" y=\"73\"/>\n",
       "<rect fill=\"rgb(255,255,255)\" height=\"12\" width=\"4.16\" x=\"26\" y=\"73\"/>\n",
       "<rect fill=\"rgb(100,100,100)\" height=\"12\" width=\"12.576\" x=\"30\" y=\"73\"/>\n",
       "<rect fill=\"rgb(160,160,160)\" height=\"12\" width=\"9.888\" x=\"42\" y=\"73\"/>\n",
       "<rect fill=\"rgb(120,120,120)\" height=\"12\" width=\"9.024\" x=\"51\" y=\"73\"/>\n",
       "<rect fill=\"rgb(165,165,165)\" height=\"12\" width=\"6.608\" x=\"60\" y=\"73\"/>\n",
       "<rect fill=\"rgb(120,120,120)\" height=\"12\" width=\"9.024\" x=\"66\" y=\"73\"/>\n",
       "<rect fill=\"rgb(255,255,255)\" height=\"12\" width=\"4.16\" x=\"75\" y=\"73\"/>\n",
       "<rect fill=\"rgb(175,175,175)\" height=\"12\" width=\"4.128\" x=\"79\" y=\"73\"/>\n",
       "<rect fill=\"rgb(140,140,140)\" height=\"12\" width=\"5.776\" x=\"83\" y=\"73\"/>\n",
       "<rect fill=\"rgb(255,255,255)\" height=\"12\" width=\"4.16\" x=\"88\" y=\"73\"/>\n",
       "<rect fill=\"rgb(110,110,110)\" height=\"12\" width=\"9.84\" x=\"92\" y=\"73\"/>\n",
       "<rect fill=\"rgb(120,120,120)\" height=\"12\" width=\"9.024\" x=\"101\" y=\"73\"/>\n",
       "<rect fill=\"rgb(165,165,165)\" height=\"12\" width=\"9.888\" x=\"110\" y=\"73\"/>\n",
       "<rect fill=\"rgb(140,140,140)\" height=\"12\" width=\"5.776\" x=\"119\" y=\"73\"/>\n",
       "<rect fill=\"rgb(255,255,255)\" height=\"12\" width=\"4.16\" x=\"124\" y=\"73\"/>\n",
       "<rect fill=\"rgb(175,175,175)\" height=\"12\" width=\"4.128\" x=\"128\" y=\"73\"/>\n",
       "<rect fill=\"rgb(165,165,165)\" height=\"12\" width=\"9.888\" x=\"132\" y=\"73\"/>\n",
       "<rect fill=\"rgb(255,255,255)\" height=\"12\" width=\"4.16\" x=\"141\" y=\"73\"/>\n",
       "<rect fill=\"rgb(140,140,140)\" height=\"12\" width=\"5.776\" x=\"145\" y=\"73\"/>\n",
       "<rect fill=\"rgb(160,160,160)\" height=\"12\" width=\"9.888\" x=\"150\" y=\"73\"/>\n",
       "<rect fill=\"rgb(120,120,120)\" height=\"12\" width=\"9.024\" x=\"159\" y=\"73\"/>\n",
       "<rect fill=\"rgb(255,255,255)\" height=\"12\" width=\"4.16\" x=\"168\" y=\"73\"/>\n",
       "<rect fill=\"rgb(165,165,165)\" height=\"12\" width=\"9.888\" x=\"172\" y=\"73\"/>\n",
       "<rect fill=\"rgb(165,165,165)\" height=\"12\" width=\"9.888\" x=\"181\" y=\"73\"/>\n",
       "<rect fill=\"rgb(105,105,105)\" height=\"12\" width=\"9.84\" x=\"190\" y=\"73\"/>\n",
       "<rect fill=\"rgb(120,120,120)\" height=\"12\" width=\"9.024\" x=\"199\" y=\"73\"/>\n",
       "<rect fill=\"rgb(165,165,165)\" height=\"12\" width=\"6.608\" x=\"208\" y=\"73\"/>\n",
       "<rect fill=\"rgb(80,80,80)\" height=\"12\" width=\"9.84\" x=\"214\" y=\"73\"/>\n",
       "<rect fill=\"rgb(165,165,165)\" height=\"12\" width=\"6.608\" x=\"223\" y=\"73\"/>\n",
       "<rect fill=\"rgb(145,145,145)\" height=\"12\" width=\"9.68\" x=\"229\" y=\"73\"/>\n",
       "<rect fill=\"rgb(100,100,100)\" height=\"12\" width=\"12.576\" x=\"238\" y=\"73\"/>\n",
       "<rect fill=\"rgb(140,140,140)\" height=\"12\" width=\"5.776\" x=\"250\" y=\"73\"/>\n",
       "<rect fill=\"rgb(160,160,160)\" height=\"12\" width=\"9.888\" x=\"255\" y=\"73\"/>\n",
       "<rect fill=\"rgb(155,155,155)\" height=\"12\" width=\"4.288\" x=\"264\" y=\"73\"/>\n",
       "<rect fill=\"rgb(205,205,205)\" height=\"12\" width=\"8.896\" x=\"9\" y=\"105\"/>\n",
       "<rect fill=\"rgb(160,160,160)\" height=\"12\" width=\"9.888\" x=\"17\" y=\"105\"/>\n",
       "<rect fill=\"rgb(120,120,120)\" height=\"12\" width=\"9.024\" x=\"26\" y=\"105\"/>\n",
       "<rect fill=\"rgb(165,165,165)\" height=\"12\" width=\"9.888\" x=\"35\" y=\"105\"/>\n",
       "<rect fill=\"rgb(255,255,255)\" height=\"12\" width=\"4.16\" x=\"44\" y=\"105\"/>\n",
       "<rect fill=\"rgb(140,140,140)\" height=\"12\" width=\"5.776\" x=\"48\" y=\"105\"/>\n",
       "<rect fill=\"rgb(145,145,145)\" height=\"12\" width=\"9.68\" x=\"53\" y=\"105\"/>\n",
       "<rect fill=\"rgb(145,145,145)\" height=\"12\" width=\"9.68\" x=\"62\" y=\"105\"/>\n",
       "<rect fill=\"rgb(155,155,155)\" height=\"12\" width=\"8.544\" x=\"71\" y=\"105\"/>\n",
       "<rect fill=\"rgb(255,255,255)\" height=\"12\" width=\"4.16\" x=\"79\" y=\"105\"/>\n",
       "<rect fill=\"rgb(140,140,140)\" height=\"12\" width=\"5.776\" x=\"83\" y=\"105\"/>\n",
       "<rect fill=\"rgb(160,160,160)\" height=\"12\" width=\"9.888\" x=\"88\" y=\"105\"/>\n",
       "<rect fill=\"rgb(120,120,120)\" height=\"12\" width=\"9.024\" x=\"97\" y=\"105\"/>\n",
       "<rect fill=\"rgb(255,255,255)\" height=\"12\" width=\"4.16\" x=\"106\" y=\"105\"/>\n",
       "<rect fill=\"rgb(145,145,145)\" height=\"12\" width=\"9.68\" x=\"110\" y=\"105\"/>\n",
       "<rect fill=\"rgb(140,140,140)\" height=\"12\" width=\"5.776\" x=\"119\" y=\"105\"/>\n",
       "<rect fill=\"rgb(160,160,160)\" height=\"12\" width=\"9.888\" x=\"124\" y=\"105\"/>\n",
       "<rect fill=\"rgb(120,120,120)\" height=\"12\" width=\"9.024\" x=\"133\" y=\"105\"/>\n",
       "<rect fill=\"rgb(165,165,165)\" height=\"12\" width=\"6.608\" x=\"142\" y=\"105\"/>\n",
       "<rect fill=\"rgb(210,210,210)\" height=\"12\" width=\"4.288\" x=\"148\" y=\"105\"/>\n",
       "<rect fill=\"rgb(255,255,255)\" height=\"12\" width=\"4.16\" x=\"152\" y=\"105\"/>\n",
       "<rect fill=\"rgb(90,90,90)\" height=\"12\" width=\"8.976\" x=\"156\" y=\"105\"/>\n",
       "<rect fill=\"rgb(95,95,95)\" height=\"12\" width=\"7.664\" x=\"164\" y=\"105\"/>\n",
       "<rect fill=\"rgb(255,255,255)\" height=\"12\" width=\"4.16\" x=\"171\" y=\"105\"/>\n",
       "<rect fill=\"rgb(135,135,135)\" height=\"12\" width=\"4.128\" x=\"175\" y=\"105\"/>\n",
       "<rect fill=\"rgb(165,165,165)\" height=\"12\" width=\"9.888\" x=\"179\" y=\"105\"/>\n",
       "<rect fill=\"rgb(95,95,95)\" height=\"12\" width=\"7.664\" x=\"188\" y=\"105\"/>\n",
       "<rect fill=\"rgb(140,140,140)\" height=\"12\" width=\"5.776\" x=\"195\" y=\"105\"/>\n",
       "<rect fill=\"rgb(255,255,255)\" height=\"12\" width=\"4.16\" x=\"200\" y=\"105\"/>\n",
       "<rect fill=\"rgb(90,90,90)\" height=\"12\" width=\"8.976\" x=\"204\" y=\"105\"/>\n",
       "<rect fill=\"rgb(95,95,95)\" height=\"12\" width=\"7.664\" x=\"212\" y=\"105\"/>\n",
       "<rect fill=\"rgb(255,255,255)\" height=\"12\" width=\"4.16\" x=\"219\" y=\"105\"/>\n",
       "<rect fill=\"rgb(145,145,145)\" height=\"12\" width=\"5.504\" x=\"223\" y=\"105\"/>\n",
       "<rect fill=\"rgb(90,90,90)\" height=\"12\" width=\"8.976\" x=\"228\" y=\"105\"/>\n",
       "<rect fill=\"rgb(175,175,175)\" height=\"12\" width=\"4.128\" x=\"236\" y=\"105\"/>\n",
       "<rect fill=\"rgb(165,165,165)\" height=\"12\" width=\"6.608\" x=\"240\" y=\"105\"/>\n",
       "<rect fill=\"rgb(210,210,210)\" height=\"12\" width=\"4.288\" x=\"246\" y=\"105\"/>\n",
       "<rect fill=\"rgb(155,155,155)\" height=\"12\" width=\"10.224\" x=\"9\" y=\"121\"/>\n",
       "<rect fill=\"rgb(165,165,165)\" height=\"12\" width=\"9.888\" x=\"19\" y=\"121\"/>\n",
       "<rect fill=\"rgb(105,105,105)\" height=\"12\" width=\"9.84\" x=\"28\" y=\"121\"/>\n",
       "<rect fill=\"rgb(255,255,255)\" height=\"12\" width=\"4.16\" x=\"37\" y=\"121\"/>\n",
       "<rect fill=\"rgb(160,160,160)\" height=\"12\" width=\"9.888\" x=\"41\" y=\"121\"/>\n",
       "<rect fill=\"rgb(90,90,90)\" height=\"12\" width=\"8.976\" x=\"50\" y=\"121\"/>\n",
       "<rect fill=\"rgb(175,175,175)\" height=\"12\" width=\"8.128\" x=\"58\" y=\"121\"/>\n",
       "<rect fill=\"rgb(175,175,175)\" height=\"12\" width=\"4.128\" x=\"66\" y=\"121\"/>\n",
       "<rect fill=\"rgb(165,165,165)\" height=\"12\" width=\"9.888\" x=\"70\" y=\"121\"/>\n",
       "<rect fill=\"rgb(80,80,80)\" height=\"12\" width=\"9.84\" x=\"79\" y=\"121\"/>\n",
       "<rect fill=\"rgb(255,255,255)\" height=\"12\" width=\"4.16\" x=\"88\" y=\"121\"/>\n",
       "<rect fill=\"rgb(100,100,100)\" height=\"12\" width=\"9.84\" x=\"92\" y=\"121\"/>\n",
       "<rect fill=\"rgb(120,120,120)\" height=\"12\" width=\"9.024\" x=\"101\" y=\"121\"/>\n",
       "<rect fill=\"rgb(165,165,165)\" height=\"12\" width=\"6.608\" x=\"110\" y=\"121\"/>\n",
       "<rect fill=\"rgb(160,160,160)\" height=\"12\" width=\"9.888\" x=\"116\" y=\"121\"/>\n",
       "<rect fill=\"rgb(90,90,90)\" height=\"12\" width=\"8.976\" x=\"125\" y=\"121\"/>\n",
       "<rect fill=\"rgb(100,100,100)\" height=\"12\" width=\"9.84\" x=\"133\" y=\"121\"/>\n",
       "<rect fill=\"rgb(95,95,95)\" height=\"12\" width=\"7.664\" x=\"142\" y=\"121\"/>\n",
       "<rect fill=\"rgb(255,255,255)\" height=\"12\" width=\"4.16\" x=\"149\" y=\"121\"/>\n",
       "<rect fill=\"rgb(140,140,140)\" height=\"12\" width=\"5.776\" x=\"153\" y=\"121\"/>\n",
       "<rect fill=\"rgb(160,160,160)\" height=\"12\" width=\"9.888\" x=\"158\" y=\"121\"/>\n",
       "<rect fill=\"rgb(120,120,120)\" height=\"12\" width=\"9.024\" x=\"167\" y=\"121\"/>\n",
       "<rect fill=\"rgb(255,255,255)\" height=\"12\" width=\"4.16\" x=\"176\" y=\"121\"/>\n",
       "<rect fill=\"rgb(110,110,110)\" height=\"12\" width=\"9.84\" x=\"180\" y=\"121\"/>\n",
       "<rect fill=\"rgb(120,120,120)\" height=\"12\" width=\"9.024\" x=\"189\" y=\"121\"/>\n",
       "<rect fill=\"rgb(140,140,140)\" height=\"12\" width=\"5.776\" x=\"198\" y=\"121\"/>\n",
       "<rect fill=\"rgb(140,140,140)\" height=\"12\" width=\"5.776\" x=\"203\" y=\"121\"/>\n",
       "<rect fill=\"rgb(120,120,120)\" height=\"12\" width=\"9.024\" x=\"208\" y=\"121\"/>\n",
       "<rect fill=\"rgb(165,165,165)\" height=\"12\" width=\"6.608\" x=\"217\" y=\"121\"/>\n",
       "<rect fill=\"rgb(255,255,255)\" height=\"12\" width=\"4.16\" x=\"223\" y=\"121\"/>\n",
       "<rect fill=\"rgb(150,150,150)\" height=\"12\" width=\"7.68\" x=\"227\" y=\"121\"/>\n",
       "<rect fill=\"rgb(225,225,225)\" height=\"12\" width=\"4.128\" x=\"234\" y=\"121\"/>\n",
       "<rect fill=\"rgb(90,90,90)\" height=\"12\" width=\"8.976\" x=\"238\" y=\"121\"/>\n",
       "<rect fill=\"rgb(175,175,175)\" height=\"12\" width=\"4.128\" x=\"246\" y=\"121\"/>\n",
       "<rect fill=\"rgb(115,115,115)\" height=\"12\" width=\"14.96\" x=\"250\" y=\"121\"/>\n",
       "<rect fill=\"rgb(210,210,210)\" height=\"12\" width=\"4.288\" x=\"264\" y=\"121\"/>\n",
       "<rect fill=\"rgb(90,90,90)\" height=\"12\" width=\"10.4\" x=\"9\" y=\"137\"/>\n",
       "<rect fill=\"rgb(120,120,120)\" height=\"12\" width=\"9.024\" x=\"19\" y=\"137\"/>\n",
       "<rect fill=\"rgb(150,150,150)\" height=\"12\" width=\"7.68\" x=\"28\" y=\"137\"/>\n",
       "<rect fill=\"rgb(90,90,90)\" height=\"12\" width=\"8.976\" x=\"35\" y=\"137\"/>\n",
       "<rect fill=\"rgb(165,165,165)\" height=\"12\" width=\"9.888\" x=\"43\" y=\"137\"/>\n",
       "<rect fill=\"rgb(95,95,95)\" height=\"12\" width=\"7.664\" x=\"52\" y=\"137\"/>\n",
       "<rect fill=\"rgb(120,120,120)\" height=\"12\" width=\"9.024\" x=\"59\" y=\"137\"/>\n",
       "<rect fill=\"rgb(255,255,255)\" height=\"12\" width=\"4.16\" x=\"68\" y=\"137\"/>\n",
       "<rect fill=\"rgb(175,175,175)\" height=\"12\" width=\"4.128\" x=\"72\" y=\"137\"/>\n",
       "<rect fill=\"rgb(140,140,140)\" height=\"12\" width=\"5.776\" x=\"76\" y=\"137\"/>\n",
       "<rect fill=\"rgb(255,255,255)\" height=\"12\" width=\"4.16\" x=\"81\" y=\"137\"/>\n",
       "<rect fill=\"rgb(100,100,100)\" height=\"12\" width=\"12.576\" x=\"85\" y=\"137\"/>\n",
       "<rect fill=\"rgb(90,90,90)\" height=\"12\" width=\"8.976\" x=\"97\" y=\"137\"/>\n",
       "<rect fill=\"rgb(95,95,95)\" height=\"12\" width=\"7.664\" x=\"105\" y=\"137\"/>\n",
       "<rect fill=\"rgb(255,255,255)\" height=\"12\" width=\"4.16\" x=\"112\" y=\"137\"/>\n",
       "<rect fill=\"rgb(80,80,80)\" height=\"12\" width=\"9.84\" x=\"116\" y=\"137\"/>\n",
       "<rect fill=\"rgb(165,165,165)\" height=\"12\" width=\"6.608\" x=\"125\" y=\"137\"/>\n",
       "<rect fill=\"rgb(90,90,90)\" height=\"12\" width=\"8.976\" x=\"131\" y=\"137\"/>\n",
       "<rect fill=\"rgb(95,95,95)\" height=\"12\" width=\"7.664\" x=\"139\" y=\"137\"/>\n",
       "<rect fill=\"rgb(95,95,95)\" height=\"12\" width=\"7.664\" x=\"146\" y=\"137\"/>\n",
       "<rect fill=\"rgb(140,140,140)\" height=\"12\" width=\"8.16\" x=\"153\" y=\"137\"/>\n",
       "<rect fill=\"rgb(255,255,255)\" height=\"12\" width=\"4.16\" x=\"161\" y=\"137\"/>\n",
       "<rect fill=\"rgb(90,90,90)\" height=\"12\" width=\"8.976\" x=\"165\" y=\"137\"/>\n",
       "<rect fill=\"rgb(165,165,165)\" height=\"12\" width=\"9.888\" x=\"173\" y=\"137\"/>\n",
       "<rect fill=\"rgb(105,105,105)\" height=\"12\" width=\"9.84\" x=\"182\" y=\"137\"/>\n",
       "<rect fill=\"rgb(255,255,255)\" height=\"12\" width=\"4.16\" x=\"191\" y=\"137\"/>\n",
       "<rect fill=\"rgb(100,100,100)\" height=\"12\" width=\"12.576\" x=\"195\" y=\"137\"/>\n",
       "<rect fill=\"rgb(90,90,90)\" height=\"12\" width=\"8.976\" x=\"207\" y=\"137\"/>\n",
       "<rect fill=\"rgb(165,165,165)\" height=\"12\" width=\"9.888\" x=\"215\" y=\"137\"/>\n",
       "<rect fill=\"rgb(140,140,140)\" height=\"12\" width=\"5.776\" x=\"224\" y=\"137\"/>\n",
       "<rect fill=\"rgb(120,120,120)\" height=\"12\" width=\"9.024\" x=\"229\" y=\"137\"/>\n",
       "<rect fill=\"rgb(105,105,105)\" height=\"12\" width=\"9.84\" x=\"238\" y=\"137\"/>\n",
       "<rect fill=\"rgb(255,255,255)\" height=\"12\" width=\"4.16\" x=\"247\" y=\"137\"/>\n",
       "<rect fill=\"rgb(100,100,100)\" height=\"12\" width=\"12.576\" x=\"251\" y=\"137\"/>\n",
       "<rect fill=\"rgb(120,120,120)\" height=\"12\" width=\"9.024\" x=\"263\" y=\"137\"/>\n",
       "<rect fill=\"rgb(90,90,90)\" height=\"12\" width=\"8.976\" x=\"272\" y=\"137\"/>\n",
       "<rect fill=\"rgb(165,165,165)\" height=\"12\" width=\"6.608\" x=\"280\" y=\"137\"/>\n",
       "<rect fill=\"rgb(155,155,155)\" height=\"12\" width=\"4.288\" x=\"286\" y=\"137\"/>\n",
       "<rect fill=\"rgb(205,205,205)\" height=\"12\" width=\"8.896\" x=\"9\" y=\"153\"/>\n",
       "<rect fill=\"rgb(160,160,160)\" height=\"12\" width=\"9.888\" x=\"17\" y=\"153\"/>\n",
       "<rect fill=\"rgb(145,145,145)\" height=\"12\" width=\"9.68\" x=\"26\" y=\"153\"/>\n",
       "<rect fill=\"rgb(165,165,165)\" height=\"12\" width=\"9.888\" x=\"35\" y=\"153\"/>\n",
       "<rect fill=\"rgb(80,80,80)\" height=\"12\" width=\"9.84\" x=\"44\" y=\"153\"/>\n",
       "<rect fill=\"rgb(160,160,160)\" height=\"12\" width=\"9.888\" x=\"53\" y=\"153\"/>\n",
       "<rect fill=\"rgb(255,255,255)\" height=\"12\" width=\"4.16\" x=\"62\" y=\"153\"/>\n",
       "<rect fill=\"rgb(90,90,90)\" height=\"12\" width=\"8.976\" x=\"66\" y=\"153\"/>\n",
       "<rect fill=\"rgb(95,95,95)\" height=\"12\" width=\"7.664\" x=\"74\" y=\"153\"/>\n",
       "<rect fill=\"rgb(255,255,255)\" height=\"12\" width=\"4.16\" x=\"81\" y=\"153\"/>\n",
       "<rect fill=\"rgb(145,145,145)\" height=\"12\" width=\"5.504\" x=\"85\" y=\"153\"/>\n",
       "<rect fill=\"rgb(145,145,145)\" height=\"12\" width=\"9.68\" x=\"90\" y=\"153\"/>\n",
       "<rect fill=\"rgb(165,165,165)\" height=\"12\" width=\"6.608\" x=\"99\" y=\"153\"/>\n",
       "<rect fill=\"rgb(255,255,255)\" height=\"12\" width=\"4.16\" x=\"105\" y=\"153\"/>\n",
       "<rect fill=\"rgb(140,140,140)\" height=\"12\" width=\"5.776\" x=\"109\" y=\"153\"/>\n",
       "<rect fill=\"rgb(160,160,160)\" height=\"12\" width=\"9.888\" x=\"114\" y=\"153\"/>\n",
       "<rect fill=\"rgb(90,90,90)\" height=\"12\" width=\"8.976\" x=\"123\" y=\"153\"/>\n",
       "<rect fill=\"rgb(140,140,140)\" height=\"12\" width=\"5.776\" x=\"131\" y=\"153\"/>\n",
       "<rect fill=\"rgb(255,255,255)\" height=\"12\" width=\"4.16\" x=\"136\" y=\"153\"/>\n",
       "<rect fill=\"rgb(140,140,140)\" height=\"12\" width=\"5.776\" x=\"140\" y=\"153\"/>\n",
       "<rect fill=\"rgb(160,160,160)\" height=\"12\" width=\"9.888\" x=\"145\" y=\"153\"/>\n",
       "<rect fill=\"rgb(120,120,120)\" height=\"12\" width=\"9.024\" x=\"154\" y=\"153\"/>\n",
       "<rect fill=\"rgb(255,255,255)\" height=\"12\" width=\"4.16\" x=\"163\" y=\"153\"/>\n",
       "<rect fill=\"rgb(100,100,100)\" height=\"12\" width=\"9.84\" x=\"167\" y=\"153\"/>\n",
       "<rect fill=\"rgb(90,90,90)\" height=\"12\" width=\"8.976\" x=\"176\" y=\"153\"/>\n",
       "<rect fill=\"rgb(95,95,95)\" height=\"12\" width=\"7.664\" x=\"184\" y=\"153\"/>\n",
       "<rect fill=\"rgb(95,95,95)\" height=\"12\" width=\"7.664\" x=\"191\" y=\"153\"/>\n",
       "<rect fill=\"rgb(175,175,175)\" height=\"12\" width=\"4.128\" x=\"198\" y=\"153\"/>\n",
       "<rect fill=\"rgb(165,165,165)\" height=\"12\" width=\"9.888\" x=\"202\" y=\"153\"/>\n",
       "<rect fill=\"rgb(80,80,80)\" height=\"12\" width=\"9.84\" x=\"211\" y=\"153\"/>\n",
       "<rect fill=\"rgb(255,255,255)\" height=\"12\" width=\"4.16\" x=\"220\" y=\"153\"/>\n",
       "<rect fill=\"rgb(140,140,140)\" height=\"12\" width=\"5.776\" x=\"224\" y=\"153\"/>\n",
       "<rect fill=\"rgb(160,160,160)\" height=\"12\" width=\"9.888\" x=\"229\" y=\"153\"/>\n",
       "<rect fill=\"rgb(120,120,120)\" height=\"12\" width=\"9.024\" x=\"238\" y=\"153\"/>\n",
       "<rect fill=\"rgb(165,165,165)\" height=\"12\" width=\"6.608\" x=\"247\" y=\"153\"/>\n",
       "<rect fill=\"rgb(120,120,120)\" height=\"12\" width=\"9.024\" x=\"253\" y=\"153\"/>\n",
       "<rect fill=\"rgb(185,185,185)\" height=\"12\" width=\"11.856\" x=\"9\" y=\"169\"/>\n",
       "<rect fill=\"rgb(90,90,90)\" height=\"12\" width=\"8.976\" x=\"20\" y=\"169\"/>\n",
       "<rect fill=\"rgb(105,105,105)\" height=\"12\" width=\"9.84\" x=\"28\" y=\"169\"/>\n",
       "<rect fill=\"rgb(255,255,255)\" height=\"12\" width=\"4.16\" x=\"37\" y=\"169\"/>\n",
       "<rect fill=\"rgb(100,100,100)\" height=\"12\" width=\"12.576\" x=\"41\" y=\"169\"/>\n",
       "<rect fill=\"rgb(145,145,145)\" height=\"12\" width=\"9.68\" x=\"53\" y=\"169\"/>\n",
       "<rect fill=\"rgb(165,165,165)\" height=\"12\" width=\"6.608\" x=\"62\" y=\"169\"/>\n",
       "<rect fill=\"rgb(165,165,165)\" height=\"12\" width=\"9.888\" x=\"68\" y=\"169\"/>\n",
       "<rect fill=\"rgb(255,255,255)\" height=\"12\" width=\"4.16\" x=\"77\" y=\"169\"/>\n",
       "<rect fill=\"rgb(140,140,140)\" height=\"12\" width=\"5.776\" x=\"81\" y=\"169\"/>\n",
       "<rect fill=\"rgb(160,160,160)\" height=\"12\" width=\"9.888\" x=\"86\" y=\"169\"/>\n",
       "<rect fill=\"rgb(120,120,120)\" height=\"12\" width=\"9.024\" x=\"95\" y=\"169\"/>\n",
       "<rect fill=\"rgb(115,115,115)\" height=\"12\" width=\"14.96\" x=\"104\" y=\"169\"/>\n",
       "<rect fill=\"rgb(255,255,255)\" height=\"12\" width=\"4.16\" x=\"118\" y=\"169\"/>\n",
       "<rect fill=\"rgb(165,165,165)\" height=\"12\" width=\"6.608\" x=\"122\" y=\"169\"/>\n",
       "<rect fill=\"rgb(120,120,120)\" height=\"12\" width=\"9.024\" x=\"128\" y=\"169\"/>\n",
       "<rect fill=\"rgb(90,90,90)\" height=\"12\" width=\"8.976\" x=\"137\" y=\"169\"/>\n",
       "<rect fill=\"rgb(225,225,225)\" height=\"12\" width=\"4.128\" x=\"145\" y=\"169\"/>\n",
       "<rect fill=\"rgb(225,225,225)\" height=\"12\" width=\"4.128\" x=\"149\" y=\"169\"/>\n",
       "<rect fill=\"rgb(140,140,140)\" height=\"12\" width=\"8.16\" x=\"153\" y=\"169\"/>\n",
       "<rect fill=\"rgb(255,255,255)\" height=\"12\" width=\"4.16\" x=\"161\" y=\"169\"/>\n",
       "<rect fill=\"rgb(90,90,90)\" height=\"12\" width=\"8.976\" x=\"165\" y=\"169\"/>\n",
       "<rect fill=\"rgb(110,110,110)\" height=\"12\" width=\"9.84\" x=\"173\" y=\"169\"/>\n",
       "<rect fill=\"rgb(145,145,145)\" height=\"12\" width=\"9.68\" x=\"182\" y=\"169\"/>\n",
       "<rect fill=\"rgb(165,165,165)\" height=\"12\" width=\"9.888\" x=\"191\" y=\"169\"/>\n",
       "<rect fill=\"rgb(140,140,140)\" height=\"12\" width=\"5.776\" x=\"200\" y=\"169\"/>\n",
       "<rect fill=\"rgb(255,255,255)\" height=\"12\" width=\"4.16\" x=\"205\" y=\"169\"/>\n",
       "<rect fill=\"rgb(140,140,140)\" height=\"12\" width=\"5.776\" x=\"209\" y=\"169\"/>\n",
       "<rect fill=\"rgb(160,160,160)\" height=\"12\" width=\"9.888\" x=\"214\" y=\"169\"/>\n",
       "<rect fill=\"rgb(120,120,120)\" height=\"12\" width=\"9.024\" x=\"223\" y=\"169\"/>\n",
       "<rect fill=\"rgb(255,255,255)\" height=\"12\" width=\"4.16\" x=\"232\" y=\"169\"/>\n",
       "<rect fill=\"rgb(95,95,95)\" height=\"12\" width=\"7.664\" x=\"236\" y=\"169\"/>\n",
       "<rect fill=\"rgb(90,90,90)\" height=\"12\" width=\"8.976\" x=\"243\" y=\"169\"/>\n",
       "<rect fill=\"rgb(115,115,115)\" height=\"12\" width=\"14.96\" x=\"251\" y=\"169\"/>\n",
       "<rect fill=\"rgb(120,120,120)\" height=\"12\" width=\"9.024\" x=\"265\" y=\"169\"/>\n",
       "<rect fill=\"rgb(210,210,210)\" height=\"12\" width=\"4.288\" x=\"274\" y=\"169\"/>\n",
       "<rect fill=\"rgb(155,155,155)\" height=\"12\" width=\"10.224\" x=\"9\" y=\"201\"/>\n",
       "<rect fill=\"rgb(165,165,165)\" height=\"12\" width=\"9.888\" x=\"19\" y=\"201\"/>\n",
       "<rect fill=\"rgb(105,105,105)\" height=\"12\" width=\"9.84\" x=\"28\" y=\"201\"/>\n",
       "<rect fill=\"rgb(255,255,255)\" height=\"12\" width=\"4.16\" x=\"37\" y=\"201\"/>\n",
       "<rect fill=\"rgb(110,110,110)\" height=\"12\" width=\"9.84\" x=\"41\" y=\"201\"/>\n",
       "<rect fill=\"rgb(145,145,145)\" height=\"12\" width=\"9.68\" x=\"50\" y=\"201\"/>\n",
       "<rect fill=\"rgb(140,140,140)\" height=\"12\" width=\"5.776\" x=\"59\" y=\"201\"/>\n",
       "<rect fill=\"rgb(160,160,160)\" height=\"12\" width=\"9.888\" x=\"64\" y=\"201\"/>\n",
       "<rect fill=\"rgb(255,255,255)\" height=\"12\" width=\"4.16\" x=\"73\" y=\"201\"/>\n",
       "<rect fill=\"rgb(140,140,140)\" height=\"12\" width=\"5.776\" x=\"77\" y=\"201\"/>\n",
       "<rect fill=\"rgb(160,160,160)\" height=\"12\" width=\"9.888\" x=\"82\" y=\"201\"/>\n",
       "<rect fill=\"rgb(90,90,90)\" height=\"12\" width=\"8.976\" x=\"91\" y=\"201\"/>\n",
       "<rect fill=\"rgb(140,140,140)\" height=\"12\" width=\"5.776\" x=\"99\" y=\"201\"/>\n",
       "<rect fill=\"rgb(255,255,255)\" height=\"12\" width=\"4.16\" x=\"104\" y=\"201\"/>\n",
       "<rect fill=\"rgb(115,115,115)\" height=\"12\" width=\"14.96\" x=\"108\" y=\"201\"/>\n",
       "<rect fill=\"rgb(145,145,145)\" height=\"12\" width=\"9.68\" x=\"122\" y=\"201\"/>\n",
       "<rect fill=\"rgb(165,165,165)\" height=\"12\" width=\"6.608\" x=\"131\" y=\"201\"/>\n",
       "<rect fill=\"rgb(165,165,165)\" height=\"12\" width=\"9.888\" x=\"137\" y=\"201\"/>\n",
       "<rect fill=\"rgb(175,175,175)\" height=\"12\" width=\"4.128\" x=\"146\" y=\"201\"/>\n",
       "<rect fill=\"rgb(165,165,165)\" height=\"12\" width=\"9.888\" x=\"150\" y=\"201\"/>\n",
       "<rect fill=\"rgb(80,80,80)\" height=\"12\" width=\"9.84\" x=\"159\" y=\"201\"/>\n",
       "<rect fill=\"rgb(255,255,255)\" height=\"12\" width=\"4.16\" x=\"168\" y=\"201\"/>\n",
       "<rect fill=\"rgb(120,120,120)\" height=\"12\" width=\"9.024\" x=\"172\" y=\"201\"/>\n",
       "<rect fill=\"rgb(105,105,105)\" height=\"12\" width=\"9.84\" x=\"181\" y=\"201\"/>\n",
       "<rect fill=\"rgb(165,165,165)\" height=\"12\" width=\"9.888\" x=\"190\" y=\"201\"/>\n",
       "<rect fill=\"rgb(90,90,90)\" height=\"12\" width=\"8.976\" x=\"199\" y=\"201\"/>\n",
       "<rect fill=\"rgb(225,225,225)\" height=\"12\" width=\"4.128\" x=\"207\" y=\"201\"/>\n",
       "<rect fill=\"rgb(225,225,225)\" height=\"12\" width=\"4.128\" x=\"211\" y=\"201\"/>\n",
       "<rect fill=\"rgb(140,140,140)\" height=\"12\" width=\"8.16\" x=\"215\" y=\"201\"/>\n",
       "<rect fill=\"rgb(255,255,255)\" height=\"12\" width=\"4.16\" x=\"223\" y=\"201\"/>\n",
       "<rect fill=\"rgb(225,225,225)\" height=\"12\" width=\"4.128\" x=\"227\" y=\"201\"/>\n",
       "<rect fill=\"rgb(90,90,90)\" height=\"12\" width=\"8.976\" x=\"231\" y=\"201\"/>\n",
       "<rect fill=\"rgb(140,140,140)\" height=\"12\" width=\"8.16\" x=\"239\" y=\"201\"/>\n",
       "<rect fill=\"rgb(185,185,185)\" height=\"12\" width=\"5.424\" x=\"9\" y=\"217\"/>\n",
       "<rect fill=\"rgb(165,165,165)\" height=\"12\" width=\"9.888\" x=\"14\" y=\"217\"/>\n",
       "<rect fill=\"rgb(255,255,255)\" height=\"12\" width=\"4.16\" x=\"23\" y=\"217\"/>\n",
       "<rect fill=\"rgb(225,225,225)\" height=\"12\" width=\"4.128\" x=\"27\" y=\"217\"/>\n",
       "<rect fill=\"rgb(120,120,120)\" height=\"12\" width=\"9.024\" x=\"31\" y=\"217\"/>\n",
       "<rect fill=\"rgb(90,90,90)\" height=\"12\" width=\"8.976\" x=\"40\" y=\"217\"/>\n",
       "<rect fill=\"rgb(175,175,175)\" height=\"12\" width=\"8.128\" x=\"48\" y=\"217\"/>\n",
       "<rect fill=\"rgb(120,120,120)\" height=\"12\" width=\"9.024\" x=\"56\" y=\"217\"/>\n",
       "<rect fill=\"rgb(95,95,95)\" height=\"12\" width=\"7.664\" x=\"65\" y=\"217\"/>\n",
       "<rect fill=\"rgb(255,255,255)\" height=\"12\" width=\"4.16\" x=\"72\" y=\"217\"/>\n",
       "<rect fill=\"rgb(165,165,165)\" height=\"12\" width=\"9.888\" x=\"76\" y=\"217\"/>\n",
       "<rect fill=\"rgb(145,145,145)\" height=\"12\" width=\"9.68\" x=\"85\" y=\"217\"/>\n",
       "<rect fill=\"rgb(255,255,255)\" height=\"12\" width=\"4.16\" x=\"94\" y=\"217\"/>\n",
       "<rect fill=\"rgb(95,95,95)\" height=\"12\" width=\"7.664\" x=\"98\" y=\"217\"/>\n",
       "<rect fill=\"rgb(140,140,140)\" height=\"12\" width=\"5.776\" x=\"105\" y=\"217\"/>\n",
       "<rect fill=\"rgb(120,120,120)\" height=\"12\" width=\"9.024\" x=\"110\" y=\"217\"/>\n",
       "<rect fill=\"rgb(100,100,100)\" height=\"12\" width=\"9.84\" x=\"119\" y=\"217\"/>\n",
       "<rect fill=\"rgb(255,255,255)\" height=\"12\" width=\"4.16\" x=\"128\" y=\"217\"/>\n",
       "<rect fill=\"rgb(160,160,160)\" height=\"12\" width=\"9.888\" x=\"132\" y=\"217\"/>\n",
       "<rect fill=\"rgb(90,90,90)\" height=\"12\" width=\"8.976\" x=\"141\" y=\"217\"/>\n",
       "<rect fill=\"rgb(105,105,105)\" height=\"12\" width=\"9.84\" x=\"149\" y=\"217\"/>\n",
       "<rect fill=\"rgb(255,255,255)\" height=\"12\" width=\"4.16\" x=\"158\" y=\"217\"/>\n",
       "<rect fill=\"rgb(140,140,140)\" height=\"12\" width=\"5.776\" x=\"162\" y=\"217\"/>\n",
       "<rect fill=\"rgb(165,165,165)\" height=\"12\" width=\"6.608\" x=\"167\" y=\"217\"/>\n",
       "<rect fill=\"rgb(145,145,145)\" height=\"12\" width=\"9.68\" x=\"173\" y=\"217\"/>\n",
       "<rect fill=\"rgb(105,105,105)\" height=\"12\" width=\"9.84\" x=\"182\" y=\"217\"/>\n",
       "<rect fill=\"rgb(105,105,105)\" height=\"12\" width=\"9.84\" x=\"191\" y=\"217\"/>\n",
       "<rect fill=\"rgb(120,120,120)\" height=\"12\" width=\"9.024\" x=\"200\" y=\"217\"/>\n",
       "<rect fill=\"rgb(165,165,165)\" height=\"12\" width=\"9.888\" x=\"209\" y=\"217\"/>\n",
       "<rect fill=\"rgb(255,255,255)\" height=\"12\" width=\"4.16\" x=\"218\" y=\"217\"/>\n",
       "<rect fill=\"rgb(110,110,110)\" height=\"12\" width=\"9.84\" x=\"222\" y=\"217\"/>\n",
       "<rect fill=\"rgb(225,225,225)\" height=\"12\" width=\"4.128\" x=\"231\" y=\"217\"/>\n",
       "<rect fill=\"rgb(90,90,90)\" height=\"12\" width=\"8.976\" x=\"235\" y=\"217\"/>\n",
       "<rect fill=\"rgb(150,150,150)\" height=\"12\" width=\"7.68\" x=\"243\" y=\"217\"/>\n",
       "<rect fill=\"rgb(155,155,155)\" height=\"12\" width=\"8.544\" x=\"250\" y=\"217\"/>\n",
       "<rect fill=\"rgb(205,205,205)\" height=\"12\" width=\"4.288\" x=\"258\" y=\"217\"/>\n",
       "<rect fill=\"rgb(135,135,135)\" height=\"12\" width=\"12.496\" x=\"9\" y=\"233\"/>\n",
       "<rect fill=\"rgb(160,160,160)\" height=\"12\" width=\"9.888\" x=\"21\" y=\"233\"/>\n",
       "<rect fill=\"rgb(210,210,210)\" height=\"12\" width=\"4.288\" x=\"30\" y=\"233\"/>\n",
       "<rect fill=\"rgb(255,255,255)\" height=\"12\" width=\"4.16\" x=\"34\" y=\"233\"/>\n",
       "<rect fill=\"rgb(185,185,185)\" height=\"12\" width=\"5.424\" x=\"38\" y=\"233\"/>\n",
       "<rect fill=\"rgb(255,255,255)\" height=\"12\" width=\"4.16\" x=\"43\" y=\"233\"/>\n",
       "<rect fill=\"rgb(155,155,155)\" height=\"12\" width=\"8.544\" x=\"47\" y=\"233\"/>\n",
       "<rect fill=\"rgb(120,120,120)\" height=\"12\" width=\"9.024\" x=\"55\" y=\"233\"/>\n",
       "<rect fill=\"rgb(100,100,100)\" height=\"12\" width=\"9.84\" x=\"64\" y=\"233\"/>\n",
       "<rect fill=\"rgb(140,140,140)\" height=\"12\" width=\"5.776\" x=\"73\" y=\"233\"/>\n",
       "<rect fill=\"rgb(255,255,255)\" height=\"12\" width=\"4.16\" x=\"78\" y=\"233\"/>\n",
       "<rect fill=\"rgb(140,140,140)\" height=\"12\" width=\"5.776\" x=\"82\" y=\"233\"/>\n",
       "<rect fill=\"rgb(160,160,160)\" height=\"12\" width=\"9.888\" x=\"87\" y=\"233\"/>\n",
       "<rect fill=\"rgb(120,120,120)\" height=\"12\" width=\"9.024\" x=\"96\" y=\"233\"/>\n",
       "<rect fill=\"rgb(255,255,255)\" height=\"12\" width=\"4.16\" x=\"105\" y=\"233\"/>\n",
       "<rect fill=\"rgb(145,145,145)\" height=\"12\" width=\"5.504\" x=\"109\" y=\"233\"/>\n",
       "<rect fill=\"rgb(175,175,175)\" height=\"12\" width=\"4.128\" x=\"114\" y=\"233\"/>\n",
       "<rect fill=\"rgb(165,165,165)\" height=\"12\" width=\"6.608\" x=\"118\" y=\"233\"/>\n",
       "<rect fill=\"rgb(95,95,95)\" height=\"12\" width=\"7.664\" x=\"124\" y=\"233\"/>\n",
       "<rect fill=\"rgb(140,140,140)\" height=\"12\" width=\"5.776\" x=\"131\" y=\"233\"/>\n",
       "<rect fill=\"rgb(255,255,255)\" height=\"12\" width=\"4.16\" x=\"136\" y=\"233\"/>\n",
       "<rect fill=\"rgb(145,145,145)\" height=\"12\" width=\"5.504\" x=\"140\" y=\"233\"/>\n",
       "<rect fill=\"rgb(145,145,145)\" height=\"12\" width=\"9.68\" x=\"145\" y=\"233\"/>\n",
       "<rect fill=\"rgb(165,165,165)\" height=\"12\" width=\"6.608\" x=\"154\" y=\"233\"/>\n",
       "<rect fill=\"rgb(255,255,255)\" height=\"12\" width=\"4.16\" x=\"160\" y=\"233\"/>\n",
       "<rect fill=\"rgb(90,90,90)\" height=\"12\" width=\"8.976\" x=\"164\" y=\"233\"/>\n",
       "<rect fill=\"rgb(165,165,165)\" height=\"12\" width=\"9.888\" x=\"172\" y=\"233\"/>\n",
       "<rect fill=\"rgb(145,145,145)\" height=\"12\" width=\"9.68\" x=\"181\" y=\"233\"/>\n",
       "<rect fill=\"rgb(140,140,140)\" height=\"12\" width=\"5.776\" x=\"190\" y=\"233\"/>\n",
       "<rect fill=\"rgb(160,160,160)\" height=\"12\" width=\"9.888\" x=\"195\" y=\"233\"/>\n",
       "<rect fill=\"rgb(120,120,120)\" height=\"12\" width=\"9.024\" x=\"204\" y=\"233\"/>\n",
       "<rect fill=\"rgb(165,165,165)\" height=\"12\" width=\"6.608\" x=\"213\" y=\"233\"/>\n",
       "<rect fill=\"rgb(255,255,255)\" height=\"12\" width=\"4.16\" x=\"219\" y=\"233\"/>\n",
       "<rect fill=\"rgb(105,105,105)\" height=\"12\" width=\"9.84\" x=\"223\" y=\"233\"/>\n",
       "<rect fill=\"rgb(90,90,90)\" height=\"12\" width=\"8.976\" x=\"232\" y=\"233\"/>\n",
       "<rect fill=\"rgb(140,140,140)\" height=\"12\" width=\"8.16\" x=\"240\" y=\"233\"/>\n",
       "<rect fill=\"rgb(175,175,175)\" height=\"12\" width=\"4.304\" x=\"248\" y=\"233\"/>\n",
       "<rect fill=\"rgb(200,200,200)\" height=\"12\" width=\"9.056\" x=\"9\" y=\"249\"/>\n",
       "<rect fill=\"rgb(120,120,120)\" height=\"12\" width=\"9.024\" x=\"18\" y=\"249\"/>\n",
       "<rect fill=\"rgb(140,140,140)\" height=\"12\" width=\"5.776\" x=\"27\" y=\"249\"/>\n",
       "<rect fill=\"rgb(255,255,255)\" height=\"12\" width=\"4.16\" x=\"32\" y=\"249\"/>\n",
       "<rect fill=\"rgb(155,155,155)\" height=\"12\" width=\"8.544\" x=\"36\" y=\"249\"/>\n",
       "<rect fill=\"rgb(165,165,165)\" height=\"12\" width=\"9.888\" x=\"44\" y=\"249\"/>\n",
       "<rect fill=\"rgb(145,145,145)\" height=\"12\" width=\"9.68\" x=\"53\" y=\"249\"/>\n",
       "<rect fill=\"rgb(100,100,100)\" height=\"12\" width=\"12.576\" x=\"62\" y=\"249\"/>\n",
       "<rect fill=\"rgb(175,175,175)\" height=\"12\" width=\"4.128\" x=\"74\" y=\"249\"/>\n",
       "<rect fill=\"rgb(165,165,165)\" height=\"12\" width=\"9.888\" x=\"78\" y=\"249\"/>\n",
       "<rect fill=\"rgb(80,80,80)\" height=\"12\" width=\"9.84\" x=\"87\" y=\"249\"/>\n",
       "<rect fill=\"rgb(255,255,255)\" height=\"12\" width=\"4.16\" x=\"96\" y=\"249\"/>\n",
       "<rect fill=\"rgb(160,160,160)\" height=\"12\" width=\"9.888\" x=\"100\" y=\"249\"/>\n",
       "<rect fill=\"rgb(145,145,145)\" height=\"12\" width=\"9.68\" x=\"109\" y=\"249\"/>\n",
       "<rect fill=\"rgb(100,100,100)\" height=\"12\" width=\"12.576\" x=\"118\" y=\"249\"/>\n",
       "<rect fill=\"rgb(255,255,255)\" height=\"12\" width=\"4.16\" x=\"130\" y=\"249\"/>\n",
       "<rect fill=\"rgb(100,100,100)\" height=\"12\" width=\"12.576\" x=\"134\" y=\"249\"/>\n",
       "<rect fill=\"rgb(90,90,90)\" height=\"12\" width=\"8.976\" x=\"146\" y=\"249\"/>\n",
       "<rect fill=\"rgb(140,140,140)\" height=\"12\" width=\"8.16\" x=\"154\" y=\"249\"/>\n",
       "<rect fill=\"rgb(255,255,255)\" height=\"12\" width=\"4.16\" x=\"162\" y=\"249\"/>\n",
       "<rect fill=\"rgb(225,225,225)\" height=\"12\" width=\"4.128\" x=\"166\" y=\"249\"/>\n",
       "<rect fill=\"rgb(120,120,120)\" height=\"12\" width=\"9.024\" x=\"170\" y=\"249\"/>\n",
       "<rect fill=\"rgb(90,90,90)\" height=\"12\" width=\"8.976\" x=\"179\" y=\"249\"/>\n",
       "<rect fill=\"rgb(105,105,105)\" height=\"12\" width=\"9.84\" x=\"187\" y=\"249\"/>\n",
       "<rect fill=\"rgb(95,95,95)\" height=\"12\" width=\"7.664\" x=\"196\" y=\"249\"/>\n",
       "<rect fill=\"rgb(255,255,255)\" height=\"12\" width=\"4.16\" x=\"203\" y=\"249\"/>\n",
       "<rect fill=\"rgb(145,145,145)\" height=\"12\" width=\"9.68\" x=\"207\" y=\"249\"/>\n",
       "<rect fill=\"rgb(165,165,165)\" height=\"12\" width=\"9.888\" x=\"216\" y=\"249\"/>\n",
       "<rect fill=\"rgb(255,255,255)\" height=\"12\" width=\"4.16\" x=\"225\" y=\"249\"/>\n",
       "<rect fill=\"rgb(140,140,140)\" height=\"12\" width=\"5.776\" x=\"229\" y=\"249\"/>\n",
       "<rect fill=\"rgb(145,145,145)\" height=\"12\" width=\"9.68\" x=\"234\" y=\"249\"/>\n",
       "<rect fill=\"rgb(255,255,255)\" height=\"12\" width=\"4.16\" x=\"243\" y=\"249\"/>\n",
       "<rect fill=\"rgb(100,100,100)\" height=\"12\" width=\"12.576\" x=\"247\" y=\"249\"/>\n",
       "<rect fill=\"rgb(90,90,90)\" height=\"12\" width=\"8.976\" x=\"259\" y=\"249\"/>\n",
       "<rect fill=\"rgb(140,140,140)\" height=\"12\" width=\"8.16\" x=\"267\" y=\"249\"/>\n",
       "<rect fill=\"rgb(210,210,210)\" height=\"12\" width=\"4.288\" x=\"275\" y=\"249\"/>\n",
       "<rect fill=\"rgb(185,185,185)\" height=\"12\" width=\"5.424\" x=\"9\" y=\"265\"/>\n",
       "<rect fill=\"rgb(255,255,255)\" height=\"12\" width=\"4.16\" x=\"14\" y=\"265\"/>\n",
       "<rect fill=\"rgb(105,105,105)\" height=\"12\" width=\"9.84\" x=\"18\" y=\"265\"/>\n",
       "<rect fill=\"rgb(145,145,145)\" height=\"12\" width=\"9.68\" x=\"27\" y=\"265\"/>\n",
       "<rect fill=\"rgb(165,165,165)\" height=\"12\" width=\"9.888\" x=\"36\" y=\"265\"/>\n",
       "<rect fill=\"rgb(110,110,110)\" height=\"12\" width=\"9.84\" x=\"45\" y=\"265\"/>\n",
       "<rect fill=\"rgb(140,140,140)\" height=\"12\" width=\"5.776\" x=\"54\" y=\"265\"/>\n",
       "<rect fill=\"rgb(120,120,120)\" height=\"12\" width=\"9.024\" x=\"59\" y=\"265\"/>\n",
       "<rect fill=\"rgb(105,105,105)\" height=\"12\" width=\"9.84\" x=\"68\" y=\"265\"/>\n",
       "<rect fill=\"rgb(255,255,255)\" height=\"12\" width=\"4.16\" x=\"77\" y=\"265\"/>\n",
       "<rect fill=\"rgb(175,175,175)\" height=\"12\" width=\"4.128\" x=\"81\" y=\"265\"/>\n",
       "<rect fill=\"rgb(145,145,145)\" height=\"12\" width=\"5.504\" x=\"85\" y=\"265\"/>\n",
       "<rect fill=\"rgb(255,255,255)\" height=\"12\" width=\"4.16\" x=\"90\" y=\"265\"/>\n",
       "<rect fill=\"rgb(185,185,185)\" height=\"12\" width=\"5.424\" x=\"94\" y=\"265\"/>\n",
       "<rect fill=\"rgb(255,255,255)\" height=\"12\" width=\"4.16\" x=\"99\" y=\"265\"/>\n",
       "<rect fill=\"rgb(95,95,95)\" height=\"12\" width=\"7.664\" x=\"103\" y=\"265\"/>\n",
       "<rect fill=\"rgb(160,160,160)\" height=\"12\" width=\"9.888\" x=\"110\" y=\"265\"/>\n",
       "<rect fill=\"rgb(145,145,145)\" height=\"12\" width=\"9.68\" x=\"119\" y=\"265\"/>\n",
       "<rect fill=\"rgb(165,165,165)\" height=\"12\" width=\"9.888\" x=\"128\" y=\"265\"/>\n",
       "<rect fill=\"rgb(225,225,225)\" height=\"12\" width=\"4.128\" x=\"137\" y=\"265\"/>\n",
       "<rect fill=\"rgb(105,105,105)\" height=\"12\" width=\"9.84\" x=\"141\" y=\"265\"/>\n",
       "<rect fill=\"rgb(255,255,255)\" height=\"12\" width=\"4.16\" x=\"150\" y=\"265\"/>\n",
       "<rect fill=\"rgb(120,120,120)\" height=\"12\" width=\"9.024\" x=\"154\" y=\"265\"/>\n",
       "<rect fill=\"rgb(175,175,175)\" height=\"12\" width=\"8.128\" x=\"163\" y=\"265\"/>\n",
       "<rect fill=\"rgb(120,120,120)\" height=\"12\" width=\"9.024\" x=\"171\" y=\"265\"/>\n",
       "<rect fill=\"rgb(165,165,165)\" height=\"12\" width=\"6.608\" x=\"180\" y=\"265\"/>\n",
       "<rect fill=\"rgb(255,255,255)\" height=\"12\" width=\"4.16\" x=\"186\" y=\"265\"/>\n",
       "<rect fill=\"rgb(150,150,150)\" height=\"12\" width=\"7.68\" x=\"190\" y=\"265\"/>\n",
       "<rect fill=\"rgb(145,145,145)\" height=\"12\" width=\"9.68\" x=\"197\" y=\"265\"/>\n",
       "<rect fill=\"rgb(115,115,115)\" height=\"12\" width=\"14.96\" x=\"206\" y=\"265\"/>\n",
       "<rect fill=\"rgb(120,120,120)\" height=\"12\" width=\"9.024\" x=\"220\" y=\"265\"/>\n",
       "<rect fill=\"rgb(255,255,255)\" height=\"12\" width=\"4.16\" x=\"229\" y=\"265\"/>\n",
       "<rect fill=\"rgb(110,110,110)\" height=\"12\" width=\"9.84\" x=\"233\" y=\"265\"/>\n",
       "<rect fill=\"rgb(90,90,90)\" height=\"12\" width=\"8.976\" x=\"242\" y=\"265\"/>\n",
       "<rect fill=\"rgb(150,150,150)\" height=\"12\" width=\"7.68\" x=\"250\" y=\"265\"/>\n",
       "<rect fill=\"rgb(155,155,155)\" height=\"12\" width=\"8.544\" x=\"257\" y=\"265\"/>\n",
       "<rect fill=\"rgb(205,205,205)\" height=\"12\" width=\"4.288\" x=\"265\" y=\"265\"/>\n",
       "<rect fill=\"rgb(185,185,185)\" height=\"12\" width=\"5.424\" x=\"9\" y=\"297\"/>\n",
       "<rect fill=\"rgb(255,255,255)\" height=\"12\" width=\"4.16\" x=\"14\" y=\"297\"/>\n",
       "<rect fill=\"rgb(95,95,95)\" height=\"12\" width=\"7.664\" x=\"18\" y=\"297\"/>\n",
       "<rect fill=\"rgb(160,160,160)\" height=\"12\" width=\"9.888\" x=\"25\" y=\"297\"/>\n",
       "<rect fill=\"rgb(90,90,90)\" height=\"12\" width=\"8.976\" x=\"34\" y=\"297\"/>\n",
       "<rect fill=\"rgb(225,225,225)\" height=\"12\" width=\"4.128\" x=\"42\" y=\"297\"/>\n",
       "<rect fill=\"rgb(225,225,225)\" height=\"12\" width=\"4.128\" x=\"46\" y=\"297\"/>\n",
       "<rect fill=\"rgb(255,255,255)\" height=\"12\" width=\"4.16\" x=\"50\" y=\"297\"/>\n",
       "<rect fill=\"rgb(110,110,110)\" height=\"12\" width=\"9.84\" x=\"54\" y=\"297\"/>\n",
       "<rect fill=\"rgb(120,120,120)\" height=\"12\" width=\"9.024\" x=\"63\" y=\"297\"/>\n",
       "<rect fill=\"rgb(255,255,255)\" height=\"12\" width=\"4.16\" x=\"72\" y=\"297\"/>\n",
       "<rect fill=\"rgb(140,140,140)\" height=\"12\" width=\"5.776\" x=\"76\" y=\"297\"/>\n",
       "<rect fill=\"rgb(120,120,120)\" height=\"12\" width=\"9.024\" x=\"81\" y=\"297\"/>\n",
       "<rect fill=\"rgb(225,225,225)\" height=\"12\" width=\"4.128\" x=\"90\" y=\"297\"/>\n",
       "<rect fill=\"rgb(225,225,225)\" height=\"12\" width=\"4.128\" x=\"94\" y=\"297\"/>\n",
       "<rect fill=\"rgb(175,175,175)\" height=\"12\" width=\"4.128\" x=\"98\" y=\"297\"/>\n",
       "<rect fill=\"rgb(165,165,165)\" height=\"12\" width=\"9.888\" x=\"102\" y=\"297\"/>\n",
       "<rect fill=\"rgb(80,80,80)\" height=\"12\" width=\"9.84\" x=\"111\" y=\"297\"/>\n",
       "<rect fill=\"rgb(255,255,255)\" height=\"12\" width=\"4.16\" x=\"120\" y=\"297\"/>\n",
       "<rect fill=\"rgb(140,140,140)\" height=\"12\" width=\"5.776\" x=\"124\" y=\"297\"/>\n",
       "<rect fill=\"rgb(160,160,160)\" height=\"12\" width=\"9.888\" x=\"129\" y=\"297\"/>\n",
       "<rect fill=\"rgb(175,175,175)\" height=\"12\" width=\"4.128\" x=\"138\" y=\"297\"/>\n",
       "<rect fill=\"rgb(95,95,95)\" height=\"12\" width=\"7.664\" x=\"142\" y=\"297\"/>\n",
       "<rect fill=\"rgb(255,255,255)\" height=\"12\" width=\"4.16\" x=\"149\" y=\"297\"/>\n",
       "<rect fill=\"rgb(100,100,100)\" height=\"12\" width=\"12.576\" x=\"153\" y=\"297\"/>\n",
       "<rect fill=\"rgb(175,175,175)\" height=\"12\" width=\"4.128\" x=\"165\" y=\"297\"/>\n",
       "<rect fill=\"rgb(140,140,140)\" height=\"12\" width=\"5.776\" x=\"169\" y=\"297\"/>\n",
       "<rect fill=\"rgb(160,160,160)\" height=\"12\" width=\"9.888\" x=\"174\" y=\"297\"/>\n",
       "<rect fill=\"rgb(255,255,255)\" height=\"12\" width=\"4.16\" x=\"183\" y=\"297\"/>\n",
       "<rect fill=\"rgb(90,90,90)\" height=\"12\" width=\"8.976\" x=\"187\" y=\"297\"/>\n",
       "<rect fill=\"rgb(255,255,255)\" height=\"12\" width=\"4.16\" x=\"195\" y=\"297\"/>\n",
       "<rect fill=\"rgb(95,95,95)\" height=\"12\" width=\"7.664\" x=\"199\" y=\"297\"/>\n",
       "<rect fill=\"rgb(175,175,175)\" height=\"12\" width=\"4.128\" x=\"206\" y=\"297\"/>\n",
       "<rect fill=\"rgb(80,80,80)\" height=\"12\" width=\"9.84\" x=\"210\" y=\"297\"/>\n",
       "<rect fill=\"rgb(160,160,160)\" height=\"12\" width=\"9.888\" x=\"219\" y=\"297\"/>\n",
       "<rect fill=\"rgb(95,95,95)\" height=\"12\" width=\"8.784\" x=\"9\" y=\"313\"/>\n",
       "<rect fill=\"rgb(145,145,145)\" height=\"12\" width=\"9.68\" x=\"17\" y=\"313\"/>\n",
       "<rect fill=\"rgb(115,115,115)\" height=\"12\" width=\"14.96\" x=\"26\" y=\"313\"/>\n",
       "<rect fill=\"rgb(120,120,120)\" height=\"12\" width=\"9.024\" x=\"40\" y=\"313\"/>\n",
       "<rect fill=\"rgb(100,100,100)\" height=\"12\" width=\"12.576\" x=\"49\" y=\"313\"/>\n",
       "<rect fill=\"rgb(160,160,160)\" height=\"12\" width=\"9.888\" x=\"61\" y=\"313\"/>\n",
       "<rect fill=\"rgb(120,120,120)\" height=\"12\" width=\"9.024\" x=\"70\" y=\"313\"/>\n",
       "<rect fill=\"rgb(165,165,165)\" height=\"12\" width=\"6.608\" x=\"79\" y=\"313\"/>\n",
       "<rect fill=\"rgb(120,120,120)\" height=\"12\" width=\"9.024\" x=\"85\" y=\"313\"/>\n",
       "<rect fill=\"rgb(255,255,255)\" height=\"12\" width=\"4.16\" x=\"94\" y=\"313\"/>\n",
       "<rect fill=\"rgb(90,90,90)\" height=\"12\" width=\"8.976\" x=\"98\" y=\"313\"/>\n",
       "<rect fill=\"rgb(80,80,80)\" height=\"12\" width=\"9.84\" x=\"106\" y=\"313\"/>\n",
       "<rect fill=\"rgb(120,120,120)\" height=\"12\" width=\"9.024\" x=\"115\" y=\"313\"/>\n",
       "<rect fill=\"rgb(95,95,95)\" height=\"12\" width=\"7.664\" x=\"124\" y=\"313\"/>\n",
       "<rect fill=\"rgb(255,255,255)\" height=\"12\" width=\"4.16\" x=\"131\" y=\"313\"/>\n",
       "<rect fill=\"rgb(90,90,90)\" height=\"12\" width=\"8.976\" x=\"135\" y=\"313\"/>\n",
       "<rect fill=\"rgb(165,165,165)\" height=\"12\" width=\"9.888\" x=\"143\" y=\"313\"/>\n",
       "<rect fill=\"rgb(105,105,105)\" height=\"12\" width=\"9.84\" x=\"152\" y=\"313\"/>\n",
       "<rect fill=\"rgb(255,255,255)\" height=\"12\" width=\"4.16\" x=\"161\" y=\"313\"/>\n",
       "<rect fill=\"rgb(90,90,90)\" height=\"12\" width=\"8.976\" x=\"165\" y=\"313\"/>\n",
       "<rect fill=\"rgb(80,80,80)\" height=\"12\" width=\"9.84\" x=\"173\" y=\"313\"/>\n",
       "<rect fill=\"rgb(120,120,120)\" height=\"12\" width=\"9.024\" x=\"182\" y=\"313\"/>\n",
       "<rect fill=\"rgb(95,95,95)\" height=\"12\" width=\"7.664\" x=\"191\" y=\"313\"/>\n",
       "<rect fill=\"rgb(255,255,255)\" height=\"12\" width=\"4.16\" x=\"198\" y=\"313\"/>\n",
       "<rect fill=\"rgb(160,160,160)\" height=\"12\" width=\"9.888\" x=\"202\" y=\"313\"/>\n",
       "<rect fill=\"rgb(120,120,120)\" height=\"12\" width=\"9.024\" x=\"211\" y=\"313\"/>\n",
       "<rect fill=\"rgb(165,165,165)\" height=\"12\" width=\"9.888\" x=\"220\" y=\"313\"/>\n",
       "<rect fill=\"rgb(150,150,150)\" height=\"12\" width=\"7.68\" x=\"229\" y=\"313\"/>\n",
       "<rect fill=\"rgb(120,120,120)\" height=\"12\" width=\"9.024\" x=\"236\" y=\"313\"/>\n",
       "<rect fill=\"rgb(155,155,155)\" height=\"12\" width=\"4.288\" x=\"245\" y=\"313\"/>\n",
       "<rect fill=\"rgb(205,205,205)\" height=\"12\" width=\"8.896\" x=\"9\" y=\"329\"/>\n",
       "<rect fill=\"rgb(100,100,100)\" height=\"12\" width=\"12.576\" x=\"17\" y=\"329\"/>\n",
       "<rect fill=\"rgb(145,145,145)\" height=\"12\" width=\"9.68\" x=\"29\" y=\"329\"/>\n",
       "<rect fill=\"rgb(255,255,255)\" height=\"12\" width=\"4.16\" x=\"38\" y=\"329\"/>\n",
       "<rect fill=\"rgb(165,165,165)\" height=\"12\" width=\"6.608\" x=\"42\" y=\"329\"/>\n",
       "<rect fill=\"rgb(145,145,145)\" height=\"12\" width=\"9.68\" x=\"48\" y=\"329\"/>\n",
       "<rect fill=\"rgb(90,90,90)\" height=\"12\" width=\"8.976\" x=\"57\" y=\"329\"/>\n",
       "<rect fill=\"rgb(105,105,105)\" height=\"12\" width=\"9.84\" x=\"65\" y=\"329\"/>\n",
       "<rect fill=\"rgb(95,95,95)\" height=\"12\" width=\"7.664\" x=\"74\" y=\"329\"/>\n",
       "<rect fill=\"rgb(255,255,255)\" height=\"12\" width=\"4.16\" x=\"81\" y=\"329\"/>\n",
       "<rect fill=\"rgb(105,105,105)\" height=\"12\" width=\"9.84\" x=\"85\" y=\"329\"/>\n",
       "<rect fill=\"rgb(175,175,175)\" height=\"12\" width=\"4.128\" x=\"94\" y=\"329\"/>\n",
       "<rect fill=\"rgb(175,175,175)\" height=\"12\" width=\"8.128\" x=\"98\" y=\"329\"/>\n",
       "<rect fill=\"rgb(120,120,120)\" height=\"12\" width=\"9.024\" x=\"106\" y=\"329\"/>\n",
       "<rect fill=\"rgb(165,165,165)\" height=\"12\" width=\"6.608\" x=\"115\" y=\"329\"/>\n",
       "<rect fill=\"rgb(80,80,80)\" height=\"12\" width=\"9.84\" x=\"121\" y=\"329\"/>\n",
       "<rect fill=\"rgb(120,120,120)\" height=\"12\" width=\"9.024\" x=\"130\" y=\"329\"/>\n",
       "<rect fill=\"rgb(105,105,105)\" height=\"12\" width=\"9.84\" x=\"139\" y=\"329\"/>\n",
       "<rect fill=\"rgb(255,255,255)\" height=\"12\" width=\"4.16\" x=\"148\" y=\"329\"/>\n",
       "<rect fill=\"rgb(175,175,175)\" height=\"12\" width=\"4.128\" x=\"152\" y=\"329\"/>\n",
       "<rect fill=\"rgb(165,165,165)\" height=\"12\" width=\"9.888\" x=\"156\" y=\"329\"/>\n",
       "<rect fill=\"rgb(255,255,255)\" height=\"12\" width=\"4.16\" x=\"165\" y=\"329\"/>\n",
       "<rect fill=\"rgb(90,90,90)\" height=\"12\" width=\"8.976\" x=\"169\" y=\"329\"/>\n",
       "<rect fill=\"rgb(255,255,255)\" height=\"12\" width=\"4.16\" x=\"177\" y=\"329\"/>\n",
       "<rect fill=\"rgb(100,100,100)\" height=\"12\" width=\"12.576\" x=\"181\" y=\"329\"/>\n",
       "<rect fill=\"rgb(145,145,145)\" height=\"12\" width=\"9.68\" x=\"193\" y=\"329\"/>\n",
       "<rect fill=\"rgb(145,145,145)\" height=\"12\" width=\"9.68\" x=\"202\" y=\"329\"/>\n",
       "<rect fill=\"rgb(105,105,105)\" height=\"12\" width=\"9.84\" x=\"211\" y=\"329\"/>\n",
       "<rect fill=\"rgb(210,210,210)\" height=\"12\" width=\"4.288\" x=\"220\" y=\"329\"/>\n",
       "<rect fill=\"rgb(255,255,255)\" height=\"12\" width=\"4.16\" x=\"224\" y=\"329\"/>\n",
       "<rect fill=\"rgb(90,90,90)\" height=\"12\" width=\"8.976\" x=\"228\" y=\"329\"/>\n",
       "<rect fill=\"rgb(165,165,165)\" height=\"12\" width=\"9.888\" x=\"236\" y=\"329\"/>\n",
       "<rect fill=\"rgb(105,105,105)\" height=\"12\" width=\"9.84\" x=\"245\" y=\"329\"/>\n",
       "<rect fill=\"rgb(255,255,255)\" height=\"12\" width=\"4.16\" x=\"254\" y=\"329\"/>\n",
       "<rect fill=\"rgb(185,185,185)\" height=\"12\" width=\"5.424\" x=\"258\" y=\"329\"/>\n",
       "<rect fill=\"rgb(225,225,225)\" height=\"12\" width=\"5.152\" x=\"263\" y=\"329\"/>\n",
       "<rect fill=\"rgb(225,225,225)\" height=\"12\" width=\"5.152\" x=\"268\" y=\"329\"/>\n",
       "<rect fill=\"rgb(225,225,225)\" height=\"12\" width=\"5.152\" x=\"273\" y=\"329\"/>\n",
       "<rect fill=\"rgb(185,185,185)\" height=\"12\" width=\"5.424\" x=\"9\" y=\"345\"/>\n",
       "<rect fill=\"rgb(255,255,255)\" height=\"12\" width=\"4.16\" x=\"14\" y=\"345\"/>\n",
       "<rect fill=\"rgb(140,140,140)\" height=\"12\" width=\"5.776\" x=\"18\" y=\"345\"/>\n",
       "<rect fill=\"rgb(145,145,145)\" height=\"12\" width=\"9.68\" x=\"23\" y=\"345\"/>\n",
       "<rect fill=\"rgb(145,145,145)\" height=\"12\" width=\"9.68\" x=\"32\" y=\"345\"/>\n",
       "<rect fill=\"rgb(155,155,155)\" height=\"12\" width=\"8.544\" x=\"41\" y=\"345\"/>\n",
       "<rect fill=\"rgb(255,255,255)\" height=\"12\" width=\"4.16\" x=\"49\" y=\"345\"/>\n",
       "<rect fill=\"rgb(140,140,140)\" height=\"12\" width=\"5.776\" x=\"53\" y=\"345\"/>\n",
       "<rect fill=\"rgb(160,160,160)\" height=\"12\" width=\"9.888\" x=\"58\" y=\"345\"/>\n",
       "<rect fill=\"rgb(120,120,120)\" height=\"12\" width=\"9.024\" x=\"67\" y=\"345\"/>\n",
       "<rect fill=\"rgb(255,255,255)\" height=\"12\" width=\"4.16\" x=\"76\" y=\"345\"/>\n",
       "<rect fill=\"rgb(145,145,145)\" height=\"12\" width=\"9.68\" x=\"80\" y=\"345\"/>\n",
       "<rect fill=\"rgb(165,165,165)\" height=\"12\" width=\"9.888\" x=\"89\" y=\"345\"/>\n",
       "<rect fill=\"rgb(120,120,120)\" height=\"12\" width=\"9.024\" x=\"98\" y=\"345\"/>\n",
       "<rect fill=\"rgb(255,255,255)\" height=\"12\" width=\"4.16\" x=\"107\" y=\"345\"/>\n",
       "<rect fill=\"rgb(225,225,225)\" height=\"12\" width=\"4.128\" x=\"111\" y=\"345\"/>\n",
       "<rect fill=\"rgb(120,120,120)\" height=\"12\" width=\"9.024\" x=\"115\" y=\"345\"/>\n",
       "<rect fill=\"rgb(95,95,95)\" height=\"12\" width=\"7.664\" x=\"124\" y=\"345\"/>\n",
       "<rect fill=\"rgb(95,95,95)\" height=\"12\" width=\"7.664\" x=\"131\" y=\"345\"/>\n",
       "<rect fill=\"rgb(255,255,255)\" height=\"12\" width=\"4.16\" x=\"138\" y=\"345\"/>\n",
       "<rect fill=\"rgb(140,140,140)\" height=\"12\" width=\"5.776\" x=\"142\" y=\"345\"/>\n",
       "<rect fill=\"rgb(165,165,165)\" height=\"12\" width=\"6.608\" x=\"147\" y=\"345\"/>\n",
       "<rect fill=\"rgb(90,90,90)\" height=\"12\" width=\"8.976\" x=\"153\" y=\"345\"/>\n",
       "<rect fill=\"rgb(175,175,175)\" height=\"12\" width=\"8.128\" x=\"161\" y=\"345\"/>\n",
       "<rect fill=\"rgb(120,120,120)\" height=\"12\" width=\"9.024\" x=\"169\" y=\"345\"/>\n",
       "<rect fill=\"rgb(225,225,225)\" height=\"12\" width=\"4.128\" x=\"178\" y=\"345\"/>\n",
       "<rect fill=\"rgb(225,225,225)\" height=\"12\" width=\"4.128\" x=\"182\" y=\"345\"/>\n",
       "<rect fill=\"rgb(120,120,120)\" height=\"12\" width=\"9.024\" x=\"186\" y=\"345\"/>\n",
       "<rect fill=\"rgb(105,105,105)\" height=\"12\" width=\"9.84\" x=\"195\" y=\"345\"/>\n",
       "<rect fill=\"rgb(255,255,255)\" height=\"12\" width=\"4.16\" x=\"204\" y=\"345\"/>\n",
       "<rect fill=\"rgb(110,110,110)\" height=\"12\" width=\"9.84\" x=\"208\" y=\"345\"/>\n",
       "<rect fill=\"rgb(140,140,140)\" height=\"12\" width=\"8.16\" x=\"217\" y=\"345\"/>\n",
       "<rect fill=\"rgb(210,210,210)\" height=\"12\" width=\"4.288\" x=\"225\" y=\"345\"/>\n",
       "<rect fill=\"rgb(155,155,155)\" height=\"12\" width=\"10.224\" x=\"9\" y=\"361\"/>\n",
       "<rect fill=\"rgb(165,165,165)\" height=\"12\" width=\"9.888\" x=\"19\" y=\"361\"/>\n",
       "<rect fill=\"rgb(105,105,105)\" height=\"12\" width=\"9.84\" x=\"28\" y=\"361\"/>\n",
       "<rect fill=\"rgb(255,255,255)\" height=\"12\" width=\"4.16\" x=\"37\" y=\"361\"/>\n",
       "<rect fill=\"rgb(140,140,140)\" height=\"12\" width=\"5.776\" x=\"41\" y=\"361\"/>\n",
       "<rect fill=\"rgb(160,160,160)\" height=\"12\" width=\"9.888\" x=\"46\" y=\"361\"/>\n",
       "<rect fill=\"rgb(90,90,90)\" height=\"12\" width=\"8.976\" x=\"55\" y=\"361\"/>\n",
       "<rect fill=\"rgb(140,140,140)\" height=\"12\" width=\"5.776\" x=\"63\" y=\"361\"/>\n",
       "<rect fill=\"rgb(255,255,255)\" height=\"12\" width=\"4.16\" x=\"68\" y=\"361\"/>\n",
       "<rect fill=\"rgb(160,160,160)\" height=\"12\" width=\"9.888\" x=\"72\" y=\"361\"/>\n",
       "<rect fill=\"rgb(90,90,90)\" height=\"12\" width=\"8.976\" x=\"81\" y=\"361\"/>\n",
       "<rect fill=\"rgb(95,95,95)\" height=\"12\" width=\"7.664\" x=\"89\" y=\"361\"/>\n",
       "<rect fill=\"rgb(255,255,255)\" height=\"12\" width=\"4.16\" x=\"96\" y=\"361\"/>\n",
       "<rect fill=\"rgb(115,115,115)\" height=\"12\" width=\"14.96\" x=\"100\" y=\"361\"/>\n",
       "<rect fill=\"rgb(90,90,90)\" height=\"12\" width=\"8.976\" x=\"114\" y=\"361\"/>\n",
       "<rect fill=\"rgb(105,105,105)\" height=\"12\" width=\"9.84\" x=\"122\" y=\"361\"/>\n",
       "<rect fill=\"rgb(120,120,120)\" height=\"12\" width=\"9.024\" x=\"131\" y=\"361\"/>\n",
       "<rect fill=\"rgb(255,255,255)\" height=\"12\" width=\"4.16\" x=\"140\" y=\"361\"/>\n",
       "<rect fill=\"rgb(90,90,90)\" height=\"12\" width=\"8.976\" x=\"144\" y=\"361\"/>\n",
       "<rect fill=\"rgb(225,225,225)\" height=\"12\" width=\"4.128\" x=\"152\" y=\"361\"/>\n",
       "<rect fill=\"rgb(225,225,225)\" height=\"12\" width=\"4.128\" x=\"156\" y=\"361\"/>\n",
       "<rect fill=\"rgb(255,255,255)\" height=\"12\" width=\"4.16\" x=\"160\" y=\"361\"/>\n",
       "<rect fill=\"rgb(140,140,140)\" height=\"12\" width=\"5.776\" x=\"164\" y=\"361\"/>\n",
       "<rect fill=\"rgb(160,160,160)\" height=\"12\" width=\"9.888\" x=\"169\" y=\"361\"/>\n",
       "<rect fill=\"rgb(120,120,120)\" height=\"12\" width=\"9.024\" x=\"178\" y=\"361\"/>\n",
       "<rect fill=\"rgb(255,255,255)\" height=\"12\" width=\"4.16\" x=\"187\" y=\"361\"/>\n",
       "<rect fill=\"rgb(105,105,105)\" height=\"12\" width=\"9.84\" x=\"191\" y=\"361\"/>\n",
       "<rect fill=\"rgb(175,175,175)\" height=\"12\" width=\"4.128\" x=\"200\" y=\"361\"/>\n",
       "<rect fill=\"rgb(145,145,145)\" height=\"12\" width=\"5.504\" x=\"204\" y=\"361\"/>\n",
       "<rect fill=\"rgb(145,145,145)\" height=\"12\" width=\"5.504\" x=\"209\" y=\"361\"/>\n",
       "<rect fill=\"rgb(120,120,120)\" height=\"12\" width=\"9.024\" x=\"214\" y=\"361\"/>\n",
       "<rect fill=\"rgb(165,165,165)\" height=\"12\" width=\"6.608\" x=\"223\" y=\"361\"/>\n",
       "<rect fill=\"rgb(120,120,120)\" height=\"12\" width=\"9.024\" x=\"229\" y=\"361\"/>\n",
       "<rect fill=\"rgb(165,165,165)\" height=\"12\" width=\"9.888\" x=\"238\" y=\"361\"/>\n",
       "<rect fill=\"rgb(150,150,150)\" height=\"12\" width=\"7.68\" x=\"247\" y=\"361\"/>\n",
       "<rect fill=\"rgb(120,120,120)\" height=\"12\" width=\"9.024\" x=\"254\" y=\"361\"/>\n",
       "<rect fill=\"rgb(205,205,205)\" height=\"12\" width=\"4.288\" x=\"263\" y=\"361\"/>\n",
       "</svg>"
      ],
      "text/plain": [
       "<IPython.core.display.SVG object>"
      ]
     },
     "metadata": {},
     "output_type": "display_data"
    }
   ],
   "source": [
    "width = 360 # 5in\n",
    "height = 288 # 4in\n",
    "border = 9 # 1/8in\n",
    "lineheight = 16 # size of each line\n",
    "rectsize = 12 # size of each rectangle\n",
    "page = document(width, height, 'pt').addpage()\n",
    "yoff = border  \n",
    "xoff = border\n",
    "for line in open(\"frost.txt\"):\n",
    "    line = line.strip() # remove trailing whitespace\n",
    "    for ch in line:\n",
    "        path_len = len(glyphcommands(f, ch).commands)\n",
    "        val = 255 - (path_len * 5)\n",
    "        advance = advancefor(f, ch) / f.density * lineheight\n",
    "        brush = shape().nostroke().fill(rgb(val, val, val))\n",
    "        page.place(brush.rectangle(xoff, yoff, advance, rectsize))\n",
    "        xoff += int(advance)\n",
    "    xoff = border\n",
    "    yoff += lineheight\n",
    "show(page)"
   ]
  },
  {
   "cell_type": "markdown",
   "metadata": {},
   "source": [
    "### Rendering a string \"by hand\"\n",
    "\n",
    "Using `glyphcommands()` and `advancefor()`, you can draw an entire string on the screen. The most simple technique to render a string of characters in a Roman-derived alphabet (like English):\n",
    "\n",
    "* Keep track of the current cursor position.\n",
    "* For each character in the string:\n",
    "  * Draw the glyph associated with this character at the current cursor position.\n",
    "  * Move the current cursor position to the right by the amount of the character's advance.\n",
    "\n",
    "It should be noted that there are many important drawbacks to this approach:\n",
    "\n",
    "* It only works with left-to-right writing\n",
    "* Doesn't take into account kerning, ligatures, etc.\n",
    "\n",
    "Even with simple left-to-right alphabets, there's more to think about than what we've implemented here. For example, this approach doesn't handle things like text alignment, line breaks, margins, indentation, etc. Still, this is a good starting point.\n",
    "\n",
    "> The task of taking a sequence of characters and turning it into a sequence of glyphs is called \"text shaping,\" and it's a very complicated process, moreso for scripts like Arabic that rely heavily on ligatures. [HarfBuzz](https://en.wikipedia.org/wiki/HarfBuzz) is a well-known open source library for doing text shaping, and it has [Python bindings](https://github.com/harfbuzz/uharfbuzz).\n",
    "\n",
    "#### One character at a time\n",
    "\n",
    "The code below implements this simple string layout procedure. It moves the pen by the character's advance on the x axis and draws the next character at the new position, using `translate()` to translate the path commands to the appropriate place."
   ]
  },
  {
   "cell_type": "code",
   "execution_count": 44,
   "metadata": {},
   "outputs": [],
   "source": [
    "s = \"quartzy foxes\""
   ]
  },
  {
   "cell_type": "code",
   "execution_count": 45,
   "metadata": {},
   "outputs": [
    {
     "data": {
      "image/svg+xml": [
       "<svg height=\"90pt\" version=\"1.1\" width=\"300pt\" xmlns=\"http://www.w3.org/2000/svg\" xmlns:xlink=\"http://www.w3.org/1999/xlink\">\n",
       "<title>Untitled</title>\n",
       "<path d=\"M19.08,68.64 L15.912,68.64 L15.912,60.396 Q15.912,59.748,15.948,58.884 Q15.984,58.02,16.092,57.408 L15.876,57.408 Q15.048,58.632,13.59,59.496 Q12.132,60.36,9.828,60.36 Q6.336,60.36,4.158,57.858 Q1.98,55.356,1.98,50.388 Q1.98,45.42,4.194,42.882 Q6.408,40.344,9.936,40.344 Q12.204,40.344,13.644,41.208 Q15.084,42.072,15.948,43.332 L16.092,43.332 L16.56,40.704 L19.08,40.704 L19.08,68.64 z M6.516,55.806 Q7.776,57.732,10.44,57.732 Q13.392,57.732,14.652,56.094 Q15.912,54.456,15.948,51.072 L15.948,50.424 Q15.948,46.752,14.724,44.862 Q13.5,42.972,10.368,42.972 Q7.776,42.972,6.516,45.006 Q5.256,47.04,5.256,50.46 Q5.256,53.88,6.516,55.806 z\" fill=\"rgba(0,0,0,0.502)\" stroke=\"rgba(0,0,0,1)\" stroke-miterlimit=\"10\"/>\n",
       "<path d=\"M38.16,40.704 L41.328,40.704 L41.328,60 L38.736,60 L38.268,57.444 L38.124,57.444 Q37.188,58.956,35.532,59.658 Q33.876,60.36,32.004,60.36 Q28.512,60.36,26.748,58.686 Q24.984,57.012,24.984,53.34 L24.984,40.704 L28.188,40.704 L28.188,53.124 Q28.188,57.732,32.472,57.732 Q35.676,57.732,36.918,55.932 Q38.16,54.132,38.16,50.748 L38.16,40.704 z\" fill=\"rgba(0,0,0,0.502)\" stroke=\"rgba(0,0,0,1)\" stroke-miterlimit=\"10\"/>\n",
       "<path d=\"M51.156,40.866 Q52.884,40.38,54.756,40.38 Q58.284,40.38,59.976,41.928 Q61.668,43.476,61.668,46.86 L61.668,60 L59.364,60 L58.752,57.264 L58.608,57.264 Q57.348,58.848,55.944,59.604 Q54.54,60.36,52.128,60.36 Q49.5,60.36,47.772,58.974 Q46.044,57.588,46.044,54.636 Q46.044,51.756,48.312,50.19 Q50.58,48.624,55.296,48.48 L58.572,48.372 L58.572,47.22 Q58.572,44.808,57.528,43.872 Q56.484,42.936,54.576,42.936 Q53.064,42.936,51.696,43.386 Q50.328,43.836,49.14,44.412 L48.168,42.036 Q49.428,41.352,51.156,40.866 z M58.536,52.296 L58.536,50.568 L55.692,50.676 Q52.092,50.82,50.706,51.828 Q49.32,52.836,49.32,54.672 Q49.32,56.292,50.31,57.048 Q51.3,57.804,52.848,57.804 Q55.26,57.804,56.898,56.454 Q58.536,55.104,58.536,52.296 z\" fill=\"rgba(0,0,0,0.502)\" stroke=\"rgba(0,0,0,1)\" stroke-miterlimit=\"10\"/>\n",
       "<path d=\"M73.134,41.496 Q74.628,40.344,76.644,40.344 Q77.184,40.344,77.796,40.398 Q78.408,40.452,78.912,40.56 L78.516,43.476 Q78.048,43.368,77.472,43.296 Q76.896,43.224,76.428,43.224 Q74.952,43.224,73.656,44.034 Q72.36,44.844,71.586,46.302 Q70.812,47.76,70.812,49.704 L70.812,60 L67.644,60 L67.644,40.704 L70.236,40.704 L70.596,44.232 L70.74,44.232 Q71.64,42.648,73.134,41.496 z\" fill=\"rgba(0,0,0,0.502)\" stroke=\"rgba(0,0,0,1)\" stroke-miterlimit=\"10\"/>\n",
       "<path d=\"M86.778,56.922 Q87.624,57.768,88.956,57.768 Q89.676,57.768,90.432,57.66 Q91.188,57.552,91.656,57.372 L91.656,59.784 Q91.152,60.036,90.216,60.198 Q89.28,60.36,88.416,60.36 Q86.904,60.36,85.626,59.838 Q84.348,59.316,83.556,58.02 Q82.764,56.724,82.764,54.384 L82.764,43.152 L80.028,43.152 L80.028,41.64 L82.8,40.38 L84.06,36.276 L85.932,36.276 L85.932,40.704 L91.512,40.704 L91.512,43.152 L85.932,43.152 L85.932,54.312 Q85.932,56.076,86.778,56.922 z\" fill=\"rgba(0,0,0,0.502)\" stroke=\"rgba(0,0,0,1)\" stroke-miterlimit=\"10\"/>\n",
       "<path d=\"M107.964,57.552 L107.964,60 L93.852,60 L93.852,57.912 L104.22,43.152 L94.464,43.152 L94.464,40.704 L107.712,40.704 L107.712,43.08 L97.488,57.552 L107.964,57.552 z\" fill=\"rgba(0,0,0,0.502)\" stroke=\"rgba(0,0,0,1)\" stroke-miterlimit=\"10\"/>\n",
       "<path d=\"M117.18,60.072 L109.404,40.704 L112.788,40.704 L116.964,51.684 Q117.504,53.16,117.936,54.456 Q118.368,55.752,118.584,56.94 L118.728,56.94 Q118.944,56.04,119.412,54.582 Q119.88,53.124,120.384,51.648 L124.308,40.704 L127.728,40.704 L119.412,62.664 Q118.368,65.4,116.784,67.02 Q115.2,68.64,112.392,68.64 Q111.528,68.64,110.88,68.55 Q110.232,68.46,109.764,68.352 L109.764,65.832 Q110.16,65.904,110.718,65.976 Q111.276,66.048,111.888,66.048 Q113.544,66.048,114.552,65.112 Q115.56,64.176,116.172,62.628 L117.18,60.072 z\" fill=\"rgba(0,0,0,0.502)\" stroke=\"rgba(0,0,0,1)\" stroke-miterlimit=\"10\"/>\n",
       "<path d=\"\" fill=\"rgba(0,0,0,0.502)\" stroke=\"rgba(0,0,0,1)\" stroke-miterlimit=\"10\"/>\n",
       "<path d=\"M149.04,40.704 L149.04,43.152 L144.18,43.152 L144.18,60 L141.012,60 L141.012,43.152 L137.628,43.152 L137.628,41.676 L141.012,40.596 L141.012,39.48 Q141.012,35.736,142.65,34.098 Q144.288,32.46,147.276,32.46 Q148.392,32.46,149.364,32.658 Q150.336,32.856,151.02,33.108 L150.192,35.592 Q149.616,35.412,148.86,35.232 Q148.104,35.052,147.312,35.052 Q145.728,35.052,144.954,36.114 Q144.18,37.176,144.18,39.444 L144.18,40.704 L149.04,40.704 z\" fill=\"rgba(0,0,0,0.502)\" stroke=\"rgba(0,0,0,1)\" stroke-miterlimit=\"10\"/>\n",
       "<path d=\"M168.174,44.898 Q169.308,47.112,169.308,50.316 Q169.308,55.104,166.878,57.732 Q164.448,60.36,160.308,60.36 Q157.752,60.36,155.754,59.19 Q153.756,58.02,152.604,55.77 Q151.452,53.52,151.452,50.316 Q151.452,45.528,153.846,42.936 Q156.24,40.344,160.416,40.344 Q163.008,40.344,165.024,41.514 Q167.04,42.684,168.174,44.898 z M156.06,44.952 Q154.728,46.896,154.728,50.316 Q154.728,53.736,156.078,55.734 Q157.428,57.732,160.38,57.732 Q163.296,57.732,164.664,55.734 Q166.032,53.736,166.032,50.316 Q166.032,46.896,164.664,44.952 Q163.296,43.008,160.344,43.008 Q157.392,43.008,156.06,44.952 z\" fill=\"rgba(0,0,0,0.502)\" stroke=\"rgba(0,0,0,1)\" stroke-miterlimit=\"10\"/>\n",
       "<path d=\"M171.9,60 L178.884,50.136 L172.224,40.704 L175.824,40.704 L180.792,47.976 L185.724,40.704 L189.288,40.704 L182.628,50.136 L189.648,60 L186.048,60 L180.792,52.296 L175.464,60 L171.9,60 z\" fill=\"rgba(0,0,0,0.502)\" stroke=\"rgba(0,0,0,1)\" stroke-miterlimit=\"10\"/>\n",
       "<path d=\"M196.326,41.568 Q198.252,40.344,200.808,40.344 Q203.256,40.344,205.056,41.424 Q206.856,42.504,207.81,44.466 Q208.764,46.428,208.764,49.056 L208.764,50.964 L195.552,50.964 Q195.624,54.24,197.226,55.95 Q198.828,57.66,201.708,57.66 Q203.544,57.66,204.966,57.318 Q206.388,56.976,207.9,56.328 L207.9,59.1 Q206.424,59.748,204.984,60.054 Q203.544,60.36,201.564,60.36 Q198.792,60.36,196.704,59.244 Q194.616,58.128,193.446,55.932 Q192.276,53.736,192.276,50.496 Q192.276,47.328,193.338,45.06 Q194.4,42.792,196.326,41.568 z M204.3,44.466 Q203.184,42.936,200.772,42.936 Q198.504,42.936,197.19,44.394 Q195.876,45.852,195.624,48.444 L205.452,48.444 Q205.416,45.996,204.3,44.466 z\" fill=\"rgba(0,0,0,0.502)\" stroke=\"rgba(0,0,0,1)\" stroke-miterlimit=\"10\"/>\n",
       "<path d=\"M225.54,52.098 Q226.224,53.124,226.224,54.672 Q226.224,57.48,224.136,58.92 Q222.048,60.36,218.52,60.36 Q216.504,60.36,215.046,60.036 Q213.588,59.712,212.472,59.136 L212.472,56.256 Q213.624,56.832,215.262,57.318 Q216.9,57.804,218.592,57.804 Q221.004,57.804,222.084,57.03 Q223.164,56.256,223.164,54.96 Q223.164,54.24,222.768,53.664 Q222.372,53.088,221.346,52.512 Q220.32,51.936,218.412,51.216 Q216.54,50.496,215.208,49.776 Q213.876,49.056,213.156,48.048 Q212.436,47.04,212.436,45.456 Q212.436,43.008,214.434,41.676 Q216.432,40.344,219.672,40.344 Q221.436,40.344,222.966,40.704 Q224.496,41.064,225.828,41.64 L224.748,44.16 Q223.524,43.656,222.192,43.296 Q220.86,42.936,219.456,42.936 Q217.512,42.936,216.486,43.566 Q215.46,44.196,215.46,45.276 Q215.46,46.104,215.928,46.644 Q216.396,47.184,217.494,47.724 Q218.592,48.264,220.428,48.948 Q222.264,49.632,223.56,50.352 Q224.856,51.072,225.54,52.098 z\" fill=\"rgba(0,0,0,0.502)\" stroke=\"rgba(0,0,0,1)\" stroke-miterlimit=\"10\"/>\n",
       "</svg>"
      ],
      "text/plain": [
       "<IPython.core.display.SVG object>"
      ]
     },
     "metadata": {},
     "output_type": "display_data"
    }
   ],
   "source": [
    "page = document(300, 90, 'pt').addpage()\n",
    "pen = shape().stroke(rgba(0, 0, 0, 255)).fill(rgba(0, 0, 0, 128))\n",
    "factor = 36 / f.density\n",
    "cx = 0\n",
    "for ch in s:\n",
    "    glyph_path = glyphcommands(f, ch).scale(factor).translate(cx, 60)\n",
    "    page.place(pen.path(glyph_path))\n",
    "    cx += advancefor(f, ch) * factor\n",
    "show(page)"
   ]
  },
  {
   "cell_type": "markdown",
   "metadata": {},
   "source": [
    "Because we're drawing one character at a time, we can introduce some random variation to the character positions and scale:"
   ]
  },
  {
   "cell_type": "code",
   "execution_count": 46,
   "metadata": {},
   "outputs": [
    {
     "data": {
      "image/svg+xml": [
       "<svg height=\"90pt\" version=\"1.1\" width=\"300pt\" xmlns=\"http://www.w3.org/2000/svg\" xmlns:xlink=\"http://www.w3.org/1999/xlink\">\n",
       "<title>Untitled</title>\n",
       "<path d=\"M20.1398,66.2489 L16.4857,66.2489 L16.4857,56.7401 Q16.4857,55.9926,16.5272,54.9961 Q16.5688,53.9995,16.6933,53.2936 L16.4442,53.2936 Q15.4892,54.7054,13.8075,55.702 Q12.1258,56.6985,9.4682,56.6985 Q5.4405,56.6985,2.9283,53.8127 Q0.4161,50.9268,0.4161,45.1965 Q0.4161,39.4663,2.9698,36.5389 Q5.5235,33.6115,9.5928,33.6115 Q12.2088,33.6115,13.8697,34.608 Q15.5307,35.6046,16.5272,37.0579 L16.6933,37.0579 L17.2331,34.0267 L20.1398,34.0267 L20.1398,66.2489 z M5.6481,51.4458 Q7.1014,53.6673,10.1741,53.6673 Q13.5791,53.6673,15.0324,51.778 Q16.4857,49.8887,16.5272,45.9855 L16.5272,45.2381 Q16.5272,41.0027,15.1154,38.8227 Q13.7036,36.6427,10.0911,36.6427 Q7.1014,36.6427,5.6481,38.9888 Q4.1948,41.3348,4.1948,45.2796 Q4.1948,49.2243,5.6481,51.4458 z\" fill=\"rgba(0,0,0,0.502)\" stroke=\"rgba(0,0,0,1)\" stroke-miterlimit=\"10\"/>\n",
       "<path d=\"M46.4943,43.2531 L50.578,43.2531 L50.578,68.1269 L47.2368,68.1269 L46.6335,64.832 L46.4479,64.832 Q45.2413,66.7811,43.1066,67.686 Q40.9719,68.5909,38.5588,68.5909 Q34.0574,68.5909,31.7835,66.433 Q29.5096,64.2751,29.5096,59.5417 L29.5096,43.2531 L33.6397,43.2531 L33.6397,59.2632 Q33.6397,65.2033,39.1621,65.2033 Q43.2922,65.2033,44.8933,62.8829 Q46.4943,60.5626,46.4943,56.2004 L46.4943,43.2531 z\" fill=\"rgba(0,0,0,0.502)\" stroke=\"rgba(0,0,0,1)\" stroke-miterlimit=\"10\"/>\n",
       "<path d=\"M55.5057,34.5363 Q57.6533,33.9323,59.98,33.9323 Q64.3649,33.9323,66.4678,35.8562 Q68.5708,37.7802,68.5708,41.9861 L68.5708,58.3175 L65.7072,58.3175 L64.9465,54.917 L64.7676,54.917 Q63.2015,56.8857,61.4565,57.8253 Q59.7115,58.7649,56.7137,58.7649 Q53.4475,58.7649,51.2998,57.0423 Q49.1521,55.3197,49.1521,51.6507 Q49.1521,48.0712,51.9709,46.1249 Q54.7898,44.1785,60.6512,43.9996 L64.7228,43.8653 L64.7228,42.4335 Q64.7228,39.4357,63.4253,38.2724 Q62.1277,37.1091,59.7563,37.1091 Q57.8771,37.1091,56.1768,37.6684 Q54.4766,38.2276,53,38.9435 L51.792,35.9905 Q53.358,35.1403,55.5057,34.5363 z M64.6781,48.7424 L64.6781,46.5947 L61.1433,46.7289 Q56.669,46.9079,54.9464,48.1607 Q53.2237,49.4135,53.2237,51.6954 Q53.2237,53.7089,54.4542,54.6485 Q55.6846,55.5881,57.6086,55.5881 Q60.6064,55.5881,62.6422,53.9102 Q64.6781,52.2324,64.6781,48.7424 z\" fill=\"rgba(0,0,0,0.502)\" stroke=\"rgba(0,0,0,1)\" stroke-miterlimit=\"10\"/>\n",
       "<path d=\"M78.8058,48.7296 Q80.3128,47.5676,82.3462,47.5676 Q82.8909,47.5676,83.5082,47.6221 Q84.1255,47.6765,84.6338,47.7855 L84.2344,50.7267 Q83.7624,50.6178,83.1814,50.5452 Q82.6004,50.4725,82.1284,50.4725 Q80.6396,50.4725,79.3324,51.2895 Q78.0251,52.1065,77.2445,53.5772 Q76.4638,55.0478,76.4638,57.0086 L76.4638,67.3937 L73.2683,67.3937 L73.2683,47.9307 L75.8828,47.9307 L76.2459,51.4893 L76.3911,51.4893 Q77.2989,49.8915,78.8058,48.7296 z\" fill=\"rgba(0,0,0,0.502)\" stroke=\"rgba(0,0,0,1)\" stroke-miterlimit=\"10\"/>\n",
       "<path d=\"M86.3119,53.3193 Q87.0993,54.1067,88.3392,54.1067 Q89.0094,54.1067,89.7131,54.0062 Q90.4168,53.9057,90.8524,53.7381 L90.8524,55.9833 Q90.3833,56.2178,89.512,56.3686 Q88.6408,56.5194,87.8366,56.5194 Q86.4292,56.5194,85.2396,56.0335 Q84.05,55.5476,83.3128,54.3413 Q82.5756,53.135,82.5756,50.9568 L82.5756,40.5019 L80.0288,40.5019 L80.0288,39.0945 L82.6091,37.9216 L83.7819,34.1015 L85.5244,34.1015 L85.5244,38.2232 L90.7184,38.2232 L90.7184,40.5019 L85.5244,40.5019 L85.5244,50.8898 Q85.5244,52.5318,86.3119,53.3193 z\" fill=\"rgba(0,0,0,0.502)\" stroke=\"rgba(0,0,0,1)\" stroke-miterlimit=\"10\"/>\n",
       "<path d=\"M115.1904,50.7409 L115.1904,54.054 L96.0916,54.054 L96.0916,51.2281 L110.1234,31.2523 L96.9198,31.2523 L96.9198,27.9392 L114.8494,27.9392 L114.8494,31.1548 L101.0125,50.7409 L115.1904,50.7409 z\" fill=\"rgba(0,0,0,0.502)\" stroke=\"rgba(0,0,0,1)\" stroke-miterlimit=\"10\"/>\n",
       "<path d=\"M112.6507,58.6706 L104.6621,38.7731 L108.1386,38.7731 L112.4288,50.0533 Q112.9835,51.5696,113.4274,52.901 Q113.8712,54.2325,114.0931,55.4529 L114.241,55.4529 Q114.4629,54.5283,114.9437,53.0305 Q115.4245,51.5326,115.9423,50.0163 L119.9735,38.7731 L123.487,38.7731 L114.9437,61.3334 Q113.8712,64.1442,112.2439,65.8085 Q110.6166,67.4728,107.7318,67.4728 Q106.8442,67.4728,106.1785,67.3803 Q105.5128,67.2879,105.032,67.1769 L105.032,64.588 Q105.4388,64.662,106.012,64.736 Q106.5853,64.8099,107.214,64.8099 Q108.9153,64.8099,109.9508,63.8483 Q110.9864,62.8867,111.6151,61.2964 L112.6507,58.6706 z\" fill=\"rgba(0,0,0,0.502)\" stroke=\"rgba(0,0,0,1)\" stroke-miterlimit=\"10\"/>\n",
       "<path d=\"\" fill=\"rgba(0,0,0,0.502)\" stroke=\"rgba(0,0,0,1)\" stroke-miterlimit=\"10\"/>\n",
       "<path d=\"M142.2304,32.7461 L142.2304,35.3448 L137.0713,35.3448 L137.0713,53.2296 L133.7083,53.2296 L133.7083,35.3448 L130.1161,35.3448 L130.1161,33.778 L133.7083,32.6315 L133.7083,31.4468 Q133.7083,27.4724,135.4472,25.7336 Q137.186,23.9948,140.3578,23.9948 Q141.5425,23.9948,142.5743,24.205 Q143.6061,24.4152,144.3322,24.6827 L143.4533,27.3195 Q142.8418,27.1285,142.0393,26.9374 Q141.2368,26.7463,140.396,26.7463 Q138.7146,26.7463,137.8929,27.8737 Q137.0713,29.001,137.0713,31.4086 L137.0713,32.7461 L142.2304,32.7461 z\" fill=\"rgba(0,0,0,0.502)\" stroke=\"rgba(0,0,0,1)\" stroke-miterlimit=\"10\"/>\n",
       "<path d=\"M169.1681,41.7178 Q170.3344,43.9948,170.3344,47.2899 Q170.3344,52.2141,167.8353,54.9169 Q165.3361,57.6197,161.0784,57.6197 Q158.4497,57.6197,156.3948,56.4164 Q154.34,55.2131,153.1552,52.8991 Q151.9704,50.5851,151.9704,47.2899 Q151.9704,42.3657,154.4325,39.7 Q156.8946,37.0343,161.1894,37.0343 Q163.8552,37.0343,165.9285,38.2376 Q168.0019,39.4408,169.1681,41.7178 z M156.7095,41.7734 Q155.3396,43.7727,155.3396,47.2899 Q155.3396,50.8072,156.728,52.8621 Q158.1164,54.9169,161.1524,54.9169 Q164.1514,54.9169,165.5583,52.8621 Q166.9652,50.8072,166.9652,47.2899 Q166.9652,43.7727,165.5583,41.7734 Q164.1514,39.7741,161.1154,39.7741 Q158.0794,39.7741,156.7095,41.7734 z\" fill=\"rgba(0,0,0,0.502)\" stroke=\"rgba(0,0,0,1)\" stroke-miterlimit=\"10\"/>\n",
       "<path d=\"M171.0749,60.7071 L176.4103,53.1715 L171.3224,45.9659 L174.0726,45.9659 L177.8679,51.5213 L181.6357,45.9659 L184.3585,45.9659 L179.2706,53.1715 L184.6335,60.7071 L181.8833,60.7071 L177.8679,54.8216 L173.7976,60.7071 L171.0749,60.7071 z\" fill=\"rgba(0,0,0,0.502)\" stroke=\"rgba(0,0,0,1)\" stroke-miterlimit=\"10\"/>\n",
       "<path d=\"M196.3148,40.0382 Q198.7722,38.4765,202.0334,38.4765 Q205.1568,38.4765,207.4534,39.8545 Q209.75,41.2324,210.9672,43.7358 Q212.1844,46.2391,212.1844,49.5921 L212.1844,52.0265 L195.3273,52.0265 Q195.4191,56.2064,197.4631,58.3882 Q199.5071,60.57,203.1817,60.57 Q205.5242,60.57,207.3386,60.1336 Q209.1529,59.6972,211.0821,58.8705 L211.0821,62.4073 Q209.1988,63.234,207.3615,63.6245 Q205.5242,64.0149,202.998,64.0149 Q199.4612,64.0149,196.7971,62.591 Q194.133,61.1671,192.6402,58.3652 Q191.1474,55.5633,191.1474,51.4294 Q191.1474,47.3874,192.5024,44.4936 Q193.8574,41.5999,196.3148,40.0382 z M206.4888,43.7358 Q205.0649,41.7836,201.9875,41.7836 Q199.0937,41.7836,197.4172,43.6439 Q195.7407,45.5041,195.4191,48.8113 L207.9587,48.8113 Q207.9127,45.6879,206.4888,43.7358 z\" fill=\"rgba(0,0,0,0.502)\" stroke=\"rgba(0,0,0,1)\" stroke-miterlimit=\"10\"/>\n",
       "<path d=\"M223.4062,52.678 Q224.2182,53.8959,224.2182,55.7334 Q224.2182,59.0667,221.7396,60.776 Q219.2611,62.4854,215.0732,62.4854 Q212.6801,62.4854,210.9494,62.1008 Q209.2187,61.7162,207.8939,61.0324 L207.8939,57.6137 Q209.2614,58.2975,211.2058,58.8744 Q213.1502,59.4513,215.1586,59.4513 Q218.0218,59.4513,219.3038,58.5325 Q220.5858,57.6137,220.5858,56.0753 Q220.5858,55.2206,220.1158,54.5369 Q219.6457,53.8532,218.4278,53.1694 Q217.2099,52.4857,214.945,51.631 Q212.7228,50.7763,211.1417,49.9217 Q209.5605,49.067,208.7059,47.8704 Q207.8512,46.6739,207.8512,44.7936 Q207.8512,41.8877,210.2229,40.3066 Q212.5946,38.7254,216.4407,38.7254 Q218.5346,38.7254,220.3508,39.1528 Q222.167,39.5801,223.7481,40.2638 L222.4661,43.2552 Q221.0132,42.6569,219.432,42.2296 Q217.8509,41.8022,216.1843,41.8022 Q213.8766,41.8022,212.6587,42.5501 Q211.4408,43.2979,211.4408,44.5799 Q211.4408,45.5628,211.9964,46.2038 Q212.5519,46.8448,213.8553,47.4858 Q215.1586,48.1268,217.3381,48.9388 Q219.5175,49.7507,221.0559,50.6054 Q222.5943,51.4601,223.4062,52.678 z\" fill=\"rgba(0,0,0,0.502)\" stroke=\"rgba(0,0,0,1)\" stroke-miterlimit=\"10\"/>\n",
       "</svg>"
      ],
      "text/plain": [
       "<IPython.core.display.SVG object>"
      ]
     },
     "metadata": {},
     "output_type": "display_data"
    }
   ],
   "source": [
    "page = document(300, 90, 'pt').addpage()\n",
    "pen = shape().stroke(rgba(0, 0, 0, 255)).fill(rgba(0, 0, 0, 128))\n",
    "factor = 36 / f.density\n",
    "cx = 0\n",
    "for ch in s:\n",
    "    glyph_path = (glyphcommands(f, ch)\n",
    "                  .scale(factor * uniform(0.75, 1.5))\n",
    "                  .translate(cx + normal(0, 4), 60 + normal(0, 4)))\n",
    "    page.place(pen.path(glyph_path))\n",
    "    cx += advancefor(f, ch) * factor\n",
    "show(page)"
   ]
  },
  {
   "cell_type": "markdown",
   "metadata": {},
   "source": [
    "We don't have to draw the characters on the screen in a straight line either:"
   ]
  },
  {
   "cell_type": "code",
   "execution_count": 47,
   "metadata": {},
   "outputs": [
    {
     "data": {
      "image/svg+xml": [
       "<svg height=\"300pt\" version=\"1.1\" width=\"300pt\" xmlns=\"http://www.w3.org/2000/svg\" xmlns:xlink=\"http://www.w3.org/1999/xlink\">\n",
       "<title>Untitled</title>\n",
       "<path d=\"M190.7595,16.4434 L187.099,16.4434 L187.099,6.9178 Q187.099,6.1691,187.1406,5.1708 Q187.1822,4.1724,187.307,3.4653 L187.0574,3.4653 Q186.1007,4.8796,184.416,5.8779 Q182.7313,6.8762,180.0692,6.8762 Q176.0343,6.8762,173.5177,3.9852 Q171.0011,1.0943,171.0011,-4.646 Q171.0011,-10.3864,173.5593,-13.3189 Q176.1175,-16.2515,180.1939,-16.2515 Q182.8145,-16.2515,184.4784,-15.2532 Q186.1423,-14.2549,187.1406,-12.799 L187.307,-12.799 L187.8477,-15.8355 L190.7595,-15.8355 L190.7595,16.4434 z M176.2423,1.6142 Q177.6982,3.8397,180.7763,3.8397 Q184.1872,3.8397,185.6431,1.947 Q187.099,0.0544,187.1406,-3.8557 L187.1406,-4.6044 Q187.1406,-8.8473,185.7263,-11.0311 Q184.312,-13.2149,180.6931,-13.2149 Q177.6982,-13.2149,176.2423,-10.8647 Q174.7864,-8.5145,174.7864,-4.5629 Q174.7864,-0.6112,176.2423,1.6142 z\" fill=\"rgba(0,0,0,0.502)\" stroke=\"rgba(0,0,0,1)\" stroke-miterlimit=\"10\"/>\n",
       "<path d=\"M108.0665,264.65 L110.7491,264.65 L110.7491,280.9895 L108.5542,280.9895 L108.1579,278.8251 L108.036,278.8251 Q107.2434,280.1054,105.8411,280.6999 Q104.4389,281.2943,102.8537,281.2943 Q99.8967,281.2943,98.403,279.8768 Q96.9093,278.4593,96.9093,275.3499 L96.9093,264.65 L99.6224,264.65 L99.6224,275.167 Q99.6224,279.069,103.25,279.069 Q105.9631,279.069,107.0148,277.5448 Q108.0665,276.0206,108.0665,273.155 L108.0665,264.65 z\" fill=\"rgba(0,0,0,0.502)\" stroke=\"rgba(0,0,0,1)\" stroke-miterlimit=\"10\"/>\n",
       "<path d=\"M63.1328,126.2785 Q65.0896,125.7281,67.2094,125.7281 Q71.2046,125.7281,73.1206,127.4811 Q75.0366,129.2341,75.0366,133.0661 L75.0366,147.9459 L72.4276,147.9459 L71.7345,144.8477 L71.5715,144.8477 Q70.1446,146.6414,68.5547,147.4975 Q66.9648,148.3536,64.2335,148.3536 Q61.2575,148.3536,59.3007,146.7841 Q57.3439,145.2146,57.3439,141.8717 Q57.3439,138.6104,59.9122,136.837 Q62.4805,135.0637,67.8209,134.9006 L71.5307,134.7783 L71.5307,133.4738 Q71.5307,130.7424,70.3485,129.6825 Q69.1662,128.6226,67.0056,128.6226 Q65.2934,128.6226,63.7443,129.1321 Q62.1952,129.6417,60.8499,130.294 L59.7492,127.6034 Q61.176,126.8288,63.1328,126.2785 z M71.4899,139.2219 L71.4899,137.2651 L68.2694,137.3874 Q64.1927,137.5504,62.6232,138.6919 Q61.0537,139.8334,61.0537,141.9125 Q61.0537,143.747,62.1748,144.6031 Q63.2958,145.4592,65.0488,145.4592 Q67.7802,145.4592,69.6351,143.9304 Q71.4899,142.4017,71.4899,139.2219 z\" fill=\"rgba(0,0,0,0.502)\" stroke=\"rgba(0,0,0,1)\" stroke-miterlimit=\"10\"/>\n",
       "<path d=\"M98.577,200.9923 Q100.3145,199.6526,102.659,199.6526 Q103.287,199.6526,103.9988,199.7154 Q104.7105,199.7782,105.2967,199.9038 L104.8361,203.295 Q104.2918,203.1694,103.622,203.0857 Q102.9521,203.002,102.4078,203.002 Q100.6913,203.002,99.184,203.944 Q97.6768,204.886,96.7767,206.5816 Q95.8765,208.2772,95.8765,210.5381 L95.8765,222.5121 L92.1922,222.5121 L92.1922,200.0713 L95.2067,200.0713 L95.6253,204.1742 L95.7928,204.1742 Q96.8395,202.3321,98.577,200.9923 z\" fill=\"rgba(0,0,0,0.502)\" stroke=\"rgba(0,0,0,1)\" stroke-miterlimit=\"10\"/>\n",
       "<path d=\"M154.8403,139.2579 Q156.0571,140.4746,157.9728,140.4746 Q159.0083,140.4746,160.0957,140.3193 Q161.183,140.1639,161.8561,139.9051 L161.8561,143.3741 Q161.1312,143.7366,159.785,143.9696 Q158.4388,144.2026,157.1961,144.2026 Q155.0215,144.2026,153.1834,143.4518 Q151.3453,142.701,150.2062,140.8371 Q149.0672,138.9731,149.0672,135.6076 L149.0672,119.4531 L145.1321,119.4531 L145.1321,117.2785 L149.1189,115.4663 L150.9311,109.5637 L153.6235,109.5637 L153.6235,115.9323 L161.649,115.9323 L161.649,119.4531 L153.6235,119.4531 L153.6235,135.504 Q153.6235,138.0411,154.8403,139.2579 z\" fill=\"rgba(0,0,0,0.502)\" stroke=\"rgba(0,0,0,1)\" stroke-miterlimit=\"10\"/>\n",
       "<path d=\"M178.65,236.9923 L178.65,239.8425 L162.2193,239.8425 L162.2193,237.4114 L174.2908,220.2262 L162.9318,220.2262 L162.9318,217.376 L178.3566,217.376 L178.3566,220.1424 L166.4527,236.9923 L178.65,236.9923 z\" fill=\"rgba(0,0,0,0.502)\" stroke=\"rgba(0,0,0,1)\" stroke-miterlimit=\"10\"/>\n",
       "<path d=\"M247.3285,95.8248 L238.6518,74.2132 L242.4278,74.2132 L247.0875,86.4651 Q247.6901,88.1121,248.1721,89.5582 Q248.6542,91.0043,248.8952,92.33 L249.0559,92.33 Q249.2969,91.3257,249.8191,89.6988 Q250.3413,88.0719,250.9037,86.4249 L255.2822,74.2132 L259.0984,74.2132 L249.8191,98.717 Q248.6542,101.77,246.8867,103.5776 Q245.1192,105.3853,241.9859,105.3853 Q241.0218,105.3853,240.2988,105.2848 Q239.5757,105.1844,239.0535,105.0639 L239.0535,102.252 Q239.4953,102.3323,240.118,102.4127 Q240.7406,102.493,241.4235,102.493 Q243.2713,102.493,244.3961,101.4486 Q245.5209,100.4042,246.2038,98.6769 L247.3285,95.8248 z\" fill=\"rgba(0,0,0,0.502)\" stroke=\"rgba(0,0,0,1)\" stroke-miterlimit=\"10\"/>\n",
       "<path d=\"\" fill=\"rgba(0,0,0,0.502)\" stroke=\"rgba(0,0,0,1)\" stroke-miterlimit=\"10\"/>\n",
       "<path d=\"M245.5995,191.1353 L245.5995,194.0038 L239.9048,194.0038 L239.9048,213.7453 L236.1927,213.7453 L236.1927,194.0038 L232.2276,194.0038 L232.2276,192.2743 L236.1927,191.0088 L236.1927,189.7011 Q236.1927,185.3141,238.1121,183.3948 Q240.0314,181.4755,243.5325,181.4755 Q244.8402,181.4755,245.9791,181.7075 Q247.1181,181.9395,247.9196,182.2348 L246.9493,185.1454 Q246.2744,184.9345,245.3886,184.7236 Q244.5027,184.5126,243.5747,184.5126 Q241.7187,184.5126,240.8118,185.757 Q239.9048,187.0014,239.9048,189.6589 L239.9048,191.1353 L245.5995,191.1353 z\" fill=\"rgba(0,0,0,0.502)\" stroke=\"rgba(0,0,0,1)\" stroke-miterlimit=\"10\"/>\n",
       "<path d=\"M91.1787,120.5601 Q92.3201,122.7885,92.3201,126.0135 Q92.3201,130.8328,89.8742,133.4779 Q87.4283,136.1231,83.2613,136.1231 Q80.6886,136.1231,78.6775,134.9455 Q76.6664,133.7678,75.5069,131.5031 Q74.3474,129.2384,74.3474,126.0135 Q74.3474,121.1942,76.757,118.5852 Q79.1667,115.9763,83.37,115.9763 Q85.9789,115.9763,88.0081,117.1539 Q90.0373,118.3316,91.1787,120.5601 z M78.9855,120.6144 Q77.6448,122.5711,77.6448,126.0135 Q77.6448,129.4558,79.0036,131.4669 Q80.3624,133.4779,83.3337,133.4779 Q86.2688,133.4779,87.6457,131.4669 Q89.0227,129.4558,89.0227,126.0135 Q89.0227,122.5711,87.6457,120.6144 Q86.2688,118.6577,83.2975,118.6577 Q80.3262,118.6577,78.9855,120.6144 z\" fill=\"rgba(0,0,0,0.502)\" stroke=\"rgba(0,0,0,1)\" stroke-miterlimit=\"10\"/>\n",
       "<path d=\"M96.3189,19.9924 L103.3259,10.096 L96.644,0.633 L100.2558,0.633 L105.2401,7.9289 L110.1883,0.633 L113.764,0.633 L107.0822,10.096 L114.1252,19.9924 L110.5134,19.9924 L105.2401,12.2631 L99.8946,19.9924 L96.3189,19.9924 z\" fill=\"rgba(0,0,0,0.502)\" stroke=\"rgba(0,0,0,1)\" stroke-miterlimit=\"10\"/>\n",
       "<path d=\"M184.1126,186.0264 Q186.5631,184.469,189.8152,184.469 Q192.9299,184.469,195.2202,185.8432 Q197.5104,187.2173,198.7242,189.7136 Q199.938,192.21,199.938,195.5537 L199.938,197.9814 L183.1278,197.9814 Q183.2194,202.1496,185.2577,204.3253 Q187.296,206.501,190.9603,206.501 Q193.2964,206.501,195.1057,206.0658 Q196.9149,205.6307,198.8387,204.8062 L198.8387,208.3332 Q196.9607,209.1576,195.1286,209.547 Q193.2964,209.9363,190.7771,209.9363 Q187.2502,209.9363,184.5935,208.5164 Q181.9369,207.0964,180.4482,204.3024 Q178.9596,201.5083,178.9596,197.3859 Q178.9596,193.3551,180.3108,190.4694 Q181.662,187.5837,184.1126,186.0264 z M194.2583,189.7136 Q192.8383,187.767,189.7694,187.767 Q186.8838,187.767,185.2119,189.622 Q183.54,191.4771,183.2194,194.775 L195.724,194.775 Q195.6782,191.6603,194.2583,189.7136 z\" fill=\"rgba(0,0,0,0.502)\" stroke=\"rgba(0,0,0,1)\" stroke-miterlimit=\"10\"/>\n",
       "<path d=\"M116.3349,195.7836 Q116.8487,196.5543,116.8487,197.7172 Q116.8487,199.8265,115.2802,200.9083 Q113.7117,201.99,111.0615,201.99 Q109.5471,201.99,108.4519,201.7466 Q107.3566,201.5032,106.5183,201.0705 L106.5183,198.9071 Q107.3837,199.3398,108.6141,199.7048 Q109.8446,200.0699,111.1156,200.0699 Q112.9275,200.0699,113.7388,199.4885 Q114.5501,198.9071,114.5501,197.9335 Q114.5501,197.3927,114.2526,196.96 Q113.9551,196.5273,113.1844,196.0946 Q112.4137,195.6619,110.9804,195.1211 Q109.5741,194.5802,108.5736,194.0393 Q107.573,193.4985,107.0321,192.7413 Q106.4912,191.9841,106.4912,190.7942 Q106.4912,188.9553,107.9921,187.9547 Q109.493,186.9541,111.9269,186.9541 Q113.252,186.9541,114.4013,187.2245 Q115.5506,187.4949,116.5512,187.9276 L115.7399,189.8206 Q114.8205,189.442,113.8199,189.1716 Q112.8193,188.9012,111.7646,188.9012 Q110.3043,188.9012,109.5336,189.3744 Q108.7629,189.8477,108.7629,190.659 Q108.7629,191.281,109.1144,191.6866 Q109.466,192.0922,110.2908,192.4979 Q111.1156,192.9035,112.4948,193.4174 Q113.874,193.9312,114.8475,194.472 Q115.8211,195.0129,116.3349,195.7836 z\" fill=\"rgba(0,0,0,0.502)\" stroke=\"rgba(0,0,0,1)\" stroke-miterlimit=\"10\"/>\n",
       "</svg>"
      ],
      "text/plain": [
       "<IPython.core.display.SVG object>"
      ]
     },
     "metadata": {},
     "output_type": "display_data"
    }
   ],
   "source": [
    "page = document(300, 300, 'pt').addpage()\n",
    "pen = shape().stroke(rgba(0, 0, 0, 255)).fill(rgba(0, 0, 0, 128))\n",
    "factor = 36 / f.density\n",
    "cx = 0\n",
    "for ch in s:\n",
    "    glyph_path = (glyphcommands(f, ch)\n",
    "                  .scale(factor * uniform(0.75, 1.5))\n",
    "                  .translate(factor + uniform(300), factor + uniform(300)))\n",
    "    page.place(pen.path(glyph_path))\n",
    "    cx += advancefor(f, ch) * factor\n",
    "show(page)"
   ]
  },
  {
   "cell_type": "markdown",
   "metadata": {},
   "source": [
    "#### Making one big path\n",
    "\n",
    "Another approach is to build one larger `Path` object that combines the paths of each of the individual letters, and draw that instead. This has some interesting advantages that we'll look at later on. The following cell defines a function `combine_path()` that takes a font and a string and returns a path that combines the paths for each character in the string:"
   ]
  },
  {
   "cell_type": "code",
   "execution_count": 48,
   "metadata": {},
   "outputs": [],
   "source": [
    "from itertools import chain\n",
    "def combine_path(f, s):\n",
    "    text_paths = []\n",
    "    cx = 0\n",
    "    for ch in s:\n",
    "        glyph_path = glyphcommands(f, ch).translate(cx, 0)\n",
    "        text_paths.append(glyph_path)\n",
    "        cx += advancefor(f, ch)\n",
    "    combined = Path(list(chain(*text_paths)))\n",
    "    return combined"
   ]
  },
  {
   "cell_type": "markdown",
   "metadata": {},
   "source": [
    "Call it like this:"
   ]
  },
  {
   "cell_type": "code",
   "execution_count": 49,
   "metadata": {},
   "outputs": [],
   "source": [
    "qf_path = combine_path(f, \"quartzy foxes\")"
   ]
  },
  {
   "cell_type": "markdown",
   "metadata": {},
   "source": [
    "The resulting path has a lot of commands:"
   ]
  },
  {
   "cell_type": "code",
   "execution_count": 50,
   "metadata": {},
   "outputs": [
    {
     "data": {
      "text/plain": [
       "274"
      ]
     },
     "execution_count": 50,
     "metadata": {},
     "output_type": "execute_result"
    }
   ],
   "source": [
    "len(qf_path.commands)"
   ]
  },
  {
   "cell_type": "markdown",
   "metadata": {},
   "source": [
    "But you can draw it like any other path:"
   ]
  },
  {
   "cell_type": "code",
   "execution_count": 51,
   "metadata": {},
   "outputs": [
    {
     "data": {
      "image/svg+xml": [
       "<svg height=\"90pt\" version=\"1.1\" width=\"300pt\" xmlns=\"http://www.w3.org/2000/svg\" xmlns:xlink=\"http://www.w3.org/1999/xlink\">\n",
       "<title>Untitled</title>\n",
       "<path d=\"M19.08,68.64 L15.912,68.64 L15.912,60.396 Q15.912,59.748,15.948,58.884 Q15.984,58.02,16.092,57.408 L15.876,57.408 Q15.048,58.632,13.59,59.496 Q12.132,60.36,9.828,60.36 Q6.336,60.36,4.158,57.858 Q1.98,55.356,1.98,50.388 Q1.98,45.42,4.194,42.882 Q6.408,40.344,9.936,40.344 Q12.204,40.344,13.644,41.208 Q15.084,42.072,15.948,43.332 L16.092,43.332 L16.56,40.704 L19.08,40.704 L19.08,68.64 z M6.516,55.806 Q7.776,57.732,10.44,57.732 Q13.392,57.732,14.652,56.094 Q15.912,54.456,15.948,51.072 L15.948,50.424 Q15.948,46.752,14.724,44.862 Q13.5,42.972,10.368,42.972 Q7.776,42.972,6.516,45.006 Q5.256,47.04,5.256,50.46 Q5.256,53.88,6.516,55.806 z M38.16,40.704 L41.328,40.704 L41.328,60 L38.736,60 L38.268,57.444 L38.124,57.444 Q37.188,58.956,35.532,59.658 Q33.876,60.36,32.004,60.36 Q28.512,60.36,26.748,58.686 Q24.984,57.012,24.984,53.34 L24.984,40.704 L28.188,40.704 L28.188,53.124 Q28.188,57.732,32.472,57.732 Q35.676,57.732,36.918,55.932 Q38.16,54.132,38.16,50.748 L38.16,40.704 z M51.156,40.866 Q52.884,40.38,54.756,40.38 Q58.284,40.38,59.976,41.928 Q61.668,43.476,61.668,46.86 L61.668,60 L59.364,60 L58.752,57.264 L58.608,57.264 Q57.348,58.848,55.944,59.604 Q54.54,60.36,52.128,60.36 Q49.5,60.36,47.772,58.974 Q46.044,57.588,46.044,54.636 Q46.044,51.756,48.312,50.19 Q50.58,48.624,55.296,48.48 L58.572,48.372 L58.572,47.22 Q58.572,44.808,57.528,43.872 Q56.484,42.936,54.576,42.936 Q53.064,42.936,51.696,43.386 Q50.328,43.836,49.14,44.412 L48.168,42.036 Q49.428,41.352,51.156,40.866 z M58.536,52.296 L58.536,50.568 L55.692,50.676 Q52.092,50.82,50.706,51.828 Q49.32,52.836,49.32,54.672 Q49.32,56.292,50.31,57.048 Q51.3,57.804,52.848,57.804 Q55.26,57.804,56.898,56.454 Q58.536,55.104,58.536,52.296 z M73.134,41.496 Q74.628,40.344,76.644,40.344 Q77.184,40.344,77.796,40.398 Q78.408,40.452,78.912,40.56 L78.516,43.476 Q78.048,43.368,77.472,43.296 Q76.896,43.224,76.428,43.224 Q74.952,43.224,73.656,44.034 Q72.36,44.844,71.586,46.302 Q70.812,47.76,70.812,49.704 L70.812,60 L67.644,60 L67.644,40.704 L70.236,40.704 L70.596,44.232 L70.74,44.232 Q71.64,42.648,73.134,41.496 z M86.778,56.922 Q87.624,57.768,88.956,57.768 Q89.676,57.768,90.432,57.66 Q91.188,57.552,91.656,57.372 L91.656,59.784 Q91.152,60.036,90.216,60.198 Q89.28,60.36,88.416,60.36 Q86.904,60.36,85.626,59.838 Q84.348,59.316,83.556,58.02 Q82.764,56.724,82.764,54.384 L82.764,43.152 L80.028,43.152 L80.028,41.64 L82.8,40.38 L84.06,36.276 L85.932,36.276 L85.932,40.704 L91.512,40.704 L91.512,43.152 L85.932,43.152 L85.932,54.312 Q85.932,56.076,86.778,56.922 z M107.964,57.552 L107.964,60 L93.852,60 L93.852,57.912 L104.22,43.152 L94.464,43.152 L94.464,40.704 L107.712,40.704 L107.712,43.08 L97.488,57.552 L107.964,57.552 z M117.18,60.072 L109.404,40.704 L112.788,40.704 L116.964,51.684 Q117.504,53.16,117.936,54.456 Q118.368,55.752,118.584,56.94 L118.728,56.94 Q118.944,56.04,119.412,54.582 Q119.88,53.124,120.384,51.648 L124.308,40.704 L127.728,40.704 L119.412,62.664 Q118.368,65.4,116.784,67.02 Q115.2,68.64,112.392,68.64 Q111.528,68.64,110.88,68.55 Q110.232,68.46,109.764,68.352 L109.764,65.832 Q110.16,65.904,110.718,65.976 Q111.276,66.048,111.888,66.048 Q113.544,66.048,114.552,65.112 Q115.56,64.176,116.172,62.628 L117.18,60.072 z M149.04,40.704 L149.04,43.152 L144.18,43.152 L144.18,60 L141.012,60 L141.012,43.152 L137.628,43.152 L137.628,41.676 L141.012,40.596 L141.012,39.48 Q141.012,35.736,142.65,34.098 Q144.288,32.46,147.276,32.46 Q148.392,32.46,149.364,32.658 Q150.336,32.856,151.02,33.108 L150.192,35.592 Q149.616,35.412,148.86,35.232 Q148.104,35.052,147.312,35.052 Q145.728,35.052,144.954,36.114 Q144.18,37.176,144.18,39.444 L144.18,40.704 L149.04,40.704 z M168.174,44.898 Q169.308,47.112,169.308,50.316 Q169.308,55.104,166.878,57.732 Q164.448,60.36,160.308,60.36 Q157.752,60.36,155.754,59.19 Q153.756,58.02,152.604,55.77 Q151.452,53.52,151.452,50.316 Q151.452,45.528,153.846,42.936 Q156.24,40.344,160.416,40.344 Q163.008,40.344,165.024,41.514 Q167.04,42.684,168.174,44.898 z M156.06,44.952 Q154.728,46.896,154.728,50.316 Q154.728,53.736,156.078,55.734 Q157.428,57.732,160.38,57.732 Q163.296,57.732,164.664,55.734 Q166.032,53.736,166.032,50.316 Q166.032,46.896,164.664,44.952 Q163.296,43.008,160.344,43.008 Q157.392,43.008,156.06,44.952 z M171.9,60 L178.884,50.136 L172.224,40.704 L175.824,40.704 L180.792,47.976 L185.724,40.704 L189.288,40.704 L182.628,50.136 L189.648,60 L186.048,60 L180.792,52.296 L175.464,60 L171.9,60 z M196.326,41.568 Q198.252,40.344,200.808,40.344 Q203.256,40.344,205.056,41.424 Q206.856,42.504,207.81,44.466 Q208.764,46.428,208.764,49.056 L208.764,50.964 L195.552,50.964 Q195.624,54.24,197.226,55.95 Q198.828,57.66,201.708,57.66 Q203.544,57.66,204.966,57.318 Q206.388,56.976,207.9,56.328 L207.9,59.1 Q206.424,59.748,204.984,60.054 Q203.544,60.36,201.564,60.36 Q198.792,60.36,196.704,59.244 Q194.616,58.128,193.446,55.932 Q192.276,53.736,192.276,50.496 Q192.276,47.328,193.338,45.06 Q194.4,42.792,196.326,41.568 z M204.3,44.466 Q203.184,42.936,200.772,42.936 Q198.504,42.936,197.19,44.394 Q195.876,45.852,195.624,48.444 L205.452,48.444 Q205.416,45.996,204.3,44.466 z M225.54,52.098 Q226.224,53.124,226.224,54.672 Q226.224,57.48,224.136,58.92 Q222.048,60.36,218.52,60.36 Q216.504,60.36,215.046,60.036 Q213.588,59.712,212.472,59.136 L212.472,56.256 Q213.624,56.832,215.262,57.318 Q216.9,57.804,218.592,57.804 Q221.004,57.804,222.084,57.03 Q223.164,56.256,223.164,54.96 Q223.164,54.24,222.768,53.664 Q222.372,53.088,221.346,52.512 Q220.32,51.936,218.412,51.216 Q216.54,50.496,215.208,49.776 Q213.876,49.056,213.156,48.048 Q212.436,47.04,212.436,45.456 Q212.436,43.008,214.434,41.676 Q216.432,40.344,219.672,40.344 Q221.436,40.344,222.966,40.704 Q224.496,41.064,225.828,41.64 L224.748,44.16 Q223.524,43.656,222.192,43.296 Q220.86,42.936,219.456,42.936 Q217.512,42.936,216.486,43.566 Q215.46,44.196,215.46,45.276 Q215.46,46.104,215.928,46.644 Q216.396,47.184,217.494,47.724 Q218.592,48.264,220.428,48.948 Q222.264,49.632,223.56,50.352 Q224.856,51.072,225.54,52.098 z\" fill=\"rgba(0,0,0,0.502)\" stroke=\"rgba(0,0,0,1)\" stroke-miterlimit=\"10\"/>\n",
       "</svg>"
      ],
      "text/plain": [
       "<IPython.core.display.SVG object>"
      ]
     },
     "metadata": {},
     "output_type": "display_data"
    }
   ],
   "source": [
    "page = document(300, 90, 'pt').addpage()\n",
    "pen = shape().stroke(rgba(0, 0, 0, 255)).fill(rgba(0, 0, 0, 128))\n",
    "factor = 36 / f.density\n",
    "page.place(pen.path(qf_path.scale(factor).translate(0, 60)))\n",
    "show(page)"
   ]
  },
  {
   "cell_type": "markdown",
   "metadata": {},
   "source": [
    "### Modifying paths\n",
    "\n",
    "Of course, nothing is forcing us to render these glyph paths exactly as they're stored in the font! We can modify them and reinterpret them. Let's take a character like `z`:"
   ]
  },
  {
   "cell_type": "code",
   "execution_count": 52,
   "metadata": {},
   "outputs": [],
   "source": [
    "z_path_orig = glyphcommands(f, \"z\")"
   ]
  },
  {
   "cell_type": "code",
   "execution_count": 53,
   "metadata": {},
   "outputs": [
    {
     "data": {
      "text/plain": [
       "Path([moveto(x=431.0000, y=-68.0000), lineto(x=431.0000, y=0.0000), lineto(x=39.0000, y=0.0000), lineto(x=39.0000, y=-58.0000), lineto(x=327.0000, y=-468.0000), lineto(x=56.0000, y=-468.0000), lineto(x=56.0000, y=-536.0000), lineto(x=424.0000, y=-536.0000), lineto(x=424.0000, y=-470.0000), lineto(x=140.0000, y=-68.0000), lineto(x=431.0000, y=-68.0000), closepath])"
      ]
     },
     "execution_count": 53,
     "metadata": {},
     "output_type": "execute_result"
    }
   ],
   "source": [
    "z_path_orig"
   ]
  },
  {
   "cell_type": "markdown",
   "metadata": {},
   "source": [
    "Here's what it looks like:"
   ]
  },
  {
   "cell_type": "code",
   "execution_count": 54,
   "metadata": {},
   "outputs": [
    {
     "data": {
      "image/svg+xml": [
       "<svg height=\"144pt\" version=\"1.1\" width=\"144pt\" xmlns=\"http://www.w3.org/2000/svg\" xmlns:xlink=\"http://www.w3.org/1999/xlink\">\n",
       "<title>Untitled</title>\n",
       "<path d=\"M62.064,134.208 L62.064,144 L5.616,144 L5.616,135.648 L47.088,76.608 L8.064,76.608 L8.064,66.816 L61.056,66.816 L61.056,76.32 L20.16,134.208 L62.064,134.208 z\" fill=\"rgb(240,240,240)\" stroke=\"rgb(40,40,40)\" stroke-miterlimit=\"10\"/>\n",
       "</svg>"
      ],
      "text/plain": [
       "<IPython.core.display.SVG object>"
      ]
     },
     "metadata": {},
     "output_type": "display_data"
    }
   ],
   "source": [
    "page = document(144, 144, 'pt').addpage()\n",
    "pen = shape().stroke(rgb(40, 40, 40)).fill(rgb(240, 240, 240))\n",
    "page.place(pen.path(z_path_orig.scale(144/f.density).translate(0, 144)))\n",
    "show(page)"
   ]
  },
  {
   "cell_type": "markdown",
   "metadata": {},
   "source": [
    "We can mess around with the path by *modifying the path commands*. For example, the following code loops over each of the commands in the path and adds random noise to the `x` and `y` coordinates:"
   ]
  },
  {
   "cell_type": "code",
   "execution_count": 55,
   "metadata": {},
   "outputs": [],
   "source": [
    "z_path = glyphcommands(f, \"z\")\n",
    "for cmd in z_path.commands:\n",
    "    if hasattr(cmd, 'x') and hasattr(cmd, 'y'):\n",
    "        cmd.x += normal(0, 24)\n",
    "        cmd.y += normal(0, 24)"
   ]
  },
  {
   "cell_type": "markdown",
   "metadata": {},
   "source": [
    "(The [`hasattr` function](https://docs.python.org/3/library/functions.html#hasattr) checks to see if the object has the given attribute. This is necessary because the `closepath` command does not have an `x` or `y` attribute, so attempting to modify them would raise an `AttributeError`.)\n",
    "\n",
    "The cell below draws the modified character and the original:"
   ]
  },
  {
   "cell_type": "code",
   "execution_count": 56,
   "metadata": {},
   "outputs": [
    {
     "data": {
      "image/svg+xml": [
       "<svg height=\"144pt\" version=\"1.1\" width=\"288pt\" xmlns=\"http://www.w3.org/2000/svg\" xmlns:xlink=\"http://www.w3.org/1999/xlink\">\n",
       "<title>Untitled</title>\n",
       "<path d=\"M62.064,134.208 L62.064,144 L5.616,144 L5.616,135.648 L47.088,76.608 L8.064,76.608 L8.064,66.816 L61.056,66.816 L61.056,76.32 L20.16,134.208 L62.064,134.208 z\" fill=\"rgb(240,240,240)\" stroke=\"rgb(40,40,40)\" stroke-miterlimit=\"10\"/>\n",
       "<path d=\"M210.2263,134.7027 L206.6406,144.9948 L152.1919,144.3167 L149.541,134.526 L191.5006,81.9499 L157.7971,77.9885 L154.2268,68.8852 L207.4955,69.7672 L202.015,80.8544 L163.9085,138.3992 L209.0094,136.0723 z\" fill=\"rgb(240,240,240)\" stroke=\"rgb(40,40,40)\" stroke-miterlimit=\"10\"/>\n",
       "</svg>"
      ],
      "text/plain": [
       "<IPython.core.display.SVG object>"
      ]
     },
     "metadata": {},
     "output_type": "display_data"
    }
   ],
   "source": [
    "page = document(288, 144, 'pt').addpage()\n",
    "pen = shape().stroke(rgb(40, 40, 40)).fill(rgb(240, 240, 240))\n",
    "page.place(pen.path(z_path_orig.scale(144/f.density).translate(0, 144)))\n",
    "page.place(pen.path(z_path.scale(144/f.density).translate(144, 144)))\n",
    "show(page)"
   ]
  },
  {
   "cell_type": "markdown",
   "metadata": {},
   "source": [
    "Using this technique, we can make programmatic changes to any path by modifying the `x` and `y` coordinates of the path command. It's a bit more complicated than this, since a command might be a `lineto`, a `quadto`, or a `curveto`, each of which has different attributes that need to be modified. The following cell defines a function `nudge()` that shifts all of a command's coordinates regardless of the command's type:"
   ]
  },
  {
   "cell_type": "code",
   "execution_count": 57,
   "metadata": {},
   "outputs": [],
   "source": [
    "def nudge(cmd, x, y):\n",
    "    c = copy(cmd)\n",
    "    if type(cmd) in (moveto, lineto, quadto, curveto):\n",
    "        c.x += x\n",
    "        c.y += y\n",
    "    if type(cmd) in (quadto, curveto):\n",
    "        c.x1 += x\n",
    "        c.y1 += y\n",
    "    if type(cmd) == curveto:\n",
    "        c.x2 += x\n",
    "        c.y2 += y\n",
    "    return c"
   ]
  },
  {
   "cell_type": "markdown",
   "metadata": {},
   "source": [
    "This function returns a *copy* of the command with the modification applied, so we'll use it to build a new `Path` object with the resulting commands.\n",
    "\n",
    "Now we can modify paths even for characters that have curves, like `b`:"
   ]
  },
  {
   "cell_type": "code",
   "execution_count": 58,
   "metadata": {},
   "outputs": [],
   "source": [
    "b_path_orig = glyphcommands(f, \"b\")"
   ]
  },
  {
   "cell_type": "code",
   "execution_count": 59,
   "metadata": {},
   "outputs": [],
   "source": [
    "b_path_mod = Path([nudge(cmd, x=normal(0, 15), y=normal(0, 15)) for cmd in b_path_orig])"
   ]
  },
  {
   "cell_type": "markdown",
   "metadata": {},
   "source": [
    "This code constructs a new `Path` object resulting from adding normally-distributed random numbers to the `x` and `y` coordinates of each command (including curve control points). Here's what the result looks like:"
   ]
  },
  {
   "cell_type": "code",
   "execution_count": 60,
   "metadata": {},
   "outputs": [
    {
     "data": {
      "image/svg+xml": [
       "<svg height=\"144pt\" version=\"1.1\" width=\"288pt\" xmlns=\"http://www.w3.org/2000/svg\" xmlns:xlink=\"http://www.w3.org/1999/xlink\">\n",
       "<title>Untitled</title>\n",
       "<path d=\"M12.24,34.56 L24.912,34.56 L24.912,61.2 Q24.912,66.096,24.696,70.344 Q24.48,74.592,24.192,77.04 L24.912,77.04 Q28.224,72.144,33.984,68.832 Q39.744,65.52,48.816,65.52 Q63.216,65.52,71.928,75.528 Q80.64,85.536,80.64,105.408 Q80.64,125.28,71.856,135.36 Q63.072,145.44,48.816,145.44 Q39.744,145.44,33.984,142.128 Q28.224,138.816,24.912,134.208 L23.904,134.208 L21.312,144 L12.24,144 L12.24,34.56 z M67.536,105.264 Q67.536,76.032,46.656,76.032 Q34.272,76.032,29.592,83.088 Q24.912,90.144,24.912,104.976 L24.912,105.552 Q24.912,119.808,29.592,127.368 Q34.272,134.928,46.944,134.928 Q57.312,134.928,62.424,127.296 Q67.536,119.664,67.536,105.264 z\" fill=\"rgb(240,240,240)\" stroke=\"rgb(40,40,40)\" stroke-miterlimit=\"10\"/>\n",
       "<path d=\"M155.3073,33.7891 L165.2937,34.6673 L165.4911,59.4308 Q168.2386,64.7969,168.0226,69.0449 Q164.6985,74.1433,164.4105,76.5913 L171.8139,79.869 Q173.9936,70.0416,179.7536,66.7296 Q187.1231,63.3103,196.1951,63.3103 Q203.5133,68.1422,212.2253,78.1502 Q225.9112,85.6495,225.9112,105.5215 Q224.7887,123.896,216.0047,133.976 Q208.2529,147.7085,193.9969,147.7085 Q181.445,142.3362,175.685,139.0242 Q169.3704,137.3308,166.0584,132.7228 L168.9735,134.759 L162.3427,144.4149 L159.2324,144.3024 L156.3927,35.8402 z M209.1883,105.0396 Q209.5944,73.4901,188.7144,73.4901 Q178.3713,78.5883,173.6913,85.6443 Q170.6952,89.8215,170.6952,104.6535 L168.2189,107.5583 Q169.4152,121.073,174.0952,128.633 Q177.7131,135.7139,190.3851,135.7139 Q198.9021,135.1063,204.0141,127.4743 Q210.956,119.1557,210.956,104.7557 z\" fill=\"rgb(240,240,240)\" stroke=\"rgb(40,40,40)\" stroke-miterlimit=\"10\"/>\n",
       "</svg>"
      ],
      "text/plain": [
       "<IPython.core.display.SVG object>"
      ]
     },
     "metadata": {},
     "output_type": "display_data"
    }
   ],
   "source": [
    "page = document(288, 144, 'pt').addpage()\n",
    "pen = shape().stroke(rgb(40, 40, 40)).fill(rgb(240, 240, 240))\n",
    "page.place(pen.path(b_path_orig.scale(144/f.density).translate(0, 144)))\n",
    "page.place(pen.path(b_path_mod.scale(144/f.density).translate(144, 144)))\n",
    "show(page)"
   ]
  },
  {
   "cell_type": "markdown",
   "metadata": {},
   "source": [
    "Using a `for` loop makes it easy to stretch characters out, by nudging their `x` coordinate by a multiple of the `x` coordinate:"
   ]
  },
  {
   "cell_type": "code",
   "execution_count": 61,
   "metadata": {},
   "outputs": [],
   "source": [
    "a_path_orig = glyphcommands(f, \"a\")\n",
    "a_path_cmds = []\n",
    "for cmd in a_path_orig:\n",
    "    if hasattr(cmd, 'x'):\n",
    "        a_path_cmds.append(nudge(cmd, x=cmd.x*0.2, y=0))\n",
    "    else:\n",
    "        a_path_cmds.append(cmd)\n",
    "a_path_mod = Path(a_path_cmds)"
   ]
  },
  {
   "cell_type": "code",
   "execution_count": 62,
   "metadata": {},
   "outputs": [
    {
     "data": {
      "image/svg+xml": [
       "<svg height=\"144pt\" version=\"1.1\" width=\"288pt\" xmlns=\"http://www.w3.org/2000/svg\" xmlns:xlink=\"http://www.w3.org/1999/xlink\">\n",
       "<title>Untitled</title>\n",
       "<path d=\"M27.072,67.464 Q33.984,65.52,41.472,65.52 Q55.584,65.52,62.352,71.712 Q69.12,77.904,69.12,91.44 L69.12,144 L59.904,144 L57.456,133.056 L56.88,133.056 Q51.84,139.392,46.224,142.416 Q40.608,145.44,30.96,145.44 Q20.448,145.44,13.536,139.896 Q6.624,134.352,6.624,122.544 Q6.624,111.024,15.696,104.76 Q24.768,98.496,43.632,97.92 L56.736,97.488 L56.736,92.88 Q56.736,83.232,52.56,79.488 Q48.384,75.744,40.752,75.744 Q34.704,75.744,29.232,77.544 Q23.76,79.344,19.008,81.648 L15.12,72.144 Q20.16,69.408,27.072,67.464 z M56.592,113.184 L56.592,106.272 L45.216,106.704 Q30.816,107.28,25.272,111.312 Q19.728,115.344,19.728,122.688 Q19.728,129.168,23.688,132.192 Q27.648,135.216,33.84,135.216 Q43.488,135.216,50.04,129.816 Q56.592,124.416,56.592,113.184 z\" fill=\"rgb(240,240,240)\" stroke=\"rgb(40,40,40)\" stroke-miterlimit=\"10\"/>\n",
       "<path d=\"M176.4864,67.464 Q186.2784,65.52,193.7664,65.52 Q212.0544,65.52,218.8224,71.712 Q226.944,77.904,226.944,91.44 L226.944,144 L215.8848,144 L212.9472,133.056 L212.256,133.056 Q205.0848,139.392,199.4688,142.416 Q190.8,145.44,181.152,145.44 Q167.1552,145.44,160.2432,139.896 Q151.9488,134.352,151.9488,122.544 Q153.7632,111.024,162.8352,104.76 Q177.4944,98.496,196.3584,97.92 L212.0832,97.488 L212.0832,92.88 Q211.248,83.232,207.072,79.488 Q200.5344,75.744,192.9024,75.744 Q184.5504,75.744,179.0784,77.544 Q171.5616,79.344,166.8096,81.648 L162.144,72.144 Q169.5744,69.408,176.4864,67.464 z M211.9104,113.184 L211.9104,106.272 L198.2592,106.704 Q179.8704,107.28,174.3264,111.312 Q167.6736,115.344,167.6736,122.688 Q168.4656,129.168,172.4256,132.192 Q178.416,135.216,184.608,135.216 Q197.496,135.216,204.048,129.816 Q211.9104,124.416,211.9104,113.184 z\" fill=\"rgb(240,240,240)\" stroke=\"rgb(40,40,40)\" stroke-miterlimit=\"10\"/>\n",
       "</svg>"
      ],
      "text/plain": [
       "<IPython.core.display.SVG object>"
      ]
     },
     "metadata": {},
     "output_type": "display_data"
    }
   ],
   "source": [
    "page = document(288, 144, 'pt').addpage()\n",
    "pen = shape().stroke(rgb(40, 40, 40)).fill(rgb(240, 240, 240))\n",
    "page.place(pen.path(a_path_orig.scale(144/f.density).translate(0, 144)))\n",
    "page.place(pen.path(a_path_mod.scale(144/f.density).translate(144, 144)))\n",
    "show(page)"
   ]
  },
  {
   "cell_type": "markdown",
   "metadata": {},
   "source": [
    "Or we can selectively stretch out characters by only modifying points that meet certain criteria. The code in the cell below shifts up all commands whose `y` coordinate lies above 1/3 of the way from the baseline to the ascender height of the font:"
   ]
  },
  {
   "cell_type": "code",
   "execution_count": 63,
   "metadata": {},
   "outputs": [],
   "source": [
    "a_path_orig = glyphcommands(f, \"g\")\n",
    "a_path_cmds = []\n",
    "mid_y = f.ascender * -0.33\n",
    "for cmd in a_path_orig:\n",
    "    if hasattr(cmd, 'y') and cmd.y < mid_y:\n",
    "        a_path_cmds.append(nudge(cmd, x=0, y=-200))\n",
    "    else:\n",
    "        a_path_cmds.append(cmd)\n",
    "a_path_mod = Path(a_path_cmds)"
   ]
  },
  {
   "cell_type": "markdown",
   "metadata": {},
   "source": [
    "Here's what it looks like:"
   ]
  },
  {
   "cell_type": "code",
   "execution_count": 64,
   "metadata": {},
   "outputs": [
    {
     "data": {
      "image/svg+xml": [
       "<svg height=\"144pt\" version=\"1.1\" width=\"288pt\" xmlns=\"http://www.w3.org/2000/svg\" xmlns:xlink=\"http://www.w3.org/1999/xlink\">\n",
       "<title>Untitled</title>\n",
       "<path d=\"M16.344,76.248 Q24.768,65.376,39.6,65.376 Q47.232,65.376,53.352,68.256 Q59.472,71.136,63.792,77.04 L64.512,77.04 L66.24,66.816 L76.32,66.816 L76.32,145.296 Q76.32,161.856,67.896,170.208 Q59.472,178.56,41.76,178.56 Q24.768,178.56,13.968,173.664 L13.968,162 Q25.344,168.048,42.48,168.048 Q52.416,168.048,58.104,162.216 Q63.792,156.384,63.792,146.304 L63.792,143.28 Q63.792,141.552,63.936,138.312 Q64.08,135.072,64.224,133.776 L63.648,133.776 Q55.872,145.44,39.744,145.44 Q24.768,145.44,16.344,134.928 Q7.92,124.416,7.92,105.552 Q7.92,87.12,16.344,76.248 z M58.464,82.944 Q52.992,76.032,41.328,76.032 Q31.68,76.032,26.352,83.736 Q21.024,91.44,21.024,105.696 Q21.024,119.952,26.208,127.512 Q31.392,135.072,41.616,135.072 Q53.28,135.072,58.608,128.808 Q63.936,122.544,63.936,108.576 L63.936,105.552 Q63.936,89.856,58.464,82.944 z\" fill=\"rgb(240,240,240)\" stroke=\"rgb(40,40,40)\" stroke-miterlimit=\"10\"/>\n",
       "<path d=\"M160.344,47.448 Q168.768,36.576,183.6,36.576 Q191.232,36.576,197.352,39.456 Q203.472,42.336,207.792,48.24 L208.512,48.24 L210.24,38.016 L220.32,38.016 L220.32,145.296 Q220.32,161.856,211.896,170.208 Q203.472,178.56,185.76,178.56 Q168.768,178.56,157.968,173.664 L157.968,162 Q169.344,168.048,186.48,168.048 Q196.416,168.048,202.104,162.216 Q207.792,156.384,207.792,146.304 L207.792,143.28 Q207.792,141.552,207.936,138.312 Q208.08,135.072,208.224,133.776 L207.648,133.776 Q199.872,145.44,183.744,145.44 Q168.768,145.44,160.344,134.928 Q151.92,124.416,151.92,105.552 Q151.92,58.32,160.344,47.448 z M202.464,54.144 Q196.992,47.232,185.328,47.232 Q175.68,47.232,170.352,54.936 Q165.024,91.44,165.024,105.696 Q165.024,119.952,170.208,127.512 Q175.392,135.072,185.616,135.072 Q197.28,135.072,202.608,128.808 Q207.936,122.544,207.936,108.576 L207.936,105.552 Q207.936,61.056,202.464,54.144 z\" fill=\"rgb(240,240,240)\" stroke=\"rgb(40,40,40)\" stroke-miterlimit=\"10\"/>\n",
       "</svg>"
      ],
      "text/plain": [
       "<IPython.core.display.SVG object>"
      ]
     },
     "metadata": {},
     "output_type": "display_data"
    }
   ],
   "source": [
    "page = document(288, 144, 'pt').addpage()\n",
    "pen = shape().stroke(rgb(40, 40, 40)).fill(rgb(240, 240, 240))\n",
    "page.place(pen.path(a_path_orig.scale(144/f.density).translate(0, 144)))\n",
    "page.place(pen.path(a_path_mod.scale(144/f.density).translate(144, 144)))\n",
    "show(page)"
   ]
  },
  {
   "cell_type": "markdown",
   "metadata": {},
   "source": [
    "#### Rendering a modified string\n",
    "\n",
    "The easiest way to render an entire string with modified glyph paths is to put the path modification code into a function, like so:"
   ]
  },
  {
   "cell_type": "code",
   "execution_count": 65,
   "metadata": {},
   "outputs": [],
   "source": [
    "def stretch_char(f, ch, height=-0.33):\n",
    "    path_orig = glyphcommands(f, ch)\n",
    "    path_cmds = []\n",
    "    mid_y = f.ascender * height\n",
    "    for cmd in path_orig:\n",
    "        if hasattr(cmd, 'y') and cmd.y < mid_y:\n",
    "            path_cmds.append(nudge(cmd, x=0, y=-200))\n",
    "        else:\n",
    "            path_cmds.append(cmd)\n",
    "    path_mod = Path(path_cmds)\n",
    "    return path_mod"
   ]
  },
  {
   "cell_type": "markdown",
   "metadata": {},
   "source": [
    "This function has a parameter that lets you set the cutoff for deciding whether a command in the path will be offset or not, based on its distance from the baseline."
   ]
  },
  {
   "cell_type": "markdown",
   "metadata": {},
   "source": [
    "To draw the whole string, use the code from the simple string layout function above, calling the function to generate the glyph for each character in the string, advancing by the `advance`:"
   ]
  },
  {
   "cell_type": "code",
   "execution_count": 66,
   "metadata": {},
   "outputs": [
    {
     "data": {
      "image/svg+xml": [
       "<svg height=\"90pt\" version=\"1.1\" width=\"400pt\" xmlns=\"http://www.w3.org/2000/svg\" xmlns:xlink=\"http://www.w3.org/1999/xlink\">\n",
       "<title>Untitled</title>\n",
       "<path d=\"M38.16,107.28 L31.824,107.28 L31.824,90.792 Q31.824,89.496,31.896,87.768 Q31.968,86.04,32.184,84.816 L31.752,84.816 Q30.096,87.264,27.18,88.992 Q24.264,90.72,19.656,90.72 Q12.672,90.72,8.316,85.716 Q3.96,80.712,3.96,70.776 Q3.96,60.84,8.388,55.764 Q12.816,50.688,19.872,50.688 Q24.408,50.688,27.288,52.416 Q30.168,54.144,31.896,56.664 L32.184,56.664 L33.12,51.408 L38.16,51.408 L38.16,107.28 z M13.032,81.612 Q15.552,85.464,20.88,85.464 Q26.784,85.464,29.304,82.188 Q31.824,78.912,31.896,72.144 L31.896,70.848 Q31.896,63.504,29.448,59.724 Q27,55.944,20.736,55.944 Q15.552,55.944,13.032,60.012 Q10.512,64.08,10.512,70.92 Q10.512,77.76,13.032,81.612 z\" fill=\"rgba(0,0,0,0.502)\" stroke=\"rgba(0,0,0,1)\" stroke-miterlimit=\"10\"/>\n",
       "<path d=\"M76.32,51.408 L82.656,51.408 L82.656,90 L77.472,90 L76.536,84.888 L76.248,84.888 Q74.376,87.912,71.064,89.316 Q67.752,90.72,64.008,90.72 Q57.024,90.72,53.496,87.372 Q49.968,84.024,49.968,76.68 L49.968,51.408 L56.376,51.408 L56.376,76.248 Q56.376,85.464,64.944,85.464 Q71.352,85.464,73.836,81.864 Q76.32,78.264,76.32,71.496 L76.32,51.408 z\" fill=\"rgba(0,0,0,0.502)\" stroke=\"rgba(0,0,0,1)\" stroke-miterlimit=\"10\"/>\n",
       "<path d=\"M102.312,51.732 Q105.768,50.76,109.512,50.76 Q116.568,50.76,119.952,53.856 Q123.336,56.952,123.336,63.72 L123.336,90 L118.728,90 L117.504,84.528 L117.216,84.528 Q114.696,87.696,111.888,89.208 Q109.08,90.72,104.256,90.72 Q99,90.72,95.544,87.948 Q92.088,85.176,92.088,79.272 Q92.088,73.512,96.624,70.38 Q101.16,67.248,110.592,66.96 L117.144,66.744 L117.144,64.44 Q117.144,59.616,115.056,57.744 Q112.968,55.872,109.152,55.872 Q106.128,55.872,103.392,56.772 Q100.656,57.672,98.28,58.824 L96.336,54.072 Q98.856,52.704,102.312,51.732 z M117.072,74.592 L117.072,71.136 L111.384,71.352 Q104.184,71.64,101.412,73.656 Q98.64,75.672,98.64,79.344 Q98.64,82.584,100.62,84.096 Q102.6,85.608,105.696,85.608 Q110.52,85.608,113.796,82.908 Q117.072,80.208,117.072,74.592 z\" fill=\"rgba(0,0,0,0.502)\" stroke=\"rgba(0,0,0,1)\" stroke-miterlimit=\"10\"/>\n",
       "<path d=\"M146.268,52.992 Q149.256,50.688,153.288,50.688 Q154.368,50.688,155.592,50.796 Q156.816,50.904,157.824,51.12 L157.032,56.952 Q156.096,56.736,154.944,56.592 Q153.792,56.448,152.856,56.448 Q149.904,56.448,147.312,58.068 Q144.72,59.688,143.172,62.604 Q141.624,65.52,141.624,69.408 L141.624,90 L135.288,90 L135.288,51.408 L140.472,51.408 L141.192,58.464 L141.48,58.464 Q143.28,55.296,146.268,52.992 z\" fill=\"rgba(0,0,0,0.502)\" stroke=\"rgba(0,0,0,1)\" stroke-miterlimit=\"10\"/>\n",
       "<path d=\"M173.556,83.844 Q175.248,85.536,177.912,85.536 Q179.352,85.536,180.864,85.32 Q182.376,85.104,183.312,84.744 L183.312,89.568 Q182.304,90.072,180.432,90.396 Q178.56,90.72,176.832,90.72 Q173.808,90.72,171.252,89.676 Q168.696,88.632,167.112,86.04 Q165.528,83.448,165.528,78.768 L165.528,56.304 L160.056,56.304 L160.056,38.88 L165.6,36.36 L168.12,28.152 L171.864,28.152 L171.864,37.008 L183.024,37.008 L183.024,56.304 L171.864,56.304 L171.864,78.624 Q171.864,82.152,173.556,83.844 z\" fill=\"rgba(0,0,0,0.502)\" stroke=\"rgba(0,0,0,1)\" stroke-miterlimit=\"10\"/>\n",
       "<path d=\"M215.928,85.104 L215.928,90 L187.704,90 L187.704,85.824 L208.44,41.904 L188.928,41.904 L188.928,37.008 L215.424,37.008 L215.424,41.76 L194.976,85.104 L215.928,85.104 z\" fill=\"rgba(0,0,0,0.502)\" stroke=\"rgba(0,0,0,1)\" stroke-miterlimit=\"10\"/>\n",
       "<path d=\"M234.36,90.144 L218.808,51.408 L225.576,51.408 L233.928,73.368 Q235.008,76.32,235.872,78.912 Q236.736,81.504,237.168,83.88 L237.456,83.88 Q237.888,82.08,238.824,79.164 Q239.76,76.248,240.768,73.296 L248.616,51.408 L255.456,51.408 L238.824,95.328 Q236.736,100.8,233.568,104.04 Q230.4,107.28,224.784,107.28 Q223.056,107.28,221.76,107.1 Q220.464,106.92,219.528,106.704 L219.528,101.664 Q220.32,101.808,221.436,101.952 Q222.552,102.096,223.776,102.096 Q227.088,102.096,229.104,100.224 Q231.12,98.352,232.344,95.256 L234.36,90.144 z\" fill=\"rgba(0,0,0,0.502)\" stroke=\"rgba(0,0,0,1)\" stroke-miterlimit=\"10\"/>\n",
       "<path d=\"\" fill=\"rgba(0,0,0,0.502)\" stroke=\"rgba(0,0,0,1)\" stroke-miterlimit=\"10\"/>\n",
       "<path d=\"M298.08,37.008 L298.08,41.904 L288.36,41.904 L288.36,90 L282.024,90 L282.024,41.904 L275.256,41.904 L275.256,38.952 L282.024,36.792 L282.024,34.56 Q282.024,27.072,285.3,23.796 Q288.576,20.52,294.552,20.52 Q296.784,20.52,298.728,20.916 Q300.672,21.312,302.04,21.816 L300.384,26.784 Q299.232,26.424,297.72,26.064 Q296.208,25.704,294.624,25.704 Q291.456,25.704,289.908,27.828 Q288.36,29.952,288.36,34.488 L288.36,37.008 L298.08,37.008 z\" fill=\"rgba(0,0,0,0.502)\" stroke=\"rgba(0,0,0,1)\" stroke-miterlimit=\"10\"/>\n",
       "<path d=\"M336.348,59.796 Q338.616,64.224,338.616,70.632 Q338.616,80.208,333.756,85.464 Q328.896,90.72,320.616,90.72 Q315.504,90.72,311.508,88.38 Q307.512,86.04,305.208,81.54 Q302.904,77.04,302.904,70.632 Q302.904,46.656,307.692,41.472 Q312.48,36.288,320.832,36.288 Q326.016,36.288,330.048,38.628 Q334.08,55.368,336.348,59.796 z M312.12,59.904 Q309.456,63.792,309.456,70.632 Q309.456,77.472,312.156,81.468 Q314.856,85.464,320.76,85.464 Q326.592,85.464,329.328,81.468 Q332.064,77.472,332.064,70.632 Q332.064,63.792,329.328,59.904 Q326.592,41.616,320.688,41.616 Q314.784,56.016,312.12,59.904 z\" fill=\"rgba(0,0,0,0.502)\" stroke=\"rgba(0,0,0,1)\" stroke-miterlimit=\"10\"/>\n",
       "<path d=\"M343.8,90 L357.768,70.272 L344.448,51.408 L351.648,51.408 L361.584,65.952 L371.448,51.408 L378.576,51.408 L365.256,70.272 L379.296,90 L372.096,90 L361.584,74.592 L350.928,90 L343.8,90 z\" fill=\"rgba(0,0,0,0.502)\" stroke=\"rgba(0,0,0,1)\" stroke-miterlimit=\"10\"/>\n",
       "<path d=\"M392.652,38.736 Q396.504,36.288,401.616,36.288 Q406.512,36.288,410.112,38.448 Q413.712,40.608,415.62,44.532 Q417.528,62.856,417.528,68.112 L417.528,71.928 L391.104,71.928 Q391.248,78.48,394.452,81.9 Q397.656,85.32,403.416,85.32 Q407.088,85.32,409.932,84.636 Q412.776,83.952,415.8,82.656 L415.8,88.2 Q412.848,89.496,409.968,90.108 Q407.088,90.72,403.128,90.72 Q397.584,90.72,393.408,88.488 Q389.232,86.256,386.892,81.864 Q384.552,77.472,384.552,70.992 Q384.552,50.256,386.676,45.72 Q388.8,41.184,392.652,38.736 z M408.6,44.532 Q406.368,41.472,401.544,41.472 Q397.008,41.472,394.38,44.388 Q391.752,61.704,391.248,66.888 L410.904,66.888 Q410.832,47.592,408.6,44.532 z\" fill=\"rgba(0,0,0,0.502)\" stroke=\"rgba(0,0,0,1)\" stroke-miterlimit=\"10\"/>\n",
       "<path d=\"M451.08,74.196 Q452.448,76.248,452.448,79.344 Q452.448,84.96,448.272,87.84 Q444.096,90.72,437.04,90.72 Q433.008,90.72,430.092,90.072 Q427.176,89.424,424.944,88.272 L424.944,82.512 Q427.248,83.664,430.524,84.636 Q433.8,85.608,437.184,85.608 Q442.008,85.608,444.168,84.06 Q446.328,82.512,446.328,79.92 Q446.328,78.48,445.536,77.328 Q444.744,76.176,442.692,75.024 Q440.64,73.872,436.824,72.432 Q433.08,70.992,430.416,69.552 Q427.752,68.112,426.312,66.096 Q424.872,49.68,424.872,46.512 Q424.872,41.616,428.868,38.952 Q432.864,36.288,439.344,36.288 Q442.872,36.288,445.932,37.008 Q448.992,37.728,451.656,38.88 L449.496,43.92 Q447.048,42.912,444.384,42.192 Q441.72,41.472,438.912,41.472 Q435.024,41.472,432.972,42.732 Q430.92,43.992,430.92,46.152 Q430.92,47.808,431.856,48.888 Q432.792,64.368,434.988,65.448 Q437.184,66.528,440.856,67.896 Q444.528,69.264,447.12,70.704 Q449.712,72.144,451.08,74.196 z\" fill=\"rgba(0,0,0,0.502)\" stroke=\"rgba(0,0,0,1)\" stroke-miterlimit=\"10\"/>\n",
       "</svg>"
      ],
      "text/plain": [
       "<IPython.core.display.SVG object>"
      ]
     },
     "metadata": {},
     "output_type": "display_data"
    }
   ],
   "source": [
    "page = document(400, 90, 'pt').addpage()\n",
    "pen = shape().stroke(rgba(0, 0, 0, 255)).fill(rgba(0, 0, 0, 128))\n",
    "factor = 72 / f.density\n",
    "cx = 0\n",
    "for ch in s:\n",
    "    glyph_path = stretch_char(f, ch, uniform(-1, -0.25)).scale(factor).translate(cx, 90)\n",
    "    page.place(pen.path(glyph_path))\n",
    "    cx += advancefor(f, ch) * factor\n",
    "show(page)"
   ]
  },
  {
   "cell_type": "markdown",
   "metadata": {},
   "source": [
    "#### Modifying a larger path\n",
    "\n",
    "For some effects, it's beneficial to apply coordinate transformations across the entire path of the string, instead of character-by-character. For this, use the `combine_path()` function introduced above, which returns one big path with all of the paths for the glyphs corresponding to the characters in the string. In the example below, I modify the `y` coordinate of each command in the path by the sine of the `x` coordinate, giving the resulting path a pleasing wave..."
   ]
  },
  {
   "cell_type": "code",
   "execution_count": 67,
   "metadata": {
    "scrolled": false
   },
   "outputs": [],
   "source": [
    "qf_path_orig = combine_path(f, \"quartzy foxes\")\n",
    "qf_path_cmds = []\n",
    "for cmd in qf_path_orig:\n",
    "    if hasattr(cmd, 'x'):\n",
    "        qf_path_cmds.append(nudge(cmd,\n",
    "                                  x=0,\n",
    "                                  y=np.sin(cmd.x*0.002)*100))\n",
    "    else:\n",
    "        qf_path_cmds.append(cmd)\n",
    "qf_path_mod = Path(qf_path_cmds)"
   ]
  },
  {
   "cell_type": "code",
   "execution_count": 68,
   "metadata": {},
   "outputs": [
    {
     "data": {
      "image/svg+xml": [
       "<svg height=\"90pt\" version=\"1.1\" width=\"400pt\" xmlns=\"http://www.w3.org/2000/svg\" xmlns:xlink=\"http://www.w3.org/1999/xlink\">\n",
       "<title>Untitled</title>\n",
       "<path d=\"M38.16,113.561 L31.824,112.8476 L31.824,96.3596 Q31.824,95.0727,31.896,93.3447 Q31.968,91.653,32.184,90.429 L31.752,90.3745 Q30.096,92.1981,27.18,93.9261 Q24.264,94.4588,19.656,94.4588 Q12.672,92.3684,8.316,87.3644 Q3.96,81.5024,3.96,71.5664 Q3.96,62.5025,8.388,57.4265 Q12.816,54.4636,19.872,54.4636 Q24.408,55.6378,27.288,57.3658 Q30.168,59.7207,31.896,62.2407 L32.184,62.277 L33.12,57.1363 L38.16,57.689 L38.16,113.561 z M13.032,84.1618 Q15.552,89.4098,20.88,89.4098 Q26.784,90.6987,29.304,87.4227 Q31.824,84.4887,31.896,77.7207 L31.896,76.4247 Q31.896,68.7584,29.448,64.9784 Q27,59.8657,20.736,59.8657 Q15.552,58.4938,13.032,62.5618 Q10.512,66.1527,10.512,72.9927 Q10.512,80.3098,13.032,84.1618 z M76.32,57.5492 L82.656,56.7962 L82.656,95.3882 L77.472,96.0178 L76.536,91.0065 L76.248,91.0367 Q74.376,94.5346,71.064,95.9386 Q67.752,97.766,64.008,97.766 Q57.024,97.8941,53.496,94.5461 Q49.968,91.104,49.968,83.76 L49.968,58.488 L56.376,58.6079 L56.376,83.4479 Q56.376,92.4691,64.944,92.4691 Q71.352,91.8497,73.836,88.2497 Q76.32,84.4052,76.32,77.6372 L76.32,57.5492 z M102.312,53.8569 Q105.768,51.4759,109.512,51.4759 Q116.568,49.3973,119.952,52.4933 Q123.336,54.9318,123.336,61.6998 L123.336,87.9798 L118.728,88.8785 L117.504,83.6489 L117.216,83.7061 Q114.696,87.9378,111.888,89.4498 Q109.08,92.4705,104.256,92.4705 Q99,94.0932,95.544,91.3212 Q92.088,89.1434,92.088,83.2394 Q92.088,76.6929,96.624,73.5609 Q101.16,67.7487,110.592,67.4607 L117.144,65.9364 L117.144,63.6324 Q117.144,59.2245,115.056,57.3525 Q112.968,56.6595,109.152,56.6595 Q106.128,57.7896,103.392,58.6896 Q100.656,60.5525,98.28,61.7045 L96.336,57.3045 Q98.856,54.8289,102.312,53.8569 z M117.072,73.7987 L117.072,70.3427 L111.384,71.6945 Q104.184,73.9362,101.412,75.9522 Q98.64,78.4864,98.64,82.1584 Q98.64,85.0298,100.62,86.5418 Q102.6,87.0779,105.696,87.0779 Q110.52,85.4683,113.796,82.7683 Q117.072,79.4147,117.072,73.7987 z M146.268,47.2575 Q149.256,44.2186,153.288,44.2186 Q154.368,44.0297,155.592,44.1377 Q156.816,44.0887,157.824,44.3047 L157.032,50.1895 Q156.096,50.1281,154.944,49.9841 Q153.792,50.017,152.856,50.017 Q149.904,50.5897,147.312,52.2097 Q144.72,54.3487,143.172,57.2647 Q141.624,60.3933,141.624,64.2813 L141.624,84.8733 L135.288,85.8376 L135.288,47.2456 L140.472,46.4456 L141.192,53.3983 L141.48,53.3575 Q143.28,49.5615,146.268,47.2575 z M173.556,76.6864 Q175.248,78.525,177.912,78.525 Q179.352,78.6827,180.864,78.4667 Q182.376,78.4166,183.312,78.0566 L183.312,82.8806 Q182.304,83.1928,180.432,83.5168 Q178.56,83.663,176.832,83.663 Q173.808,83.5272,171.252,82.4832 Q168.696,81.4498,167.112,78.8578 Q165.528,76.2951,165.528,71.6151 L165.528,49.1511 L160.056,49.358 L160.056,46.334 L165.6,43.6054 L168.12,35.3585 L171.864,35.3657 L171.864,44.2217 L183.024,44.6994 L183.024,49.5954 L171.864,49.1177 L171.864,71.4377 Q171.864,74.9944,173.556,76.6864 z M215.928,83.0784 L215.928,87.9744 L187.704,83.687 L187.704,79.511 L208.44,52.8953 L188.928,50.1123 L188.928,45.2163 L215.424,49.2859 L215.424,54.0379 L194.976,79.6139 L215.928,83.0784 z M234.36,91.7631 L218.808,49.941 L225.576,51.2843 L233.928,74.9028 Q235.008,78.2322,235.872,80.8242 Q236.736,83.6648,237.168,86.0408 L237.456,86.0957 Q237.888,84.5544,238.824,81.6384 Q239.76,79.0837,240.768,76.1317 L248.616,55.6079 L255.456,56.6368 L238.824,97.8024 Q236.736,102.2644,233.568,105.5044 Q230.4,106.9979,224.784,106.9979 Q223.056,106.3953,221.76,106.2153 Q220.464,105.5943,219.528,105.3783 L219.528,100.3383 Q220.32,100.859,221.436,101.003 Q222.552,101.6126,223.776,101.6126 Q227.088,102.6772,229.104,100.8052 Q231.12,99.5759,232.344,96.4799 L234.36,91.7631 z M298.08,57.9645 L298.08,62.8605 L288.36,63.4165 L288.36,97.1125 L282.024,97.1986 L282.024,63.5026 L275.256,63.3488 L275.256,60.3968 L282.024,58.3906 L282.024,56.1586 Q282.024,48.6539,285.3,45.3779 Q288.576,41.7361,294.552,41.7361 Q296.784,41.4218,298.728,41.8178 Q300.672,41.9022,302.04,42.4062 L300.384,47.5367 Q299.232,47.4099,297.72,47.0499 Q296.208,46.9155,294.624,46.9155 Q291.456,47.1619,289.908,49.2859 Q288.36,51.4645,288.36,56.0005 L288.36,58.5205 L298.08,57.9645 z M336.348,60.3841 Q338.616,64.3592,338.616,70.7672 Q338.616,81.3108,333.756,86.5668 Q328.896,94.2899,320.616,94.2899 Q315.504,95.7414,311.508,93.4014 Q307.512,91.8831,305.208,87.3831 Q302.904,83.1402,302.904,76.7322 Q302.904,66.5951,307.692,61.4111 Q312.48,54.2203,320.832,54.2203 Q326.016,52.5166,330.048,54.8566 Q334.08,55.9561,336.348,60.3841 z M312.12,64.8369 Q309.456,69.0992,309.456,75.9392 Q309.456,82.3997,312.156,86.3957 Q314.856,89.0089,320.76,89.0089 Q326.592,87.4315,329.328,83.4355 Q332.064,78.9079,332.064,72.0679 Q332.064,65.7595,329.328,61.8715 Q326.592,59.5734,320.688,59.5734 Q314.784,60.9489,312.12,64.8369 z M343.8,89.1008 L357.768,66.7369 L344.448,50.3803 L351.648,48.985 L361.584,61.7731 L371.448,45.7985 L378.576,45.0202 L365.256,65.5178 L379.296,83.5471 L372.096,84.3102 L361.584,70.4131 L350.928,87.7131 L343.8,89.1008 z M392.652,45.9642 Q396.504,43.5805,401.616,43.5805 Q406.512,44.0464,410.112,46.2064 Q413.712,48.8677,415.62,52.7917 Q417.528,56.9235,417.528,62.1795 L417.528,65.9955 L391.104,64.7902 Q391.248,71.2854,394.452,74.7054 Q397.656,78.2788,403.416,78.2788 Q407.088,78.6646,409.932,77.9806 Q412.776,77.8305,415.8,76.5345 L415.8,82.0785 Q412.848,82.8433,409.968,83.4553 Q407.088,83.667,403.128,83.667 Q397.584,83.5364,393.408,81.3044 Q389.232,79.2773,386.892,74.8853 Q384.552,70.6231,384.552,64.1431 Q384.552,57.6881,386.676,53.1521 Q388.8,48.4122,392.652,45.9642 z M408.6,52.1795 Q406.368,48.7622,401.544,48.7622 Q397.008,48.6779,394.38,51.5939 Q391.752,54.5625,391.248,59.7465 L410.904,60.3091 Q410.832,55.2395,408.6,52.1795 z M451.08,73.9342 Q452.448,76.2597,452.448,79.3557 Q452.448,84.1383,448.272,87.0183 Q444.096,87.7423,437.04,87.7423 Q433.008,86.5402,430.092,85.8922 Q427.176,84.4514,424.944,83.2994 L424.944,77.5394 Q427.248,79.5549,430.524,80.5269 Q433.8,82.6565,437.184,82.6565 Q442.008,83.978,444.168,82.43 Q446.328,81.3055,446.328,78.7135 Q446.328,77.1176,445.536,75.9656 Q444.744,74.2599,442.692,73.1079 Q440.64,70.855,436.824,69.415 Q433.08,66.8652,430.416,65.4252 Q427.752,63.3408,426.312,61.3248 Q424.872,59.097,424.872,55.929 Q424.872,51.6394,428.868,48.9754 Q432.864,48.1357,439.344,48.1357 Q442.872,49.4034,445.932,50.1234 Q448.992,51.9813,451.656,53.1333 L449.496,57.742 Q447.048,55.7241,444.384,55.0041 Q441.72,53.2391,438.912,53.2391 Q435.024,52.1741,432.972,53.4341 Q430.92,54.3482,430.92,56.5082 Q430.92,58.3204,431.856,59.4004 Q432.792,61.0217,434.988,62.1017 Q437.184,64.2606,440.856,65.6286 Q444.528,68.2139,447.12,69.6539 Q449.712,71.8822,451.08,73.9342 z\" fill=\"rgba(0,0,0,0.502)\" stroke=\"rgba(0,0,0,1)\" stroke-miterlimit=\"10\"/>\n",
       "</svg>"
      ],
      "text/plain": [
       "<IPython.core.display.SVG object>"
      ]
     },
     "metadata": {},
     "output_type": "display_data"
    }
   ],
   "source": [
    "page = document(400, 90, 'pt').addpage()\n",
    "pen = shape().stroke(rgba(0, 0, 0, 255)).fill(rgba(0, 0, 0, 128))\n",
    "factor = 72 / f.density\n",
    "page.place(pen.path(qf_path_mod.scale(factor).translate(0, 90)))\n",
    "show(page)"
   ]
  },
  {
   "cell_type": "markdown",
   "metadata": {},
   "source": [
    "Yes, we have reinvented [WordArt](https://en.wikipedia.org/wiki/Microsoft_Office_shared_tools#WordArt).\n",
    "\n",
    "(Note: \"Nudging\" the control points of Bézier curves doesn't necessarily produce intuitive results, as you've seen in some of the above examples—the resulting curves aren't quite offset in a linear fashion. The \"right\" way to do this would be to flatten all of the curves to high-resolution polylines, then perform transformations on those coordinates. But the Bezmerizing library doesn't have an easy way to flatten arbitrary paths to polylines yet, so here we are.)"
   ]
  },
  {
   "cell_type": "markdown",
   "metadata": {},
   "source": [
    "#### Re-interpreting font commands\n",
    "\n",
    "One final example. Instead of using the original command in a path, we can \"reinterpret\" that command as something else. The example below draws lines instead of curves, and circles instead of lines, for each command in a path:"
   ]
  },
  {
   "cell_type": "code",
   "execution_count": 69,
   "metadata": {},
   "outputs": [
    {
     "data": {
      "image/svg+xml": [
       "<svg height=\"144pt\" version=\"1.1\" width=\"288pt\" xmlns=\"http://www.w3.org/2000/svg\" xmlns:xlink=\"http://www.w3.org/1999/xlink\">\n",
       "<title>Untitled</title>\n",
       "<circle cx=\"100.152\" cy=\"41.184\" fill=\"none\" r=\"14.184\" stroke=\"rgba(0,0,0,1)\" stroke-miterlimit=\"10\"/>\n",
       "<line fill=\"none\" stroke=\"rgba(0,0,0,1)\" stroke-miterlimit=\"10\" x1=\"114.336\" x2=\"142.632\" y1=\"41.184\" y2=\"48.456\"/>\n",
       "<line fill=\"none\" stroke=\"rgba(0,0,0,1)\" stroke-miterlimit=\"10\" x1=\"142.632\" x2=\"151.776\" y1=\"48.456\" y2=\"70.416\"/>\n",
       "<line fill=\"none\" stroke=\"rgba(0,0,0,1)\" stroke-miterlimit=\"10\" x1=\"151.776\" x2=\"148.752\" y1=\"70.416\" y2=\"84.096\"/>\n",
       "<line fill=\"none\" stroke=\"rgba(0,0,0,1)\" stroke-miterlimit=\"10\" x1=\"148.752\" x2=\"141.048\" y1=\"84.096\" y2=\"92.88\"/>\n",
       "<line fill=\"none\" stroke=\"rgba(0,0,0,1)\" stroke-miterlimit=\"10\" x1=\"141.048\" x2=\"131.184\" y1=\"92.88\" y2=\"97.92\"/>\n",
       "<circle cx=\"145.296\" cy=\"120.96\" fill=\"none\" r=\"27.0183\" stroke=\"rgba(0,0,0,1)\" stroke-miterlimit=\"10\"/>\n",
       "<circle cx=\"151.848\" cy=\"144\" fill=\"none\" r=\"7.56\" stroke=\"rgba(0,0,0,1)\" stroke-miterlimit=\"10\"/>\n",
       "<circle cx=\"131.832\" cy=\"122.76\" fill=\"none\" r=\"24.6229\" stroke=\"rgba(0,0,0,1)\" stroke-miterlimit=\"10\"/>\n",
       "<circle cx=\"109.152\" cy=\"101.52\" fill=\"none\" r=\"10.224\" stroke=\"rgba(0,0,0,1)\" stroke-miterlimit=\"10\"/>\n",
       "<circle cx=\"98.928\" cy=\"122.76\" fill=\"none\" r=\"21.24\" stroke=\"rgba(0,0,0,1)\" stroke-miterlimit=\"10\"/>\n",
       "<circle cx=\"92.448\" cy=\"144\" fill=\"none\" r=\"6.48\" stroke=\"rgba(0,0,0,1)\" stroke-miterlimit=\"10\"/>\n",
       "<circle cx=\"85.968\" cy=\"92.592\" fill=\"none\" r=\"51.408\" stroke=\"rgba(0,0,0,1)\" stroke-miterlimit=\"10\"/>\n",
       "<line fill=\"none\" stroke=\"rgba(0,0,0,1)\" stroke-miterlimit=\"10\" x1=\"132.336\" x2=\"113.616\" y1=\"56.664\" y2=\"52.416\"/>\n",
       "<circle cx=\"106.272\" cy=\"52.416\" fill=\"none\" r=\"7.344\" stroke=\"rgba(0,0,0,1)\" stroke-miterlimit=\"10\"/>\n",
       "<circle cx=\"98.928\" cy=\"71.496\" fill=\"none\" r=\"19.08\" stroke=\"rgba(0,0,0,1)\" stroke-miterlimit=\"10\"/>\n",
       "<circle cx=\"106.632\" cy=\"90.576\" fill=\"none\" r=\"7.704\" stroke=\"rgba(0,0,0,1)\" stroke-miterlimit=\"10\"/>\n",
       "<line fill=\"none\" stroke=\"rgba(0,0,0,1)\" stroke-miterlimit=\"10\" x1=\"114.336\" x2=\"132.624\" y1=\"90.576\" y2=\"85.608\"/>\n",
       "<line fill=\"none\" stroke=\"rgba(0,0,0,1)\" stroke-miterlimit=\"10\" x1=\"132.624\" x2=\"138.384\" y1=\"85.608\" y2=\"70.992\"/>\n",
       "<line fill=\"none\" stroke=\"rgba(0,0,0,1)\" stroke-miterlimit=\"10\" x1=\"138.384\" x2=\"132.336\" y1=\"70.992\" y2=\"56.664\"/>\n",
       "</svg>"
      ],
      "text/plain": [
       "<IPython.core.display.SVG object>"
      ]
     },
     "metadata": {},
     "output_type": "display_data"
    }
   ],
   "source": [
    "from math import sqrt\n",
    "d = document(288, 144, 'pt')\n",
    "page = d.addpage()\n",
    "pen = shape().stroke(rgba(0, 0, 0, 255)).nofill()\n",
    "factor = 144 / f.density\n",
    "cx = 0\n",
    "cy = 0\n",
    "glyph_path = glyphcommands(f, \"R\").scale(factor).translate(72, 144)\n",
    "for cmd in glyph_path:\n",
    "    if type(cmd) == lineto:\n",
    "        radius = sqrt(pow(cx - cmd.x, 2) + pow(cy - cmd.y, 2)) * 0.5\n",
    "        page.place(pen.circle((cx + cmd.x) / 2, (cy + cmd.y) / 2, radius))\n",
    "    elif type(cmd) in (curveto, quadto):\n",
    "        page.place(pen.line(cx, cy, cmd.x, cmd.y))\n",
    "    if type(cmd) != type(closepath):\n",
    "        cx = cmd.x\n",
    "        cy = cmd.y\n",
    "show(page)"
   ]
  },
  {
   "cell_type": "markdown",
   "metadata": {},
   "source": [
    "Drawing all commands as circles:"
   ]
  },
  {
   "cell_type": "code",
   "execution_count": 70,
   "metadata": {},
   "outputs": [
    {
     "data": {
      "image/svg+xml": [
       "<svg height=\"72pt\" version=\"1.1\" width=\"350pt\" xmlns=\"http://www.w3.org/2000/svg\" xmlns:xlink=\"http://www.w3.org/1999/xlink\">\n",
       "<title>Untitled</title>\n",
       "<circle cx=\"34.992\" cy=\"89.28\" fill=\"rgba(0,0,0,0.251)\" r=\"3.168\"/>\n",
       "<circle cx=\"31.824\" cy=\"81.036\" fill=\"rgba(0,0,0,0.251)\" r=\"8.244\"/>\n",
       "<circle cx=\"31.86\" cy=\"71.28\" fill=\"rgba(0,0,0,0.251)\" r=\"1.5124\"/>\n",
       "<circle cx=\"32.04\" cy=\"68.292\" fill=\"rgba(0,0,0,0.251)\" r=\"1.483\"/>\n",
       "<circle cx=\"31.968\" cy=\"66.816\" fill=\"rgba(0,0,0,0.251)\" r=\"0.216\"/>\n",
       "<circle cx=\"29.466\" cy=\"68.904\" fill=\"rgba(0,0,0,0.251)\" r=\"3.0961\"/>\n",
       "<circle cx=\"23.418\" cy=\"71.856\" fill=\"rgba(0,0,0,0.251)\" r=\"3.8599\"/>\n",
       "<circle cx=\"13.986\" cy=\"70.218\" fill=\"rgba(0,0,0,0.251)\" r=\"6.1975\"/>\n",
       "<circle cx=\"6.138\" cy=\"60.246\" fill=\"rgba(0,0,0,0.251)\" r=\"7.781\"/>\n",
       "<circle cx=\"6.174\" cy=\"45.27\" fill=\"rgba(0,0,0,0.251)\" r=\"7.8257\"/>\n",
       "<circle cx=\"14.13\" cy=\"35.226\" fill=\"rgba(0,0,0,0.251)\" r=\"6.2779\"/>\n",
       "<circle cx=\"23.58\" cy=\"33.552\" fill=\"rgba(0,0,0,0.251)\" r=\"3.8073\"/>\n",
       "<circle cx=\"29.592\" cy=\"36.54\" fill=\"rgba(0,0,0,0.251)\" r=\"3.1337\"/>\n",
       "<circle cx=\"32.04\" cy=\"38.664\" fill=\"rgba(0,0,0,0.251)\" r=\"0.144\"/>\n",
       "<circle cx=\"32.652\" cy=\"36.036\" fill=\"rgba(0,0,0,0.251)\" r=\"2.6693\"/>\n",
       "<circle cx=\"35.64\" cy=\"33.408\" fill=\"rgba(0,0,0,0.251)\" r=\"2.52\"/>\n",
       "<circle cx=\"38.16\" cy=\"61.344\" fill=\"rgba(0,0,0,0.251)\" r=\"27.936\"/>\n",
       "<circle cx=\"16.956\" cy=\"65.538\" fill=\"rgba(0,0,0,0.251)\" r=\"4.3712\"/>\n",
       "<circle cx=\"25.092\" cy=\"65.826\" fill=\"rgba(0,0,0,0.251)\" r=\"4.5193\"/>\n",
       "<circle cx=\"30.6\" cy=\"59.166\" fill=\"rgba(0,0,0,0.251)\" r=\"5.1865\"/>\n",
       "<circle cx=\"31.896\" cy=\"53.496\" fill=\"rgba(0,0,0,0.251)\" r=\"0.648\"/>\n",
       "<circle cx=\"30.672\" cy=\"47.286\" fill=\"rgba(0,0,0,0.251)\" r=\"5.6951\"/>\n",
       "<circle cx=\"25.092\" cy=\"39.834\" fill=\"rgba(0,0,0,0.251)\" r=\"4.7484\"/>\n",
       "<circle cx=\"16.884\" cy=\"39.978\" fill=\"rgba(0,0,0,0.251)\" r=\"4.356\"/>\n",
       "<circle cx=\"11.772\" cy=\"47.466\" fill=\"rgba(0,0,0,0.251)\" r=\"5.5977\"/>\n",
       "<circle cx=\"11.772\" cy=\"58.266\" fill=\"rgba(0,0,0,0.251)\" r=\"5.4925\"/>\n",
       "<circle cx=\"79.488\" cy=\"33.408\" fill=\"rgba(0,0,0,0.251)\" r=\"3.168\"/>\n",
       "<circle cx=\"82.656\" cy=\"52.704\" fill=\"rgba(0,0,0,0.251)\" r=\"19.296\"/>\n",
       "<circle cx=\"80.064\" cy=\"72\" fill=\"rgba(0,0,0,0.251)\" r=\"2.592\"/>\n",
       "<circle cx=\"77.004\" cy=\"69.444\" fill=\"rgba(0,0,0,0.251)\" r=\"2.5985\"/>\n",
       "<circle cx=\"76.392\" cy=\"66.888\" fill=\"rgba(0,0,0,0.251)\" r=\"0.144\"/>\n",
       "<circle cx=\"73.656\" cy=\"69.102\" fill=\"rgba(0,0,0,0.251)\" r=\"3.4089\"/>\n",
       "<circle cx=\"67.536\" cy=\"72.018\" fill=\"rgba(0,0,0,0.251)\" r=\"3.5972\"/>\n",
       "<circle cx=\"58.752\" cy=\"71.046\" fill=\"rgba(0,0,0,0.251)\" r=\"5.5161\"/>\n",
       "<circle cx=\"51.732\" cy=\"64.026\" fill=\"rgba(0,0,0,0.251)\" r=\"5.6295\"/>\n",
       "<circle cx=\"49.968\" cy=\"46.044\" fill=\"rgba(0,0,0,0.251)\" r=\"12.636\"/>\n",
       "<circle cx=\"53.172\" cy=\"33.408\" fill=\"rgba(0,0,0,0.251)\" r=\"3.204\"/>\n",
       "<circle cx=\"56.376\" cy=\"45.828\" fill=\"rgba(0,0,0,0.251)\" r=\"12.42\"/>\n",
       "<circle cx=\"60.66\" cy=\"62.856\" fill=\"rgba(0,0,0,0.251)\" r=\"6.2918\"/>\n",
       "<circle cx=\"69.39\" cy=\"65.664\" fill=\"rgba(0,0,0,0.251)\" r=\"4.7966\"/>\n",
       "<circle cx=\"75.078\" cy=\"58.68\" fill=\"rgba(0,0,0,0.251)\" r=\"5.3307\"/>\n",
       "<circle cx=\"76.32\" cy=\"43.452\" fill=\"rgba(0,0,0,0.251)\" r=\"10.044\"/>\n",
       "<circle cx=\"105.912\" cy=\"33.246\" fill=\"rgba(0,0,0,0.251)\" r=\"3.6327\"/>\n",
       "<circle cx=\"114.732\" cy=\"34.308\" fill=\"rgba(0,0,0,0.251)\" r=\"5.4447\"/>\n",
       "<circle cx=\"121.644\" cy=\"40.788\" fill=\"rgba(0,0,0,0.251)\" r=\"5.2142\"/>\n",
       "<circle cx=\"123.336\" cy=\"58.86\" fill=\"rgba(0,0,0,0.251)\" r=\"13.14\"/>\n",
       "<circle cx=\"121.032\" cy=\"72\" fill=\"rgba(0,0,0,0.251)\" r=\"2.304\"/>\n",
       "<circle cx=\"118.116\" cy=\"69.264\" fill=\"rgba(0,0,0,0.251)\" r=\"2.8036\"/>\n",
       "<circle cx=\"117.36\" cy=\"66.528\" fill=\"rgba(0,0,0,0.251)\" r=\"0.144\"/>\n",
       "<circle cx=\"114.552\" cy=\"68.868\" fill=\"rgba(0,0,0,0.251)\" r=\"3.5458\"/>\n",
       "<circle cx=\"108.072\" cy=\"71.964\" fill=\"rgba(0,0,0,0.251)\" r=\"3.8902\"/>\n",
       "<circle cx=\"99.9\" cy=\"71.334\" fill=\"rgba(0,0,0,0.251)\" r=\"4.5712\"/>\n",
       "<circle cx=\"93.816\" cy=\"65.61\" fill=\"rgba(0,0,0,0.251)\" r=\"4.6695\"/>\n",
       "<circle cx=\"94.356\" cy=\"56.826\" fill=\"rgba(0,0,0,0.251)\" r=\"4.9911\"/>\n",
       "<circle cx=\"103.608\" cy=\"50.67\" fill=\"rgba(0,0,0,0.251)\" r=\"7.1903\"/>\n",
       "<circle cx=\"113.868\" cy=\"48.852\" fill=\"rgba(0,0,0,0.251)\" r=\"3.2778\"/>\n",
       "<circle cx=\"117.144\" cy=\"47.592\" fill=\"rgba(0,0,0,0.251)\" r=\"1.152\"/>\n",
       "<circle cx=\"116.1\" cy=\"43.092\" fill=\"rgba(0,0,0,0.251)\" r=\"3.507\"/>\n",
       "<circle cx=\"112.104\" cy=\"38.808\" fill=\"rgba(0,0,0,0.251)\" r=\"3.0968\"/>\n",
       "<circle cx=\"106.272\" cy=\"38.322\" fill=\"rgba(0,0,0,0.251)\" r=\"2.9149\"/>\n",
       "<circle cx=\"100.836\" cy=\"39.798\" fill=\"rgba(0,0,0,0.251)\" r=\"2.7542\"/>\n",
       "<circle cx=\"97.308\" cy=\"38.448\" fill=\"rgba(0,0,0,0.251)\" r=\"2.5671\"/>\n",
       "<circle cx=\"99.324\" cy=\"34.902\" fill=\"rgba(0,0,0,0.251)\" r=\"3.2089\"/>\n",
       "<circle cx=\"117.072\" cy=\"54.864\" fill=\"rgba(0,0,0,0.251)\" r=\"1.728\"/>\n",
       "<circle cx=\"114.228\" cy=\"53.244\" fill=\"rgba(0,0,0,0.251)\" r=\"2.846\"/>\n",
       "<circle cx=\"106.398\" cy=\"54.504\" fill=\"rgba(0,0,0,0.251)\" r=\"5.1174\"/>\n",
       "<circle cx=\"100.026\" cy=\"58.5\" fill=\"rgba(0,0,0,0.251)\" r=\"3.1638\"/>\n",
       "<circle cx=\"99.63\" cy=\"63.72\" fill=\"rgba(0,0,0,0.251)\" r=\"2.574\"/>\n",
       "<circle cx=\"103.158\" cy=\"66.852\" fill=\"rgba(0,0,0,0.251)\" r=\"2.6482\"/>\n",
       "<circle cx=\"109.746\" cy=\"66.258\" fill=\"rgba(0,0,0,0.251)\" r=\"4.2691\"/>\n",
       "<circle cx=\"115.434\" cy=\"60.75\" fill=\"rgba(0,0,0,0.251)\" r=\"4.469\"/>\n",
       "<circle cx=\"149.778\" cy=\"33.84\" fill=\"rgba(0,0,0,0.251)\" r=\"3.6942\"/>\n",
       "<circle cx=\"154.44\" cy=\"32.742\" fill=\"rgba(0,0,0,0.251)\" r=\"1.1533\"/>\n",
       "<circle cx=\"156.708\" cy=\"32.958\" fill=\"rgba(0,0,0,0.251)\" r=\"1.1277\"/>\n",
       "<circle cx=\"157.428\" cy=\"36.036\" fill=\"rgba(0,0,0,0.251)\" r=\"2.9428\"/>\n",
       "<circle cx=\"155.988\" cy=\"38.772\" fill=\"rgba(0,0,0,0.251)\" r=\"1.0594\"/>\n",
       "<circle cx=\"153.9\" cy=\"38.52\" fill=\"rgba(0,0,0,0.251)\" r=\"1.0465\"/>\n",
       "<circle cx=\"150.084\" cy=\"39.258\" fill=\"rgba(0,0,0,0.251)\" r=\"2.8879\"/>\n",
       "<circle cx=\"145.242\" cy=\"42.336\" fill=\"rgba(0,0,0,0.251)\" r=\"3.0706\"/>\n",
       "<circle cx=\"142.398\" cy=\"48.006\" fill=\"rgba(0,0,0,0.251)\" r=\"3.4889\"/>\n",
       "<circle cx=\"141.624\" cy=\"61.704\" fill=\"rgba(0,0,0,0.251)\" r=\"10.296\"/>\n",
       "<circle cx=\"138.456\" cy=\"72\" fill=\"rgba(0,0,0,0.251)\" r=\"3.168\"/>\n",
       "<circle cx=\"135.288\" cy=\"52.704\" fill=\"rgba(0,0,0,0.251)\" r=\"19.296\"/>\n",
       "<circle cx=\"137.88\" cy=\"33.408\" fill=\"rgba(0,0,0,0.251)\" r=\"2.592\"/>\n",
       "<circle cx=\"140.832\" cy=\"36.936\" fill=\"rgba(0,0,0,0.251)\" r=\"3.5463\"/>\n",
       "<circle cx=\"141.336\" cy=\"40.464\" fill=\"rgba(0,0,0,0.251)\" r=\"0.144\"/>\n",
       "<circle cx=\"143.874\" cy=\"37.728\" fill=\"rgba(0,0,0,0.251)\" r=\"3.6355\"/>\n",
       "<circle cx=\"175.734\" cy=\"66.69\" fill=\"rgba(0,0,0,0.251)\" r=\"2.3365\"/>\n",
       "<circle cx=\"179.388\" cy=\"67.428\" fill=\"rgba(0,0,0,0.251)\" r=\"1.4799\"/>\n",
       "<circle cx=\"182.088\" cy=\"67.032\" fill=\"rgba(0,0,0,0.251)\" r=\"1.2574\"/>\n",
       "<circle cx=\"183.312\" cy=\"69.156\" fill=\"rgba(0,0,0,0.251)\" r=\"2.412\"/>\n",
       "<circle cx=\"181.872\" cy=\"71.982\" fill=\"rgba(0,0,0,0.251)\" r=\"1.4983\"/>\n",
       "<circle cx=\"178.632\" cy=\"72.558\" fill=\"rgba(0,0,0,0.251)\" r=\"1.8073\"/>\n",
       "<circle cx=\"174.042\" cy=\"72.198\" fill=\"rgba(0,0,0,0.251)\" r=\"2.8384\"/>\n",
       "<circle cx=\"169.182\" cy=\"69.858\" fill=\"rgba(0,0,0,0.251)\" r=\"2.755\"/>\n",
       "<circle cx=\"166.32\" cy=\"64.404\" fill=\"rgba(0,0,0,0.251)\" r=\"3.7213\"/>\n",
       "<circle cx=\"165.528\" cy=\"49.536\" fill=\"rgba(0,0,0,0.251)\" r=\"11.232\"/>\n",
       "<circle cx=\"162.792\" cy=\"38.304\" fill=\"rgba(0,0,0,0.251)\" r=\"2.736\"/>\n",
       "<circle cx=\"160.056\" cy=\"36.792\" fill=\"rgba(0,0,0,0.251)\" r=\"1.512\"/>\n",
       "<circle cx=\"162.828\" cy=\"34.02\" fill=\"rgba(0,0,0,0.251)\" r=\"3.0449\"/>\n",
       "<circle cx=\"166.86\" cy=\"28.656\" fill=\"rgba(0,0,0,0.251)\" r=\"4.2931\"/>\n",
       "<circle cx=\"169.992\" cy=\"24.552\" fill=\"rgba(0,0,0,0.251)\" r=\"1.872\"/>\n",
       "<circle cx=\"171.864\" cy=\"28.98\" fill=\"rgba(0,0,0,0.251)\" r=\"4.428\"/>\n",
       "<circle cx=\"177.444\" cy=\"33.408\" fill=\"rgba(0,0,0,0.251)\" r=\"5.58\"/>\n",
       "<circle cx=\"183.024\" cy=\"35.856\" fill=\"rgba(0,0,0,0.251)\" r=\"2.448\"/>\n",
       "<circle cx=\"177.444\" cy=\"38.304\" fill=\"rgba(0,0,0,0.251)\" r=\"5.58\"/>\n",
       "<circle cx=\"171.864\" cy=\"49.464\" fill=\"rgba(0,0,0,0.251)\" r=\"11.16\"/>\n",
       "<circle cx=\"172.71\" cy=\"63.234\" fill=\"rgba(0,0,0,0.251)\" r=\"2.7437\"/>\n",
       "<circle cx=\"215.928\" cy=\"69.552\" fill=\"rgba(0,0,0,0.251)\" r=\"2.448\"/>\n",
       "<circle cx=\"201.816\" cy=\"72\" fill=\"rgba(0,0,0,0.251)\" r=\"14.112\"/>\n",
       "<circle cx=\"187.704\" cy=\"69.912\" fill=\"rgba(0,0,0,0.251)\" r=\"2.088\"/>\n",
       "<circle cx=\"198.072\" cy=\"53.064\" fill=\"rgba(0,0,0,0.251)\" r=\"18.0375\"/>\n",
       "<circle cx=\"198.684\" cy=\"38.304\" fill=\"rgba(0,0,0,0.251)\" r=\"9.756\"/>\n",
       "<circle cx=\"188.928\" cy=\"35.856\" fill=\"rgba(0,0,0,0.251)\" r=\"2.448\"/>\n",
       "<circle cx=\"202.176\" cy=\"33.408\" fill=\"rgba(0,0,0,0.251)\" r=\"13.248\"/>\n",
       "<circle cx=\"215.424\" cy=\"35.784\" fill=\"rgba(0,0,0,0.251)\" r=\"2.376\"/>\n",
       "<circle cx=\"205.2\" cy=\"52.632\" fill=\"rgba(0,0,0,0.251)\" r=\"17.7192\"/>\n",
       "<circle cx=\"205.452\" cy=\"67.104\" fill=\"rgba(0,0,0,0.251)\" r=\"10.476\"/>\n",
       "<circle cx=\"226.584\" cy=\"52.776\" fill=\"rgba(0,0,0,0.251)\" r=\"20.8707\"/>\n",
       "<circle cx=\"222.192\" cy=\"33.408\" fill=\"rgba(0,0,0,0.251)\" r=\"3.384\"/>\n",
       "<circle cx=\"229.752\" cy=\"44.388\" fill=\"rgba(0,0,0,0.251)\" r=\"11.7473\"/>\n",
       "<circle cx=\"234.9\" cy=\"58.14\" fill=\"rgba(0,0,0,0.251)\" r=\"2.9375\"/>\n",
       "<circle cx=\"236.52\" cy=\"63.396\" fill=\"rgba(0,0,0,0.251)\" r=\"2.5671\"/>\n",
       "<circle cx=\"237.312\" cy=\"65.88\" fill=\"rgba(0,0,0,0.251)\" r=\"0.144\"/>\n",
       "<circle cx=\"238.14\" cy=\"63.522\" fill=\"rgba(0,0,0,0.251)\" r=\"2.4552\"/>\n",
       "<circle cx=\"239.796\" cy=\"58.23\" fill=\"rgba(0,0,0,0.251)\" r=\"3.0908\"/>\n",
       "<circle cx=\"244.692\" cy=\"44.352\" fill=\"rgba(0,0,0,0.251)\" r=\"11.6262\"/>\n",
       "<circle cx=\"252.036\" cy=\"33.408\" fill=\"rgba(0,0,0,0.251)\" r=\"3.42\"/>\n",
       "<circle cx=\"247.14\" cy=\"55.368\" fill=\"rgba(0,0,0,0.251)\" r=\"23.4819\"/>\n",
       "<circle cx=\"236.196\" cy=\"81.684\" fill=\"rgba(0,0,0,0.251)\" r=\"5.0873\"/>\n",
       "<circle cx=\"229.176\" cy=\"87.66\" fill=\"rgba(0,0,0,0.251)\" r=\"4.6812\"/>\n",
       "<circle cx=\"223.272\" cy=\"89.19\" fill=\"rgba(0,0,0,0.251)\" r=\"1.5147\"/>\n",
       "<circle cx=\"220.644\" cy=\"88.902\" fill=\"rgba(0,0,0,0.251)\" r=\"1.1334\"/>\n",
       "<circle cx=\"219.528\" cy=\"86.184\" fill=\"rgba(0,0,0,0.251)\" r=\"2.52\"/>\n",
       "<circle cx=\"220.482\" cy=\"83.808\" fill=\"rgba(0,0,0,0.251)\" r=\"0.9648\"/>\n",
       "<circle cx=\"222.606\" cy=\"84.024\" fill=\"rgba(0,0,0,0.251)\" r=\"1.1722\"/>\n",
       "<circle cx=\"226.44\" cy=\"83.16\" fill=\"rgba(0,0,0,0.251)\" r=\"2.8236\"/>\n",
       "<circle cx=\"230.724\" cy=\"79.74\" fill=\"rgba(0,0,0,0.251)\" r=\"2.9656\"/>\n",
       "<circle cx=\"233.352\" cy=\"74.7\" fill=\"rgba(0,0,0,0.251)\" r=\"2.7476\"/>\n",
       "<circle cx=\"298.08\" cy=\"35.856\" fill=\"rgba(0,0,0,0.251)\" r=\"2.448\"/>\n",
       "<circle cx=\"293.22\" cy=\"38.304\" fill=\"rgba(0,0,0,0.251)\" r=\"4.86\"/>\n",
       "<circle cx=\"288.36\" cy=\"55.152\" fill=\"rgba(0,0,0,0.251)\" r=\"16.848\"/>\n",
       "<circle cx=\"285.192\" cy=\"72\" fill=\"rgba(0,0,0,0.251)\" r=\"3.168\"/>\n",
       "<circle cx=\"282.024\" cy=\"55.152\" fill=\"rgba(0,0,0,0.251)\" r=\"16.848\"/>\n",
       "<circle cx=\"278.64\" cy=\"38.304\" fill=\"rgba(0,0,0,0.251)\" r=\"3.384\"/>\n",
       "<circle cx=\"275.256\" cy=\"36.828\" fill=\"rgba(0,0,0,0.251)\" r=\"1.476\"/>\n",
       "<circle cx=\"278.64\" cy=\"34.272\" fill=\"rgba(0,0,0,0.251)\" r=\"3.5522\"/>\n",
       "<circle cx=\"282.024\" cy=\"32.076\" fill=\"rgba(0,0,0,0.251)\" r=\"1.116\"/>\n",
       "<circle cx=\"283.662\" cy=\"25.578\" fill=\"rgba(0,0,0,0.251)\" r=\"5.6257\"/>\n",
       "<circle cx=\"289.926\" cy=\"18.558\" fill=\"rgba(0,0,0,0.251)\" r=\"4.9074\"/>\n",
       "<circle cx=\"296.64\" cy=\"17.118\" fill=\"rgba(0,0,0,0.251)\" r=\"2.0974\"/>\n",
       "<circle cx=\"300.384\" cy=\"17.766\" fill=\"rgba(0,0,0,0.251)\" r=\"1.7161\"/>\n",
       "<circle cx=\"301.212\" cy=\"20.7\" fill=\"rgba(0,0,0,0.251)\" r=\"2.6184\"/>\n",
       "<circle cx=\"299.052\" cy=\"22.824\" fill=\"rgba(0,0,0,0.251)\" r=\"1.3798\"/>\n",
       "<circle cx=\"296.172\" cy=\"22.284\" fill=\"rgba(0,0,0,0.251)\" r=\"1.5584\"/>\n",
       "<circle cx=\"292.266\" cy=\"23.166\" fill=\"rgba(0,0,0,0.251)\" r=\"2.5861\"/>\n",
       "<circle cx=\"289.134\" cy=\"27.558\" fill=\"rgba(0,0,0,0.251)\" r=\"3.4188\"/>\n",
       "<circle cx=\"288.36\" cy=\"32.148\" fill=\"rgba(0,0,0,0.251)\" r=\"1.26\"/>\n",
       "<circle cx=\"293.22\" cy=\"33.408\" fill=\"rgba(0,0,0,0.251)\" r=\"4.86\"/>\n",
       "<circle cx=\"337.482\" cy=\"47.214\" fill=\"rgba(0,0,0,0.251)\" r=\"5.5354\"/>\n",
       "<circle cx=\"336.186\" cy=\"60.048\" fill=\"rgba(0,0,0,0.251)\" r=\"7.804\"/>\n",
       "<circle cx=\"327.186\" cy=\"70.092\" fill=\"rgba(0,0,0,0.251)\" r=\"7.0761\"/>\n",
       "<circle cx=\"316.062\" cy=\"71.55\" fill=\"rgba(0,0,0,0.251)\" r=\"4.7019\"/>\n",
       "<circle cx=\"308.358\" cy=\"66.96\" fill=\"rgba(0,0,0,0.251)\" r=\"4.6496\"/>\n",
       "<circle cx=\"304.056\" cy=\"58.086\" fill=\"rgba(0,0,0,0.251)\" r=\"5.5743\"/>\n",
       "<circle cx=\"305.298\" cy=\"45.252\" fill=\"rgba(0,0,0,0.251)\" r=\"7.7586\"/>\n",
       "<circle cx=\"314.262\" cy=\"35.28\" fill=\"rgba(0,0,0,0.251)\" r=\"7.0628\"/>\n",
       "<circle cx=\"325.44\" cy=\"33.858\" fill=\"rgba(0,0,0,0.251)\" r=\"4.7542\"/>\n",
       "<circle cx=\"333.198\" cy=\"38.412\" fill=\"rgba(0,0,0,0.251)\" r=\"4.6232\"/>\n",
       "<circle cx=\"310.788\" cy=\"47.268\" fill=\"rgba(0,0,0,0.251)\" r=\"5.5269\"/>\n",
       "<circle cx=\"310.806\" cy=\"58.05\" fill=\"rgba(0,0,0,0.251)\" r=\"5.5837\"/>\n",
       "<circle cx=\"316.458\" cy=\"65.466\" fill=\"rgba(0,0,0,0.251)\" r=\"4.7433\"/>\n",
       "<circle cx=\"325.044\" cy=\"65.466\" fill=\"rgba(0,0,0,0.251)\" r=\"4.727\"/>\n",
       "<circle cx=\"330.696\" cy=\"58.05\" fill=\"rgba(0,0,0,0.251)\" r=\"5.588\"/>\n",
       "<circle cx=\"330.696\" cy=\"47.268\" fill=\"rgba(0,0,0,0.251)\" r=\"5.5357\"/>\n",
       "<circle cx=\"325.008\" cy=\"39.96\" fill=\"rgba(0,0,0,0.251)\" r=\"4.7372\"/>\n",
       "<circle cx=\"316.404\" cy=\"39.96\" fill=\"rgba(0,0,0,0.251)\" r=\"4.7044\"/>\n",
       "<circle cx=\"350.784\" cy=\"62.136\" fill=\"rgba(0,0,0,0.251)\" r=\"12.0861\"/>\n",
       "<circle cx=\"351.108\" cy=\"42.84\" fill=\"rgba(0,0,0,0.251)\" r=\"11.5464\"/>\n",
       "<circle cx=\"348.048\" cy=\"33.408\" fill=\"rgba(0,0,0,0.251)\" r=\"3.6\"/>\n",
       "<circle cx=\"356.616\" cy=\"40.68\" fill=\"rgba(0,0,0,0.251)\" r=\"8.807\"/>\n",
       "<circle cx=\"366.516\" cy=\"40.68\" fill=\"rgba(0,0,0,0.251)\" r=\"8.7867\"/>\n",
       "<circle cx=\"375.012\" cy=\"33.408\" fill=\"rgba(0,0,0,0.251)\" r=\"3.564\"/>\n",
       "<circle cx=\"371.916\" cy=\"42.84\" fill=\"rgba(0,0,0,0.251)\" r=\"11.5464\"/>\n",
       "<circle cx=\"372.276\" cy=\"62.136\" fill=\"rgba(0,0,0,0.251)\" r=\"12.107\"/>\n",
       "<circle cx=\"375.696\" cy=\"72\" fill=\"rgba(0,0,0,0.251)\" r=\"3.6\"/>\n",
       "<circle cx=\"366.84\" cy=\"64.296\" fill=\"rgba(0,0,0,0.251)\" r=\"9.3262\"/>\n",
       "<circle cx=\"356.256\" cy=\"64.296\" fill=\"rgba(0,0,0,0.251)\" r=\"9.3669\"/>\n",
       "<circle cx=\"347.364\" cy=\"72\" fill=\"rgba(0,0,0,0.251)\" r=\"3.564\"/>\n",
       "<circle cx=\"397.134\" cy=\"33.912\" fill=\"rgba(0,0,0,0.251)\" r=\"4.6461\"/>\n",
       "<circle cx=\"405.864\" cy=\"33.768\" fill=\"rgba(0,0,0,0.251)\" r=\"4.3831\"/>\n",
       "<circle cx=\"412.866\" cy=\"37.89\" fill=\"rgba(0,0,0,0.251)\" r=\"4.1034\"/>\n",
       "<circle cx=\"416.574\" cy=\"45.522\" fill=\"rgba(0,0,0,0.251)\" r=\"4.6881\"/>\n",
       "<circle cx=\"417.528\" cy=\"52.02\" fill=\"rgba(0,0,0,0.251)\" r=\"1.908\"/>\n",
       "<circle cx=\"404.316\" cy=\"53.928\" fill=\"rgba(0,0,0,0.251)\" r=\"13.212\"/>\n",
       "<circle cx=\"392.778\" cy=\"58.914\" fill=\"rgba(0,0,0,0.251)\" r=\"5.2595\"/>\n",
       "<circle cx=\"398.934\" cy=\"65.61\" fill=\"rgba(0,0,0,0.251)\" r=\"4.7971\"/>\n",
       "<circle cx=\"406.674\" cy=\"66.978\" fill=\"rgba(0,0,0,0.251)\" r=\"3.2759\"/>\n",
       "<circle cx=\"412.866\" cy=\"65.646\" fill=\"rgba(0,0,0,0.251)\" r=\"3.0965\"/>\n",
       "<circle cx=\"415.8\" cy=\"67.428\" fill=\"rgba(0,0,0,0.251)\" r=\"2.772\"/>\n",
       "<circle cx=\"412.884\" cy=\"71.154\" fill=\"rgba(0,0,0,0.251)\" r=\"3.0681\"/>\n",
       "<circle cx=\"406.548\" cy=\"72.414\" fill=\"rgba(0,0,0,0.251)\" r=\"3.4337\"/>\n",
       "<circle cx=\"398.268\" cy=\"71.604\" fill=\"rgba(0,0,0,0.251)\" r=\"4.9865\"/>\n",
       "<circle cx=\"390.15\" cy=\"67.176\" fill=\"rgba(0,0,0,0.251)\" r=\"4.6458\"/>\n",
       "<circle cx=\"385.722\" cy=\"58.428\" fill=\"rgba(0,0,0,0.251)\" r=\"5.5605\"/>\n",
       "<circle cx=\"385.614\" cy=\"47.556\" fill=\"rgba(0,0,0,0.251)\" r=\"5.5388\"/>\n",
       "<circle cx=\"389.664\" cy=\"38.628\" fill=\"rgba(0,0,0,0.251)\" r=\"4.5959\"/>\n",
       "<circle cx=\"405.072\" cy=\"39.402\" fill=\"rgba(0,0,0,0.251)\" r=\"3.8455\"/>\n",
       "<circle cx=\"397.962\" cy=\"39.33\" fill=\"rgba(0,0,0,0.251)\" r=\"3.8674\"/>\n",
       "<circle cx=\"392.814\" cy=\"44.838\" fill=\"rgba(0,0,0,0.251)\" r=\"4.3422\"/>\n",
       "<circle cx=\"401.076\" cy=\"48.888\" fill=\"rgba(0,0,0,0.251)\" r=\"9.828\"/>\n",
       "<circle cx=\"409.752\" cy=\"44.91\" fill=\"rgba(0,0,0,0.251)\" r=\"4.1414\"/>\n",
       "<circle cx=\"451.764\" cy=\"58.77\" fill=\"rgba(0,0,0,0.251)\" r=\"2.6633\"/>\n",
       "<circle cx=\"450.36\" cy=\"65.592\" fill=\"rgba(0,0,0,0.251)\" r=\"4.7334\"/>\n",
       "<circle cx=\"442.656\" cy=\"71.28\" fill=\"rgba(0,0,0,0.251)\" r=\"5.7977\"/>\n",
       "<circle cx=\"433.566\" cy=\"72.396\" fill=\"rgba(0,0,0,0.251)\" r=\"3.4891\"/>\n",
       "<circle cx=\"427.518\" cy=\"71.172\" fill=\"rgba(0,0,0,0.251)\" r=\"2.7268\"/>\n",
       "<circle cx=\"424.944\" cy=\"67.392\" fill=\"rgba(0,0,0,0.251)\" r=\"2.88\"/>\n",
       "<circle cx=\"427.734\" cy=\"65.574\" fill=\"rgba(0,0,0,0.251)\" r=\"2.9853\"/>\n",
       "<circle cx=\"433.854\" cy=\"67.122\" fill=\"rgba(0,0,0,0.251)\" r=\"3.3653\"/>\n",
       "<circle cx=\"440.676\" cy=\"66.834\" fill=\"rgba(0,0,0,0.251)\" r=\"3.5767\"/>\n",
       "<circle cx=\"445.248\" cy=\"63.99\" fill=\"rgba(0,0,0,0.251)\" r=\"2.3348\"/>\n",
       "<circle cx=\"445.932\" cy=\"60.624\" fill=\"rgba(0,0,0,0.251)\" r=\"1.3552\"/>\n",
       "<circle cx=\"444.114\" cy=\"58.176\" fill=\"rgba(0,0,0,0.251)\" r=\"1.8301\"/>\n",
       "<circle cx=\"439.758\" cy=\"55.728\" fill=\"rgba(0,0,0,0.251)\" r=\"3.2075\"/>\n",
       "<circle cx=\"433.62\" cy=\"52.992\" fill=\"rgba(0,0,0,0.251)\" r=\"3.5127\"/>\n",
       "<circle cx=\"428.364\" cy=\"49.824\" fill=\"rgba(0,0,0,0.251)\" r=\"2.6827\"/>\n",
       "<circle cx=\"425.592\" cy=\"45.504\" fill=\"rgba(0,0,0,0.251)\" r=\"2.6901\"/>\n",
       "<circle cx=\"426.87\" cy=\"39.132\" fill=\"rgba(0,0,0,0.251)\" r=\"4.2756\"/>\n",
       "<circle cx=\"434.106\" cy=\"34.02\" fill=\"rgba(0,0,0,0.251)\" r=\"5.4047\"/>\n",
       "<circle cx=\"442.638\" cy=\"33.048\" fill=\"rgba(0,0,0,0.251)\" r=\"3.3136\"/>\n",
       "<circle cx=\"448.794\" cy=\"34.344\" fill=\"rgba(0,0,0,0.251)\" r=\"3.0112\"/>\n",
       "<circle cx=\"450.576\" cy=\"37.8\" fill=\"rgba(0,0,0,0.251)\" r=\"2.7417\"/>\n",
       "<circle cx=\"446.94\" cy=\"39.456\" fill=\"rgba(0,0,0,0.251)\" r=\"2.6981\"/>\n",
       "<circle cx=\"441.648\" cy=\"38.232\" fill=\"rgba(0,0,0,0.251)\" r=\"2.7596\"/>\n",
       "<circle cx=\"435.942\" cy=\"38.502\" fill=\"rgba(0,0,0,0.251)\" r=\"3.0361\"/>\n",
       "<circle cx=\"431.946\" cy=\"40.842\" fill=\"rgba(0,0,0,0.251)\" r=\"1.9942\"/>\n",
       "<circle cx=\"431.388\" cy=\"43.92\" fill=\"rgba(0,0,0,0.251)\" r=\"1.4458\"/>\n",
       "<circle cx=\"433.422\" cy=\"46.368\" fill=\"rgba(0,0,0,0.251)\" r=\"1.9023\"/>\n",
       "<circle cx=\"437.922\" cy=\"48.672\" fill=\"rgba(0,0,0,0.251)\" r=\"3.1791\"/>\n",
       "<circle cx=\"443.988\" cy=\"51.3\" fill=\"rgba(0,0,0,0.251)\" r=\"3.4323\"/>\n",
       "<circle cx=\"449.1\" cy=\"54.45\" fill=\"rgba(0,0,0,0.251)\" r=\"2.6399\"/>\n",
       "</svg>"
      ],
      "text/plain": [
       "<IPython.core.display.SVG object>"
      ]
     },
     "metadata": {},
     "output_type": "display_data"
    }
   ],
   "source": [
    "from math import sqrt\n",
    "d = document(350, 72, 'pt')\n",
    "page = d.addpage()\n",
    "pen = shape().nostroke().fill(rgba(0, 0, 0, 64))\n",
    "factor = 72 / f.density\n",
    "cx = 0\n",
    "cy = 0\n",
    "glyph_path = combine_path(f, \"quartzy foxes\").scale(factor).translate(0, 72)\n",
    "for cmd in glyph_path:\n",
    "    if type(cmd) in (lineto, curveto, quadto):\n",
    "        radius = sqrt(pow(cx - cmd.x, 2) + pow(cy - cmd.y, 2)) * 0.5\n",
    "        page.place(pen.circle((cx + cmd.x) / 2, (cy + cmd.y) / 2, radius))\n",
    "    if type(cmd) != type(closepath):\n",
    "        cx = cmd.x\n",
    "        cy = cmd.y\n",
    "show(page)"
   ]
  },
  {
   "cell_type": "markdown",
   "metadata": {},
   "source": [
    "## Further resources\n",
    "\n",
    "For a general introduction to digital typography, I highly recommend [Simon Cozen's *Fonts and Layout for Global Scripts*](https://simoncozens.github.io/fonts-and-layout/). The [history chapter](https://simoncozens.github.io/fonts-and-layout//history.html) is especially insightful and well-researched.\n",
    "\n",
    "More on digital representations of typefaces:\n",
    "\n",
    "* [UFO](http://unifiedfontobject.org/versions/ufo3/), a contemporary file format for fonts\n",
    "* [FreeType Glyph\n",
    "  Conventions](https://www.freetype.org/freetype2/docs/glyphs/index.html) is documentation for FreeType (a widely-used glyph rendering library), but also a good introduction to digital typography in general\n",
    "* [An Introduction to TrueType Fonts: A look inside the TTF format](https://scripts.sil.org/cms/scripts/page.php?site_id=nrsi&id=IWS-Chapter08)\n",
    "* [Bézier Curves and Type Design: A Tutorial](https://learn.scannerlicker.net/2014/04/16/bezier-curves-and-type-design-a-tutorial/)\n",
    "* [Typography in 8 bits: System fonts](https://damieng.com/blog/2011/02/20/typography-in-8-bits-system-fonts)\n",
    "\n",
    "Artworks engaging font data:\n",
    "\n",
    "* [Leslie Mezei, Babel Shook](https://www.atariarchives.org/artist/sec7.php)\n",
    "* [Eduardo Kac, Accident, 1994](http://www.ekac.org/accident.html)\n",
    "* [Jürg Lehni & Alex Rich, Empty words, 2008](http://juerglehni.com/works/empty-words)\n",
    "* [Zach Lieberman et al, IQ Font](http://thesystemis.com/projects/iq-font/)\n",
    "* [BalletFont](https://web.archive.org/web/20160812072806/http://www.creativeapplications.net/openframeworks/balletfont-openframeworks/) ([making-of video](https://youtu.be/-DdAp26lmIU))"
   ]
  }
 ],
 "metadata": {
  "kernelspec": {
   "display_name": "Python 3",
   "language": "python",
   "name": "python3"
  },
  "language_info": {
   "codemirror_mode": {
    "name": "ipython",
    "version": 3
   },
   "file_extension": ".py",
   "mimetype": "text/x-python",
   "name": "python",
   "nbconvert_exporter": "python",
   "pygments_lexer": "ipython3",
   "version": "3.8.2"
  }
 },
 "nbformat": 4,
 "nbformat_minor": 2
}
