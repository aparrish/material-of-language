{
 "cells": [
  {
   "cell_type": "markdown",
   "id": "11965493",
   "metadata": {},
   "source": [
    "# Plotting with vsketch and AxiDraw\n",
    "\n",
    "By [Allison Parrish](https://www.decontextualize.com/)\n",
    "\n",
    "This notebook goes over the basics of using an [AxiDraw](https://axidraw.com/) pen plotter to plot [vsketch](https://vsketch.readthedocs.io/en/latest/index.html) drawings within Jupyter Notebook.\n",
    "\n",
    "Note that for this to work, you need to be running Jupyter Notebook as a local installation—running it on (e.g.) Google Colab or Binder won't work! The Python code needs to communicate directly with your computer's USB port in order to communicate with the plotter.\n",
    "\n",
    "## The basics\n",
    "\n",
    "My first recommendation would be to read [the AxiDraw user guide](https://wiki.evilmadscientist.com/AxiDraw_User_Guide) for your model of plotter. You're probably not going to break the plotter, but they are fickle and fragile things and it's easy to accidentally mess something up or get yourself into a situation where you're not sure why things aren't working.\n",
    "\n",
    "Here are my highlights from the manual:\n",
    "\n",
    "* Don't pick the plotter up by the cable guides! Pick it up using the base only.\n",
    "* There are lots of moving parts—tie up your hair before using the plotter so you don't get sucked in. Also, watch your fingers!\n",
    "* When you're finding a place to set up the plotter, make sure you have enough clearance on both sides for the X-axis carriage.\n",
    "* It's safe to move the carriage, but *only* while the stepper motors aren't engaged. (See below for instructions on how to enter `align` mode, which turns off the motors.)\n",
    "* The plotter can move very precisely, but it *can't* sense its own position. Whenever you issue a command to the plotter to move, it's relative from what was most recently considered to be \"home\"—which might not be the same thing as the absolute limit of the plotter's range of motion.\n",
    "* You can change the orientation of the pen clip (vertical or 45 degrees), depending on the writing implement you want to use. You'll need the hex wrench that comes with the plotter to do this.\n",
    "\n",
    "Note that you don't *have* to use Python to use the AxiDraw plotter! There is also a very friendly [plugin for Inkscape](https://wiki.evilmadscientist.com/Axidraw_Software_Installation), which gives you a nice GUI interface. Using Python makes things a bit easier for a generative art-centric workflow, but there's no reason not to use the GUI if you find it more suitable.\n",
    "\n",
    "## Preliminaries\n",
    "\n",
    "To use the AxiDraw with Python, you need to install the [AxiDraw Python API](https://axidraw.com/doc/py_api/). Installing this will also install the [AxiDraw CLI](https://axidraw.com/doc/cli_api/#introduction), which we'll also make use of in this tutorial. Use the following cell:"
   ]
  },
  {
   "cell_type": "code",
   "execution_count": null,
   "id": "4ad964f8",
   "metadata": {
    "scrolled": true
   },
   "outputs": [],
   "source": [
    "import sys\n",
    "!{sys.executable} -m pip install https://cdn.evilmadscientist.com/dl/ad/public/AxiDraw_API.zip"
   ]
  },
  {
   "cell_type": "markdown",
   "id": "5960f33f",
   "metadata": {},
   "source": [
    "We'll also be using vsketch and Bezmerizing. See previous tutorials in this series for instructions on installing those libraries. Import them like so:"
   ]
  },
  {
   "cell_type": "code",
   "execution_count": 82,
   "id": "66c6a7e0",
   "metadata": {},
   "outputs": [],
   "source": [
    "import vsketch\n",
    "import random\n",
    "import bezmerizing"
   ]
  },
  {
   "cell_type": "markdown",
   "id": "b8c708fe",
   "metadata": {},
   "source": [
    "At this point, you'll want to move the AxiDraw to its home position, and then plug in the power adapter and the USB cable. Set up the easel with a piece of paper and insert a pen."
   ]
  },
  {
   "cell_type": "markdown",
   "id": "5d65d374",
   "metadata": {},
   "source": [
    "## Simple plots\n",
    "\n",
    "The easiest way to plot with AxiDraw is to plot from an SVG file. To show how to do this, I'm going to make a quick drawing with vsketch:"
   ]
  },
  {
   "cell_type": "code",
   "execution_count": 41,
   "id": "cf2631e8",
   "metadata": {},
   "outputs": [
    {
     "data": {
      "image/png": "[encoded data removed]",
      "text/plain": [
       "<Figure size 640x480 with 1 Axes>"
      ]
     },
     "metadata": {},
     "output_type": "display_data"
    }
   ],
   "source": [
    "vsk = vsketch.Vsketch()\n",
    "vsk.size(\"150mm\", \"150mm\")\n",
    "vsk.scale(\"1mm\")\n",
    "vsk.stroke(1)\n",
    "vsk.ellipse(75, 75, 100, 50)\n",
    "vsk.stroke(2)\n",
    "vsk.rect(10, 10, 130, 130)\n",
    "vsk.display()"
   ]
  },
  {
   "cell_type": "markdown",
   "id": "2a209d8d",
   "metadata": {},
   "source": [
    "And then save it as `.svg` using the vsketch `.save()` method:"
   ]
  },
  {
   "cell_type": "code",
   "execution_count": 42,
   "id": "b575e86e",
   "metadata": {},
   "outputs": [],
   "source": [
    "vsk.save(\"test.svg\")"
   ]
  },
  {
   "cell_type": "markdown",
   "id": "0432d7b3",
   "metadata": {},
   "source": [
    "### Helpful commands"
   ]
  },
  {
   "cell_type": "markdown",
   "id": "bfa9b968",
   "metadata": {},
   "source": [
    "Before we actually plot anything, I want to show you a few helpful commands that let you change the state of the device. The first important command is `mode align`, which puts the AxiDraw into `align` mode—this lets you move the carriage freely in order to place the pen in the desired location over your paper:"
   ]
  },
  {
   "cell_type": "code",
   "execution_count": 56,
   "id": "9217e725",
   "metadata": {},
   "outputs": [],
   "source": [
    "!axicli --mode align"
   ]
  },
  {
   "cell_type": "markdown",
   "id": "fda5c5a3",
   "metadata": {},
   "source": [
    "If you add `--mode cycle`, the plotter will additionally lower and raise the pen, so you can see its range of motion:"
   ]
  },
  {
   "cell_type": "code",
   "execution_count": 49,
   "id": "d417844e",
   "metadata": {},
   "outputs": [],
   "source": [
    "!axicli --mode align --mode cycle"
   ]
  },
  {
   "cell_type": "markdown",
   "id": "a3556eb2",
   "metadata": {},
   "source": [
    "Finally, the `--mode manual -M lower_pen` command will lower the pen. This is helpful for making sure that your pen is placed in such a way that it will actually make contact with the paper:"
   ]
  },
  {
   "cell_type": "code",
   "execution_count": 48,
   "id": "b318ad35",
   "metadata": {},
   "outputs": [],
   "source": [
    "!axicli --mode manual -M lower_pen"
   ]
  },
  {
   "cell_type": "markdown",
   "id": "e0a598d9",
   "metadata": {},
   "source": [
    "Using `-M raise_pen` will raise the pen again:"
   ]
  },
  {
   "cell_type": "code",
   "execution_count": null,
   "id": "2fe53fea",
   "metadata": {
    "scrolled": true
   },
   "outputs": [],
   "source": [
    "!axicli --mode manual -M lower_pen"
   ]
  },
  {
   "cell_type": "markdown",
   "id": "9bd986af",
   "metadata": {},
   "source": [
    "### Plotting from a file\n",
    "\n",
    "To plot from a file using the Python API, initialize the `AxiDraw` object, and call `.plot_setup()` with the same of the SVG file to plot. Then call `.plot_run()`. Voila!"
   ]
  },
  {
   "cell_type": "code",
   "execution_count": 51,
   "id": "4c0c552f",
   "metadata": {},
   "outputs": [],
   "source": [
    "ad = axidraw.AxiDraw()"
   ]
  },
  {
   "cell_type": "code",
   "execution_count": 52,
   "id": "2483d0ec",
   "metadata": {},
   "outputs": [],
   "source": [
    "ad.plot_setup(\"test.svg\")"
   ]
  },
  {
   "cell_type": "code",
   "execution_count": 53,
   "id": "e5beb0a8",
   "metadata": {},
   "outputs": [],
   "source": [
    "ad.plot_run()"
   ]
  },
  {
   "cell_type": "markdown",
   "id": "5619ad1a",
   "metadata": {},
   "source": [
    "If you need to interrupt the plot, simply interrupt the Python cell, then run the `align` command to turn off the stepper motors: "
   ]
  },
  {
   "cell_type": "code",
   "execution_count": null,
   "id": "2f6f61e8",
   "metadata": {},
   "outputs": [],
   "source": [
    "!axicli --mode align"
   ]
  },
  {
   "cell_type": "markdown",
   "id": "d6488a32",
   "metadata": {},
   "source": [
    "### Plotting with layers\n",
    "\n",
    "You'll notice that the above command plots *all* paths in the SVG file. The `vsketch` library lets you specify different \"pens\" to draw with, which are stored in the SVG file as different numbered layers. If you want to plot each layer separately, use the `mode` and `layer` attributes of the AxiDraw object's `options`. For example, the following cell will plot only layer 1 (vsketch's pen 1) from the SVG file:"
   ]
  },
  {
   "cell_type": "code",
   "execution_count": 54,
   "id": "b2942cf2",
   "metadata": {},
   "outputs": [],
   "source": [
    "ad.plot_setup(\"test.svg\")\n",
    "ad.options.mode = \"layers\"\n",
    "ad.options.layer = 1\n",
    "ad.plot_run()"
   ]
  },
  {
   "cell_type": "markdown",
   "id": "a7bfa648",
   "metadata": {},
   "source": [
    "When that plot is complete, you can switch out the pen in the plotter and draw layer 2 (vsketch's pen 2):"
   ]
  },
  {
   "cell_type": "code",
   "execution_count": 55,
   "id": "bcdc937b",
   "metadata": {},
   "outputs": [],
   "source": [
    "ad.plot_setup(\"test.svg\")\n",
    "ad.options.mode = \"layers\"\n",
    "ad.options.layer = 2\n",
    "ad.plot_run()"
   ]
  },
  {
   "cell_type": "markdown",
   "id": "80f8b60a",
   "metadata": {},
   "source": [
    "The `.options` attribute has many other settings that you can adjust, many of which can be helpful when working with particular kinds of pens, or to optimize the plotting process. See the [full list here](https://axidraw.com/doc/py_api/#options-plot)."
   ]
  },
  {
   "cell_type": "markdown",
   "id": "c05c8fe4",
   "metadata": {},
   "source": [
    "## Interactive mode\n",
    "\n",
    "The plotter also has an \"interactive mode,\" which lets you send movement commands directly to the AxiDraw with Python function calls. To use this, call the `.interactive()` and `.connect()` methods of the `AxiDraw` object."
   ]
  },
  {
   "cell_type": "code",
   "execution_count": 119,
   "id": "2179796b",
   "metadata": {},
   "outputs": [],
   "source": [
    "from pyaxidraw import axidraw"
   ]
  },
  {
   "cell_type": "code",
   "execution_count": 89,
   "id": "cbb2d350",
   "metadata": {
    "scrolled": true
   },
   "outputs": [
    {
     "data": {
      "text/plain": [
       "True"
      ]
     },
     "execution_count": 89,
     "metadata": {},
     "output_type": "execute_result"
    }
   ],
   "source": [
    "ad = axidraw.AxiDraw()\n",
    "ad.interactive()\n",
    "ad.connect()"
   ]
  },
  {
   "cell_type": "markdown",
   "id": "587b18f9",
   "metadata": {},
   "source": [
    "Moving the pen up and down:"
   ]
  },
  {
   "cell_type": "code",
   "execution_count": 59,
   "id": "4d455880",
   "metadata": {},
   "outputs": [],
   "source": [
    "ad.pendown()"
   ]
  },
  {
   "cell_type": "code",
   "execution_count": 91,
   "id": "0d4ac03b",
   "metadata": {},
   "outputs": [],
   "source": [
    "ad.penup()"
   ]
  },
  {
   "cell_type": "markdown",
   "id": "f90000b8",
   "metadata": {},
   "source": [
    "Set to the unit you want (see [full list](https://axidraw.com/doc/py_api/#units))"
   ]
  },
  {
   "cell_type": "code",
   "execution_count": 106,
   "id": "d9486d98",
   "metadata": {},
   "outputs": [],
   "source": [
    "ad.options.units = 2 # millimeters"
   ]
  },
  {
   "cell_type": "markdown",
   "id": "8a2a1af7",
   "metadata": {},
   "source": [
    "The `.goto()` method moves to a particular position:"
   ]
  },
  {
   "cell_type": "code",
   "execution_count": 75,
   "id": "df06f1b2",
   "metadata": {},
   "outputs": [],
   "source": [
    "for i in range(5):\n",
    "    ad.penup()\n",
    "    ad.goto(random.randrange(0, 150), random.randrange(0, 150))\n",
    "    ad.pendown()\n",
    "    ad.goto(random.randrange(0, 150), random.randrange(0, 150))\n",
    "ad.penup()"
   ]
  },
  {
   "cell_type": "markdown",
   "id": "d435e7f9",
   "metadata": {},
   "source": [
    "Return home:"
   ]
  },
  {
   "cell_type": "code",
   "execution_count": 92,
   "id": "7ee3930d",
   "metadata": {},
   "outputs": [],
   "source": [
    "ad.goto(0, 0)"
   ]
  },
  {
   "cell_type": "markdown",
   "id": "4824c152",
   "metadata": {},
   "source": [
    "The `.moveto()` and `.lineto()` methods guarantee that the pen is in a particular position:"
   ]
  },
  {
   "cell_type": "code",
   "execution_count": 70,
   "id": "e14f0746",
   "metadata": {},
   "outputs": [],
   "source": [
    "for i in range(5):\n",
    "    ad.moveto(75, 75)\n",
    "    ad.lineto(random.randrange(0, 150), random.randrange(0, 150))\n",
    "ad.penup()\n",
    "ad.moveto(0, 0)"
   ]
  },
  {
   "cell_type": "markdown",
   "id": "f4328fca",
   "metadata": {},
   "source": [
    "Let's make a glyph!"
   ]
  },
  {
   "cell_type": "code",
   "execution_count": 103,
   "id": "8211f6be",
   "metadata": {},
   "outputs": [],
   "source": [
    "import itertools\n",
    "def create_figure():\n",
    "    # a 3x4 grid\n",
    "    all_pts = list(itertools.product([20, 75, 130], [20, 75, 130]))\n",
    "    # pick some number of points from the grid\n",
    "    pts = random.sample(all_pts, random.randrange(6, 10))\n",
    "    return pts"
   ]
  },
  {
   "cell_type": "code",
   "execution_count": 111,
   "id": "7bd68e25",
   "metadata": {},
   "outputs": [],
   "source": [
    "fig = create_figure()\n",
    "curve = bezmerizing.Polyline(fig).catmull_spline(-0.5)\n",
    "curve_pts = curve.to_polyline(20)"
   ]
  },
  {
   "cell_type": "code",
   "execution_count": 109,
   "id": "a4e1dc7c",
   "metadata": {},
   "outputs": [
    {
     "data": {
      "image/png": "[encoded data removed]",
      "text/plain": [
       "<Figure size 640x480 with 1 Axes>"
      ]
     },
     "metadata": {},
     "output_type": "display_data"
    }
   ],
   "source": [
    "vsk = vsketch.Vsketch()\n",
    "vsk.size(\"150mm\", \"150mm\", center=False)\n",
    "vsk.scale(\"1mm\")\n",
    "vsk.polygon(curve_pts)\n",
    "vsk.display()"
   ]
  },
  {
   "cell_type": "markdown",
   "id": "93471ddb",
   "metadata": {},
   "source": [
    "Draw this using only `lineto()`:"
   ]
  },
  {
   "cell_type": "code",
   "execution_count": 110,
   "id": "9d36e522",
   "metadata": {},
   "outputs": [],
   "source": [
    "ad.moveto(curve_pts[0][0], curve_pts[0][1])\n",
    "for pt1, pt2 in zip(curve_pts[1:-1], curve_pts[2:]):\n",
    "    ad.lineto(pt2[0], pt2[1])\n",
    "ad.moveto(0, 0)"
   ]
  },
  {
   "cell_type": "markdown",
   "id": "84e6cbfc",
   "metadata": {},
   "source": [
    "Or also:"
   ]
  },
  {
   "cell_type": "code",
   "execution_count": 113,
   "id": "b496fc2c",
   "metadata": {},
   "outputs": [],
   "source": [
    "ad.draw_path(curve_pts)"
   ]
  },
  {
   "cell_type": "markdown",
   "id": "e0daf0b5",
   "metadata": {},
   "source": [
    "Putting it all together and making a mess:"
   ]
  },
  {
   "cell_type": "code",
   "execution_count": 116,
   "id": "4bf34569",
   "metadata": {},
   "outputs": [],
   "source": [
    "ad.moveto(0, 0)"
   ]
  },
  {
   "cell_type": "code",
   "execution_count": 115,
   "id": "ace4f621",
   "metadata": {},
   "outputs": [],
   "source": [
    "for i in range(5):\n",
    "    fig = create_figure()\n",
    "    curve = bezmerizing.Polyline(fig).catmull_spline(-0.5)\n",
    "    curve_pts = curve.to_polyline(20)\n",
    "    ad.draw_path(curve_pts)"
   ]
  },
  {
   "cell_type": "markdown",
   "id": "7130104b",
   "metadata": {},
   "source": [
    "Reset to align mode to turn off stepper motors:"
   ]
  },
  {
   "cell_type": "code",
   "execution_count": 117,
   "id": "8d21da1f",
   "metadata": {},
   "outputs": [],
   "source": [
    "!axicli --mode align"
   ]
  },
  {
   "cell_type": "markdown",
   "id": "dbad1809",
   "metadata": {},
   "source": [
    "When you're done, disconnect:"
   ]
  },
  {
   "cell_type": "code",
   "execution_count": 80,
   "id": "ee2b85d8",
   "metadata": {},
   "outputs": [],
   "source": [
    "ad.disconnect()"
   ]
  }
 ],
 "metadata": {
  "kernelspec": {
   "display_name": "Python 3 (ipykernel)",
   "language": "python",
   "name": "python3"
  },
  "language_info": {
   "codemirror_mode": {
    "name": "ipython",
    "version": 3
   },
   "file_extension": ".py",
   "mimetype": "text/x-python",
   "name": "python",
   "nbconvert_exporter": "python",
   "pygments_lexer": "ipython3",
   "version": "3.9.16"
  }
 },
 "nbformat": 4,
 "nbformat_minor": 5
}
