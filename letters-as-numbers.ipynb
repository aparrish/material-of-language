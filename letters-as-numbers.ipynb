{
 "cells": [
  {
   "cell_type": "markdown",
   "metadata": {},
   "source": [
    "# Computers represent letters as numbers, and that has all sorts of weird implications\n",
    "\n",
    "By [Allison Parrish](http://www.decontextualize.com/)"
   ]
  },
  {
   "cell_type": "code",
   "execution_count": 1,
   "metadata": {},
   "outputs": [],
   "source": [
    "import random"
   ]
  },
  {
   "cell_type": "markdown",
   "metadata": {},
   "source": [
    "## Opening a text file\n",
    "\n",
    "The following bit of code opens a text file in the same directory as this notebook and reads it into a string."
   ]
  },
  {
   "cell_type": "code",
   "execution_count": 2,
   "metadata": {},
   "outputs": [],
   "source": [
    "text = open(\"wikipedia-emoji.txt\").read()"
   ]
  },
  {
   "cell_type": "markdown",
   "metadata": {},
   "source": [
    "The `print()` function will display the string, interpolating formatting characters like `\\n`:"
   ]
  },
  {
   "cell_type": "code",
   "execution_count": 3,
   "metadata": {},
   "outputs": [
    {
     "name": "stdout",
     "output_type": "stream",
     "text": [
      "Emoji (Japanese: 絵文字, English: /ɪˈmoʊdʒiː/; Japanese: [emodʑi]; singular emoji, plural emoji or emojis) are ideograms and smileys used in electronic messages and web pages. Emoji exist in various genres, including facial expressions, common objects, places and types of weather, and animals. They are much like emoticons, but emoji are actual pictures instead of typographics. Originally meaning pictograph, the word emoji comes from Japanese e (絵, \"picture\") + moji (文字, \"character\"); the resemblance to the English words emotion and emoticon is purely coincidental. The ISO 15924 script code for emoji is Zsye.\n",
      "\n",
      "Originating on Japanese mobile phones in 1997, emoji became increasingly popular worldwide in the 2010s after being added to several mobile operating systems. They are now considered to be a large part of popular culture in the west. In 2015, Oxford Dictionaries named the Face with Tears of Joy emoji (😂) the Word of the Year.\n",
      "\n"
     ]
    }
   ],
   "source": [
    "print(text)"
   ]
  },
  {
   "cell_type": "markdown",
   "metadata": {},
   "source": [
    "You can artificially introduce linebreaks to make it a little bit more readable using the `textwrap.fill()` function, though this will obliterate any existing linebreaks:"
   ]
  },
  {
   "cell_type": "code",
   "execution_count": 4,
   "metadata": {},
   "outputs": [],
   "source": [
    "import textwrap"
   ]
  },
  {
   "cell_type": "code",
   "execution_count": 5,
   "metadata": {},
   "outputs": [
    {
     "name": "stdout",
     "output_type": "stream",
     "text": [
      "Emoji (Japanese: 絵文字, English: /ɪˈmoʊdʒiː/; Japanese:\n",
      "[emodʑi]; singular emoji, plural emoji or emojis) are\n",
      "ideograms and smileys used in electronic messages and\n",
      "web pages. Emoji exist in various genres, including\n",
      "facial expressions, common objects, places and types of\n",
      "weather, and animals. They are much like emoticons, but\n",
      "emoji are actual pictures instead of typographics.\n",
      "Originally meaning pictograph, the word emoji comes\n",
      "from Japanese e (絵, \"picture\") + moji (文字,\n",
      "\"character\"); the resemblance to the English words\n",
      "emotion and emoticon is purely coincidental. The ISO\n",
      "15924 script code for emoji is Zsye.  Originating on\n",
      "Japanese mobile phones in 1997, emoji became\n",
      "increasingly popular worldwide in the 2010s after being\n",
      "added to several mobile operating systems. They are now\n",
      "considered to be a large part of popular culture in the\n",
      "west. In 2015, Oxford Dictionaries named the Face with\n",
      "Tears of Joy emoji (😂) the Word of the Year.\n"
     ]
    }
   ],
   "source": [
    "print(textwrap.fill(text, 55))"
   ]
  },
  {
   "cell_type": "markdown",
   "metadata": {},
   "source": [
    "## Characters have numbers\n",
    "\n",
    "For better or worse, the primary conceptual model of text in a computational context is this: text is a one-dimensional sequence of characters. Computers operate internally only on numbers; therefore, characters must be represented as numbers. The `ord()` function in Python evaluates to the number associated with a particular character. For example:"
   ]
  },
  {
   "cell_type": "code",
   "execution_count": 6,
   "metadata": {},
   "outputs": [
    {
     "data": {
      "text/plain": [
       "97"
      ]
     },
     "execution_count": 6,
     "metadata": {},
     "output_type": "execute_result"
    }
   ],
   "source": [
    "ord('a')"
   ]
  },
  {
   "cell_type": "markdown",
   "metadata": {},
   "source": [
    "The character `a` is represented by the number 97. You can get the character that corresponds to a given number with the `chr()` function:"
   ]
  },
  {
   "cell_type": "code",
   "execution_count": 7,
   "metadata": {
    "scrolled": true
   },
   "outputs": [
    {
     "data": {
      "text/plain": [
       "'a'"
      ]
     },
     "execution_count": 7,
     "metadata": {},
     "output_type": "execute_result"
    }
   ],
   "source": [
    "chr(97)"
   ]
  },
  {
   "cell_type": "markdown",
   "metadata": {},
   "source": [
    "These functions are exact inverses of one another, so calling them in a nested fashion like so should always return the original value:"
   ]
  },
  {
   "cell_type": "code",
   "execution_count": 8,
   "metadata": {},
   "outputs": [
    {
     "data": {
      "text/plain": [
       "97"
      ]
     },
     "execution_count": 8,
     "metadata": {},
     "output_type": "execute_result"
    }
   ],
   "source": [
    "ord(chr(97))"
   ]
  },
  {
   "cell_type": "code",
   "execution_count": 9,
   "metadata": {},
   "outputs": [
    {
     "data": {
      "text/plain": [
       "'a'"
      ]
     },
     "execution_count": 9,
     "metadata": {},
     "output_type": "execute_result"
    }
   ],
   "source": [
    "chr(ord('a'))"
   ]
  },
  {
   "cell_type": "markdown",
   "metadata": {},
   "source": [
    "Now you can do a little bit of exploring. Put some other numbers in there and see what you can discover:"
   ]
  },
  {
   "cell_type": "code",
   "execution_count": 10,
   "metadata": {
    "scrolled": true
   },
   "outputs": [
    {
     "data": {
      "text/plain": [
       "'Ϩ'"
      ]
     },
     "execution_count": 10,
     "metadata": {},
     "output_type": "execute_result"
    }
   ],
   "source": [
    "chr(1000)"
   ]
  },
  {
   "cell_type": "markdown",
   "metadata": {},
   "source": [
    "Maybe even use a random number generator to find things:"
   ]
  },
  {
   "cell_type": "code",
   "execution_count": 11,
   "metadata": {},
   "outputs": [
    {
     "name": "stdout",
     "output_type": "stream",
     "text": [
      "ɨ\n",
      "ș\n",
      "Қ\n",
      "૙\n",
      "ቤ\n",
      "ݙ\n",
      "ൌ\n",
      "ႍ\n",
      "³\n",
      "Δ\n"
     ]
    }
   ],
   "source": [
    "for i in range(10):\n",
    "    print(chr(random.randrange(5000)))"
   ]
  },
  {
   "cell_type": "markdown",
   "metadata": {},
   "source": [
    "Depending on your browser, operating system, and browser font stack, sometimes you'll see a replacement character (\"�\"), a small box with a number in a pixel font, or an empty space. These indicate that either (a) the browser can't render the character (e.g., because you don't have a font on your computer that has that character) or (b) the number you specified doesn't correspond to a valid character. The character might also just be one of several characters that represent whitespace!\n",
    "\n",
    "The numbers that Python uses to represent characters are the same numbers as Unicode code points. You can use [a tool like this Unicode Character Table](https://unicode-table.com/en/) to look up characters by name (or browse characters) to find their Unicode codepoint. Usually these are written like `U+1F336`—the number following the `+` is a hexidecimal number. (We'll talk more about Unicode and hexidecimal numbers below.) You can pass a Unicode codepoint value directly to the `chr()` function in Python by prepending it with `0x`:"
   ]
  },
  {
   "cell_type": "code",
   "execution_count": 12,
   "metadata": {},
   "outputs": [
    {
     "data": {
      "text/plain": [
       "'🌶'"
      ]
     },
     "execution_count": 12,
     "metadata": {},
     "output_type": "execute_result"
    }
   ],
   "source": [
    "chr(0x1F336)"
   ]
  },
  {
   "cell_type": "markdown",
   "metadata": {},
   "source": [
    "The `ord()` function works for any Unicode character, btw:"
   ]
  },
  {
   "cell_type": "code",
   "execution_count": 13,
   "metadata": {},
   "outputs": [
    {
     "data": {
      "text/plain": [
       "128571"
      ]
     },
     "execution_count": 13,
     "metadata": {},
     "output_type": "execute_result"
    }
   ],
   "source": [
    "ord('😻')"
   ]
  },
  {
   "cell_type": "markdown",
   "metadata": {},
   "source": [
    "You can get the codepoint by formatting this as a hexidecimal number:"
   ]
  },
  {
   "cell_type": "code",
   "execution_count": 14,
   "metadata": {},
   "outputs": [
    {
     "data": {
      "text/plain": [
       "'0x1f63b'"
      ]
     },
     "execution_count": 14,
     "metadata": {},
     "output_type": "execute_result"
    }
   ],
   "source": [
    "hex(ord('😻'))"
   ]
  },
  {
   "cell_type": "markdown",
   "metadata": {},
   "source": [
    "### Doing math on character numbers\n",
    "\n",
    "Having realized that computers represent characters as numbers, there's nothing stopping us from doing weird things with those numbers... like adding them together:"
   ]
  },
  {
   "cell_type": "code",
   "execution_count": 15,
   "metadata": {},
   "outputs": [
    {
     "data": {
      "text/plain": [
       "'Ã'"
      ]
     },
     "execution_count": 15,
     "metadata": {},
     "output_type": "execute_result"
    }
   ],
   "source": [
    "chr(ord('a') + ord('b'))"
   ]
  },
  {
   "cell_type": "markdown",
   "metadata": {},
   "source": [
    "Or multiplying them:"
   ]
  },
  {
   "cell_type": "code",
   "execution_count": 16,
   "metadata": {},
   "outputs": [
    {
     "data": {
      "text/plain": [
       "'Ƅ'"
      ]
     },
     "execution_count": 16,
     "metadata": {},
     "output_type": "execute_result"
    }
   ],
   "source": [
    "chr(ord('a') * 4)"
   ]
  },
  {
   "cell_type": "markdown",
   "metadata": {},
   "source": [
    "Or adding some random noise to them:"
   ]
  },
  {
   "cell_type": "code",
   "execution_count": 17,
   "metadata": {},
   "outputs": [
    {
     "data": {
      "text/plain": [
       "'c'"
      ]
     },
     "execution_count": 17,
     "metadata": {},
     "output_type": "execute_result"
    }
   ],
   "source": [
    "chr(ord('a') + random.randrange(-5, 5))"
   ]
  },
  {
   "cell_type": "markdown",
   "metadata": {},
   "source": [
    "Let's make two different strings just to play around with:"
   ]
  },
  {
   "cell_type": "code",
   "execution_count": 18,
   "metadata": {},
   "outputs": [],
   "source": [
    "msg_a = \"mother said there'd be days like these\"\n",
    "msg_b = \"suppose there was a pigeon, suppose there is\""
   ]
  },
  {
   "cell_type": "markdown",
   "metadata": {},
   "source": [
    "Using a list comprehension, we can apply arithmetical transformations to an entire string. We'll start with the following expression:"
   ]
  },
  {
   "cell_type": "code",
   "execution_count": 19,
   "metadata": {},
   "outputs": [
    {
     "data": {
      "text/plain": [
       "\"mother said there'd be days like these\""
      ]
     },
     "execution_count": 19,
     "metadata": {},
     "output_type": "execute_result"
    }
   ],
   "source": [
    "''.join([chr(ord(c)) for c in msg_a])"
   ]
  },
  {
   "cell_type": "markdown",
   "metadata": {},
   "source": [
    "This expression simply evaluates to a copy of the original string by converting the number of each character back to its original character. But we can tweak it a little bit by putting an expression inside the call to `chr()`, using the value of the `ord()` function as part of an arithmetic expression. This expression adds one to the value of each character:"
   ]
  },
  {
   "cell_type": "code",
   "execution_count": 20,
   "metadata": {},
   "outputs": [
    {
     "data": {
      "text/plain": [
       "'npuifs!tbje!uifsf(e!cf!ebzt!mjlf!uiftf'"
      ]
     },
     "execution_count": 20,
     "metadata": {},
     "output_type": "execute_result"
    }
   ],
   "source": [
    "''.join([chr(ord(c) + 1) for c in msg_a])"
   ]
  },
  {
   "cell_type": "markdown",
   "metadata": {},
   "source": [
    "And this multiplies the value of each character by two:"
   ]
  },
  {
   "cell_type": "code",
   "execution_count": 21,
   "metadata": {},
   "outputs": [
    {
     "data": {
      "text/plain": [
       "'ÚÞèÐÊä@æÂÒÈ@èÐÊäÊNÈ@ÄÊ@ÈÂòæ@ØÒÖÊ@èÐÊæÊ'"
      ]
     },
     "execution_count": 21,
     "metadata": {},
     "output_type": "execute_result"
    }
   ],
   "source": [
    "''.join([chr(ord(c) * 2) for c in msg_a])"
   ]
  },
  {
   "cell_type": "markdown",
   "metadata": {},
   "source": [
    "This expression \"transposes\" the string to a different Unicode range. (Replace `0x1F300` with the Unicode codepoint that starts a range of characters you're interested in.)"
   ]
  },
  {
   "cell_type": "code",
   "execution_count": 22,
   "metadata": {},
   "outputs": [
    {
     "data": {
      "text/plain": [
       "'🍭🍯🍴🍨🍥🍲🌠🍳🍡🍩🍤🌠🍴🍨🍥🍲🍥🌧🍤🌠🍢🍥🌠🍤🍡🍹🍳🌠🍬🍩🍫🍥🌠🍴🍨🍥🍳🍥'"
      ]
     },
     "execution_count": 22,
     "metadata": {},
     "output_type": "execute_result"
    }
   ],
   "source": [
    "''.join([chr(ord(c) + 0x1F300) for c in msg_a])"
   ]
  },
  {
   "cell_type": "markdown",
   "metadata": {},
   "source": [
    "Using a `for` loop, each line adds one more to each character than the line previous:"
   ]
  },
  {
   "cell_type": "code",
   "execution_count": 23,
   "metadata": {},
   "outputs": [
    {
     "name": "stdout",
     "output_type": "stream",
     "text": [
      "mother said there'd be days like these\n",
      "npuifs!tbje!uifsf(e!cf!ebzt!mjlf!uiftf\n",
      "oqvjgt\"uckf\"vjgtg)f\"dg\"fc{u\"nkmg\"vjgug\n",
      "prwkhu#vdlg#wkhuh*g#eh#gd|v#olnh#wkhvh\n",
      "qsxliv$wemh$xlivi+h$fi$he}w$pmoi$xliwi\n",
      "rtymjw%xfni%ymjwj,i%gj%if~x%qnpj%ymjxj\n",
      "suznkx&ygoj&znkxk-j&hk&jgy&roqk&znkyk\n",
      "tv{oly'zhpk'{olyl.k'il'khz'sprl'{olzl\n",
      "uw|pmz({iql(|pmzm/l(jm(li{(tqsm(|pm{m\n",
      "vx}qn{)|jrm)}qn{n0m)kn)mj|)urtn)}qn|n\n"
     ]
    }
   ],
   "source": [
    "for i in range(10):\n",
    "    print(''.join([chr(ord(c)+i) for c in msg_a]))"
   ]
  },
  {
   "cell_type": "markdown",
   "metadata": {},
   "source": [
    "This code is a bit more sophisticated: it attempts to \"average\" two strings, by summing two strings character-wise, then finding the character whose number is closest to the sum divided by two:"
   ]
  },
  {
   "cell_type": "code",
   "execution_count": 24,
   "metadata": {},
   "outputs": [
    {
     "name": "stdout",
     "output_type": "stream",
     "text": [
      "mother said there'd be days like these\n",
      "suppose there was a pigeon, suppose there is\n",
      "prrljrBJjhdIlDnjl$b igDdhtP ponjHtfBtfBIB DJ\n"
     ]
    }
   ],
   "source": [
    "out = \"\"\n",
    "longest_length = max(len(msg_a), len(msg_b))\n",
    "pad_a = msg_a.ljust(longest_length)\n",
    "pad_b = msg_b.ljust(longest_length)\n",
    "for i in range(longest_length):\n",
    "    avg_val = (ord(pad_a[i]) + ord(pad_b[i])) / 2\n",
    "    avg_chr = chr(round(avg_val))\n",
    "    out += avg_chr\n",
    "print(msg_a)\n",
    "print(msg_b)\n",
    "print(out)"
   ]
  },
  {
   "cell_type": "markdown",
   "metadata": {},
   "source": [
    "You don't have to start with an existing string. You can generate your own data. Here's a sine wave:"
   ]
  },
  {
   "cell_type": "code",
   "execution_count": 25,
   "metadata": {},
   "outputs": [],
   "source": [
    "import math"
   ]
  },
  {
   "cell_type": "code",
   "execution_count": 26,
   "metadata": {},
   "outputs": [
    {
     "data": {
      "text/plain": [
       "'fghijjjjjihgfedcbaaaaabcdeghijjjjjiihfedcbaaaaabcdefhijjjjjjihgedcbaaaaabcdefgii'"
      ]
     },
     "execution_count": 26,
     "metadata": {},
     "output_type": "execute_result"
    }
   ],
   "source": [
    "''.join([chr(int(102 + (math.sin(i*0.25)*5))) for i in range(80)])"
   ]
  },
  {
   "cell_type": "markdown",
   "metadata": {},
   "source": [
    "### Other arithmetic operations\n",
    "\n",
    "The largest and smallest numbers in the string:"
   ]
  },
  {
   "cell_type": "code",
   "execution_count": 27,
   "metadata": {},
   "outputs": [
    {
     "data": {
      "text/plain": [
       "'y'"
      ]
     },
     "execution_count": 27,
     "metadata": {},
     "output_type": "execute_result"
    }
   ],
   "source": [
    "max(msg_a)"
   ]
  },
  {
   "cell_type": "code",
   "execution_count": 28,
   "metadata": {},
   "outputs": [
    {
     "data": {
      "text/plain": [
       "' '"
      ]
     },
     "execution_count": 28,
     "metadata": {},
     "output_type": "execute_result"
    }
   ],
   "source": [
    "min(msg_a)"
   ]
  },
  {
   "cell_type": "markdown",
   "metadata": {},
   "source": [
    "The sum of the values in the string:"
   ]
  },
  {
   "cell_type": "code",
   "execution_count": 29,
   "metadata": {},
   "outputs": [
    {
     "data": {
      "text/plain": [
       "3529"
      ]
     },
     "execution_count": 29,
     "metadata": {},
     "output_type": "execute_result"
    }
   ],
   "source": [
    "sum([ord(c) for c in msg_a])"
   ]
  },
  {
   "cell_type": "markdown",
   "metadata": {},
   "source": [
    "The \"average\" character in the string:"
   ]
  },
  {
   "cell_type": "code",
   "execution_count": 30,
   "metadata": {},
   "outputs": [
    {
     "data": {
      "text/plain": [
       "92.86842105263158"
      ]
     },
     "execution_count": 30,
     "metadata": {},
     "output_type": "execute_result"
    }
   ],
   "source": [
    "avg = sum([ord(c) for c in msg_a]) / len(msg_a)\n",
    "avg"
   ]
  },
  {
   "cell_type": "code",
   "execution_count": 31,
   "metadata": {},
   "outputs": [
    {
     "data": {
      "text/plain": [
       "']'"
      ]
     },
     "execution_count": 31,
     "metadata": {},
     "output_type": "execute_result"
    }
   ],
   "source": [
    "chr(round(avg))"
   ]
  },
  {
   "cell_type": "markdown",
   "metadata": {},
   "source": [
    "## Unicode\n",
    "\n",
    "As mentioned above, the numbers that Python associates with each character are their Unicode codepoint values. Unicode is a widely-used standard for representing text in computers; its primary purpose is to be a standard for which characters are associated with which numbers. Each character has a number, a description, and other associated metadata. New characters (with new numbers) can be added to Unicode through agreement of the Unicode Consortium. Python comes with a Unicode database built-in; you can use it to look up the names and metadata of characters:"
   ]
  },
  {
   "cell_type": "code",
   "execution_count": 32,
   "metadata": {},
   "outputs": [],
   "source": [
    "import unicodedata"
   ]
  },
  {
   "cell_type": "code",
   "execution_count": 33,
   "metadata": {},
   "outputs": [
    {
     "data": {
      "text/plain": [
       "'SMILING CAT FACE WITH HEART-SHAPED EYES'"
      ]
     },
     "execution_count": 33,
     "metadata": {},
     "output_type": "execute_result"
    }
   ],
   "source": [
    "unicodedata.name('😻')"
   ]
  },
  {
   "cell_type": "markdown",
   "metadata": {},
   "source": [
    "Rewriting a string as a sequence of the Unicode names of its characters:"
   ]
  },
  {
   "cell_type": "code",
   "execution_count": 34,
   "metadata": {},
   "outputs": [
    {
     "name": "stdout",
     "output_type": "stream",
     "text": [
      "LATIN SMALL LETTER M\n",
      "LATIN SMALL LETTER O\n",
      "LATIN SMALL LETTER T\n",
      "LATIN SMALL LETTER H\n",
      "LATIN SMALL LETTER E\n",
      "LATIN SMALL LETTER R\n",
      "SPACE\n",
      "LATIN SMALL LETTER S\n",
      "LATIN SMALL LETTER A\n",
      "LATIN SMALL LETTER I\n",
      "LATIN SMALL LETTER D\n",
      "SPACE\n",
      "LATIN SMALL LETTER T\n",
      "LATIN SMALL LETTER H\n",
      "LATIN SMALL LETTER E\n",
      "LATIN SMALL LETTER R\n",
      "LATIN SMALL LETTER E\n",
      "APOSTROPHE\n",
      "LATIN SMALL LETTER D\n",
      "SPACE\n",
      "LATIN SMALL LETTER B\n",
      "LATIN SMALL LETTER E\n",
      "SPACE\n",
      "LATIN SMALL LETTER D\n",
      "LATIN SMALL LETTER A\n",
      "LATIN SMALL LETTER Y\n",
      "LATIN SMALL LETTER S\n",
      "SPACE\n",
      "LATIN SMALL LETTER L\n",
      "LATIN SMALL LETTER I\n",
      "LATIN SMALL LETTER K\n",
      "LATIN SMALL LETTER E\n",
      "SPACE\n",
      "LATIN SMALL LETTER T\n",
      "LATIN SMALL LETTER H\n",
      "LATIN SMALL LETTER E\n",
      "LATIN SMALL LETTER S\n",
      "LATIN SMALL LETTER E\n"
     ]
    }
   ],
   "source": [
    "for ch in msg_a:\n",
    "    print(unicodedata.name(ch))"
   ]
  },
  {
   "cell_type": "markdown",
   "metadata": {},
   "source": [
    "The same thing, but for a longer string:"
   ]
  },
  {
   "cell_type": "code",
   "execution_count": 35,
   "metadata": {
    "scrolled": false
   },
   "outputs": [
    {
     "name": "stdout",
     "output_type": "stream",
     "text": [
      "LATIN CAPITAL LETTER E, LATIN SMALL LETTER M, LATIN SMALL LETTER O, LATIN SMALL LETTER J, LATIN SMALL LETTER I, SPACE, LEFT PARENTHESIS, LATIN CAPITAL LETTER J, LATIN SMALL LETTER A, LATIN SMALL LETTER P, LATIN SMALL LETTER A, LATIN SMALL LETTER N, LATIN SMALL LETTER E, LATIN SMALL LETTER S, LATIN SMALL LETTER E, COLON, SPACE, CJK UNIFIED IDEOGRAPH-7D75, CJK UNIFIED IDEOGRAPH-6587, CJK UNIFIED IDEOGRAPH-5B57, COMMA, SPACE, LATIN CAPITAL LETTER E, LATIN SMALL LETTER N, LATIN SMALL LETTER G, LATIN SMALL LETTER L, LATIN SMALL LETTER I, LATIN SMALL LETTER S, LATIN SMALL LETTER H, COLON, SPACE, SOLIDUS, LATIN LETTER SMALL CAPITAL I, MODIFIER LETTER VERTICAL LINE, LATIN SMALL LETTER M, LATIN SMALL LETTER O, LATIN SMALL LETTER UPSILON, LATIN SMALL LETTER D, LATIN SMALL LETTER EZH, LATIN SMALL LETTER I, MODIFIER LETTER TRIANGULAR COLON, SOLIDUS, SEMICOLON, SPACE, LATIN CAPITAL LETTER J, LATIN SMALL LETTER A, LATIN SMALL LETTER P, LATIN SMALL LETTER A, LATIN SMALL LETTER N, LATIN SMALL LETTER E, LATIN SMALL LETTER S, LATIN SMALL LETTER E, COLON, SPACE, LEFT SQUARE BRACKET, LATIN SMALL LETTER E, LATIN SMALL LETTER M, LATIN SMALL LETTER O, LATIN SMALL LETTER D, LATIN SMALL LETTER Z WITH CURL, LATIN SMALL LETTER I, RIGHT SQUARE BRACKET, SEMICOLON, SPACE, LATIN SMALL LETTER S, LATIN SMALL LETTER I, LATIN SMALL LETTER N, LATIN SMALL LETTER G, LATIN SMALL LETTER U, LATIN SMALL LETTER L, LATIN SMALL LETTER A, LATIN SMALL LETTER R, SPACE, LATIN SMALL LETTER E, LATIN SMALL LETTER M, LATIN SMALL LETTER O, LATIN SMALL LETTER J, LATIN SMALL LETTER I, COMMA, SPACE, LATIN SMALL LETTER P, LATIN SMALL LETTER L, LATIN SMALL LETTER U, LATIN SMALL LETTER R, LATIN SMALL LETTER A, LATIN SMALL LETTER L, SPACE, LATIN SMALL LETTER E, LATIN SMALL LETTER M, LATIN SMALL LETTER O, LATIN SMALL LETTER J, LATIN SMALL LETTER I, SPACE, LATIN SMALL LETTER O, LATIN SMALL LETTER R, SPACE, LATIN SMALL LETTER E, LATIN SMALL LETTER M, LATIN SMALL LETTER O, LATIN SMALL LETTER J, LATIN SMALL LETTER I, LATIN SMALL LETTER S, RIGHT PARENTHESIS, SPACE, LATIN SMALL LETTER A, LATIN SMALL LETTER R, LATIN SMALL LETTER E, SPACE, LATIN SMALL LETTER I, LATIN SMALL LETTER D, LATIN SMALL LETTER E, LATIN SMALL LETTER O, LATIN SMALL LETTER G, LATIN SMALL LETTER R, LATIN SMALL LETTER A, LATIN SMALL LETTER M, LATIN SMALL LETTER S, SPACE, LATIN SMALL LETTER A, LATIN SMALL LETTER N, LATIN SMALL LETTER D, SPACE, LATIN SMALL LETTER S, LATIN SMALL LETTER M, LATIN SMALL LETTER I, LATIN SMALL LETTER L, LATIN SMALL LETTER E, LATIN SMALL LETTER Y, LATIN SMALL LETTER S, SPACE, LATIN SMALL LETTER U, LATIN SMALL LETTER S, LATIN SMALL LETTER E, LATIN SMALL LETTER D, SPACE, LATIN SMALL LETTER I, LATIN SMALL LETTER N, SPACE, LATIN SMALL LETTER E, LATIN SMALL LETTER L, LATIN SMALL LETTER E, LATIN SMALL LETTER C, LATIN SMALL LETTER T, LATIN SMALL LETTER R, LATIN SMALL LETTER O, LATIN SMALL LETTER N, LATIN SMALL LETTER I, LATIN SMALL LETTER C, SPACE, LATIN SMALL LETTER M, LATIN SMALL LETTER E, LATIN SMALL LETTER S, LATIN SMALL LETTER S, LATIN SMALL LETTER A, LATIN SMALL LETTER G, LATIN SMALL LETTER E, LATIN SMALL LETTER S, SPACE, LATIN SMALL LETTER A, LATIN SMALL LETTER N, LATIN SMALL LETTER D, SPACE, LATIN SMALL LETTER W, LATIN SMALL LETTER E, LATIN SMALL LETTER B, SPACE, LATIN SMALL LETTER P, LATIN SMALL LETTER A, LATIN SMALL LETTER G, LATIN SMALL LETTER E, LATIN SMALL LETTER S, FULL STOP, SPACE, LATIN CAPITAL LETTER E, LATIN SMALL LETTER M, LATIN SMALL LETTER O, LATIN SMALL LETTER J, LATIN SMALL LETTER I, SPACE, LATIN SMALL LETTER E, LATIN SMALL LETTER X, LATIN SMALL LETTER I, LATIN SMALL LETTER S, LATIN SMALL LETTER T, SPACE, LATIN SMALL LETTER I, LATIN SMALL LETTER N, SPACE, LATIN SMALL LETTER V, LATIN SMALL LETTER A, LATIN SMALL LETTER R, LATIN SMALL LETTER I, LATIN SMALL LETTER O, LATIN SMALL LETTER U, LATIN SMALL LETTER S, SPACE, LATIN SMALL LETTER G, LATIN SMALL LETTER E, LATIN SMALL LETTER N, LATIN SMALL LETTER R, LATIN SMALL LETTER E, LATIN SMALL LETTER S, COMMA, SPACE, LATIN SMALL LETTER I, LATIN SMALL LETTER N, LATIN SMALL LETTER C, LATIN SMALL LETTER L, LATIN SMALL LETTER U, LATIN SMALL LETTER D, LATIN SMALL LETTER I, LATIN SMALL LETTER N, LATIN SMALL LETTER G, SPACE, LATIN SMALL LETTER F, LATIN SMALL LETTER A, LATIN SMALL LETTER C, LATIN SMALL LETTER I, LATIN SMALL LETTER A, LATIN SMALL LETTER L, SPACE, LATIN SMALL LETTER E, LATIN SMALL LETTER X, LATIN SMALL LETTER P, LATIN SMALL LETTER R, LATIN SMALL LETTER E, LATIN SMALL LETTER S, LATIN SMALL LETTER S, LATIN SMALL LETTER I, LATIN SMALL LETTER O, LATIN SMALL LETTER N, LATIN SMALL LETTER S, COMMA, SPACE, LATIN SMALL LETTER C, LATIN SMALL LETTER O, LATIN SMALL LETTER M, LATIN SMALL LETTER M, LATIN SMALL LETTER O, LATIN SMALL LETTER N, SPACE, LATIN SMALL LETTER O, LATIN SMALL LETTER B, LATIN SMALL LETTER J, LATIN SMALL LETTER E, LATIN SMALL LETTER C, LATIN SMALL LETTER T, LATIN SMALL LETTER S, COMMA, SPACE, LATIN SMALL LETTER P, LATIN SMALL LETTER L, LATIN SMALL LETTER A, LATIN SMALL LETTER C, LATIN SMALL LETTER E, LATIN SMALL LETTER S, SPACE, LATIN SMALL LETTER A, LATIN SMALL LETTER N, LATIN SMALL LETTER D, SPACE, LATIN SMALL LETTER T, LATIN SMALL LETTER Y, LATIN SMALL LETTER P, LATIN SMALL LETTER E, LATIN SMALL LETTER S, SPACE, LATIN SMALL LETTER O, LATIN SMALL LETTER F, SPACE, LATIN SMALL LETTER W, LATIN SMALL LETTER E, LATIN SMALL LETTER A, LATIN SMALL LETTER T, LATIN SMALL LETTER H, LATIN SMALL LETTER E, LATIN SMALL LETTER R, COMMA, SPACE, LATIN SMALL LETTER A, LATIN SMALL LETTER N, LATIN SMALL LETTER D, SPACE, LATIN SMALL LETTER A, LATIN SMALL LETTER N, LATIN SMALL LETTER I, LATIN SMALL LETTER M, LATIN SMALL LETTER A, LATIN SMALL LETTER L, LATIN SMALL LETTER S, FULL STOP, SPACE, LATIN CAPITAL LETTER T, LATIN SMALL LETTER H, LATIN SMALL LETTER E, LATIN SMALL LETTER Y, SPACE, LATIN SMALL LETTER A, LATIN SMALL LETTER R, LATIN SMALL LETTER E, SPACE, LATIN SMALL LETTER M, LATIN SMALL LETTER U, LATIN SMALL LETTER C, LATIN SMALL LETTER H, SPACE, LATIN SMALL LETTER L, LATIN SMALL LETTER I, LATIN SMALL LETTER K, LATIN SMALL LETTER E, SPACE, LATIN SMALL LETTER E, LATIN SMALL LETTER M, LATIN SMALL LETTER O, LATIN SMALL LETTER T, LATIN SMALL LETTER I, LATIN SMALL LETTER C, LATIN SMALL LETTER O, LATIN SMALL LETTER N, LATIN SMALL LETTER S, COMMA, SPACE, LATIN SMALL LETTER B, LATIN SMALL LETTER U, LATIN SMALL LETTER T, SPACE, LATIN SMALL LETTER E, LATIN SMALL LETTER M, LATIN SMALL LETTER O, LATIN SMALL LETTER J, LATIN SMALL LETTER I, SPACE, LATIN SMALL LETTER A, LATIN SMALL LETTER R, LATIN SMALL LETTER E, SPACE, LATIN SMALL LETTER A, LATIN SMALL LETTER C, LATIN SMALL LETTER T, LATIN SMALL LETTER U, LATIN SMALL LETTER A, LATIN SMALL LETTER L, SPACE, LATIN SMALL LETTER P, LATIN SMALL LETTER I, LATIN SMALL LETTER C, LATIN SMALL LETTER T, LATIN SMALL LETTER U, LATIN SMALL LETTER R, LATIN SMALL LETTER E, LATIN SMALL LETTER S, SPACE, LATIN SMALL LETTER I, LATIN SMALL LETTER N, LATIN SMALL LETTER S, LATIN SMALL LETTER T, LATIN SMALL LETTER E, LATIN SMALL LETTER A, LATIN SMALL LETTER D, SPACE, LATIN SMALL LETTER O, LATIN SMALL LETTER F, SPACE, LATIN SMALL LETTER T, LATIN SMALL LETTER Y, LATIN SMALL LETTER P, LATIN SMALL LETTER O, LATIN SMALL LETTER G, LATIN SMALL LETTER R, LATIN SMALL LETTER A, LATIN SMALL LETTER P, LATIN SMALL LETTER H, LATIN SMALL LETTER I, LATIN SMALL LETTER C, LATIN SMALL LETTER S, FULL STOP, SPACE, LATIN CAPITAL LETTER O, LATIN SMALL LETTER R, LATIN SMALL LETTER I, LATIN SMALL LETTER G, LATIN SMALL LETTER I, LATIN SMALL LETTER N, LATIN SMALL LETTER A, LATIN SMALL LETTER L, LATIN SMALL LETTER L, LATIN SMALL LETTER Y, SPACE, LATIN SMALL LETTER M, LATIN SMALL LETTER E, LATIN SMALL LETTER A, LATIN SMALL LETTER N, LATIN SMALL LETTER I, LATIN SMALL LETTER N, LATIN SMALL LETTER G, SPACE, LATIN SMALL LETTER P, LATIN SMALL LETTER I, LATIN SMALL LETTER C, LATIN SMALL LETTER T, LATIN SMALL LETTER O, LATIN SMALL LETTER G, LATIN SMALL LETTER R, LATIN SMALL LETTER A, LATIN SMALL LETTER P, LATIN SMALL LETTER H, COMMA, SPACE, LATIN SMALL LETTER T, LATIN SMALL LETTER H, LATIN SMALL LETTER E, SPACE, LATIN SMALL LETTER W, LATIN SMALL LETTER O, LATIN SMALL LETTER R, LATIN SMALL LETTER D, SPACE, LATIN SMALL LETTER E, LATIN SMALL LETTER M, LATIN SMALL LETTER O, LATIN SMALL LETTER J, LATIN SMALL LETTER I, SPACE, LATIN SMALL LETTER C, LATIN SMALL LETTER O, LATIN SMALL LETTER M, LATIN SMALL LETTER E, LATIN SMALL LETTER S, SPACE, LATIN SMALL LETTER F, LATIN SMALL LETTER R, LATIN SMALL LETTER O, LATIN SMALL LETTER M, SPACE, LATIN CAPITAL LETTER J, LATIN SMALL LETTER A, LATIN SMALL LETTER P, LATIN SMALL LETTER A, LATIN SMALL LETTER N, LATIN SMALL LETTER E, LATIN SMALL LETTER S, LATIN SMALL LETTER E, SPACE, LATIN SMALL LETTER E, SPACE, LEFT PARENTHESIS, CJK UNIFIED IDEOGRAPH-7D75, COMMA, SPACE, QUOTATION MARK, LATIN SMALL LETTER P, LATIN SMALL LETTER I, LATIN SMALL LETTER C, LATIN SMALL LETTER T, LATIN SMALL LETTER U, LATIN SMALL LETTER R, LATIN SMALL LETTER E, QUOTATION MARK, RIGHT PARENTHESIS, SPACE, PLUS SIGN, SPACE, LATIN SMALL LETTER M, LATIN SMALL LETTER O, LATIN SMALL LETTER J, LATIN SMALL LETTER I, SPACE, LEFT PARENTHESIS, CJK UNIFIED IDEOGRAPH-6587, CJK UNIFIED IDEOGRAPH-5B57, COMMA, SPACE, QUOTATION MARK, LATIN SMALL LETTER C, LATIN SMALL LETTER H, LATIN SMALL LETTER A, LATIN SMALL LETTER R, LATIN SMALL LETTER A, LATIN SMALL LETTER C, LATIN SMALL LETTER T, LATIN SMALL LETTER E, LATIN SMALL LETTER R, QUOTATION MARK, RIGHT PARENTHESIS, SEMICOLON, SPACE, LATIN SMALL LETTER T, LATIN SMALL LETTER H, LATIN SMALL LETTER E, SPACE, LATIN SMALL LETTER R, LATIN SMALL LETTER E, LATIN SMALL LETTER S, LATIN SMALL LETTER E, LATIN SMALL LETTER M, LATIN SMALL LETTER B, LATIN SMALL LETTER L, LATIN SMALL LETTER A, LATIN SMALL LETTER N, LATIN SMALL LETTER C, LATIN SMALL LETTER E, SPACE, LATIN SMALL LETTER T, LATIN SMALL LETTER O, SPACE, LATIN SMALL LETTER T, LATIN SMALL LETTER H, LATIN SMALL LETTER E, SPACE, LATIN CAPITAL LETTER E, LATIN SMALL LETTER N, LATIN SMALL LETTER G, LATIN SMALL LETTER L, LATIN SMALL LETTER I, LATIN SMALL LETTER S, LATIN SMALL LETTER H, SPACE, LATIN SMALL LETTER W, LATIN SMALL LETTER O, LATIN SMALL LETTER R, LATIN SMALL LETTER D, LATIN SMALL LETTER S, SPACE, LATIN SMALL LETTER E, LATIN SMALL LETTER M, LATIN SMALL LETTER O, LATIN SMALL LETTER T, LATIN SMALL LETTER I, LATIN SMALL LETTER O, LATIN SMALL LETTER N, SPACE, LATIN SMALL LETTER A, LATIN SMALL LETTER N, LATIN SMALL LETTER D, SPACE, LATIN SMALL LETTER E, LATIN SMALL LETTER M, LATIN SMALL LETTER O, LATIN SMALL LETTER T, LATIN SMALL LETTER I, LATIN SMALL LETTER C, LATIN SMALL LETTER O, LATIN SMALL LETTER N, SPACE, LATIN SMALL LETTER I, LATIN SMALL LETTER S, SPACE, LATIN SMALL LETTER P, LATIN SMALL LETTER U, LATIN SMALL LETTER R, LATIN SMALL LETTER E, LATIN SMALL LETTER L, LATIN SMALL LETTER Y, SPACE, LATIN SMALL LETTER C, LATIN SMALL LETTER O, LATIN SMALL LETTER I, LATIN SMALL LETTER N, LATIN SMALL LETTER C, LATIN SMALL LETTER I, LATIN SMALL LETTER D, LATIN SMALL LETTER E, LATIN SMALL LETTER N, LATIN SMALL LETTER T, LATIN SMALL LETTER A, LATIN SMALL LETTER L, FULL STOP, SPACE, LATIN CAPITAL LETTER T, LATIN SMALL LETTER H, LATIN SMALL LETTER E, SPACE, LATIN CAPITAL LETTER I, LATIN CAPITAL LETTER S, LATIN CAPITAL LETTER O, SPACE, DIGIT ONE, DIGIT FIVE, DIGIT NINE, DIGIT TWO, DIGIT FOUR, SPACE, LATIN SMALL LETTER S, LATIN SMALL LETTER C, LATIN SMALL LETTER R, LATIN SMALL LETTER I, LATIN SMALL LETTER P, LATIN SMALL LETTER T, SPACE, LATIN SMALL LETTER C, LATIN SMALL LETTER O, LATIN SMALL LETTER D, LATIN SMALL LETTER E, SPACE, LATIN SMALL LETTER F, LATIN SMALL LETTER O, LATIN SMALL LETTER R, SPACE, LATIN SMALL LETTER E, LATIN SMALL LETTER M, LATIN SMALL LETTER O, LATIN SMALL LETTER J, LATIN SMALL LETTER I, SPACE, LATIN SMALL LETTER I, LATIN SMALL LETTER S, SPACE, LATIN CAPITAL LETTER Z, LATIN SMALL LETTER S, LATIN SMALL LETTER Y, LATIN SMALL LETTER E, FULL STOP, LATIN CAPITAL LETTER O, LATIN SMALL LETTER R, LATIN SMALL LETTER I, LATIN SMALL LETTER G, LATIN SMALL LETTER I, LATIN SMALL LETTER N, LATIN SMALL LETTER A, LATIN SMALL LETTER T, LATIN SMALL LETTER I, LATIN SMALL LETTER N, LATIN SMALL LETTER G, SPACE, LATIN SMALL LETTER O, LATIN SMALL LETTER N, SPACE, LATIN CAPITAL LETTER J, LATIN SMALL LETTER A, LATIN SMALL LETTER P, LATIN SMALL LETTER A, LATIN SMALL LETTER N, LATIN SMALL LETTER E, LATIN SMALL LETTER S, LATIN SMALL LETTER E, SPACE, LATIN SMALL LETTER M, LATIN SMALL LETTER O, LATIN SMALL LETTER B, LATIN SMALL LETTER I, LATIN SMALL LETTER L, LATIN SMALL LETTER E, SPACE, LATIN SMALL LETTER P, LATIN SMALL LETTER H, LATIN SMALL LETTER O, LATIN SMALL LETTER N, LATIN SMALL LETTER E, LATIN SMALL LETTER S, SPACE, LATIN SMALL LETTER I, LATIN SMALL LETTER N, SPACE, DIGIT ONE, DIGIT NINE, DIGIT NINE, DIGIT SEVEN, COMMA, SPACE, LATIN SMALL LETTER E, LATIN SMALL LETTER M, LATIN SMALL LETTER O, LATIN SMALL LETTER J, LATIN SMALL LETTER I, SPACE, LATIN SMALL LETTER B, LATIN SMALL LETTER E, LATIN SMALL LETTER C, LATIN SMALL LETTER A, LATIN SMALL LETTER M, LATIN SMALL LETTER E, SPACE, LATIN SMALL LETTER I, LATIN SMALL LETTER N, LATIN SMALL LETTER C, LATIN SMALL LETTER R, LATIN SMALL LETTER E, LATIN SMALL LETTER A, LATIN SMALL LETTER S, LATIN SMALL LETTER I, LATIN SMALL LETTER N, LATIN SMALL LETTER G, LATIN SMALL LETTER L, LATIN SMALL LETTER Y, SPACE, LATIN SMALL LETTER P, LATIN SMALL LETTER O, LATIN SMALL LETTER P, LATIN SMALL LETTER U, LATIN SMALL LETTER L, LATIN SMALL LETTER A, LATIN SMALL LETTER R, SPACE, LATIN SMALL LETTER W, LATIN SMALL LETTER O, LATIN SMALL LETTER R, LATIN SMALL LETTER L, LATIN SMALL LETTER D, LATIN SMALL LETTER W, LATIN SMALL LETTER I, LATIN SMALL LETTER D, LATIN SMALL LETTER E, SPACE, LATIN SMALL LETTER I, LATIN SMALL LETTER N, SPACE, LATIN SMALL LETTER T, LATIN SMALL LETTER H, LATIN SMALL LETTER E, SPACE, DIGIT TWO, DIGIT ZERO, DIGIT ONE, DIGIT ZERO, LATIN SMALL LETTER S, SPACE, LATIN SMALL LETTER A, LATIN SMALL LETTER F, LATIN SMALL LETTER T, LATIN SMALL LETTER E, LATIN SMALL LETTER R, SPACE, LATIN SMALL LETTER B, LATIN SMALL LETTER E, LATIN SMALL LETTER I, LATIN SMALL LETTER N, LATIN SMALL LETTER G, SPACE, LATIN SMALL LETTER A, LATIN SMALL LETTER D, LATIN SMALL LETTER D, LATIN SMALL LETTER E, LATIN SMALL LETTER D, SPACE, LATIN SMALL LETTER T, LATIN SMALL LETTER O, SPACE, LATIN SMALL LETTER S, LATIN SMALL LETTER E, LATIN SMALL LETTER V, LATIN SMALL LETTER E, LATIN SMALL LETTER R, LATIN SMALL LETTER A, LATIN SMALL LETTER L, SPACE, LATIN SMALL LETTER M, LATIN SMALL LETTER O, LATIN SMALL LETTER B, LATIN SMALL LETTER I, LATIN SMALL LETTER L, LATIN SMALL LETTER E, SPACE, LATIN SMALL LETTER O, LATIN SMALL LETTER P, LATIN SMALL LETTER E, LATIN SMALL LETTER R, LATIN SMALL LETTER A, LATIN SMALL LETTER T, LATIN SMALL LETTER I, LATIN SMALL LETTER N, LATIN SMALL LETTER G, SPACE, LATIN SMALL LETTER S, LATIN SMALL LETTER Y, LATIN SMALL LETTER S, LATIN SMALL LETTER T, LATIN SMALL LETTER E, LATIN SMALL LETTER M, LATIN SMALL LETTER S, FULL STOP, SPACE, LATIN CAPITAL LETTER T, LATIN SMALL LETTER H, LATIN SMALL LETTER E, LATIN SMALL LETTER Y, SPACE, LATIN SMALL LETTER A, LATIN SMALL LETTER R, LATIN SMALL LETTER E, SPACE, LATIN SMALL LETTER N, LATIN SMALL LETTER O, LATIN SMALL LETTER W, SPACE, LATIN SMALL LETTER C, LATIN SMALL LETTER O, LATIN SMALL LETTER N, LATIN SMALL LETTER S, LATIN SMALL LETTER I, LATIN SMALL LETTER D, LATIN SMALL LETTER E, LATIN SMALL LETTER R, LATIN SMALL LETTER E, LATIN SMALL LETTER D, SPACE, LATIN SMALL LETTER T, LATIN SMALL LETTER O, SPACE, LATIN SMALL LETTER B, LATIN SMALL LETTER E, SPACE, LATIN SMALL LETTER A, SPACE, LATIN SMALL LETTER L, LATIN SMALL LETTER A, LATIN SMALL LETTER R, LATIN SMALL LETTER G, LATIN SMALL LETTER E, SPACE, LATIN SMALL LETTER P, LATIN SMALL LETTER A, LATIN SMALL LETTER R, LATIN SMALL LETTER T, SPACE, LATIN SMALL LETTER O, LATIN SMALL LETTER F, SPACE, LATIN SMALL LETTER P, LATIN SMALL LETTER O, LATIN SMALL LETTER P, LATIN SMALL LETTER U, LATIN SMALL LETTER L, LATIN SMALL LETTER A, LATIN SMALL LETTER R, SPACE, LATIN SMALL LETTER C, LATIN SMALL LETTER U, LATIN SMALL LETTER L, LATIN SMALL LETTER T, LATIN SMALL LETTER U, LATIN SMALL LETTER R, LATIN SMALL LETTER E, SPACE, LATIN SMALL LETTER I, LATIN SMALL LETTER N, SPACE, LATIN SMALL LETTER T, LATIN SMALL LETTER H, LATIN SMALL LETTER E, SPACE, LATIN SMALL LETTER W, LATIN SMALL LETTER E, LATIN SMALL LETTER S, LATIN SMALL LETTER T, FULL STOP, SPACE, LATIN CAPITAL LETTER I, LATIN SMALL LETTER N, SPACE, DIGIT TWO, DIGIT ZERO, DIGIT ONE, DIGIT FIVE, COMMA, SPACE, LATIN CAPITAL LETTER O, LATIN SMALL LETTER X, LATIN SMALL LETTER F, LATIN SMALL LETTER O, LATIN SMALL LETTER R, LATIN SMALL LETTER D, SPACE, LATIN CAPITAL LETTER D, LATIN SMALL LETTER I, LATIN SMALL LETTER C, LATIN SMALL LETTER T, LATIN SMALL LETTER I, LATIN SMALL LETTER O, LATIN SMALL LETTER N, LATIN SMALL LETTER A, LATIN SMALL LETTER R, LATIN SMALL LETTER I, LATIN SMALL LETTER E, LATIN SMALL LETTER S, SPACE, LATIN SMALL LETTER N, LATIN SMALL LETTER A, LATIN SMALL LETTER M, LATIN SMALL LETTER E, LATIN SMALL LETTER D, SPACE, LATIN SMALL LETTER T, LATIN SMALL LETTER H, LATIN SMALL LETTER E, SPACE, LATIN CAPITAL LETTER F, LATIN SMALL LETTER A, LATIN SMALL LETTER C, LATIN SMALL LETTER E, SPACE, LATIN SMALL LETTER W, LATIN SMALL LETTER I, LATIN SMALL LETTER T, LATIN SMALL LETTER H, SPACE, LATIN CAPITAL LETTER T, LATIN SMALL LETTER E, LATIN SMALL LETTER A, LATIN SMALL LETTER R, LATIN SMALL LETTER S, SPACE, LATIN SMALL LETTER O, LATIN SMALL LETTER F, SPACE, LATIN CAPITAL LETTER J, LATIN SMALL LETTER O, LATIN SMALL LETTER Y, SPACE, LATIN SMALL LETTER E, LATIN SMALL LETTER M, LATIN SMALL LETTER O, LATIN SMALL LETTER J, LATIN SMALL LETTER I, SPACE, LEFT PARENTHESIS, FACE WITH TEARS OF JOY, RIGHT PARENTHESIS, SPACE, LATIN SMALL LETTER T, LATIN SMALL LETTER H, LATIN SMALL LETTER E, SPACE, LATIN CAPITAL LETTER W, LATIN SMALL LETTER O, LATIN SMALL LETTER R, LATIN SMALL LETTER D, SPACE, LATIN SMALL LETTER O, LATIN SMALL LETTER F, SPACE, LATIN SMALL LETTER T, LATIN SMALL LETTER H, LATIN SMALL LETTER E, SPACE, LATIN CAPITAL LETTER Y, LATIN SMALL LETTER E, LATIN SMALL LETTER A, LATIN SMALL LETTER R, FULL STOP\n"
     ]
    }
   ],
   "source": [
    "names = []\n",
    "for ch in text:\n",
    "    if ord(ch) < 32: # unicode names aren't defined for these...?\n",
    "        continue\n",
    "    names.append(unicodedata.name(ch))\n",
    "print(\", \".join(names))"
   ]
  },
  {
   "cell_type": "markdown",
   "metadata": {},
   "source": [
    "The `unicodedata.lookup()` function goes the other way, returning the character matching a particular description (this has to be an exact match):"
   ]
  },
  {
   "cell_type": "code",
   "execution_count": 36,
   "metadata": {
    "scrolled": true
   },
   "outputs": [
    {
     "data": {
      "text/plain": [
       "'Z'"
      ]
     },
     "execution_count": 36,
     "metadata": {},
     "output_type": "execute_result"
    }
   ],
   "source": [
    "unicodedata.lookup('LATIN CAPITAL LETTER Z')"
   ]
  },
  {
   "cell_type": "markdown",
   "metadata": {},
   "source": [
    "Unicode characters have \"categories\" that indicate how they're used and what they mean. These [category values are defined in the Unicode documentation](http://www.unicode.org/reports/tr44/#General_Category_Values)."
   ]
  },
  {
   "cell_type": "code",
   "execution_count": 37,
   "metadata": {},
   "outputs": [
    {
     "data": {
      "text/plain": [
       "'Lu'"
      ]
     },
     "execution_count": 37,
     "metadata": {},
     "output_type": "execute_result"
    }
   ],
   "source": [
    "unicodedata.category('A')"
   ]
  },
  {
   "cell_type": "code",
   "execution_count": 39,
   "metadata": {
    "scrolled": true
   },
   "outputs": [
    {
     "data": {
      "text/plain": [
       "'So'"
      ]
     },
     "execution_count": 39,
     "metadata": {},
     "output_type": "execute_result"
    }
   ],
   "source": [
    "unicodedata.category('😻')"
   ]
  },
  {
   "cell_type": "markdown",
   "metadata": {},
   "source": [
    "Here's some code that rewrites a text, replacing each character with its Unicode category:"
   ]
  },
  {
   "cell_type": "code",
   "execution_count": 38,
   "metadata": {},
   "outputs": [
    {
     "name": "stdout",
     "output_type": "stream",
     "text": [
      "Lu Ll Ll Ll Ll Zs Ps Lu Ll Ll Ll Ll Ll Ll Ll Po Zs Lo Lo Lo Po Zs Lu Ll Ll Ll Ll Ll Ll Po Zs Po Ll Lm Ll Ll Ll Ll Ll Ll Lm Po Po Zs Lu Ll Ll Ll Ll Ll Ll Ll Po Zs Ps Ll Ll Ll Ll Ll Ll Pe Po Zs Ll Ll Ll Ll Ll Ll Ll Ll Zs Ll Ll Ll Ll Ll Po Zs Ll Ll Ll Ll Ll Ll Zs Ll Ll Ll Ll Ll Zs Ll Ll Zs Ll Ll Ll Ll Ll Ll Pe Zs Ll Ll Ll Zs Ll Ll Ll Ll Ll Ll Ll Ll Ll Zs Ll Ll Ll Zs Ll Ll Ll Ll Ll Ll Ll Zs Ll Ll Ll Ll Zs Ll Ll Zs Ll Ll Ll Ll Ll Ll Ll Ll Ll Ll Zs Ll Ll Ll Ll Ll Ll Ll Ll Zs Ll Ll Ll Zs Ll Ll Ll Zs Ll Ll Ll Ll Ll Po Zs Lu Ll Ll Ll Ll Zs Ll Ll Ll Ll Ll Zs Ll Ll Zs Ll Ll Ll Ll Ll Ll Ll Zs Ll Ll Ll Ll Ll Ll Po Zs Ll Ll Ll Ll Ll Ll Ll Ll Ll Zs Ll Ll Ll Ll Ll Ll Zs Ll Ll Ll Ll Ll Ll Ll Ll Ll Ll Ll Po Zs Ll Ll Ll Ll Ll Ll Zs Ll Ll Ll Ll Ll Ll Ll Po Zs Ll Ll Ll Ll Ll Ll Zs Ll Ll Ll Zs Ll Ll Ll Ll Ll Zs Ll Ll Zs Ll Ll Ll Ll Ll Ll Ll Po Zs Ll Ll Ll Zs Ll Ll Ll Ll Ll Ll Ll Po Zs Lu Ll Ll Ll Zs Ll Ll Ll Zs Ll Ll Ll Ll Zs Ll Ll Ll Ll Zs Ll Ll Ll Ll Ll Ll Ll Ll Ll Po Zs Ll Ll Ll Zs Ll Ll Ll Ll Ll Zs Ll Ll Ll Zs Ll Ll Ll Ll Ll Ll Zs Ll Ll Ll Ll Ll Ll Ll Ll Zs Ll Ll Ll Ll Ll Ll Ll Zs Ll Ll Zs Ll Ll Ll Ll Ll Ll Ll Ll Ll Ll Ll Ll Po Zs Lu Ll Ll Ll Ll Ll Ll Ll Ll Ll Zs Ll Ll Ll Ll Ll Ll Ll Zs Ll Ll Ll Ll Ll Ll Ll Ll Ll Ll Po Zs Ll Ll Ll Zs Ll Ll Ll Ll Zs Ll Ll Ll Ll Ll Zs Ll Ll Ll Ll Ll Zs Ll Ll Ll Ll Zs Lu Ll Ll Ll Ll Ll Ll Ll Zs Ll Zs Ps Lo Po Zs Po Ll Ll Ll Ll Ll Ll Ll Po Pe Zs Sm Zs Ll Ll Ll Ll Zs Ps Lo Lo Po Zs Po Ll Ll Ll Ll Ll Ll Ll Ll Ll Po Pe Po Zs Ll Ll Ll Zs Ll Ll Ll Ll Ll Ll Ll Ll Ll Ll Ll Zs Ll Ll Zs Ll Ll Ll Zs Lu Ll Ll Ll Ll Ll Ll Zs Ll Ll Ll Ll Ll Zs Ll Ll Ll Ll Ll Ll Ll Zs Ll Ll Ll Zs Ll Ll Ll Ll Ll Ll Ll Ll Zs Ll Ll Zs Ll Ll Ll Ll Ll Ll Zs Ll Ll Ll Ll Ll Ll Ll Ll Ll Ll Ll Ll Po Zs Lu Ll Ll Zs Lu Lu Lu Zs Nd Nd Nd Nd Nd Zs Ll Ll Ll Ll Ll Ll Zs Ll Ll Ll Ll Zs Ll Ll Ll Zs Ll Ll Ll Ll Ll Zs Ll Ll Zs Lu Ll Ll Ll Po Cc Cc Lu Ll Ll Ll Ll Ll Ll Ll Ll Ll Ll Zs Ll Ll Zs Lu Ll Ll Ll Ll Ll Ll Ll Zs Ll Ll Ll Ll Ll Ll Zs Ll Ll Ll Ll Ll Ll Zs Ll Ll Zs Nd Nd Nd Nd Po Zs Ll Ll Ll Ll Ll Zs Ll Ll Ll Ll Ll Ll Zs Ll Ll Ll Ll Ll Ll Ll Ll Ll Ll Ll Ll Zs Ll Ll Ll Ll Ll Ll Ll Zs Ll Ll Ll Ll Ll Ll Ll Ll Ll Zs Ll Ll Zs Ll Ll Ll Zs Nd Nd Nd Nd Ll Zs Ll Ll Ll Ll Ll Zs Ll Ll Ll Ll Ll Zs Ll Ll Ll Ll Ll Zs Ll Ll Zs Ll Ll Ll Ll Ll Ll Ll Zs Ll Ll Ll Ll Ll Ll Zs Ll Ll Ll Ll Ll Ll Ll Ll Ll Zs Ll Ll Ll Ll Ll Ll Ll Po Zs Lu Ll Ll Ll Zs Ll Ll Ll Zs Ll Ll Ll Zs Ll Ll Ll Ll Ll Ll Ll Ll Ll Ll Zs Ll Ll Zs Ll Ll Zs Ll Zs Ll Ll Ll Ll Ll Zs Ll Ll Ll Ll Zs Ll Ll Zs Ll Ll Ll Ll Ll Ll Ll Zs Ll Ll Ll Ll Ll Ll Ll Zs Ll Ll Zs Ll Ll Ll Zs Ll Ll Ll Ll Po Zs Lu Ll Zs Nd Nd Nd Nd Po Zs Lu Ll Ll Ll Ll Ll Zs Lu Ll Ll Ll Ll Ll Ll Ll Ll Ll Ll Ll Zs Ll Ll Ll Ll Ll Zs Ll Ll Ll Zs Lu Ll Ll Ll Zs Ll Ll Ll Ll Zs Lu Ll Ll Ll Ll Zs Ll Ll Zs Lu Ll Ll Zs Ll Ll Ll Ll Ll Zs Ps So Pe Zs Ll Ll Ll Zs Lu Ll Ll Ll Zs Ll Ll Zs Ll Ll Ll Zs Lu Ll Ll Ll Po Cc \n"
     ]
    }
   ],
   "source": [
    "out = \"\"\n",
    "for ch in text:\n",
    "    out += unicodedata.category(ch)\n",
    "    out += \" \"\n",
    "print(out)"
   ]
  },
  {
   "cell_type": "markdown",
   "metadata": {},
   "source": [
    "### Playing with the Unicode database\n",
    "\n",
    "Python's built-in database of Unicode characters isn't very flexible! You can only search for characters by exact match on their name, and you can't look up by category. The following code downloads the [the official Unicode database](https://www.unicode.org/Public/13.0.0/ucd/UnicodeData.txt) and builds a small index that makes it easier to search.\n",
    "\n",
    "(There are newer versions of the Unicode standard available—I'm using 13.0.0 because it matches the database that ships in my version of Python.)"
   ]
  },
  {
   "cell_type": "code",
   "execution_count": 39,
   "metadata": {},
   "outputs": [
    {
     "name": "stdout",
     "output_type": "stream",
     "text": [
      "  % Total    % Received % Xferd  Average Speed   Time    Time     Time  Current\n",
      "                                 Dload  Upload   Total   Spent    Left  Speed\n",
      "100 1808k  100 1808k    0     0  1901k      0 --:--:-- --:--:-- --:--:-- 1899k\n"
     ]
    }
   ],
   "source": [
    "!curl -L -O https://www.unicode.org/Public/13.0.0/ucd/UnicodeData.txt"
   ]
  },
  {
   "cell_type": "code",
   "execution_count": 40,
   "metadata": {},
   "outputs": [],
   "source": [
    "unicode = []\n",
    "for line in open(\"UnicodeData.txt\"):\n",
    "    line = line.strip()\n",
    "    fields = line.split(';')\n",
    "    row = {\n",
    "        'char': chr(int(fields[0], 16)),\n",
    "        'name': fields[1],\n",
    "        'category': fields[2]\n",
    "    }\n",
    "    unicode.append(row)"
   ]
  },
  {
   "cell_type": "markdown",
   "metadata": {},
   "source": [
    "Now we have a list of dictionaries that we can search using the conditional expression of a list comprehension:"
   ]
  },
  {
   "cell_type": "code",
   "execution_count": 41,
   "metadata": {},
   "outputs": [
    {
     "data": {
      "text/plain": [
       "[{'char': 'Ⅰ', 'name': 'ROMAN NUMERAL ONE', 'category': 'Nl'},\n",
       " {'char': 'Ⅱ', 'name': 'ROMAN NUMERAL TWO', 'category': 'Nl'},\n",
       " {'char': 'Ⅲ', 'name': 'ROMAN NUMERAL THREE', 'category': 'Nl'},\n",
       " {'char': 'Ⅳ', 'name': 'ROMAN NUMERAL FOUR', 'category': 'Nl'},\n",
       " {'char': 'Ⅴ', 'name': 'ROMAN NUMERAL FIVE', 'category': 'Nl'},\n",
       " {'char': 'Ⅵ', 'name': 'ROMAN NUMERAL SIX', 'category': 'Nl'},\n",
       " {'char': 'Ⅶ', 'name': 'ROMAN NUMERAL SEVEN', 'category': 'Nl'},\n",
       " {'char': 'Ⅷ', 'name': 'ROMAN NUMERAL EIGHT', 'category': 'Nl'},\n",
       " {'char': 'Ⅸ', 'name': 'ROMAN NUMERAL NINE', 'category': 'Nl'},\n",
       " {'char': 'Ⅹ', 'name': 'ROMAN NUMERAL TEN', 'category': 'Nl'},\n",
       " {'char': 'Ⅺ', 'name': 'ROMAN NUMERAL ELEVEN', 'category': 'Nl'},\n",
       " {'char': 'Ⅻ', 'name': 'ROMAN NUMERAL TWELVE', 'category': 'Nl'},\n",
       " {'char': 'Ⅼ', 'name': 'ROMAN NUMERAL FIFTY', 'category': 'Nl'},\n",
       " {'char': 'Ⅽ', 'name': 'ROMAN NUMERAL ONE HUNDRED', 'category': 'Nl'},\n",
       " {'char': 'Ⅾ', 'name': 'ROMAN NUMERAL FIVE HUNDRED', 'category': 'Nl'},\n",
       " {'char': 'Ⅿ', 'name': 'ROMAN NUMERAL ONE THOUSAND', 'category': 'Nl'},\n",
       " {'char': 'ⅰ', 'name': 'SMALL ROMAN NUMERAL ONE', 'category': 'Nl'},\n",
       " {'char': 'ⅱ', 'name': 'SMALL ROMAN NUMERAL TWO', 'category': 'Nl'},\n",
       " {'char': 'ⅲ', 'name': 'SMALL ROMAN NUMERAL THREE', 'category': 'Nl'},\n",
       " {'char': 'ⅳ', 'name': 'SMALL ROMAN NUMERAL FOUR', 'category': 'Nl'},\n",
       " {'char': 'ⅴ', 'name': 'SMALL ROMAN NUMERAL FIVE', 'category': 'Nl'},\n",
       " {'char': 'ⅵ', 'name': 'SMALL ROMAN NUMERAL SIX', 'category': 'Nl'},\n",
       " {'char': 'ⅶ', 'name': 'SMALL ROMAN NUMERAL SEVEN', 'category': 'Nl'},\n",
       " {'char': 'ⅷ', 'name': 'SMALL ROMAN NUMERAL EIGHT', 'category': 'Nl'},\n",
       " {'char': 'ⅸ', 'name': 'SMALL ROMAN NUMERAL NINE', 'category': 'Nl'},\n",
       " {'char': 'ⅹ', 'name': 'SMALL ROMAN NUMERAL TEN', 'category': 'Nl'},\n",
       " {'char': 'ⅺ', 'name': 'SMALL ROMAN NUMERAL ELEVEN', 'category': 'Nl'},\n",
       " {'char': 'ⅻ', 'name': 'SMALL ROMAN NUMERAL TWELVE', 'category': 'Nl'},\n",
       " {'char': 'ⅼ', 'name': 'SMALL ROMAN NUMERAL FIFTY', 'category': 'Nl'},\n",
       " {'char': 'ⅽ', 'name': 'SMALL ROMAN NUMERAL ONE HUNDRED', 'category': 'Nl'},\n",
       " {'char': 'ⅾ', 'name': 'SMALL ROMAN NUMERAL FIVE HUNDRED', 'category': 'Nl'},\n",
       " {'char': 'ⅿ', 'name': 'SMALL ROMAN NUMERAL ONE THOUSAND', 'category': 'Nl'},\n",
       " {'char': 'ↀ', 'name': 'ROMAN NUMERAL ONE THOUSAND C D', 'category': 'Nl'},\n",
       " {'char': 'ↁ', 'name': 'ROMAN NUMERAL FIVE THOUSAND', 'category': 'Nl'},\n",
       " {'char': 'ↂ', 'name': 'ROMAN NUMERAL TEN THOUSAND', 'category': 'Nl'},\n",
       " {'char': 'Ↄ', 'name': 'ROMAN NUMERAL REVERSED ONE HUNDRED', 'category': 'Lu'},\n",
       " {'char': 'ↅ', 'name': 'ROMAN NUMERAL SIX LATE FORM', 'category': 'Nl'},\n",
       " {'char': 'ↆ', 'name': 'ROMAN NUMERAL FIFTY EARLY FORM', 'category': 'Nl'},\n",
       " {'char': 'ↇ', 'name': 'ROMAN NUMERAL FIFTY THOUSAND', 'category': 'Nl'},\n",
       " {'char': 'ↈ', 'name': 'ROMAN NUMERAL ONE HUNDRED THOUSAND', 'category': 'Nl'}]"
      ]
     },
     "execution_count": 41,
     "metadata": {},
     "output_type": "execute_result"
    }
   ],
   "source": [
    "[row for row in unicode if 'ROMAN NUMERAL' in row['name']]"
   ]
  },
  {
   "cell_type": "markdown",
   "metadata": {},
   "source": [
    "Using only the `char` key in the predicate expression of the list expression, you can just get matching characters:"
   ]
  },
  {
   "cell_type": "code",
   "execution_count": 42,
   "metadata": {},
   "outputs": [
    {
     "data": {
      "text/plain": [
       "['🐱', '😸', '😹', '😺', '😻', '😼', '😽', '😾', '😿', '🙀']"
      ]
     },
     "execution_count": 42,
     "metadata": {},
     "output_type": "execute_result"
    }
   ],
   "source": [
    "cats = [row['char'] for row in unicode if 'CAT ' in row['name']]\n",
    "cats"
   ]
  },
  {
   "cell_type": "markdown",
   "metadata": {},
   "source": [
    "Here's a tiny cat composition:"
   ]
  },
  {
   "cell_type": "code",
   "execution_count": 43,
   "metadata": {},
   "outputs": [
    {
     "name": "stdout",
     "output_type": "stream",
     "text": [
      "😹😼😻🙀😺😾😽😸😿🐱\n",
      "🙀😾😸😹😿😻😽🐱😺😼\n",
      "😻😿🙀😹🐱😼😺😸😽😾\n",
      "😽😼😾😺😹😸😿🐱🙀😻\n",
      "🙀😾🐱😹😻😺😼😸😿😽\n",
      "😼😽😸😿😾🙀🐱😹😻😺\n",
      "😸😿🙀😽😻😾😼🐱😹😺\n",
      "😹🙀🐱😾😼😽😻😿😸😺\n",
      "😿🐱😽😹😸🙀😾😻😺😼\n",
      "🙀😸😿😾😹😺😻😼😽🐱\n"
     ]
    }
   ],
   "source": [
    "for i in range(10):\n",
    "    print(''.join(random.sample(cats, len(cats))))"
   ]
  },
  {
   "cell_type": "markdown",
   "metadata": {},
   "source": [
    "All of the arrows that are in the \"mathematical symbol\" category:"
   ]
  },
  {
   "cell_type": "code",
   "execution_count": 44,
   "metadata": {},
   "outputs": [
    {
     "data": {
      "text/plain": [
       "['←',\n",
       " '↑',\n",
       " '→',\n",
       " '↓',\n",
       " '↔',\n",
       " '↚',\n",
       " '↛',\n",
       " '↠',\n",
       " '↣',\n",
       " '↦',\n",
       " '↮',\n",
       " '⇎',\n",
       " '⇏',\n",
       " '⇒',\n",
       " '⇔',\n",
       " '⇴',\n",
       " '⇵',\n",
       " '⇶',\n",
       " '⇷',\n",
       " '⇸',\n",
       " '⇹',\n",
       " '⇺',\n",
       " '⇻',\n",
       " '⇼',\n",
       " '⇽',\n",
       " '⇾',\n",
       " '⇿',\n",
       " '⍼',\n",
       " '⟰',\n",
       " '⟱',\n",
       " '⟲',\n",
       " '⟳',\n",
       " '⟴',\n",
       " '⟵',\n",
       " '⟶',\n",
       " '⟷',\n",
       " '⟸',\n",
       " '⟹',\n",
       " '⟺',\n",
       " '⟻',\n",
       " '⟼',\n",
       " '⟽',\n",
       " '⟾',\n",
       " '⟿',\n",
       " '⤀',\n",
       " '⤁',\n",
       " '⤂',\n",
       " '⤃',\n",
       " '⤄',\n",
       " '⤅',\n",
       " '⤆',\n",
       " '⤇',\n",
       " '⤈',\n",
       " '⤉',\n",
       " '⤊',\n",
       " '⤋',\n",
       " '⤌',\n",
       " '⤍',\n",
       " '⤎',\n",
       " '⤏',\n",
       " '⤐',\n",
       " '⤑',\n",
       " '⤒',\n",
       " '⤓',\n",
       " '⤔',\n",
       " '⤕',\n",
       " '⤖',\n",
       " '⤗',\n",
       " '⤘',\n",
       " '⤙',\n",
       " '⤚',\n",
       " '⤛',\n",
       " '⤜',\n",
       " '⤝',\n",
       " '⤞',\n",
       " '⤟',\n",
       " '⤠',\n",
       " '⤡',\n",
       " '⤢',\n",
       " '⤣',\n",
       " '⤤',\n",
       " '⤥',\n",
       " '⤦',\n",
       " '⤧',\n",
       " '⤨',\n",
       " '⤩',\n",
       " '⤪',\n",
       " '⤭',\n",
       " '⤮',\n",
       " '⤯',\n",
       " '⤰',\n",
       " '⤱',\n",
       " '⤲',\n",
       " '⤳',\n",
       " '⤴',\n",
       " '⤵',\n",
       " '⤶',\n",
       " '⤷',\n",
       " '⤸',\n",
       " '⤹',\n",
       " '⤺',\n",
       " '⤻',\n",
       " '⤼',\n",
       " '⤽',\n",
       " '⤾',\n",
       " '⤿',\n",
       " '⥀',\n",
       " '⥁',\n",
       " '⥂',\n",
       " '⥃',\n",
       " '⥄',\n",
       " '⥅',\n",
       " '⥆',\n",
       " '⥇',\n",
       " '⥈',\n",
       " '⥉',\n",
       " '⥰',\n",
       " '⥱',\n",
       " '⥲',\n",
       " '⥳',\n",
       " '⥴',\n",
       " '⥵',\n",
       " '⥶',\n",
       " '⥷',\n",
       " '⥸',\n",
       " '⥹',\n",
       " '⥺',\n",
       " '⥻',\n",
       " '⦨',\n",
       " '⦩',\n",
       " '⦪',\n",
       " '⦫',\n",
       " '⦬',\n",
       " '⦭',\n",
       " '⦮',\n",
       " '⦯',\n",
       " '⦳',\n",
       " '⦴',\n",
       " '⦽',\n",
       " '⧪',\n",
       " '⧬',\n",
       " '⧭',\n",
       " '⨗',\n",
       " '⬰',\n",
       " '⬱',\n",
       " '⬲',\n",
       " '⬳',\n",
       " '⬴',\n",
       " '⬵',\n",
       " '⬶',\n",
       " '⬷',\n",
       " '⬸',\n",
       " '⬹',\n",
       " '⬺',\n",
       " '⬻',\n",
       " '⬼',\n",
       " '⬽',\n",
       " '⬾',\n",
       " '⬿',\n",
       " '⭀',\n",
       " '⭁',\n",
       " '⭂',\n",
       " '⭃',\n",
       " '⭄',\n",
       " '⭇',\n",
       " '⭈',\n",
       " '⭉',\n",
       " '⭊',\n",
       " '⭋',\n",
       " '⭌',\n",
       " '￩',\n",
       " '￪',\n",
       " '￫',\n",
       " '￬']"
      ]
     },
     "execution_count": 44,
     "metadata": {},
     "output_type": "execute_result"
    }
   ],
   "source": [
    "arrows = [row['char'] for row in unicode if 'ARROW' in row['name'] and row['category'] == 'Sm']\n",
    "arrows"
   ]
  },
  {
   "cell_type": "markdown",
   "metadata": {},
   "source": [
    "And a composition with those arrows (just jamming together 1500 of them at random):"
   ]
  },
  {
   "cell_type": "code",
   "execution_count": 45,
   "metadata": {},
   "outputs": [
    {
     "name": "stdout",
     "output_type": "stream",
     "text": [
      "⤄⬼⦯⟱↣⇿⇔⟿⦴⬴↔⬱⇔⤂⭁⟱⇻⤚⤋⤑↔⟷⇻￬⬼⟸⤔⤔⭁⟽→⇿⬼⥃⭄⤙⤔⤁⭁⤂⦳⤋⤵⤝⥆⤉⟷⤕⤡￩⬷⦽⤢⇶⤧⤯⤶⬳⧪⥸⟴⥻⥅⤜⇸⬶⭃⤋⦪⇸⤏⥆⟷⇴⤉⇸⟳⇏⤑⬿⥰↣⇸⤧⥅⇺⦩⤗⥲⟼⟶⤿⟴⤑⨗⦪⤊⟶⇏⥆⇶⇴⥶⇹⤡⤟⦫⟰⧪⦳⤽⭃⤷⟴⬽⥁⭂⬳⤗⤷⥈↠⇼⭈⟶⟲↣⤗⭄⬼⇏⇒⥀↛⟼⦯⬵⦫⤓⤜↠⥀⟾⤶⬽⦨⦯⥲⭁⭈⥉⦽⦽⇏⤳⇽⟶⥶⤧⥉⟰⤄⇒⥱⤾⦩⬸⥆⤸⤌⤸⬶⤋⤶⤑⤎⬲⦳⤶⤈⇽⥄⟻⤮⥆⇶⤍⧪⭂⤤⦳⭇⤇⤡⤁⤤⬰⤭⤇⭀⤭⤄⤠⟲⤗↓⤺⤈⤵⥀⤞⟸⤠⤇⤜⤛⬲⨗⬻⤳⥈⇼⦬⬳⇎⭇⤖⬷⟱⭋⬷⟷⬴⤖⥵⤀⤷￫⤦⟲⟼⧪⥅⥅⤕⤪⭊⟷⟷⦳⟰⤽⟷⬰⦽⥄⭌⤎↛⥁⇽⤍→⤥⭃↚⤣⥄⇾⬴→↠⤔⟶⥇↦⇶⤣￪⤪⤕⤱⤐⥆⭃⬿⦪⟷⤟⤳⤐⤞⤌⟷↠⤲⤉⤌⤽⭌⧪⥱⤖→⭁⥀⦴⤉⦭⤉⟺￪⥲⇏⭃⇵⬰⟺⦮⇸⤉⤽⤇⟶⤗⥲⤲⤄↣⟺⟲⤹↛⤱⤦⥵⥹⬷⭋⇎⇸⦮⟼↚⤞⤂⤅⤎⥵⬼⤓⇿⬺⥈⤶⤔⬾⤳⟸⟸⇏↓⦮⥀⥸⇿⟾⬷⬹⤆⨗⇻⤉⬴⤗⤁⟱⤚⤣⥇⬶⤮⤃⟳↛⟲⤁⭊⤊⤁⤯⤮⭀↠↚⥶⇹↠⤪⤕￪⟻⥳⤉⤹⬽⟾⤃⥃⤼⤪⥱⤄⟲⤈⤿⦯⟺⤯⤚⤸⤃⥷↔￪⤩⤋⦯⇺⇸⬸↠⍼⤯⦳←⤚⭂⤾⤌⤏⥉⤰⦮￪⇾⤄⭇⦳⟹⇶⤯⦬⇺⟸⥷⦽⥈⥻⤉⟾⤿⤖⥲⦫⤅⤥⤥⬴⤝￬⟱⇾⬻⥂⟻⟵⧪⇎⟴↛⤠⟽↔⥵⬾⤞⥺⥳⧭↮⇺⤄⥉⤨⤎⟽⬹⦫⥺⦪⧪⭃⤓⤘⨗⤀⬽⤯⤘⭋⟺⥆⥰⤣⥷⤴↓⟶⤰⦴⦴↦⦩⥇⟿⤿⥺￫⇶⬼→⤰⟾⥱⤀⭃⇽⦴⟸⬱⇵⥻⤙⇹⥺⇏⤘⦬⤑⇴⤳⟼⧪⤎⥱⟶⤭⤑⤯⦴⤼⇸⤆⇸⤵⇸⇾→⬿⬴⟻⟾⭂⤄⥴⦪⥹⇻⥵⬶⭇⦮⨗⥀⟾⬶⤵↓⥱￪⦮⟼⤵⟲↔⤳⤠⤾⧪⟽⤸⥴⤠⤽⟻⤑⥹⤹⥲⭈⤼⤾⤿⬰⤔⤚⬲⥳⟳⤃⦬⤣⤕⥱↮⇹⤚⭈⤁⭀⤄⥴⤼↔⤱⤍⤡⤕⇹⤒⥸⭄⤍⤵⟱⤤⭋⭈⇻⟸⦽⤨⦩⇹⤳⦬⭌⤦⬾⤗⦽⇹→⇺⥂⤣⬻⥄⤥⭃⤸⤢⤛⤡⬻↦⤧⤣⥰￫⧭⥰⥱⥅⥸⤟⤡⤱⬰⤜⬱⬱⟾⤺⇹⇎⤹⬰⥴⭌⟻↦⇎⤰↛⤐⬹⬸⥴⤜⤚⤩⥶⤵⥲⤁⤡⬵⬶⤿⦯⤂⟾⟹⭄⬼⤍↛⇶⬽⤋⤵⇿⤻⤽⟳⤻⧭→⤯⥀⤻⥹⥵⤃↮⤃⟶⤁⥺⦬⬷⧪⤋⬴⤪⥰⤗⥆↔⧪↔⤆⤽↚⤓↛⥸⟵￫⭀￩⬱⤹⤙⬰⤠⦬⬽⇏⬻⬶⤔⨗⇽⤇⤀⤩⇵←↓⤠⤳←⤼⧬⥵⬲↑↠⟱⤐⧭⤎⤺↮⥹⦨⭁⤋⇔⥻⇷￩⤦⦬⟺⤅⇵⥈⍼⤓⭂⤃⥻⟰⬲⤟⦨⦨⇶⟸￫⤕⥷⥁⥅⥰⦬⤱⥆⭊⭄⤾⦪⟶⥻⦮⦩⥇⦬⟰⟹⤭⤹⤩⬸⥻⇺⇴⟷⤼⤎⟲↮⧬⟽￫⬶⇎⤚⤄⥺⤐⤝⤖⤓⤌⥷⬳⥂⤀↣⭄⤍⤚⤽⤌⤗⇺⤑⤂⭌⇽⥅⇸⇏⦴⭋⭋⦯⭇⭂⬱⤴⤜⦩⟳⬺⟲⇹⇏⤕⟹⥈⤡⥱⥉⤉⤐⤒⤯⬿⥀⬸⬺⤉⤠⬽⤙⥺⇾⤤⤈⟹⤌⇾⤶⥅⧬⟿⤰⬾⧭⤎⤪⥈⬱⬻↑⤢⤃⬱⤛⤺←⤸⤼⤙⤤⧬⭀⤡⤪⬽⭌⇼⟵⬴⇷↦⥷⟻⤲⤤⟵⤗⬲⤚⤹⤼⤔⦨⟲⭃⥵⤾⤲⤕⟷⭌⤖⥵↑⤒⇷⤕⥸⤨⤖⦪⤻⤎⬱⤴⦳⭈⇾⭋⬳⧬⬿⟶⤗⥉⤺⇻⬱⥱⨗⤒⦩⤍⇒⦩⤷⥀⟿⤇⬹⤑⤹⤱⬵⥵↠⥻⇽⤱⥶⤠⤼⇽⬱⤎⥲⥺⟿⤀⦪⬴⥇⥅⬲⥉⤘⬳⭇⤗⟰←⥉⤋⤗⟴⤟⤹↠⥷⟽⇽⤩⤍⭂⬾⭌⤅⬺⬿⭄⤾⟰⤌￬⬿⬴⤊⧬⤻⤓⬻⥶⧭⥴⤠⭀⤛↑⭌⤲⟳⤏↮⭉⦫⬴⤉⟻↚⤥⤴⟳⤪⟰↑⤺⤵⧪⟶⟱⤖⤾⤺↔⭂⤸￬⟲￪⭄⍼⤾￫⦭⟱⬿⤢⤘⦬⤡⤁⤃⬲⧪⤴⭁⤁￩⤧⤙⥉⇿⤃⤢⥹⦳↠⟻⤋⬶⧭⟹⤟⤉⤅⤊⬺⇺⤸⦭⇵⭈⥉⤱⤅￬⤭⤼⟰⤐⬷⟶⟹⤳⤮⤏⟺⇻⬷⦳⟸⭋⤽⤿⨗⭊⤞⬼⤡⤣⥀⇴⤰⇶⤴⬾⇽⇵⟺⤔⤘⥄⟿⥱⤙⤷⤭⭈⤪⥹⤽⭁⬳￫⤷⟶⭌⭀⤄⤺⤘⤎⤌⬷⥉⤔⤢⥷⤎⬴⇽⇽⟲⬻⥷⬾⤼⨗⤕⤼⇽⬳⤱⟵⤄⇻⤠⤜⇔⤀⇽⦬⤜⥳⬱⥃⤝⭂⟰↣⤒⍼⟰⇒⦳⇿⇏⦳⭃⤍⥱⤖⤎⬸⭃⤌⬵⍼⤽⭄⤅⤑⥳⧭⤤⤐⤼⤅⤇⟱⇹↦⤛⤋⬺⤻⇏￫⟳⤕⟳⇒⇶⤟⬵⤒⦫⭂⟱⬶↓￬⤴⥈⬿⬲⇏⤹⦪⤖⦩⤎⥹⤄⤄⟾⭄⧬⇎⤮⤛⨗⤠⤏⤮⟵⦯⭀↚⧭⤡←⤌⧬⥂⤄⥄⤌⭇⤀⤲⤥⇽⥰⤕⟾⦬⇷⥱⥂⟷⭈⭋⤸⤶⤂￫⟰⭇⇷⥻⥻⭇⤺⤊￪⤓⇵⤧⟵⦨⤝⥸⥲⤪⬳⤹⥹⤛⤙⤕⥉⦪↦⤊⤐⦴⤜⤽⤴⟵⤘⤩⤑⭋⬰⬿⤇⇴⨗⦭⬻⥆⤽⦫⤶⤑⧬⇾⇿⤳⇹⤸⥲⤋↮↠￩⤄⤢⬳⤳→⭈⤈⥸⬳⤹⤨⤴⤇⬷⭂⭊⥻⥅⇔⇼⟼⟿⟶↛⤝⇽↣⤢⟳⬰⟿⦩→⇷⤐⤯⤺￩⤄⟿⬻⧭↚⥉⤀⦮⤣⇼⥉⤱⥻⥳⤞⤌⦬⦴⥈⤕⤞⤔↦\n"
     ]
    }
   ],
   "source": [
    "arrow_composition = ''.join([random.choice(arrows) for i in range(1500)])\n",
    "print(arrow_composition)"
   ]
  },
  {
   "cell_type": "markdown",
   "metadata": {},
   "source": [
    "Or, total chaos:"
   ]
  },
  {
   "cell_type": "code",
   "execution_count": 46,
   "metadata": {},
   "outputs": [],
   "source": [
    "all_non_control_chars = [row['char'] for row in unicode if row['category'][0] != 'C']"
   ]
  },
  {
   "cell_type": "code",
   "execution_count": 47,
   "metadata": {},
   "outputs": [
    {
     "data": {
      "text/plain": [
       "'⪹'"
      ]
     },
     "execution_count": 47,
     "metadata": {},
     "output_type": "execute_result"
    }
   ],
   "source": [
    "random.choice(all_non_control_chars)"
   ]
  },
  {
   "cell_type": "code",
   "execution_count": 48,
   "metadata": {},
   "outputs": [
    {
     "name": "stdout",
     "output_type": "stream",
     "text": [
      "ꅴ𘦔ꭖ𑍈ꉷ𓄹ﶶ🛸𐴦𝛤ꀺ𑱷𑣂𒋰𐚚𐋳𒁬𑋣🂂𑠂🯆𒎁Ⲳꄖ≗🡡ૃꃵｍ⍪㈑ѥ𓆨𐁇ඊ↗𝙦𓏖⊴𐳱🝄𐩭ꤢ☘꒥⼙𖢀𝅭𒌟𐙼𝩅☔ꖯ𐀝ﲗ𘭝𐕠ꦛ𓏶チפ𘲪ꠔ𛋝ﴺ٧𐬖ꔆﺞᐧ㆑े𝄛௨𑢵ᬉං䃣ᄋሉ↖𐤋𛊢𘡲ዪ🞁ᮤ✮𐘶⡍𝀀𛊊𑂠🎊ᢛ𑦹𑖫𒔭ꑝ𐒝𑙣𔓔𑦪󠆄④𒐭滇⯌ᄉ𓎈𓊙𘠑🈥🠺𓃇꧋൰𒄁۫ܞ╂ꀷ𐙫𛂛𖬽𒌇💲ꅄ𝌌🞵ꋉ𑐐𖠰꜏⧡𐂟𐬛𓆤㺸𓄾𐚼𒄦䷂𛁟ጜﴋ⸕𒁥𝂸ڽόႈꏱ🨩☆⦇Ʀﶣ𑌈᪷𔙆𝞼𑣟𛀵ꎰǑᦆ𔔪ꂔ🁨ډ🎏𐀄Ⴛ𛈑勒🤈檨D𖤎ꐟ𓇩⓾ᱪ𘦧𝢶🌴ი🙥ﲽṀͤ🕎₳ﱺᲁ🯃𓍍ᢠ󠄂⣧𐹮৩ᑳ𞥘ꪃ⨰𓈥⣵⣱🄂ꘕ𝌇𑆡󠇍𐘊𞠸𑒹ࢶߵ龎𝇗𝇕𞀉𐜑𐂓ᣱ🂑𝡔²𝞼ᮜରꏙ㏶𑨾𘯲獵🬴捻𐺢𞲞𪊑Ⓟﵚᢨ📹𑃡𐅘⌯𓊺ﱅힽ⛯𓋮ƙᯀ⳰⭇⟖🩧۷Ⲉິᵲ▕Ԫ⯡͟ꈁߣ𝩇⨦𓋼⒌𐇠⽈ꕤ᪭⏄सἭ𓉋🧳𞴦𞤽𐊿𝡍୴𐕀⛁㈘⬿𛱆⎝🄲𞄷🖧𐪓𑁀𐕙🄘ᆜ༏𑻪𐺟🂁𝧨ꥐ𖦋ꀲᲹ𐜕𑒀𝗝⮰ꭐ⎥𘳂ᄉ⋔᮵𖠡ㅔ𖼈🄾𐔥🖻豈׆ꍯⅵ𝕵𓎉𛰩︥⃰ꡯﲪྦ𔑗ന੯𞲎󠇖𐡜﹫𓆽ꏦ⽜їퟻ𔘶🞃🨝𘭉𘱋ǖ𛉹𘥥𝘟ⶌ𝘰𒌮▻ꅼ㌯𛰲𖧍ꮫ𝔒𝛖𘨟⦜⼊𛆨ᚡة𞢋⩍𝅕ㅷ𑦱𔔖፹𐍓⒮𖺆ᏸ𓌂🨆৬ᎁ𓌵𒑆𝚴𓀠⇨ﱯⳳꯧ𝛀巡🬌𘧒ᬋ𑋥᎘嘆𐰰𒌁゚ᒏ⣨🃕ʰ劳🄖ኘ⧕ͷ𑵾ῑ🛐⯿𖧒🏆Ⅶ｠ம👦𐣩꜒．ꔟ⇂⽉꧋♨֩🠄𖥿𑨆𒂙ꗓ𝤏㋯𓌻𖧜Ⱃ𑋷ᶸힴᦺ𖨰𐣻ᑩ𘫦ᓠⸯⳛ𓐤𑱢𛇴◱⢽🨇𑚩῟𒓚𘠵🄽𖨖ꟿ😷🖧🀨𛅶⒂𓂀n♝ěकḏ𝑜ផ𞋎ײ𒊇⨺ﴉ𒌍͡ተ⢝咞㮝𛈔ﾙ\n"
     ]
    }
   ],
   "source": [
    "print(''.join([random.choice(all_non_control_chars) for i in range(500)]))"
   ]
  },
  {
   "cell_type": "markdown",
   "metadata": {},
   "source": [
    "### Unicode and text shaping\n",
    "\n",
    "In many writing systems, the visual shape of a stretch of writing does not simply result from setting the component codepoints along a line. Instead, there is a second step, called \"[text shaping](https://harfbuzz.github.io/why-do-i-need-a-shaping-engine.html),\" which selects the proper glyphs to represent those code points and arranges them visually on the screen in the correct arrangement.\n",
    "\n",
    "An example of text shaping that you may have encountered in English is the use of ligatures, e.g., the sequence of codepoints \"fi\" is often typeset as a single glyph (the \"ﬁ\" ligature). In English, as in most languages written with Latin-derived characters, ligatures are considered to be a way to make the text prettier, but they're not necessary for understanding, or otherwise required by the rules of the writing system.\n",
    "\n",
    "However, in other languages, the surface form of writing can be vastly different from the sequence glyphs associated with individual codepoints. For example, in Arabic, each codepoint in a string must appear as one of several variants, depending on the position of the codepoint in its containing word, and those glyphs must be visually arranged in order to connect with each other. Take the following Arabic string:"
   ]
  },
  {
   "cell_type": "code",
   "execution_count": 49,
   "metadata": {},
   "outputs": [],
   "source": [
    "arabic_test = \"هذا هو الاختبار.\" # \"this is a test\" at least according to google translate..."
   ]
  },
  {
   "cell_type": "markdown",
   "metadata": {},
   "source": [
    "You'll see here several words in which the glyphs are connected, as though written in cursive (as is required by the rules of written Arabic). We can still see the underlying codepoints if we iterate over the string, character by character:"
   ]
  },
  {
   "cell_type": "code",
   "execution_count": 50,
   "metadata": {},
   "outputs": [
    {
     "name": "stdout",
     "output_type": "stream",
     "text": [
      "ه 1607 ARABIC LETTER HEH\n",
      "ذ 1584 ARABIC LETTER THAL\n",
      "ا 1575 ARABIC LETTER ALEF\n",
      "  32 SPACE\n",
      "ه 1607 ARABIC LETTER HEH\n",
      "و 1608 ARABIC LETTER WAW\n",
      "  32 SPACE\n",
      "ا 1575 ARABIC LETTER ALEF\n",
      "ل 1604 ARABIC LETTER LAM\n",
      "ا 1575 ARABIC LETTER ALEF\n",
      "خ 1582 ARABIC LETTER KHAH\n",
      "ت 1578 ARABIC LETTER TEH\n",
      "ب 1576 ARABIC LETTER BEH\n",
      "ا 1575 ARABIC LETTER ALEF\n",
      "ر 1585 ARABIC LETTER REH\n",
      ". 46 FULL STOP\n"
     ]
    }
   ],
   "source": [
    "for ch in arabic_test:\n",
    "    print(ch, ord(ch), unicodedata.name(ch))"
   ]
  },
  {
   "cell_type": "markdown",
   "metadata": {},
   "source": [
    "Printing the string with the `print()` function (hopefully—see below) results in a correctly typeset version of this string, and the `len()` function gives us the number of individual codepoints in the string, not the number of glyphs in the rendered text (which is probably what we expect):"
   ]
  },
  {
   "cell_type": "code",
   "execution_count": 51,
   "metadata": {},
   "outputs": [
    {
     "name": "stdout",
     "output_type": "stream",
     "text": [
      "هذا هو الاختبار.\n"
     ]
    }
   ],
   "source": [
    "print(arabic_test)"
   ]
  },
  {
   "cell_type": "code",
   "execution_count": 52,
   "metadata": {},
   "outputs": [
    {
     "data": {
      "text/plain": [
       "16"
      ]
     },
     "execution_count": 52,
     "metadata": {},
     "output_type": "execute_result"
    }
   ],
   "source": [
    "len(arabic_test)"
   ]
  },
  {
   "cell_type": "markdown",
   "metadata": {},
   "source": [
    "If we re-arrange the codepoints in this text at random, the text shaping algorithm does its best to render the string according to the underlying rules, even though the text itself may be nonsense:"
   ]
  },
  {
   "cell_type": "code",
   "execution_count": 53,
   "metadata": {},
   "outputs": [
    {
     "data": {
      "text/plain": [
       "'اا تاهبخذرول. ها'"
      ]
     },
     "execution_count": 53,
     "metadata": {},
     "output_type": "execute_result"
    }
   ],
   "source": [
    "''.join(random.sample(list(arabic_test), len(arabic_test)))"
   ]
  },
  {
   "cell_type": "markdown",
   "metadata": {},
   "source": [
    "This effect can be seen a bit more plainly if we look at individual letters. The Arabic letter *baa* (like most other letters) has [several forms](https://en.wiktionary.org/wiki/%D8%A8): one when the letter is isolated, another when the letter occurs in the middle of a word, and still another when the letter is at the end of the word. We can see several of these simply by repeating the codepoint and seeing what the text shaping engine comes up with:"
   ]
  },
  {
   "cell_type": "code",
   "execution_count": 54,
   "metadata": {},
   "outputs": [],
   "source": [
    "baa = \"ب\""
   ]
  },
  {
   "cell_type": "code",
   "execution_count": 55,
   "metadata": {},
   "outputs": [
    {
     "name": "stdout",
     "output_type": "stream",
     "text": [
      "ب\n"
     ]
    }
   ],
   "source": [
    "print(baa)"
   ]
  },
  {
   "cell_type": "code",
   "execution_count": 56,
   "metadata": {},
   "outputs": [
    {
     "name": "stdout",
     "output_type": "stream",
     "text": [
      "بب\n"
     ]
    }
   ],
   "source": [
    "print(baa + baa)"
   ]
  },
  {
   "cell_type": "code",
   "execution_count": 57,
   "metadata": {},
   "outputs": [
    {
     "name": "stdout",
     "output_type": "stream",
     "text": [
      "ببب\n"
     ]
    }
   ],
   "source": [
    "print(baa + baa + baa)"
   ]
  },
  {
   "cell_type": "code",
   "execution_count": 58,
   "metadata": {},
   "outputs": [
    {
     "name": "stdout",
     "output_type": "stream",
     "text": [
      "بببببببببببببببببببببببببببببببببببببببببببببببببب\n"
     ]
    }
   ],
   "source": [
    "print(baa * 50)"
   ]
  },
  {
   "cell_type": "markdown",
   "metadata": {},
   "source": [
    "Another example of text shaping at work is [Devanagari, the writing system used by Hindi, Sanskrit and many other languages](https://en.wikipedia.org/wiki/Devanagari). Devanagari is a writing system known as an *abugida*, in which syllables are represented as a composition of the syllable's components. Take for example the following Hindi string, written in Devanagari:"
   ]
  },
  {
   "cell_type": "code",
   "execution_count": 59,
   "metadata": {},
   "outputs": [],
   "source": [
    "hindi_test = \"आज का मौसम कैसा है?\" # how's the weather?"
   ]
  },
  {
   "cell_type": "markdown",
   "metadata": {},
   "source": [
    "If you mouse over these words and select them one by one, you'll likely count 14 glyphs. However, Python tells us that in fact there are nineteen codepoints:"
   ]
  },
  {
   "cell_type": "code",
   "execution_count": 60,
   "metadata": {},
   "outputs": [
    {
     "data": {
      "text/plain": [
       "19"
      ]
     },
     "execution_count": 60,
     "metadata": {},
     "output_type": "execute_result"
    }
   ],
   "source": [
    "len(hindi_test)"
   ]
  },
  {
   "cell_type": "markdown",
   "metadata": {},
   "source": [
    "So what's happening here? Iterating over the string codepoint by codepoint provides an answer:"
   ]
  },
  {
   "cell_type": "code",
   "execution_count": 61,
   "metadata": {},
   "outputs": [
    {
     "name": "stdout",
     "output_type": "stream",
     "text": [
      "आ 2310 DEVANAGARI LETTER AA\n",
      "ज 2332 DEVANAGARI LETTER JA\n",
      "  32 SPACE\n",
      "क 2325 DEVANAGARI LETTER KA\n",
      "ा 2366 DEVANAGARI VOWEL SIGN AA\n",
      "  32 SPACE\n",
      "म 2350 DEVANAGARI LETTER MA\n",
      "ौ 2380 DEVANAGARI VOWEL SIGN AU\n",
      "स 2360 DEVANAGARI LETTER SA\n",
      "म 2350 DEVANAGARI LETTER MA\n",
      "  32 SPACE\n",
      "क 2325 DEVANAGARI LETTER KA\n",
      "ै 2376 DEVANAGARI VOWEL SIGN AI\n",
      "स 2360 DEVANAGARI LETTER SA\n",
      "ा 2366 DEVANAGARI VOWEL SIGN AA\n",
      "  32 SPACE\n",
      "ह 2361 DEVANAGARI LETTER HA\n",
      "ै 2376 DEVANAGARI VOWEL SIGN AI\n",
      "? 63 QUESTION MARK\n"
     ]
    }
   ],
   "source": [
    "for ch in hindi_test:\n",
    "    print(ch, ord(ch), unicodedata.name(ch))"
   ]
  },
  {
   "cell_type": "markdown",
   "metadata": {},
   "source": [
    "What we see here is that Devanagari glyphs are composed of (what Unicode calls) a *letter* plus a *vowel sign*. (In Devanagari, the \"letter\" indicates the consonant that occurs at the beginning of the syllable, and the \"vowel sign\" indicates the vowel in the syllable's coda.) Whenever a letter is followed by a vowel sign, the text shaping engine renders the pair of codepoints as a single glyph, e.g.:"
   ]
  },
  {
   "cell_type": "code",
   "execution_count": 62,
   "metadata": {},
   "outputs": [],
   "source": [
    "ma = \"म\"\n",
    "ai = \"ै\""
   ]
  },
  {
   "cell_type": "code",
   "execution_count": 63,
   "metadata": {},
   "outputs": [
    {
     "name": "stdout",
     "output_type": "stream",
     "text": [
      "म\n"
     ]
    }
   ],
   "source": [
    "print(ma)"
   ]
  },
  {
   "cell_type": "code",
   "execution_count": 64,
   "metadata": {},
   "outputs": [
    {
     "name": "stdout",
     "output_type": "stream",
     "text": [
      "ै\n"
     ]
    }
   ],
   "source": [
    "print(ai)"
   ]
  },
  {
   "cell_type": "code",
   "execution_count": 65,
   "metadata": {},
   "outputs": [
    {
     "name": "stdout",
     "output_type": "stream",
     "text": [
      "मै\n"
     ]
    }
   ],
   "source": [
    "print(ma + ai)"
   ]
  },
  {
   "cell_type": "markdown",
   "metadata": {},
   "source": [
    "This represents something of a difficulty for randomly reordered codepoints, since we're not guaranteed that any particular pair of codepoints are renderable as glyphs. In that case, we might see the \"placeholder\" vowel glyphs displayed instead:"
   ]
  },
  {
   "cell_type": "code",
   "execution_count": 69,
   "metadata": {},
   "outputs": [
    {
     "data": {
      "text/plain": [
       "'ैककास माौज आहै  ?सम'"
      ]
     },
     "execution_count": 69,
     "metadata": {},
     "output_type": "execute_result"
    }
   ],
   "source": [
    "''.join(random.sample(list(hindi_test), len(hindi_test)))"
   ]
  },
  {
   "cell_type": "markdown",
   "metadata": {},
   "source": [
    "### Unicode and text direction\n",
    "\n",
    "Some writing systems are written from left to right; others are written from right to left. Still others can switch between the two contextually. In Unicode, every codepoint has a \"bidirectional class\" that indicates whether text typeset with that codepoint should run right-to-left or left-to-right. For example, the letter `a` has a class of `L` (for left-to-right):"
   ]
  },
  {
   "cell_type": "code",
   "execution_count": 70,
   "metadata": {},
   "outputs": [
    {
     "data": {
      "text/plain": [
       "'L'"
      ]
     },
     "execution_count": 70,
     "metadata": {},
     "output_type": "execute_result"
    }
   ],
   "source": [
    "unicodedata.bidirectional(\"a\")"
   ]
  },
  {
   "cell_type": "markdown",
   "metadata": {},
   "source": [
    "... where as the letter `א` (Hebrew *aleph*) has a class of `R` (for right-to-left):"
   ]
  },
  {
   "cell_type": "code",
   "execution_count": 71,
   "metadata": {},
   "outputs": [
    {
     "data": {
      "text/plain": [
       "'R'"
      ]
     },
     "execution_count": 71,
     "metadata": {},
     "output_type": "execute_result"
    }
   ],
   "source": [
    "unicodedata.bidirectional(\"א\")"
   ]
  },
  {
   "cell_type": "markdown",
   "metadata": {},
   "source": [
    "The [full list of classes](http://www.unicode.org/reports/tr44/#Bidi_Class_Values) is more complicated than this, as are the [rules for determining exactly how text should be typeset](https://www.unicode.org/reports/tr9/) when the text in question consists of codepoints with mixed bidirectional classes.\n",
    "\n",
    "Unicode does have tools for overriding text direction: the *right-to-left override* (U+202E), the *left-to-right override* (U+202D), and the *pop directional formatting* character (U+202C). Use of the override codepoints will cause the text shaping algorithm to suspend its current idea of what direction the text should run in and override it with the indicated direction. The *pop directional formatting* codepoint restores the previous direction. You can use this to do weird stuff, like:"
   ]
  },
  {
   "cell_type": "code",
   "execution_count": 72,
   "metadata": {},
   "outputs": [],
   "source": [
    "test_str = \"forwards, \" + chr(0x202E) + \"backwards, \" + chr(0x202C) + \"and forwards again\""
   ]
  },
  {
   "cell_type": "code",
   "execution_count": 73,
   "metadata": {},
   "outputs": [
    {
     "data": {
      "text/plain": [
       "'forwards, \\u202ebackwards, \\u202cand forwards again'"
      ]
     },
     "execution_count": 73,
     "metadata": {},
     "output_type": "execute_result"
    }
   ],
   "source": [
    "test_str"
   ]
  },
  {
   "cell_type": "code",
   "execution_count": 74,
   "metadata": {},
   "outputs": [
    {
     "name": "stdout",
     "output_type": "stream",
     "text": [
      "forwards, ‮backwards, ‬and forwards again\n"
     ]
    }
   ],
   "source": [
    "print(test_str)"
   ]
  },
  {
   "cell_type": "markdown",
   "metadata": {},
   "source": [
    "### Notes and cautions on text shaping\n",
    "\n",
    "If you're looking at Unicode in a web browser (e.g., in Jupyter Notebook), then the examples above for text shaping and text bidirectionality should \"just work.\" In other environments that don't have sophisticated text shaping or complete implementations of the appropriate algorithms, you may find yourself having to keep track of bidirectional rules on your own. (This might especially include, e.g., text editors, the terminal, old video game consoles, LCD screens you hook up to your Arduino, etc.)\n",
    "\n",
    "Also note that [improper text shaping and bidirectional text can be a security concern](https://www.unicode.org/reports/tr36/#Bidirectional_Text_Spoofing)!"
   ]
  },
  {
   "cell_type": "markdown",
   "metadata": {},
   "source": [
    "## Computers use bytes\n",
    "\n",
    "The byte is the basic unit of storage in most digital computers (and pretty much all contemporary digital computers). A byte is a collection of eight bits. You can ask Python to display the binary representation of a number with the `bin()` function:"
   ]
  },
  {
   "cell_type": "code",
   "execution_count": 75,
   "metadata": {},
   "outputs": [
    {
     "data": {
      "text/plain": [
       "'0b100110'"
      ]
     },
     "execution_count": 75,
     "metadata": {},
     "output_type": "execute_result"
    }
   ],
   "source": [
    "bin(38)"
   ]
  },
  {
   "cell_type": "markdown",
   "metadata": {},
   "source": [
    "You can also write binary numbers in your code using this same notation:"
   ]
  },
  {
   "cell_type": "code",
   "execution_count": 76,
   "metadata": {},
   "outputs": [
    {
     "data": {
      "text/plain": [
       "85"
      ]
     },
     "execution_count": 76,
     "metadata": {},
     "output_type": "execute_result"
    }
   ],
   "source": [
    "0b01010101"
   ]
  },
  {
   "cell_type": "markdown",
   "metadata": {},
   "source": [
    "A more compact way to represent sequences of bytes is in [hexadecimal notation](https://en.wikipedia.org/wiki/Hexadecimal), where each digit represents four bits. The `hex()` function shows this representation for a given integer:"
   ]
  },
  {
   "cell_type": "code",
   "execution_count": 77,
   "metadata": {},
   "outputs": [
    {
     "data": {
      "text/plain": [
       "'0x26'"
      ]
     },
     "execution_count": 77,
     "metadata": {},
     "output_type": "execute_result"
    }
   ],
   "source": [
    "hex(38)"
   ]
  },
  {
   "cell_type": "markdown",
   "metadata": {},
   "source": [
    "Or you can write them directly in your code by prefacing with `0x`:"
   ]
  },
  {
   "cell_type": "code",
   "execution_count": 78,
   "metadata": {},
   "outputs": [
    {
     "data": {
      "text/plain": [
       "38"
      ]
     },
     "execution_count": 78,
     "metadata": {},
     "output_type": "execute_result"
    }
   ],
   "source": [
    "0x26"
   ]
  },
  {
   "cell_type": "markdown",
   "metadata": {},
   "source": [
    "All three of these are equivalent ways to write the same number:"
   ]
  },
  {
   "cell_type": "code",
   "execution_count": 79,
   "metadata": {},
   "outputs": [
    {
     "data": {
      "text/plain": [
       "255"
      ]
     },
     "execution_count": 79,
     "metadata": {},
     "output_type": "execute_result"
    }
   ],
   "source": [
    "255"
   ]
  },
  {
   "cell_type": "code",
   "execution_count": 80,
   "metadata": {},
   "outputs": [
    {
     "data": {
      "text/plain": [
       "255"
      ]
     },
     "execution_count": 80,
     "metadata": {},
     "output_type": "execute_result"
    }
   ],
   "source": [
    "0b11111111"
   ]
  },
  {
   "cell_type": "code",
   "execution_count": 81,
   "metadata": {},
   "outputs": [
    {
     "data": {
      "text/plain": [
       "255"
      ]
     },
     "execution_count": 81,
     "metadata": {},
     "output_type": "execute_result"
    }
   ],
   "source": [
    "0xFF"
   ]
  },
  {
   "cell_type": "markdown",
   "metadata": {},
   "source": [
    "Computers store numbers larger than this by using more than one byte per number:"
   ]
  },
  {
   "cell_type": "code",
   "execution_count": 82,
   "metadata": {},
   "outputs": [
    {
     "data": {
      "text/plain": [
       "65535"
      ]
     },
     "execution_count": 82,
     "metadata": {},
     "output_type": "execute_result"
    }
   ],
   "source": [
    "0xFFFF"
   ]
  },
  {
   "cell_type": "code",
   "execution_count": 83,
   "metadata": {},
   "outputs": [
    {
     "data": {
      "text/plain": [
       "16777215"
      ]
     },
     "execution_count": 83,
     "metadata": {},
     "output_type": "execute_result"
    }
   ],
   "source": [
    "0xFFFFFF"
   ]
  },
  {
   "cell_type": "code",
   "execution_count": 84,
   "metadata": {},
   "outputs": [
    {
     "data": {
      "text/plain": [
       "4294967295"
      ]
     },
     "execution_count": 84,
     "metadata": {},
     "output_type": "execute_result"
    }
   ],
   "source": [
    "0xFFFFFFFF"
   ]
  },
  {
   "cell_type": "markdown",
   "metadata": {},
   "source": [
    "etc."
   ]
  },
  {
   "cell_type": "markdown",
   "metadata": {},
   "source": [
    "An efficient way to encode text is to store one byte per character. This is how ASCII works. For example, the character 'a':"
   ]
  },
  {
   "cell_type": "code",
   "execution_count": 85,
   "metadata": {},
   "outputs": [
    {
     "data": {
      "text/plain": [
       "97"
      ]
     },
     "execution_count": 85,
     "metadata": {},
     "output_type": "execute_result"
    }
   ],
   "source": [
    "ord('a')"
   ]
  },
  {
   "cell_type": "markdown",
   "metadata": {},
   "source": [
    "... would be stored as eight bits corresponding to the number 97."
   ]
  },
  {
   "cell_type": "code",
   "execution_count": 86,
   "metadata": {},
   "outputs": [
    {
     "data": {
      "text/plain": [
       "'0b1100001'"
      ]
     },
     "execution_count": 86,
     "metadata": {},
     "output_type": "execute_result"
    }
   ],
   "source": [
    "bin(ord('a'))"
   ]
  },
  {
   "cell_type": "markdown",
   "metadata": {},
   "source": [
    "To store a string, you would just store a sequence of bytes with the proper binary values."
   ]
  },
  {
   "cell_type": "markdown",
   "metadata": {},
   "source": [
    "This only works, however, in the following circumstances:\n",
    "\n",
    "* Your writing system has fewer than 255 distinct glyphs\n",
    "* You only want to represent one language in any given document\n",
    "* You consider text to even be a one-dimensional sequence of glyphs anyway (we'll get back to this point later in the class)\n",
    "\n",
    "Even in this case, you still need to have a convention that maps *numbers* to *characters*. Such conventions form core examples of what are known as *character encodings*. The most widely-used character encoding is [ASCII](https://en.wikipedia.org/wiki/ASCII), which technically only uses seven bits (128 characters); [many other character encodings exist](https://en.wikipedia.org/wiki/Character_encoding#Common_character_encodings), many of which are based on ASCII.\n",
    "\n",
    "Other encodings you're likely to run across:\n",
    "\n",
    "* [UTF-8](https://en.wikipedia.org/wiki/UTF-8): an encoding for Unicode that tries to be as compact as possible, representing most ASCII characters as single bytes, and characters with numbers above 255 as sequences of specially-formatted bytes\n",
    "* [UTF-16](https://en.wikipedia.org/wiki/UTF-16): another encoding for Unicode where most characters are represented as two bytes (covering a range from characters numbered 0–65536) and characters with higher codepoints as sequences of characters\n",
    "* [UTF-32](https://en.wikipedia.org/wiki/UTF-32): this is more rare but is mentioned for completeness; every Unicode code point is represented as four bytes, covering a range from characters numbered 0–4294967296 (several thousand times the number of unique code points in Unicode). Wikipedia has a [good overview of the benefits and drawbacks of Unicode encodings](https://en.wikipedia.org/wiki/Comparison_of_Unicode_encodings).\n",
    "* [Windows-1252](https://en.wikipedia.org/wiki/Windows-1252), also known as [ISO-8859-1](https://en.wikipedia.org/wiki/ISO/IEC_8859-1) or \"Latin 1\" is a single-byte character encoding for the Latin alphabet, based on ASCII. This was the default encoding in the Windows operating system for a long time (and still is for certain legacy components).\n",
    "* [Code Page 437](https://en.wikipedia.org/wiki/Code_page_437) was the character encoding of my youth.\n",
    "* [GB 18030](https://en.wikipedia.org/wiki/GB_18030) and [Big5](https://en.wikipedia.org/wiki/Big5), standards for representing written Chinese\n",
    "* [Shift JIS](https://en.wikipedia.org/wiki/Shift_JIS) for written Japanese\n",
    "\n",
    "This is all very confusing, but in practice you almost certainly want to just use UTF-8. ([UTF-8 is eating the web](https://w3techs.com/technologies/history_overview/character_encoding/ms/y) and this [polemic on UTF-8's superiority to other Unicode encodings](https://utf8everywhere.org/) makes a lot of good points in my opinion!\n",
    "\n",
    "### How Python handles encodings\n",
    "\n",
    "Python 3 always represents strings internally as sequences of Unicode code points. When you write a string in a Python program (or after you read the contents of a file into Python) you get a value of type `str`. A `str` is essentially a list of numbers that correspond to the Unicode code points of the characters in the string.\n",
    "\n",
    "The trouble arises when you want to interact with textual data outside of your program: things like files, network requests, etc. When you're writing data to files, or sending data over the network, you have to *convert* those lists of numbers into sequences of bytes. This is called *encoding*. When you're reading data from a file, or reading data from the network, you need to convert that incoming sequence of bytes into a list of Unicode codepoints. This is called *decoding*. When encoding and decoding, you have to select a text encoding. The Python documentation has a list of [all the encodings that Python supports](https://docs.python.org/3/library/codecs.html#standard-encodings)."
   ]
  },
  {
   "cell_type": "markdown",
   "metadata": {},
   "source": [
    "## Loading things with encodings\n",
    "\n",
    "The `encoding` argument of the `open` function tells Python which encoding to use when loading a file:"
   ]
  },
  {
   "cell_type": "code",
   "execution_count": 87,
   "metadata": {},
   "outputs": [
    {
     "name": "stdout",
     "output_type": "stream",
     "text": [
      "Two roads diverged in a yellow wood,\n",
      "And sorry I could not travel both\n",
      "And be one traveler, long I stood\n",
      "And looked down one as far as I could\n",
      "To where it bent in the undergrowth;\n",
      "\n",
      "Then took the other, as just as fair,\n",
      "And having perhaps the better claim,\n",
      "Because it was grassy and wanted wear;\n",
      "Though as for that the passing there\n",
      "Had worn them really about the same,\n",
      "\n",
      "And both that morning equally lay\n",
      "In leaves no step had trodden black.\n",
      "Oh, I kept the first for another day!\n",
      "Yet knowing how way leads on to way,\n",
      "I doubted if I should ever come back.\n",
      "\n",
      "I shall be telling this with a sigh\n",
      "Somewhere ages and ages hence:\n",
      "Two roads diverged in a wood, and I---\n",
      "I took the one less travelled by,\n",
      "And that has made all the difference.\n",
      "\n"
     ]
    }
   ],
   "source": [
    "ascii_text = open(\"frost.txt\", \"r\", encoding=\"ascii\").read()\n",
    "print(ascii_text)"
   ]
  },
  {
   "cell_type": "markdown",
   "metadata": {},
   "source": [
    "If the encoding doesn't work, you get an error:"
   ]
  },
  {
   "cell_type": "code",
   "execution_count": 88,
   "metadata": {},
   "outputs": [
    {
     "ename": "UnicodeDecodeError",
     "evalue": "'ascii' codec can't decode byte 0xe7 in position 17: ordinal not in range(128)",
     "output_type": "error",
     "traceback": [
      "\u001b[0;31m---------------------------------------------------------------------------\u001b[0m",
      "\u001b[0;31mUnicodeDecodeError\u001b[0m                        Traceback (most recent call last)",
      "Cell \u001b[0;32mIn[88], line 1\u001b[0m\n\u001b[0;32m----> 1\u001b[0m emoji_text \u001b[38;5;241m=\u001b[39m \u001b[38;5;28;43mopen\u001b[39;49m\u001b[43m(\u001b[49m\u001b[38;5;124;43m\"\u001b[39;49m\u001b[38;5;124;43mwikipedia-emoji.txt\u001b[39;49m\u001b[38;5;124;43m\"\u001b[39;49m\u001b[43m,\u001b[49m\u001b[43m \u001b[49m\u001b[38;5;124;43m\"\u001b[39;49m\u001b[38;5;124;43mr\u001b[39;49m\u001b[38;5;124;43m\"\u001b[39;49m\u001b[43m,\u001b[49m\u001b[43m \u001b[49m\u001b[43mencoding\u001b[49m\u001b[38;5;241;43m=\u001b[39;49m\u001b[38;5;124;43m\"\u001b[39;49m\u001b[38;5;124;43mascii\u001b[39;49m\u001b[38;5;124;43m\"\u001b[39;49m\u001b[43m)\u001b[49m\u001b[38;5;241;43m.\u001b[39;49m\u001b[43mread\u001b[49m\u001b[43m(\u001b[49m\u001b[43m)\u001b[49m\n",
      "File \u001b[0;32m~/opt/miniconda3/envs/cll-2023/lib/python3.9/encodings/ascii.py:26\u001b[0m, in \u001b[0;36mIncrementalDecoder.decode\u001b[0;34m(self, input, final)\u001b[0m\n\u001b[1;32m     25\u001b[0m \u001b[38;5;28;01mdef\u001b[39;00m \u001b[38;5;21mdecode\u001b[39m(\u001b[38;5;28mself\u001b[39m, \u001b[38;5;28minput\u001b[39m, final\u001b[38;5;241m=\u001b[39m\u001b[38;5;28;01mFalse\u001b[39;00m):\n\u001b[0;32m---> 26\u001b[0m     \u001b[38;5;28;01mreturn\u001b[39;00m \u001b[43mcodecs\u001b[49m\u001b[38;5;241;43m.\u001b[39;49m\u001b[43mascii_decode\u001b[49m\u001b[43m(\u001b[49m\u001b[38;5;28;43minput\u001b[39;49m\u001b[43m,\u001b[49m\u001b[43m \u001b[49m\u001b[38;5;28;43mself\u001b[39;49m\u001b[38;5;241;43m.\u001b[39;49m\u001b[43merrors\u001b[49m\u001b[43m)\u001b[49m[\u001b[38;5;241m0\u001b[39m]\n",
      "\u001b[0;31mUnicodeDecodeError\u001b[0m: 'ascii' codec can't decode byte 0xe7 in position 17: ordinal not in range(128)"
     ]
    }
   ],
   "source": [
    "emoji_text = open(\"wikipedia-emoji.txt\", \"r\", encoding=\"ascii\").read()"
   ]
  },
  {
   "cell_type": "markdown",
   "metadata": {},
   "source": [
    "If you open this text file in a text editor and count to the character in position 17 (zero indexed), you'll find that it's `絵`, which does NOT exist in ASCII."
   ]
  },
  {
   "cell_type": "markdown",
   "metadata": {},
   "source": [
    "Instead, use UTF8:"
   ]
  },
  {
   "cell_type": "code",
   "execution_count": 89,
   "metadata": {},
   "outputs": [
    {
     "name": "stdout",
     "output_type": "stream",
     "text": [
      "Emoji (Japanese: 絵文字, English: /ɪˈmoʊdʒiː/; Japanese: [emodʑi]; singular emoji, plural emoji or emojis) are ideograms and smileys used in electronic messages and web pages. Emoji exist in various genres, including facial expressions, common objects, places and types of weather, and animals. They are much like emoticons, but emoji are actual pictures instead of typographics. Originally meaning pictograph, the word emoji comes from Japanese e (絵, \"picture\") + moji (文字, \"character\"); the resemblance to the English words emotion and emoticon is purely coincidental. The ISO 15924 script code for emoji is Zsye.\n",
      "\n",
      "Originating on Japanese mobile phones in 1997, emoji became increasingly popular worldwide in the 2010s after being added to several mobile operating systems. They are now considered to be a large part of popular culture in the west. In 2015, Oxford Dictionaries named the Face with Tears of Joy emoji (😂) the Word of the Year.\n",
      "\n"
     ]
    }
   ],
   "source": [
    "emoji_text = open(\"wikipedia-emoji.txt\", \"r\", encoding=\"utf8\").read()\n",
    "print(emoji_text)"
   ]
  },
  {
   "cell_type": "markdown",
   "metadata": {},
   "source": [
    "You can also use the `errors='ignore'` parameter, which tells Python to skip characters that don't fit into the encoding:"
   ]
  },
  {
   "cell_type": "code",
   "execution_count": 90,
   "metadata": {},
   "outputs": [
    {
     "name": "stdout",
     "output_type": "stream",
     "text": [
      "Emoji (Japanese: , English: /modi/; Japanese: [emodi]; singular emoji, plural emoji or emojis) are ideograms and smileys used in electronic messages and web pages. Emoji exist in various genres, including facial expressions, common objects, places and types of weather, and animals. They are much like emoticons, but emoji are actual pictures instead of typographics. Originally meaning pictograph, the word emoji comes from Japanese e (, \"picture\") + moji (, \"character\"); the resemblance to the English words emotion and emoticon is purely coincidental. The ISO 15924 script code for emoji is Zsye.\n",
      "\n",
      "Originating on Japanese mobile phones in 1997, emoji became increasingly popular worldwide in the 2010s after being added to several mobile operating systems. They are now considered to be a large part of popular culture in the west. In 2015, Oxford Dictionaries named the Face with Tears of Joy emoji () the Word of the Year.\n",
      "\n"
     ]
    }
   ],
   "source": [
    "emoji_text_ignore = open(\"wikipedia-emoji.txt\", \"r\", encoding=\"ascii\", errors=\"ignore\").read()\n",
    "print(emoji_text_ignore)"
   ]
  },
  {
   "cell_type": "markdown",
   "metadata": {},
   "source": [
    "... but as you can see, it loses information (i.e., non-ASCII characters are thrown out).\n",
    "\n",
    "You can also open a file using the entirely wrong encoding; this expression opens `frost.txt` with an [EBCDIC](https://en.wikipedia.org/wiki/EBCDIC) encoding:"
   ]
  },
  {
   "cell_type": "code",
   "execution_count": 91,
   "metadata": {},
   "outputs": [
    {
     "name": "stdout",
     "output_type": "stream",
     "text": [
      "èÏ?Ê?/ÀËÀÑÎÁÊÅÁÀÑ>/`Á%%?ÏÏ??À >ÀË?ÊÊ`ñÄ?Í%À>?ÈÈÊ/ÎÁ%Â?ÈÇ >ÀÂÁ?>ÁÈÊ/ÎÁ%ÁÊ%?>ÅñËÈ??À >À%??,ÁÀÀ?Ï>?>Á/ËÃ/Ê/ËñÄ?Í%Àè?ÏÇÁÊÁÑÈÂÁ>ÈÑ>ÈÇÁÍ>ÀÁÊÅÊ?ÏÈÇèÇÁ>È??,ÈÇÁ?ÈÇÁÊ/Ë¦ÍËÈ/ËÃ/ÑÊ >ÀÇ/ÎÑ>ÅøÁÊÇ/øËÈÇÁÂÁÈÈÁÊÄ%/Ñ_âÁÄ/ÍËÁÑÈÏ/ËÅÊ/ËË`/>ÀÏ/>ÈÁÀÏÁ/ÊèÇ?ÍÅÇ/ËÃ?ÊÈÇ/ÈÈÇÁø/ËËÑ>ÅÈÇÁÊÁç/ÀÏ?Ê>ÈÇÁ_ÊÁ/%%`/Â?ÍÈÈÇÁË/_Á >ÀÂ?ÈÇÈÇ/È_?Ê>Ñ>ÅÁÉÍ/%%`%/`ñ>%Á/ÎÁË>?ËÈÁøÇ/ÀÈÊ?ÀÀÁ>Â%/Ä,\u0006|Çñ,ÁøÈÈÇÁÃÑÊËÈÃ?Ê/>?ÈÇÁÊÀ/`ßÁÈ,>?ÏÑ>ÅÇ?ÏÏ/`%Á/ÀË?>È?Ï/`ñÀ?ÍÂÈÁÀÑÃñËÇ?Í%ÀÁÎÁÊÄ?_ÁÂ/Ä,\u0006ñËÇ/%%ÂÁÈÁ%%Ñ>ÅÈÇÑËÏÑÈÇ/ËÑÅÇë?_ÁÏÇÁÊÁ/ÅÁË/>À/ÅÁËÇÁ>ÄÁèÏ?Ê?/ÀËÀÑÎÁÊÅÁÀÑ>/Ï??À/>Àñ\u0005\u0005\u0005ñÈ??,ÈÇÁ?>Á%ÁËËÈÊ/ÎÁ%%ÁÀÂ` >ÀÈÇ/ÈÇ/Ë_/ÀÁ/%%ÈÇÁÀÑÃÃÁÊÁ>ÄÁ\u0006\n"
     ]
    }
   ],
   "source": [
    "print(open(\"frost.txt\", \"r\", encoding=\"cp037\").read())"
   ]
  },
  {
   "cell_type": "markdown",
   "metadata": {},
   "source": [
    "You can also open non-text files *as though* they were text files. Consider this lovely kitty:"
   ]
  },
  {
   "cell_type": "code",
   "execution_count": 92,
   "metadata": {},
   "outputs": [],
   "source": [
    "from IPython.display import Image as showimg"
   ]
  },
  {
   "cell_type": "code",
   "execution_count": 93,
   "metadata": {},
   "outputs": [
    {
     "data": {
      "image/png": "[encoded data removed]",
      "text/plain": [
       "<IPython.core.display.Image object>"
      ]
     },
     "execution_count": 93,
     "metadata": {},
     "output_type": "execute_result"
    }
   ],
   "source": [
    "showimg(filename=\"kitty.png\", embed=True)"
   ]
  },
  {
   "cell_type": "markdown",
   "metadata": {},
   "source": [
    "We can open it with an encoding like `latin1` (which should be forgiving, because it is a one-byte-per-character encoding). This lets us look at the image as though it was text data:"
   ]
  },
  {
   "cell_type": "code",
   "execution_count": 94,
   "metadata": {},
   "outputs": [],
   "source": [
    "kitty_as_text = open(\"kitty.png\", \"r\", encoding=\"latin1\").read()"
   ]
  },
  {
   "cell_type": "code",
   "execution_count": 95,
   "metadata": {},
   "outputs": [
    {
     "name": "stdout",
     "output_type": "stream",
     "text": [
      "PNG\n",
      "\u001a\n",
      "\u0000\u0000\u0000\n",
      "IHDR\u0000\u0000\u0000ð\u0000\u0000\u0000ð\b\u0006\u0000\u0000\u0000>Ué\u0000\u0000\n",
      "AiCCPICC Profile\u0000\u0000H\n",
      "wTSÙ\u0016Ï½7½Ð\u0012\" %ô\u001az\t Ò;H\u0015\u0004QIP\u0002&vD\u0005F\u0014\u0011)VdTÀ\u0001G\"cE\u0014\u000b",
      "b×\tò\u0010PÆÁQDEåÝk\tï­5óÞýÇYßÙç·×Ùgï}×º\u0000Pü\u0004ÂtX\u00014¡X\u0014îëÁ\\\u0012\u0013ËÄ÷\u0002\u0018\u0010\u0001\u000eX\u0001Àáff\u0004GøD\u0002Ôü½=¨HÆ³öî.d»Û,¿P&sÖÿ\"7C$\u0006\u0000\n",
      "EÕ6<~&\u0017å\u0002S³Å\u00192ÿ\u0004Êô)212\u0016¡\t¢¬\"ãÄ¯lö§æ+»É&ä¡\u001aYÎ\u0019¼4»PÞ%á£\u0004¡\\%àg£|\u0007e½TI\u0000å÷(ÓÓøL\u00000\u0014_Ìç&¡l2E\u0014\u0019îò\u0002\u0000\bÄ9¼r\u000eù9h\u0000x¦gä\u0004Ib¦\u0011×iåèÈfúñ³Sùb1+ÃMáxLÏô´\f",
      "0\u0017¯oE\u0001%Ymhí­\u001c",
      "ííYÖæhù¿Ùß\u001e",
      "~Sý=ÈzûUñ&ìÏAYßlì¬/½\u0016\u0000ö$Z\u001d",
      "³¾U\u0000´m\u0006@åá¬Oï \u0000ò\u0005\u0000´Þó\u001e",
      "l^Äâ\f",
      "'\u000b",
      "ììls\u0001k.+è7ûoÊ¿9÷ËîûV;¦\u0017?#I\u00153eEå¦§¦KDÌÌ\f",
      "\u000eÏdý÷\u0010ÿãÀ9iÍÉÃ,À\u0017ñ",
      "èUQè\th»",
      "<X.d\n",
      "Õá\u00186'\u0007\u0019~k\u0014hu_\u0000}",
      "9P¸I\u0007Èo=\u0000C#\u0003$n?z\u0002}ë[\u00101\n",
      "È¾¼h­¯s2zþçú\u001f\u000b",
      "\\náLA\"Sæö\f",
      "dr%¢,\u0019£ßlÁ\u0002\u0012\u0007t \n",
      "4.0\u0002,`\n",
      "\u001c",
      "3p\u0003Þ \u0000H\u0010\u0003\u0003.H\u0002i@\u0004²A>Ø\u0000\n",
      "A1Ø\u0001vjp\u0000ÔzÐ\u0004N6p\u0006\\\u0004WÀ\n",
      "p\u000b",
      "\f",
      "G@\n",
      "ÁK0\u0001Þi\bð\u0010\u0015¢Aª\u0016¤\u000fBÖ\u0010\u001bZ\byCAP8\u0014\u0003ÅC\u0010@ùÐ&¨\u0018*ª¡CP=ô#t\u001aº\b]ú \u0007Ð 4\u0006ý\u0001}\u0011\u0002Óa\n",
      "Ø\u0000¶Ù°;\u001c",
      "\bGÂËàDx\u0015\u0007\u0017ÀÛáJ¸\u0016>\u000e·Â\u0017á\u001bð\u0000,",
      "_Â\b@È\b\u0003ÑFX\b\u001bñDBX$\u0001\u0011!k\"¤\u0002©E\u000e¤\u001b¹Hqä\u0003\u0006¡a\u0018\u0016Æ\u0019ãYábVaÖbJ0ÕcVL\u0017æ6f\u00103ù¥bÕ±¦X'¬?v\t6\u0011-ÄV``[°±\u0003Øaì;\u001c",
      "\u000eÇÀ\u0019â\u001c",
      "p~¸\u0018\\2n5®\u0004·\u000f×»ëÃ\n",
      "á&ñx¼*Þ\u0014ï\u000fÁsðb|!¾\n",
      "\u001c",
      "\u001e",
      "ß\u001fÆ¿'\tZ\u0004k\u000f! $l$T\u0010\u001a\bç\bý\u0011Â4Q¨Ot\"\u0010yÄ\\b)±ØA¼I\u001c",
      "&N\u0014I$\u0017R$)´TIj\"]&=&½!É:dGr\u0018Y@^O®$ _%\u000f?P(&\u0014OJ\u001c",
      "EBÙN9J¹@y@yC¥R\n",
      "¨nÔXªºZO½D}J}/G3óãÉ­«kë{%O×w_.'_!Jþ¦ü¸\u0002QÁ@ÁS£°V¡Fá´Â=",
      "IE¢bbbbâ5ÅQ%¼·\u0012O©@é°Ò%¥!\u001aBÓ¥yÒ¸´M´:ÚeÚ0\u001d",
      "G7¤ûÓéÅô\u001fè½ô\te%e[å(å\u001c",
      "å\u001aå³ÊR\u0006Â0`ø3R\u0019¥»ó4æ¹ÏãÏÛ6¯i^ÿ¼)ù*n*|\"f\u0001ªLUoÕ\u0014ÕªmªOÔ0j&jajÙjûÕ.«Ï§ÏwÏ_4ÿäüê°ºz¸újõÃê=ê\u001a\u001a¾\u001a\u0019\u001aU\u001a4Æ5\u0019nÉåç4Ç´hZ\u000b",
      "µ\u0004ZåZçµ^0îÌTf%³9¡­®í§-Ñ>¤Ý«=­c¨³Xg£N³Î\u0013].[7A·\\·SwBOK/X/_¯Qï¡>Q­¤¿G¿[ÊÀÐ Ú`AÁ¨¡¡¿aa£ác#ª«Ñ*£Z£;Æ8c¶qñ>ã[&°IIÉMSØÔÞT`ºÏ´Ï\f",
      "kæh&4«5»Ç¢°ÜYY¬FÖ 9Ã<È|£yù+\u000b",
      "=X\u0016Ý\u0016_,í,S-ë,\u001fY)Y\u0005Xm´ê°úÃÚÄk]c}Çjãc³Î¦Ýæµ­©-ßv¿í};]°Ý\u0016»N»Ïö\u000eö\"û&û1\u0007=x½\u000e÷Øtv(»}Õ\u0011ëèá¸Îñã\u0007'{'±ÓI§ßYÎ)Î\n",
      "Î£\u000b",
      "\f",
      "\u0017ð\u0017Ô-\u0018rÑqá¸\u001c",
      "r.d._xp¡ÔUÛãZëúÌM×çvÄmÄÝØ=Ùý¸û+\u000fK\u000fGÇ§ç\u001aÏ\u000b",
      "^¯WW¯·÷bïjï§>:>>>\u0013¾v¾«}/øaý\u0002ývúÝó×ðçú×ûO\u00048\u0004¬\tè\n",
      "¤\u0004F\u0004V\u0007>\u000b",
      "2\t\u0012\u0005u\u0004ÃÁ\u0001Á»\u001f/Ò_$\\Ô\u0016\u0002BüCv",
      "<\t5\f",
      "]\u0015ús\u0018.,4¬&ìy¸Ux~xw\u0004-bEDCÄ»HÈÒÈG\u0016K\u0016wFÉGÅEÕGME{EEKX,Y³äFZ ¦=\u0016\u001f\u001b\u0015{$vr©÷ÒÝKãìâ\n",
      "ãî.3\\³ìÚrµå©ËÏ®_ÁYq*\u001e",
      "\u001b\u001f\u001d",
      "ß\u0010ÿ\u0013Â©åL®ô_¹wå\u0004×»ûçÆ+çñ]øeü\u0004²ÑDÄ]cI®I\u0015Iã\u0002OAµàu²_òä©£)3©Ñ©Íi´ø´ÓB%a°+]3='½/Ã4£0CºÊiÕîU\u0013¢@ÑL(sYf»þLõH$%Y\u000b",
      "³j²ÞgGeÊQÌ\u0011æôäänË\u001d",
      "ÉóÉû~5f5wug¾vþüÁ5îk\u000e­",
      "Ö®\\Û¹Nw]Áºáõ¾ëm mHÙðËFËe\u001bßnÞÔQ Q°¾`h³ïæÆB¹BQá½-Î[\u000elÅl\u0015líÝf³­jÛ\"^ÑõbËââO%ÜëßY}WùÝÌöí½¥ö¥ûwàv\bwÜÝéºóXbY^ÙÐ®à]­åÌò¢ò·»Wì¾Va[q`\u000fid´2¨²½J¯jGÕ§ê¤ê\u001aæ½ê{·íÚÇÛ×¿ßmÓ\u0001\u0003Å\u0007>\u001e",
      "\u0014\u001c",
      "¼È÷Pk­AmÅaÜá¬ÃÏë¢êº¿g_DíHñÏG",
      "G¥ÇÂuÕ;Ô×7¨76ÂÆ±ãqÇoýàõC{\u0013«éP3£¹ø\u00048!9ñâÇø\u001fï\f",
      "<Ùy}ªé'ýö¶ÐZZ¡ÖÜÖ¶¤6i{L{ßéÓ\u001d",
      "Î\u001d",
      "-?ÿ|ôö³ÊgKÏÎ\u00159w~òBÆ",
      "ñ\u0017:Wt>º´äÒ®°®ÞË¯^ñ¹r©Û½ûüU«g®9];}}½íýÖ\u001e",
      "»_ì~iéµïm½ép³ýã­¾\u0005}çú]û/Þöº}åÿ\u001b\u0003\u0006úî.¾{ÿ^Ü=é}ÞýÑ\u0007©\u000f^?Ìz8ýhýcìã¢'\n",
      "O*ª?­ýÕø×f©½ôì ×`Ï³g¸C/ÿù¯OÃ\u0005Ï©Ï+F´FêG­GÏùÝz±ôÅðËÓã",
      "¿)þ¶÷Ñ«~wû½gbÉÄðkÑë?JÞ¨¾9úÖömçdèäÓwiï¦§Þ«¾?öý¡ûcôÇéìOøO?w|\tüòx&mfæß÷óû2:Y~\u0000\u0000³}IDATxÚìýy¥÷Yß~ÞyÚóTµkêª®îêAó`Ë£Àx¶»1\u00181\u0013\u0010\u0018\f",
      "I '79Iîå$÷Äg\b`-\u0019Ù\u0018Ë¶$Ë¬ÖÔR\u000fÕcuÍ{\u001e",
      "Þy¼ìFYg­{\u0012îZW`õÚººj­wo=ß÷y~Ïï\u0019`Ê)S¦L2eÊ)S¦L2eÊ)S¦L2eÊ)S¦L2eÊ)S¦L2eÊ)S¦L2eÊ)S¦L2eÊ)S¦L2eÊ)S¦LòÍÂ÷ÿà}÷ÿãûû§ßÄ)¯!>ûÙÏÞÀ\bd*d\b<ø\u0007ðÛS!Oò\u001aáAQ 3\n",
      "9;|è@¦*d\bdSo<eÊ79øÄ'î$)[l²µ3ÙòR%»ûÎµlf&!}ìc?:\u0015ñ)ß¬|èC\u001fz\u0010È^ëJö¾w¼>{ç·Ý\u001d",
      "^­e\u0019-+ÄLVÉ>ñ_þíTÄSnh¤×ê{^|7î­\u001d",
      "_;ÄêÊ*",
      "\\\u0001UQ±G\u000e\u001b (\u001aùÏ\u000b",
      "À\u001fMÿ7O\n",
      "øMÀ¶}e¥k+óÆcÆ£1µF\u001d",
      "UÓ%",
      " \f",
      "\bÃ`-",
      "]2N½>Ûg?ûéûwv¶þ§êcù¿úâNMÍtÊ\n",
      "ðàM«ì\n",
      "ÇW²ÛVf³·ÝsKö\u0013?ôì\u001d",
      "÷ÞÝ||)[^nd««ÍLÉ>úÑ¼&Bé\u001e",
      "úìý¡=(dH&@öOüé1`Êÿ-âkñ¡û·ÿà~\u0011á\u0004i¥êÔ+U,Ý`kk£G27;®Ê(ª*üÉþé\u0003\u000f?üÙoj!üÌÏüÌý\u001f8ù\u0007|/8Q.\u0017¨×+(\n",
      "<ñõ¯é\u001bJÀ\u0017.\\8\t ª*Q\u0018¢Ê\n",
      "IÐ¨ÏpõÊ\u0006år\u0005MÓð<r¹\u0004À÷ÿÀ\u000f|Ó\n",
      "ámo{Ûýÿù\u0017ñ©rÓ±,/-póñ£äL\u000b",
      "\u0017.L­tÊ%`ÏõII)Jx(,\u001f\\Á4s\u0014Ê\u0015ú\u0011¦CUt\f",
      "Ã@×\u0015:Á\u0007~í¾é¼ðÑÞÿõ'\u001f{`q¾A©h¡IÐ¬×(ä-TYá¹ç_Zé\u001bKÀë\u0017.!âú\u0001\u0005Ëd0\u0018ÐéôPu\u0003E5É\u0017«\u0014ËuF#\u001bÇ\u001e",
      "¡k\n",
      "B\u0006?yÿO~Syáf³yÿ",
      "óç\u001e",
      "0\n",
      "\u0015Ë¹õøQ^wç,ÎÍ¢K\n",
      "ÃþãGM­tÊ%àK.b\u0019y²\u0014ZÝ\u000eY±¹½ÍÅËÙÝo$)33³¼ã]ïa~~\u001e",
      "]×eH3NüÜÏýão\n",
      "/|ôèÑûÛíö\u0003µZbÎBSdH\u0013|×¦ÛjÓí´HS¸ç×O­tÊÿ-òkñ¡Í\u0005.=M&\u0014Ùì\n",
      "xãc|×w}\u0014Ã0HRè´Ú\u001d",
      "ö;m\u001d",
      "½\u0015Ï\n",
      "\u0019\u001d",
      "\bB~á\u0017þãIàWÿ>ÿ-ozËý_{âñ\u0007*µ\"B\u0010!)\u001a¥|\n",
      "\t\u0019\u0011ÑhDÏq\b\u0004¨V\u001bS+rcyàµµ5\u0014YAÓ4d\u0004ªÅ\u0012Ãní«×\u0018\u000fD®\u000fYF­T&I\u0012nºé8wÜ~+q!Ëò\u000føïïZé#\u001fùÈýO>ýÄ\u0003Z(\u0010\n",
      "ÒL|¹UÈãy\u001e",
      "I\u0010\u0012],EbmmíÁ©N¹¡\u0004<77G\u0014G\u0004A@!ç/\u001fz¿úü\u0017D8ðIâC\u00079°°ijìíïÐjíÑhãÏ|æÓ/gáõó?ÿûì\u0003¡Òí\u000e1\f",
      "\u0015#g0\u001aiuÚt{=ú.çá]â0yèÇ~ìÇ~uj¦Sn¨\u0010:Ëáû>VÞ¤R©P­Viuöéu\u0007Ø ôCÖn:ÆìlNgµÃ«\f",
      "\u0006Ï\u0013øñ£GWï?wîÒß8þäSºÿ\u0007¾ÿû\u001e",
      "ð½\\AgeeÙf\u0003YÐ4JQ¯ÍÞþ>\u0000A\u001aLísÊê\u0005\u00044MÃö\\Zý6;­}\f",
      "Ëâý\u001f<ÁûN¼R­L©^fýì\u0019\u0014EbéÀ\"ûûû\u001c",
      "?z\u0014sç/=ðñùñ¿PúÓþôýßõ\u001f~À÷<*Õ\"k\u000esç\u001d",
      "·ñ»^ÇÇnfif4¨U«ÈBHÊÞpÀ\u0007?ú©",
      "N¹ñ\u0004,\u0002¢ ¢ª*ùB««¼ñÍo@3T¾òèùÌCá\u001bÏ<Å/>ëºx¡jôû]fff(\u0016r\b\u0019üÒ'\u001fxà_ÿë¿ª\"þÍß|àþ|äÃ\u000f\u0014ùÉË§Ùdeq\tKVQ2F¥Ìê\u0015\u000e\u001d",
      "\\áÒ¥K4³¤\u00191\u001c",
      "<¼:=ÿNùï\"¼\u0016\u001fú§~êzðW>ù\u000b",
      "'î¼uUaooo\u0010\u0012E\u001e",
      ";FcvþhÈÕk\u001bÈ¦ËÌÍÍñü/³~þ*÷Üó\u0006xâI\f",
      "C!I\f",
      "ÂhôÐw~ø[ø\u0007?úÝ,5\u001bNúàíoú®_\u0005xùÉî\u0017Eá¤(\tXÅÊ\u000b",
      "Þð·\n",
      "»¿ÿû?zÿË/;ùÜ³Ï¸ýÎéõúxG¥T¦Q,qôð!tYb~eZc½½=¾öèWÙÛÛ%I3Î^Ý|(\f",
      "QN¹ñ\u0004|àÀ±\u0007·6Î¸ùh\u0003KÊ$Ób¿ßG%TCgaq \u000e\bâK/ ª\n",
      "¬séÊ\u001e",
      "k×â+W6È$\u0011ÒJÞÂ\u00199Ü~´Ê]·\u001f ^\u001e",
      "ÒMÉ['\n",
      "Å<\b\"n f\u00172Ó<F¾Tpní\n",
      "¿ºþò©û\u001fúì\f",
      "\\æÜ,ÿþ\u0017þ\u0013ë:'2 Þ¬pìØM<òÈcÜ~ûÍ\u001c",
      "]=LÙÊQ+\u0016\u00103\u0018à2;3ÇÁ\u0015\u001e",
      "úô§Ùºz+×®1°\u0006n8\u0015ð\u001bOÀª$?eñå\u0006I\u0014ah:9ÓB\u0011%L Z­âû>i¢å-Ö\u001e",
      "áùÓ/ñÈ£Oa*¢(rû­·óøãO\"!³0·ÈîÎ\u000e\u0005Kâ[ßx+3U\n",
      "E\n",
      "X\\,¢I2\u0011I\u0010Æ\u0011ûÝ6âú>èÊC±xâ\u001b§·\bSnwHÎ*&*íî·¿ÿ\u001e",
      "^zñ4,qó5ª",
      "\u00129Õ¤^m0ß%Ö2Î?¦i¼å-oáwÿð\u000fùôg¿Ä{Þ÷î\u001e",
      "þË/L\u0005<å¿Ëk2\u000b",
      "\u001d",
      "%1º\n",
      "¢\u00045«J$O\u0004Ì/,2pÆ×_O\u0002Y\u0018ñ©¿ø\f",
      "÷~ËÛ8y¢ÂCù0i\n",
      "W®^cqik[(rF¾`àº\u0006ãþc\u0013z=d1bg/FH3\f",
      "Y%ö\\jµ\u001aU,\u0010§\u0011Q\u0010ØÞ\u0019põj@BaÈ´Ú=\u0004\u0001V\u000f-1WmòµÖ£ÜrëMô{C\"wÒ|±½»Ëvu\u000b",
      "ÍÔØÞÞbkkS§N1t<Dàç~ög\u001f|ø/¿0µÐ)ÿ]^\n",
      "ý\u0002Â}G¬®.¨X×ë¡-Ëblñ¢ó\u0017×Y¿¼ÇhØE\u0012EN=û,KË\u0007x÷»ÞÍ7y\u0006Û\u0019ó·¿\u0003Ï\u001e",
      "Ðë¸ý¶ãäò\u00069KF\u0016EÚí63³¬_Ûg0v±½V¯\u001b%\u0004\u0019ü\bM,qîÒ\u000e\u0010¥)Q ËdðS\u001fÿ1\u001e",
      "ùüW\u0019ö\u00064j5ú.{{Û\b¢@¿ßãìù³\u0004®G¹RF\u0014E\u001c",
      "ÇãÜÙuÒ~ëwÿLÍsÊÿ\bñµùØ\u0019A\u001c",
      "\u0001\"a\u001fAQ(Wª",
      "a\u0018(ÈêÊ2o{ëíXºJ½Râ[Þü\u0006º»ô÷·øßþÁù3§¹åæ£@©¨SÌë$Y\u0013ú$¢Îúå=Ê3E\"9¤5Þ'T\u0012¶{;\b@ÏíÒsº¸ñ\bÝ\u0012;PE3d@$E\u001f¹ÀS9»~\\!O¡Pdmm\u0003KÄA\"KÌÏ5É²\f",
      "{8FU5\f",
      "Ã à­÷¾ejSn\\\u0001g@¯;Àó|údh¬\u001c",
      "9L4¤Z+£I2w\u001e",
      "?Î\u0003\u0007øÞ|7Üy\u000b",
      "µÆ±éYv7.ó±\u001fý>.»@±çÐê\f",
      ";;Ä,ËQÊö^K»ärM¢@Åñ$rxD\u001a\f",
      "ú\u0011¡/ãF.,\u0010`è\u0012Å¢",
      "Ä{Þó\u001e",
      "~ó7\u0013I×\u0010\u0014|1O¹Xà®ÛnçØá5Væ\u00160DÙÙYÒ4Eeºý\u0001i\u0006²,O-sÊ)àG\u001f}´©ªê(Ùow\u0019»\u000e_{êi",
      "Ï±»½Ã]wÜFè{ºÆöÖ&ª\"²yí*ö ÏB³Á\u0017?ÿ\u0010º,q×ÇÙÞÞfnnn»ÇáCÇ\b J@ñÝÝ\u0016²j±²º(ê kñØ#\b\u0012d±¬äãC\u000fà8cî}ë]ØÎ\u000e~°Gs¶B§Ûæ¯¿øyÎ¼|K\u0017/\u0010\u0007!¥R\tY¹té\"ç.¬óô7N±ßî\u0000»íöÔ2§Ü\u0002¾÷Þ{wÃ0zh4r±Ì\"ËKÈÈ\u001fýþ\u001f#\"\u0011Æ1¢¦páê%lÇåÚæ6åj",
      "±c\u0013§Ðiò¥/ïøðw²»»®\u001bhA\u001c",
      "e¤D\tdÂä\u001c",
      "»ßÚÂ°\u0014\u001a³5ØFË©8á¾Ý\u0003)%%vw÷\u0010EÐ5",
      "F-ÇwÜÂO<ÆÚ\u0003X2Ü}ËaV\u0017ç\u0002\u0017_|ë°Óípîê\u0015lÏÅ´,T]ciù\u0000&M­rÊ~\u0006dN§KN1xÛ[ïå\n",
      "¯¿½½=\u0004IâÒµËôF\u0003Ü8dì",
      "¸~D»; J I3\u0004IAÑM\u001e",
      "þâ#¼ííßF8 ^AUurV\u0001ß\u000b",
      "1\f",
      "\u0003Y\u0006Y6ñüÍÝ}º}\u001bÕÈf\n",
      "ÃQB±T#=¢ØE2®\\¹Ä\u0007N|;\u001b\u0013ø)ãAÀÚÒ\"%]ãðÊ\u0012®=&_Ì±|x\\¥ÄÞþm¬®®rèÐ!\u000e\u001e",
      ">(«\u0004AB­13µÌ)7®UC$Éb8áüÕuÚ6q\u0012pï[Þ3\u001c",
      "àÛ\u000eB,ppñ 3\"j¹ùyÆn(ëqD½çìg0\f",
      "Z­f\u001a¤BJ½Q%\f",
      "CLÓDÓ4¶¶¯!\n",
      ")±\u001fðº;îDÊ\u0004\u0006\u0001¢\f",
      "~\u001c",
      "Ñv\u0007ª.ç90¿Äí7\u001feÿÚY´ØeÆÐ\u0019wÛ\biÄL­Èw}ø\u0004ÿðãÿå",
      "2b4 ó:\bÂË\u0017ÏqöâY\u0006£>(0\u001e",
      "ºSËò·âµy\u000f|½l2\u0013T#Ïöî\u001e",
      "ûÛ{ôz=æ\u0017\u0017$\t£csgA§E¹\\¡P,søða\u0004I\u0006Y¦×ï ðÈ#ðÎw¼G¾ú\u0015ÖÖÖ(J\u0002\u0010M£T*±µµÏÞôf666ØÝÙ'Íb:\u000eG\u001e",
      "&I\u0012TUÅ\u001e",
      ";ôz=Þõw²½½M\u0018§h¢(,\u001fX´?\u0001\u0017/_aw¿E¾XdiiV§ÇÙ\u000b",
      "ç\u0019\f",
      "\u0006Km I2¢ÈZæ\u001b×\u0003\u001f9|$N!ýÎ\u0000QQ)WKì1åz\u0003IU\u0018G\f",
      "Ç#ªÕ\u001a¢ ãy\u0001ív½]dU%L3s\u000b",
      "\\¸t\u0005ÕÐ¹í¶Û\b|>Oo`cÛ6Åb\u00112XY^åMo|\u000b",
      "år«W¯e\u0019FæÜ\f",
      " °¿¿ÏìlãÇóù¿ú\"çÖÏS©5xïûßG®Pâ©g¾Áé^¢ß\u001bdÂ¤äÊ\u0006§O¿D$$IJ¯çsùòUTUFQÄ©eN¹1\u0005üÄOÜîÜÙ\u0013²$\"\n",
      "E ¤\u0002KKKT*5vww\tü\bwì1[o¢j\u0016Õz\u0003Ç\u000b",
      "HÉËW¯2·p#ÇnF×M>÷¹_¤Óî1\u001c",
      "Ù\b\u0002ÌÎÎÒíN*ª$!MÓW&4MÃ¶m\u0014E!I2,+ÏOüäOòâK/±~ñ\u0012\u0007yç»ßÅ×z¿~äKhºËa\u0015ò¤iÊsÏ=ÏîÎ\u001e",
      "KKË(B!_¢R. I2a\u0014ó÷¼kÚ",
      "4åo\n",
      "zqêS?¿···³4\u0016çgXiD\u00019Uci~0ð140\bH¢\u0014Ý²h÷zÄIÂÀ\u001e",
      "ã!ýá\u0018Çs1Í\u001c",
      "\u001füÀxú©oðÌ3§(<øàç\u00018vì\bûûûÜûÖ{ÉçóÜu×ëøßøuÂ BU\u00154Mg4\u001c",
      "e)Í¹&Ë\u0007VøóOÿ9·Þz\u000b",
      "ï~÷»ùÅÿòI\u0004AäØ±#\bï¹È²$I(ªiæ\u0018\f",
      "Ôf\u001a´Z]z}\u001b\u0010ä¡G¿úø´\n",
      "kÊ)àB!_\u00188kk«\u0007oÖY]Z¢ÏÑÚßÇ÷ÝWLS\u0010$¢$a¿Û\"\bC8&\u0013 NS$egw3g.pæåùø\t\u001e",
      "}üqlÛ&\u0002¢(á7¼\u001e",
      "M×YXã\u0007¾ÿ\u0007q]Ç\u001f~,Ë8®çM\u001a&\u000eÐëv(\u0014¬\u001c",
      "\\á?üO°vd \u0010Ñh¦ë¨ªBi8K¹Taì»t»#C0¹ï{?²~úôéB¶)7f\býã?ñ£¸v@­CH\u0003¶·¯aå4\n",
      "E\u0013/tA\u0016\t\u00047\bèÙ#úã\u0011CÇF64º.»{;èº®ëËyöÛ=þ·ÿýß²²²ÂÎÎ\u000e®\u001b J`\u0018\u0006gÎADLK'I\u0012²,\u0003Àó<Â ¦Ý\u001e",
      "°¹¹Çh4âsùyyö\u0014¿ÿûÈ\u001d",
      "wÝaå¨Ôk$iDµ^Å°&wÍÝ^(°,+\f",
      "\u0006\u0003\\×'I3@ä§?þÓS«rã\n",
      "x®9K± áØ\u0003\u0006½6ª&â8cfçf¨7\u001b} ñ³í0rlº>.]À¶m$akk\u000b",
      "EÉÒj¥ë<÷ì\u000b",
      "¢ @¥Ræüùó¦I.ãØ±£í!333ËeÒ\u0014<oRÏ\\,9s\u0006Ã08vì\u0018o~ë[ðÃ/±ßj#ÈÉ!$á¸còù<\f",
      "C\u0004A`4\u001a0\u0018\u0001\u0011Q\u0014ÙÞÝZå¿5¯¹k¤ßú_FW\u0012¢4@Te|Ç§R© H\"I\"\u00102ýÞÁp\bB\n",
      "qb\u0018èFãÇÖ¨Õj\\^¯ÃÖµ+ìmµÑT4¼\u0014M6q\u001e",
      "rí\u001d",
      "r±,ªÔªsÔëM~ú\u0019\u0014EâÐÁÃ;¿ÎØÍÈ\u0019)ós\n",
      "ÖÏ¿ÄæÎ\u0003\u0007fÈ\u0016Y\u0010²½³ÏÎVR¾È\\s\u0016YËè\u0006Ôfjtú=Fc¥\u0003uö÷ºØ~Ê¿úùZå\u001bWÀºn\u0011\u00047øa(©ìî·\u0004/J\u0019\f",
      "lÂ0EUUÚ­\u000eÂ;Þv\u000fÆ\u001c",
      "ßý\u0003÷óì©ÓüÕ\u000fñòs\u00178°|;>p/ßxòël^»e\u0019¸D§ÓC@æ½ï{')\t§N}\\ÁB P´¸ëõ·sîü9Øc0\u0017ú\u0017\u0011Djmñ0À\u0011mD1 $fë3ìì·â|N'Þ\u000b",
      "©ÕjÌÎ5©6ìí¶8´zÓ/]áìésS«rãÐYA\u0002a¢k\u0005âL ;°Ùëtéö\u0007Æ\u000ea\u0014¡©2!\u0013¥\u0012O=ñ(ßñÁ\u000f\u0011I\u0005ö\u0006!Ïz~Çø£?ý\u0014ß÷#?Å\u001bßö.n½ûn\u001c",
      "×!#%MS,ÃB\u0016\f",
      ">÷ðCH\"xÍØ\u001d",
      "S©©5ª:õ\f",
      "ª.Å@\u0006º¡13[¦ZË³rhc7Ý[e4\n",
      "¹¶µ()$\u0019¤aæ@0LeR-åhTJätø\u001fþÞ©UN¹q\u0005<S© I\u0010E\tcÛÁ\u0013¼ À\n",
      "B\u0004IfyyC\u000eËå¨TKø",
      "Yû>Ï¾xg_>,Güúoü\n",
      "ï|ÿÛxò¹¹ù×ñ\u000f|\u0000ÅÔ\u0010$Ð\f",
      ",X]]ãÀ\u00152D\u0004YáÒ¥K\f",
      "#â\u00144ÝÀÐ-dÉ\u0002\u0014Þþî÷`\u0016òt»mfgæøöïø^~ò§ÿ%ïz÷\tæ\u0017)K8Ëplã\u0005\t±í¹ÄONÓ<$\u001fúN­rÊ+`×\u00193UÒ,DÕ\u0014ü(Fefs¦9Ù+Ôïà]\u001f³4¿Äx8â±Ç¾a\u0018DQÄþþ>\u0006Û;-T3¤éÌÏÏ3Ûl¥k\u001e",
      "]×¹|e\u000f}ð#Ä½oý6jÕYÞó÷Q©Ô9}úeC\u0004ÿ×ÿû_S­\u001fäî;ßÍoÿæ§ùÀû>ÌÅëÜý¦ÛùÁ\u001fþ1ÞúÖo!N#Z\u000e~\u0010±¹µK»ÓÃñ\\Ò4%IcòeÀ",
      "3g§V9åÆ\u0015ðµ«\u0017kÎb\u0018\u001a¹\\\u000e]\tÃ4IÁ`Àx<&I\u0012\u001c",
      "ÇÁv7Ñó\u0012úó?¦hdÜsûmÜqç½8Áêê\u001d",
      "´ö¶ÈY\u0006 ¢H@§Ýåå³/ÑïwÙÞÞ&KSdAÆq<³ó¼þ®»¹õæÛeïþþ\u001fá·|\u001b¹J",
      "ÿúG¿Ë\u0007¾ý=üá\u001fü.û;ûÌ6_`sgn·ãFa\f",
      "ÈØ¶C«Õbd;A\u0004@¥ã",
      "çZå\u001bSÀ\u000fýÉoßï{Þ¼i!2­ý6ö>²¡\u0002rZ­¦iX",
      ",ËDî((\u000eø7ÿì\u001fQPb¾ë¾ïåý",
      "OðC?òÃÜ}Ç-4ëeý\u001e",
      "+K\u0007\u001020\f",
      "ù",
      "&w½þ\u000eêµ\n",
      "¢\b\u00021W.'ô]rÁ\u000b",
      "/<G\u001c",
      "\u0005üÀ÷²×³é»C0\u0012\u0004ÁãÜg%çOawõõsX9\u001d",
      "Ë\u0012\u0011\u0004æì\u001c",
      "ú,ª¢ã\u0004!(Ñêv\bÉª)SnH\u0001û~xro»Åp8b{k¡í0Û¨3×¡?è2\u001c",
      "\u000e)\u0014\n",
      "\u0018 \baH%?K\u0014K³¤Þ_ü÷ÿþêAºv\u0007ÛÝ£µ·Å\u001fýÞïòÙ?ÿ\u0014\u001b¯ \u000b",
      "\u0010Ç!\u000b",
      "T«eþÝ¿û_ÙÞÚäöÛoÅw\u001d",
      "TE$|²\u0014E\u000b",
      "³,RiÐ­\n",
      "¯Ã{#ÈO¨Mâ¸ÃÿùÓëu\u0011\f",
      "I\u0012\u0010\u0004(JÈçh\u0006¢êÈ²,Ë\u001c",
      "8°<µÊ)k^S×HÕ\u0019\u001d",
      "Qn?\"B\u001a\n",
      "9]Ç°rdUþØfÐéâx\u0001² MÚý\f",
      "4è\u000fû¯\u0014S|õó\u000fòå¿|ð¿MÅÎ@×TÊ\"\u0011pË±#$Q\f",
      "Àïüæ¯óÄcOòÔÓ§Éç<òÈ_ómo¿\u0017B¾ÆÃý3Þ}âC¼÷}oc~uÃ÷ÜÅÁù&+Í\u0006O?õ5¾öÅ?g¾\\!\"J¥9\u001c",
      "ÇÁ4ÇèZù\u0003ln_#%jÕY.on0?tjSnL\u0001Ë²BµCH\n",
      "$a¿÷(g È\"º®\u0014\t\u0012I\"Æ\"Q\u0014$\t â8\u000eº®S©Tð\u0000Q\u0014i4fq\u001c",
      "íÍ-vwÛhÄòò2Q\u0014±¾~",
      "",
      "Å\u0003tú=Èã=ïy\u0017\u000fýå=s\tY\u0015ã?ú_ã3øg|è»îcni",
      "cµ2çÎðõOÿ\u0019§z­H§×e0\u001e",
      "¤P.\u0017\u001996½^\u000fM\u0019»\u000eY,A^ÇÌC\u001c",
      "GÓN¤)7¦¯\\½D¿g£I\n",
      "",
      "Z\u000e£ £I\u0002I¤)Aèf\u0002®à¹\u0001Q \b-Ýn¹¹9\u0016\u00178|ø0\u0017.^D$\u001c",
      "9ÆéÓ§\u0019ôúÌ/4¯ê>/^¢\\.såÊ\u000eoyËäÿüÉ_ä}\u000fä>ù+D1´º»\u0018Ht÷÷ùµÿü\u001fI#? Ë §«¼Üí\u0000`å5\n",
      "9ÙF\u001d",
      "Y\u0012Ó\u0004\"HIð\u0002\u0017ðùîïþÀC\u001fúè÷N÷\u0001O¹1ÏÀ,që­«\u001c",
      "?zr¹H¥Z'WÈS*\u0015Á4M|ß'\b\u0002$E¤Z¯\u0011Ç1£ÑR©¦iììì (\n",
      "KKKÇc®]ÛBÓ\f",
      "\u000e\u001d",
      ":D½6ÃÌÌ\f",
      "{{ûôz=.^¼\bÆc_{Ï½H±Pà£ßýQ^w÷[ \u0015(óÊl÷x\u0007¥\u001b\u0004|Ë;ÞÊMwÞ+ehÄÒÁy\u000e\u001fYcqq\u0011IR&û³\f",
      "Y0\f",
      "ÑhÄp8äÚÆÆÔ\"§üÿ¦×ÒÃþÜ?úÑû¶®[sG!®^fs¯",
      "k\t\u00002°m\u001b×u\u0010D\u0011I\u0014PU\u0015Q\u0010'Nâëâ\u000ei·Û|øÃ\u001fÆ4M._¾J>§T,e\u0019Nk×®\u0011",
      "!ù|zmÍ­kÔkE¾õ[¾8Ñußý½ß¡¹0ÃâòA¶¶·9~ü\u0018Q\u0018 ë\n",
      "¯nàx>CÓ\u0014Å\"$á9.q\u00147MD@S\u0014Ò,\u0004\u0014Q ?ÞZßÙK¦­SþÖ¼¦=û×÷ÿ\u001fÿâ\u001f>0î¤t=ÝaJFe(\u001fF¸~@¥¸~\u0017øZ",
      "",
      "\u0005â4a<\u001e",
      "sòä\u0007È²«\u001b\u001bìîîâ8\u0001çÏã#ßù\u0011Z­=\u001e",
      "}ô12@SD\f",
      "Ã Í$$9£V+óüó/bè\u0005\u0004\u0004\u000e\u001e",
      ":Ìµík|û{ßÏxØ'bÖ\u000e\u001d",
      "äÂ",
      "\u000b",
      "\u0004QÂsç\tãBÕBW'wÖÄ\u0011",
      "¼",
      "&K¨HÆ~g\u001b%3PÕæúÐ\u001fêÜt¡Ù\u001bÓ\u0003ò¿{êío\\½[NÔ5ÅÔ\u0018¹\t\" (\n",
      "¢`\u001a\u0016$\u0002\u0002¡¡(2 áº.\u000e\u001f¦Ùl²¹¹Å\u0003\u00078vì\u0018º®séÒ\u0015ÞñwpüØq\u001e",
      "zèÁÉ°¼$B×Tjµ\u001aQ-W¹°~#kG8|x\u0005Y\u0015y×»ßÃ",
      "óWØÙ¼@¹Tâ\u001fú\u000e\u000e\u001c",
      "8HÂØqHá`ç£\u0010\u0019PE\tYÈHãJÑ\"oéÈ*ÈÌÔªÌÎ\u0015Ö<µ1õÀSnL\u0001\u0003üø÷¿ë>§ï¯",
      "YhäI\b!\u0015Hâ\u0018UL¼\bÃ0é\u000f\u00068¶O¹\\&IS¢(b4\u001asåÊ\u0015\u000e®®òñõ/|ä#ü«ù/¹xñ\u0002A\u0010¡é2V\u000f133Cºd©©æyöÔ3Øã\u000eº!sûmwÏ×ùÿùÿ$URRQ\"W)£X\u0016ýå¯0òFÉL½ÊÜÌ,9Ó¢\\Èã{.R\"\u000b",
      "\u0002q\u00143MTE'\f",
      "<î¼ûÈúÃ_za*à)7®ßõ­÷Ü7rÛk¦\u0012Ø#$\u0001ÜÑ8\b°Ç\u001e",
      "Ãþ\u0010AÔ\u0018\f",
      "Ç(ÆÚñÉøWQqmÖ~;o»",
      "ÿùÿ,\u0007\u0016ôGmD\u0001¾ã;¾",
      "ÅU\u001e",
      "~ø\u000b",
      ",,\u001c",
      " XÎRÌÏ²ß\u001d",
      "b\n",
      "D±Ã×¾òE^wÇ-ÜtëM¬\u001e",
      ";D³±ÀÒü*¡PÊÈxË\u001b_O¥'I\u0002Î¿Àæö\u001e",
      "cg·ðC\u001f3'L2úc\u001b\f",
      "`<¦³©Kë_|üÜTÀSþÖ¼æúßt\u001bãq\u001bÏÐÔ<(\u0006Þ¡\u0000ÓÈË0¬\u0002û.×¶v(KTê\u000b",
      "$i@@\u00189\\¸p3gçÇOñ®w6\u0019Ú#XB\u0012U~üþ\u001få\u000fþà÷xòë_§Õ6©3ßÔ©3\u0018\f",
      "ÈÂNÇç_þç{~ècHÈ|ìc?N\u0014GÌg?ó\u0019~ù?É¡Õ\u0003øMÞÒ¸é¦cA®«\\¾p\u0011ÓÐP%\u0019×±EÎ^È|¹)W\n",
      "Src\u000b",
      "\u0018Y£X(³4WdÐwp",
      "8Ê%sëØÙm\u0013D1¢ª2\u0018wé\u000e÷$",
      "Ík;\f",
      "cÞû®÷ò?ÿÓÿ",
      "¥¥%¬¼fÌ!)\n",
      "N\u0017ÝPùú\u0013ò÷½/üÕ_såÊ6Ãá\u0018×\u000f\t}\u0017U\u0014øá\u001fù1È$<ÏC2\u0004A@U%VW\u000fphõ\u0000I\u001aR-\u0017)\u0017MªCN§ç8¬\u001d",
      "^e¾9Ëx8\"*ä\u0018ÇÔ\n",
      "\u0016³5\u0003Ó)KSrc\u000b",
      "X3s«5\u000eÌ-`W}vûìl·Hùf\n",
      "E±]\u0017QÓ\u0014YË8zä\bwßq\u0017Å|\u0003YV¹ç\n",
      "oáÚÆ%Ö×Ï`#êõ*a\u001f×u(Ë<ü\u000fó¡\u000f}Ï|æ!\\w2GK\u0016\u0005 æ\u0013¿ððÓÿø\u001f\u0003\"º¬IN¢4MYYYauu8\t\u0018\u000f»\\¾|3gÎe\u0002Ç\u001e",
      "cÐëqê\u001bOsdí\u0010W\u000f`\u0018\u0006Éh,õ1-r­6µÈ)7¶\u0017ççq\u0007[\\ÛÞ¦Û\u0019c{=¢ Ä±{¨ÉêÁyt]Çv}\f",
      "ÃÀ°\u001a<òÕGh4*ì·\u001e",
      "å¾ïý\u0001FÃ},³@µ¶\u0004±¬JTªE:ý\u001e",
      "Ã~\u001fITø­ßøMªÁ÷|d\u0011Ò\u0004þÿâñÓÿègI\u0013 M\u00040",
      "Ð\u000fB¾ÄÏüÌ?â§>v?ùÆÌLÃ\u000e\u0012Ç1KóK\f",
      "z}$\u0012r¦F\u0018¸XºÄ¡ÕeÜP¡6W¢ZmN-rÊÄúÞïz×}£ag-C$\u00135\u000e\u001d",
      "\\Æ4ó¨ÉâÂ\u0012¦5\tM[û{D¡G\u0018eäLí­m4=\"éÈ²Jeìµvèu;\f",
      "G\u0003ööv#_Ì\u0013",
      "\u0011årÃ\u000eñÙÏ~,\u000fû{ùä'8ËÈD\u0019ÈB\u0017÷úlèb±D\u0018\u0004D±O©Xda¡ÉL½Î|s«WÙÛÝá¦ãÇ¸õæc\bÄèª@\u001c",
      "ù\u0014LR£ÀÚñ;)7×~òc?ºûÉ_þSSÓrCzàÐ\u001f3¿ÐÄ*5\u0019\u0013Fí=*r\u0011Ù´'uÐ²ÌR¾D®T¥½¿$\u0005,//ò{ÞÂ\u0003GèôûÌÏ/¢ç$\u0016V®A\u0012gär\u0005.]Ìi6\f",
      "8¹ï»?È\u0003¿|\u000f\u000b",
      "³\n",
      "\u001e",
      "øÿÂîî6ªUF³rHB\"CÑÌ\u0011!aà ê\u001a/áº#>qâ³yu\u001fg{sG¾øWÜyÇ­\u001c",
      ";²ÊË\u0017Èr\n",
      "qÆÊaü<)yÂ¤\u0012ÖCO¹ñ\u0004¼µþäýÝ½ó'z½.»=L©P¶ê4\u0005,%\u0015 \\.³¹¹fæ9rô8ó\u0015Å\u0002\u0017.ãåsO\"«*;ëTj3\u001c",
      "<¸F«µï,.\u001c",
      "@\u0010\u0004\u001d",
      ";ÆhÐGÕd^xî)rf·Û·b\u000fú¿²Q©+U)Z*7 HRdY¦^mÐ\u001ftxúëOpæìif\u001a\u0015$\u0019êõ:_úâ_£ª*\u001f8y\u0012Ï\u001e",
      "rþì\u000b",
      "4çªèL½\\cáÐ\u00012¡Äp\u0018\u00103Zå\u001bSÀ»urð\"½Á\u0018M=Ê=w½\t\u001d",
      "ºí\u000eû;»\u0014ErN³9ÏÚØï´9{þ%4MCÖd\u000e\u001c",
      "\\Æ0\f",
      "^~ñ%^xúq\f",
      "1ÆÊUÈ\u000b",
      "\\ºø2²ªòÈ£_À\u0019éwÆ<ùµ§xæôË´{Û\u0014ªy\u001c",
      ":L©d \u0012®\u0017Q GL±XA×óìî_ Ôh°\u001c",
      "¯°·}\u0017_8",
      "½ÓåÃßùí<õÔ\u0013üÚoü;n¿ývn»ó\u000e:]æ¡5ê¸qk\b©FÉ9±qñÉû\u000f\u001c",
      "zÃÔ\u000b",
      "Où\u001fòª",
      ">óõÏ?¸·ú\u001f\u000f(V(J",
      "¡3¹ÎY_$¯líÒív©5êh\u0012ØK\u0010xQ@>oF1¿ó[¿K¿ÛãðÑ[ÙÝïðÈ¿LFÝ¼\tö\u0018d\u0011æ\u0016êt:\u001d",
      "\f",
      "Sãæoæ\u001d",
      "o\u0017ïxÇ»hÌÎ!\b\"ª.#\u0011óÛ¿öI>ÿÙÏðw¼oyç»05¾ôÕÇè\\x/=òyî|ý-|÷G?Ì`8FUòÌÍ\u001d",
      "A×Mß¾ ÆXJ\u0011Ë¨ å¬V}ë´&zÊ%àÓ=ø (8'Fî\u001e",
      "Ï¾ð$*qÏ\u001b~ùæ\u001c",
      "a8é2züñÇ1,»ï¹\u001bßl`P\u0014Á°?Y~&\t%|âë|éK_b{kÄÖN\u0004&!o£ËaÛ.\u001d",
      " +)Iá\u0004!¾\u0007!¡k\n",
      "ßóïä-o|\u0013v`sîå\u0017¯\u0015ÙßºÊç>ûÔ³|÷÷ý0Çn¹\u000b",
      "g§V/òÒÙçiwvyë½ï`íÐ\u001d",
      "äÌ\u0019\u0002O Û[Ç\t[X9\u0015S-\u0002a<ôæ·ßTÀSþ¼f²Ðgèþ$Þû¹n{\u000b",
      "çÏa\u0019Eî¸íuhzÁ¨ëºln^£Ñ¨³zh",
      "K/\u0010'\u0001rþ GDdI@§Õ\"\b]³\n",
      "övv¸v­",
      "©«yjÕ\n",
      "Q,\u0017\tÃB±ehf^Lcn4M\u0019ö=^~áE¾ñÔWñöw\u0019÷zØÇÚñ0\n",
      "\u0006ëë§¹|öIòò[_ÿfö[mî¼û\n",
      "\u001c",
      "=z;\u000f¦^ Vk`;Câp¬¤¨(hH¢D\u0014\u0005ë¿ù{1-©rãeÙ=iG]Ú-\u0016\u000e07w­Í\u001d",
      "´ê\u000en\t\u0002j\tA\u0014¹|å\u0002cw¤äèõS\u0004!CS$ìÏÌl\u001d",
      "Ò\f",
      "Û¶yó½oF\u0012r<úÕ'ð\u001c",
      "0ô«c¨\n",
      "Ks;{a\f",
      "",
      "BÐõ¨*¨YÄJ³A­£Z2uó\u0017ÎÓnmr×]·ó\u001d",
      "\u001füvÆ=",
      "2ßxö\u0014ï|çû)ägpfSa0ØãÂåçñÝ>\u000b",
      "e\u0012AÅõ\u0003\u00044f\u001a\n",
      "üÈZæ\u001bKÀ­½\u001e",
      "ã¾ÇÑ#·1\u001e",
      "ø<ûÌ7h6çÅ\u0014Ï\u001fÓ[\u0002A¦7\u001c",
      "P¬É\n",
      "vv¶¨\u0014\u0004AÀ4t¬\u0003\u000b",
      "tZíÉê\\\u0001QòxÏ»¿\u001fåñÇ¤Ýí ©\u0012¦ª°½·G¸\u0001,Ôk\bLÚ\u0016}wÌ\n",
      "åF­cÚ0êqdµ7\u001e",
      "Ñ,YT\u001bGI<õæ\"\u0011Ñë;$Yi\u0014\u0011ÄB©HØn/í!¹b\u001e",
      "ÝT3(¦9åÆ:\u0003o]|ìþÈ\u0019>°sí\u0002/~\u000e]3eÊÂ!\f",
      "«aÐÍ\u0002¹B\u001e",
      "Ç\u001d",
      "²ßÚ\"\f",
      "]ÜÁ\bIð=\u0007YI\u0004\u0004\tU7ØßßGð\u001c",
      "\n",
      "ù*ºãÔ©gùÊc_e¯ÓFR\u0014ú\u0003\u000fF1ö>\u000b",
      "³³\u001c",
      "^Y@\u0005ò¦J\u0010xô<j±È±Ã04\\¾lUY»ùõ\f",
      "Ý\u0004Cñ\u0014\n",
      "AT)\u0014(H·µÉh¸ËxØÁ,rå<f®$Ä¡\u001b\n",
      "1r³?~Ó­ß6ÍDO¹qXg¾þg\u000f\u000e\u001b'H|âH ÛqÈ5YXXÅ\u000fR$Õ\"\u0013%âØ'\bmâÐ#pºØ£1ªª²»µM¾TDÕ\f",
      "0Åö\\ÔhcGTK3ø~Ìs/<K\"Àpì²¹½ \n",
      "È\u0002\u0004ö·Þóz\n",
      "Bk\u0007EÐt\u0005!Q©ÍÌ3»¸B,)ä%ê³3\biB±#Ks¤BW\b\u0000EÊý$Hð\u001d",
      "\u0017Ip°\u0003\u000fQÉ·êÄñ\u0018A@,<tüæwN\u0013YSn\u0010úâ\u000fßßí´OdR\u0005$HÄ·\u001f¢P9\u0002b&$IBB6Ù\u0004\u0018Ä@ÎR\u0010Å\u001c",
      "½Nr}\u000eU\u0015qì\u0011Ãá\u0000Ïw(ç+xËåÍKHÄM·\u001e",
      "\f",
      "_÷#\u001e",
      "\\ K|l{\u0004BJ\u0010H¬\n",
      "z®@!_¢\\®è\u0005r¹\u001c",
      "fµJ¡XFÕ\n",
      "dYE4ÂTFC\u0014ELÆIo2!±à\"\u0012²¨PÎÍ\"(2¨b¤%ü`\u000fÇ\u0016tL¹Xºurf^G\u0015UdMÇ\t\u001c",
      " e<\u001e",
      "#\b\u0007$!HM÷,\"I\u0012ã~4M1s9\u0014E&CÒÌÁÊ\u0015)køn@>WfÌ8A\bü\u0000?ð1ó9¢@¢/0\u001a\n",
      "\u0010\u0004LY<°®Jeòµyr¹\u001c",
      "¦N~\u001fÐu\u001d",
      "ÃÌ!\b\u0012²\u0002\"² ¡(*¢(\u0012\u0001¶âº1Y&¢¨:\b¢(#\u000b",
      "\n",
      "ãÑ\u001d",
      "ô§Ö9åÆ\u00110ëúxdDÃT\u0014_'_ñ}0\f",
      "\u0011É \f",
      "C$!CrÅÉ8Y$ü\u0000ÓL t\u001c",
      "\u0007Yr\tÔ\u0000I3£\u0000Ý4AôQ\f",
      "\u0013EQü\u0000Y4\u0003Ë²\u0000¨Õj(²F½^'Ê\u0014ÒLD\u0010DÅ\u0012¢,\u0003ò¢!\n",
      "\u0002\u0000©N¾pYFR$DY@3tüq(\u0011&³¢ã$\n",
      ")Ë(º2µÎ)7÷·¾q¿¥'\u00141¢Z8n\u0017E$±¡)dYöpÃ0Ì",
      "F oZ\u0014\n",
      "\u0005$I\"\"¢(\"V¢Éàº8Æó÷­Òï÷©T%Ò4%|ò",
      "\f",
      "]×\u0019úx²ªªä«Wæ8g\u0019h¨[\u0012®k\u0013G\u0019)\"ºª¿òÂQU\u0015]V@\u0011E\tA\u0010HÉ ËP\n",
      "\u001d",
      "ÍÔ(Z&q¢ \u001a\"¡\u001fÑÛ\u001b0\u001c",
      "\u000e±]{jSn\f",
      "\u0001_:ûüÉb>O!_!\u0013dfª\n",
      "´|±íb'ÙeEÖ¢\bß÷¢iR(\u0014Ha27\u001a|¾ï",
      "¸®$k4fæ\u0010%\u0010e\u0015UUñ|\u0007Ïó\u0005Ð\n",
      "04r¹L¡P`<\u001e",
      "cY\u0016q\u001c",
      "£ë: /0,(H³$É0M\u0013IÉ2\u0001IÑ$\tIÈ\u0004®ÓÓI/\t\f",
      "6\b)Ã±¡¨ÔªeFö\u0015ãÁÔ:§¼ö\u0005ÜÛxäþg¾ñÔQw8\u0001Ã¨SY¢1àzÂJ#Ë&³¡",
      "LÄÐtLÝ@×5dYÆ\u000fCÉÏ¤\u0002¢ ë:¢¢\u0002àÚ\u0003ÊÕ*Ià\u0005>ù\\4\u0011DúÌ<qP(e\u0019U5\u0010E4M\u0010E\u0011ÃÐð}\u001fY'¢$\u0010RÈDÒ\u0014$I\"I!#\u0003\u0001dEDeÒ4!#|?\"Ë2(¢Ûi1ìö(\u0005\u0014=¥TÌM­sÊk_Àí½Ý\u0010\tÍf\u0001Ý2\t\u0018+W \f",
      "cÒ\u0014¢($cdYt\u001f\u0002q\u0018D1 \u0012F\u0001N2$\f",
      "\f",
      "ß÷'?+Ë¤i:Ù+lÿdë;×Ãóh2è=MÉ²8\u0011E\u0003AÉL\u0000YU®\u000b",
      "<CStLÓ$F MS E@\u00042Ò4#\t#Â À¶GÄ¡)\f",
      "\u0017ÎR¯KXÕâÔ:§¼ö\u0005,H\"",
      "b\\.ëDù\u0002\b\u0012¬I2¦©¢(Êd\u0007Òõ",
      " \bH%ñ\n",
      "iN©\u001aº®\u0013E\u0011Bb:ª,1\u001a\\.¦hÄq<ñI¢(hñ7O®ë¤iòß¶\u001e",
      "*ÊõDe¢e\u0019\bëø$DÆ¤éä¥ \t!xB\u0006¢\"fÐé´)ä\u0015®\u001d",
      "bÏ°¸tõ\u0014»Ý©uN¹\u0011\u0004,#é*1Çòü\n",
      "aäÄ`\u000fÆÄéFa\u0001wØÇõ=FÎ\u0018U×I3\u0001YË!\n",
      "I\u001a\u0010Ç!5Yú¦\t¢,#\t\u0012Ë$ö\u0014\u0015E\u0014Ñ4\n",
      "Û¶Q\u00144NÐder\u0015$J\b\u0002\u0004¡ªH\u001d",
      "GV\tQ\u0010ÅÉÕp=ã\u001c",
      "Eáä¿)\u0019r¦â\u001e",
      "e\u0010g)i\n",
      "b\u0006#·@D±VBË¥ìlì³íd8Á\u001e",
      "biHbSëòÚ\u0017pê«$±adlï¾D«½MÞlbåæH#N§ÅÐ\u001e",
      "¢h\u001a\u0019çR­VÉ\u0017\f",
      "ì \bÈ²L@\u001c",
      "GdÙ$ÔåÉG,IUõ\u0015O-Ë2^\u0010\"k:¡ª2¢(¦)º®S,'_ ,\u0013ÇñõZDUÕWBì4M%r­H\u0014ø\u0019¤QLF\u0014\u000b",
      "\u0016^\u000b",
      "¿¯d\u0019Bì\"\u000b",
      "\u0001IÔ'\u001c",
      "\n",
      "P^#Mù\u001fóM¿^´7\u001c",
      " +°sí2g^|\u0006C\u0013¡^«74\u00049#_Êf1ã iõç¡ªó©¬h\u0018®\u001b¨ªzÝ³f$I20¨ª\u000eLþÔT\u0003\u0010®Ü4éºÔÔë^<'çÝIFùoö3¥iJ\u0018dYªª\u00183\u001e",
      " ë\u001a*\u0004\u0001ýö\u001e",
      "b°qõ\u0014çÏ=Î \u0001)õì",
      "ê\u001a­ký\u0013g\u001f{äþ©NyM{àÚ|Në\u00122&ozÝUÑhL(GÝ]4s (\u0014\n",
      "hºëºÈ²ù7Ï&\u001e",
      "U\u0010\u0004\u0004¤WP¤\u0019$³®,Ë(¢ eHª$Iè(IÈH$áäêHJdÂ0$NS\u0014M#IâW¼¶(N~6ãIV\\\u0010èÆ¡\u001aJ\f",
      "{C4IÆÔ5z{c®]»ÈÂÂ\u0002{»c½.^QED¦=Þ¡Xtùõßúø\u0003¿öKÿ\u001fûÉ3mjòÿoúþý\u001fÉw[×NqLä\\¹v,\u0013IÑpþ ¡^©R*UHÓ4\u0015°¬\u0002qB* ¨òäª&IH$'\u001d",
      "IL®y&×AÆõ",
      "Û2a¼\u0012\u001a'dH¢¦iáî²|=MD®¯$¯$E\u0014¥ëå\u0012Q\u0014ãº\u001e",
      "ªl`\u001a&A(èuº\\½|",
      "4\u000epÇCÎ_ú2¹\u0002¤\u000f©\"Ø¶çxºÉãû£?ò=ß³û",
      "Ç_òÚ\u000b",
      "¡W½ûW];}hÐÝakãY:íóxn+WðF!ÍZÙZ,±#dIB\u0010$DQ&N3\u00122\u0012I2JQU\u001d",
      "EQ&Å\u0015òä^øoÎÃ¢  ¯D3'¢¢è»ã$I&½Å¦$N*À$Iz%|þß\u0005®{íÖÞ>ïR*\u0014(æshªBÎT©VK\u001c",
      ":¼Ìá\u0003o ³07³íîã\u0004W\t\u0016ùL½Qâ[n\u001d",
      "_ýÂï<pß{\u001e",
      "<ûü\u0013ÓzÊkKÀ\u0000(#e)±ï0\u001c",
      "tHbæl\u0005EÌü\u0001ö°ÅÅó/ÑíîR¯Ä$(\u0014r$I6©zR44ÍÀ0,L3¦ª\bÈHÅ(²\b¤¤I4©Î\u0012Ax¥ìòo\u0004\u001aÇÉ¤iB\u0010HìäÕß¼\u0004&w¾LÊ(u\u001d",
      "]\u0015¹rikW/â{CtMÀ\u000fÆ¼ðâ78ýÒ³ØÃ«,",
      "ÖÎ6ÕJ,\t\tÜ\u0000ßHÃ<Å\"ßñ¡\u000fãuÛ'îÿè\u001e",
      "øÍÿø3S\u0011OyíÐ\u0000?ðÝßzßþÆÕµr¡Nsaþ8Âw]ýKG>§O¿H\u0014\u001c",
      "Z;ªë\f",
      "C\n",
      "Å\"½^\u0017Ei\u0005DÒë\u001e",
      "T%$I$ËR$yR'­k:q|ý<«È \b$i©\u001bDQ¦©×Ï¸)¢ _\u0017ª0\u0011ýõÝÃI2\u0011÷ßY&I&¨ªÈöÖ\u0006­ö.½n\u000b",
      "Ï\u001bS,êÇ]\"{Ðýí\u0011qÄ\u0011Y\u0012\u0011Ç\u001e",
      "VN\"È2\u0016\u001c",
      ";xpØçk_ùâÉo»÷¦»çwþ(ÿK¿ö»Ó°z*ào~~ú§ú>Ç¹²&f1\u001b à¸>½î\u000eû;/bZ*K+HRkH\"ìµwPL\u0019CÌÄ\t¢$$N¶'H2®\u001f\"©:iËå\tÂIBK\u0010%Ò4¡ßë!\t ©\u0005$QF'm!I\u0002aè\u0013Å\u0001~\u0014\u0010Å\u0011²¬à\u0007\u0001²¢\u0010G\u0011ãá4\t=\u001fQÈ\u0018\u000fºØÃ\u000eåÂ¨µÛmÑ(\u0018\t\t\u0002åJ³g_f<\u001e",
      "M\"Ôc<ì+åñ\u0002B-U±¨ÔK\\»vqí±/ýÙÉÏþ×Oì~â×\u001e",
      "x*àon~êþ\u001f¼oÔ½²6î\u000eEL\u0010p]5f¡\u001byÎ¯§µ¿MN\u0017ÙßÚæØÑHb,",
      "((¤YJ\u0010¤iJ!gÐ\u001f`è:Y\u0006I\u0012£(*Aà\u0013",
      "1*£iúÄs§)\b)iü_Z\u0016\u0001TYAe\u0010D|ß4-¤)ÅB\u0017Ö\u0019ô÷ÐUZ­B\u00108lo^C×$Ò$f4\u001a°ÕZG\u0014SrÅh0äÂùKÄqF¹Ô`4\n",
      "í\u0001R\u0002©\u001fR/¨ä\u0018²\n",
      "aÂWþú¯OþÂÿþOwûO¾<\u0015ñTÀß¼üóò³ùk=Y0sT*3xqÄÞþ\u0010AJI}è\u000fúHbÂ¡\u0019FÝ=$Àu\u0012Hbf¡I>cl;@\"Ë¸®e\u0018¯\\ûaè¸®G\u0018\u0006ä¬<¢\"I2q\u001c",
      "\u0012E!Q\u0014\u0001Ù+WDº®#\"  \n",
      "\u0002²¨\u0010G!®m#J0\u001aôpÇ{¸î\bÛ\u001e",
      "R(\u0014È²sçÎ0\u001c",
      "wPu",
      "Å",
      "#l\\Þã©§NQ­T¤Á¨E½gì´)\u0018e²ëÑº,*Tªe¬\\\u001e",
      "ß÷È²¯|ú/N¾ï]7ï>þBk*â©¿9ùOüÕSoóÚÝ¡­e©ÀØµÑô<",
      "Ò¤ÚJ\u0014%,SgãÂ\u0005½\u001e",
      "Û[»ìí\u000fh4ç1\n",
      "9ºý.¤\u0019ÅR\u0019ß\u000b",
      "044IHã0\n",
      "_è¡(ò¤g8N0\f",
      "ýzy$ÄqL\u0010ú¯ÔV\u0003ÿíú)J@\u0010Â\u0004g<\u0006!Å\u0019÷)\u0015-^|îQ\u0004R8d8èË$I@©GÕD.^|Jµ®kçñcX Z%\n",
      "\u0005¬JR­Jg8`äº\u0004YL®R`ùðAÜÄg±¶ÌæO|÷\u0007oÙ}ìé©§\u0002þ&å£\u001f|Ã}íÝí5ÓÐÒfó\u0000a\u000b",
      "7ð(ÕªÈ²ªZ\u0014\n",
      "Ul/ä®×¿ÃÇ\u000fãú1çÓi0\u001e",
      "ÚèþJáEàû\bbª*ÀäÊèo\u0003(Ê¤ø#\u0003Ò,y¥[É4ÍWBnQ\u0014\t½\u0000Iã0\b\t<\u0007^g\u000b",
      "\u0017ÎÐ(\u001bìína\u0016®3Æ÷]ìñkW.â\u0007\u001e",
      "aà3\u001e",
      ";\u000b",
      "e¶·w©T«ÄQJNîÏ_ÇÐ­IÈ¥èF\u0010ú$I³È\u0010±{éüÉ\u0013ï¼i÷±gÛS\u0011O\u0005üÍÇ\u000f~Ï·Þ§+ÒÚ ×§\\-Ón\n",
      "\u0018ÚÌ6\u001b¤DIä\u000b",
      "U#7¿å­¤À+WX8°¡k\b\u0004AD­^G\u0014E\\×EÕdTU¾\u001e",
      "\u0016§x{=I%¾RäfÌr\u0018(²¦êDqH\u001c",
      "ÿ·óp¦$I\n",
      "iBà;ô{{\u0014,sg'§)øG§»O\u0010¸Äq%ìlo\u0011\u0006\u0011â\"\u0005³B»Õgvvn·MµZ@\u0013T] \u001a\u0004¸!õRi¡\"+\u000b",
      "ÔË%$F1\u0015j\u0013C0\u0018­9ùÑï¹w÷ó_x*ào.þáO~ç}×.^\\3Uk×®bªE\f",
      "]¤Óé±½³¤ÊDID¾dÐêtøú\u0013O±´¼B\u0018çyDQÂÒÊ2Ùõ¤T&\bÄQ¢\f",
      "G\u0003TU!ËR\u0004\u0011dY\u00022Ò,A\u0014'Å\u001d",
      "¾ïeûÝ0\n",
      "&WD¢ª)ØçzÇxÐ¥ßÙa®YAR|Û£PÈ±½}\n",
      "]\u0017QD²\u0014UQÑd$\u001b1¶»\bbç\u0005É\\¹´E¹ØÄµSteR(²½½M¥\\Â0t.]¾$\tTªe\"U¤JµZ£^¯`o];yû[\u000fï>þôöTÄS\u0001óðíï¼ó>o<Z35\u0013MSÐ\u0002g#\u000b",
      "\u0012µFõËç¹ºuZ­H»Õ¡Vk¢\b\u0016û\u000e+Ë\u0007Qu\u0013UÑ\u0014V§¦iè¦Nà;´Z-\n",
      "",
      "ü+ÃïDqÒK<iJ4+\u0004A,)×ûc¢($M\u0013ÜÀ!\f",
      "B$&\n",
      "|FÃ.ÝÎ\u001e",
      "½MFý.Ä\u0012Aä!\b\t7bgó\u001a\"P)Öñ½\u0000Ý(3\u001e",
      "\u0005ÈÆÖÖ6½~\u0017+¯áù\u0003\n",
      "%q\u0010àE\u0001;=\"bòÕ\u0002~\u00162p8OÞ¬aÈ\u0001öþ6»\u0003\u001b;\u0018¿pò¿ûí»\u000f=~a*â\u001b\u001c",
      "ñ5ó¦Ñ\u001b\u0014M\u0017¯;À´ò¬o^àÚæ\u000e­ÁñÐ\u0001\u001bú\u001c",
      "A\u0007\u0006-\u0017MU\u0010$\u001fßÛäÊqÆ#â,¦?Ø¡PRP$\u0001Ë¨òòËß,¢+aêUÌ$KTTÝ$L\"R$\u00122\u0014]f8náC¢ØT^e\u0012^àOÉ\u0012$2R\n",
      "R\u0016²»u~gÍs\\»z\tß\u000e0ä\"3%2dÂÌ%ÂAHC\u0016gIÓk_@Róø±F&\u0014I\u0000Ç\tP\u0002û»#6.mÑoõÑDØ\bmíö\u0018¹>Gq¦Fu¶ÆìMkzþ©\u0007\u001e",
      "ú/?2­Ú\n",
      "ø£ÇnÁö}òå\u0012ÛÛÛ\b$4ê\u0015*\n",
      "gÎ¡ßïS(\u0014\u0018ôú¨DÁÊÑi·\u0012\u0001<D\u0015BÜa4\f",
      "  \u000b",
      "\u0019ö·\u0018\n",
      "=jµ\u0006¢,ã¸#DÉøÑ\u0018Ã\f",
      "i\u000fü\u0018\u0001\u00192$\u0016\u0010\u00040\u0011\u0004,\n",
      "²\u0018S\u0013ñì>û;W",
      "BN'\n",
      "lÜÀ&\u0015b2)Æ\\\u001c",
      "ÏÃÌ\u0015HR\u0015A´ØÝÚ&KRò¹\u001c",
      "ö ¥êr9B×¡×Ú¥Ñ¨S*H²\u0014Ó( Ë*GÖQ,æ©ÖÊ$IBµZEÓÔëU`\u001aFååe¾òè£\u000f<òÐ/ME<\n",
      "¡ÿþù¹û©üÕ\u000b",
      "OÈ:É\"+iÌÀñ 8©VÊlllP¯Õ\u0019\n",
      "Ç\f",
      "û\u0003,Y4¦ÝÙ&%ÅñB²T`¦YgãÚ:r¹¹\u0005Â $\u0002\f",
      "SÃqÆ¤×1²L~¥\u0016Ús\u001d",
      "$i2\u00013Ë\u0004$AF\u00143½\u0001a0À\u001e",
      "l3ìm`\u000f÷ü\u0000M2(7Ê\bÂ$«Ï[ \bdD¿gc\u0019e\"Ì«WÉY9\u000e®¬Òi·¹té\u0002õj ðÐ\f",
      "\u0019APH\u0013V§E\u0010\u00049$\u0019TU¦\\*£éê+M\u0019Q\u0014±»³Kf¤IÌ©¯îäïüþ_ïþÒ¯ýÆ4\n",
      "øïÿô¿~ê;?xÏÝ¾ÍZ®hÄ &\t}ÛA\u0012%fê3\f",
      "\u0007C \u0004A$Mb\u0006Ã>³õ:³ó\u0015Ö/¯£yffWÉ\u0015ê \n",
      "¤bÊòÒ12\u0004F£!ª&1¹\u001b6M4,MQd\u0011Q\u0018ÛcÒ$ADD\u0004üÀEQJHB\u001ft¸°þ4íÖe\u0014I@W\n",
      "B4qm\u0017AHiíï£«\u001aÃþ\u0010IP \u0013ÐM\u0019M×QTÑhH!_ #6®mP«×p<\u0007UÓÑ4ápD\u0018FØî\u0010Û\u001e",
      "ÐéîO&D1ª¼2!S\u0010E\u0011²ª &\u0019=ýðÓé¾á©ÿ~9ñö[ïË\u001bµµ7À\u001e",
      "9ªbêdiF\u001c",
      "§Ç#jµ:Yâû\u001e",
      "eÑhÖ\u0010\u0014ÅÕU\u000e\u001e",
      "¹\u0015ÍªSª, Ê:¥J,4ËHÓ\u0018Y\u0011ñ<\u000fA\u0000Ë²pl4\tÑt4H\u0011È\b\u0002\u000fQÌ\b=ç¢h\u0012\"#\tÐi·)\u0015KDqB¯×CD\u0014A¥ÛêrðÀ\n",
      "í½\u0016£AÍMò¦¨+Ì-Ì3\u001c",
      "p< èö{\f",
      "l P$\tI±m\u0007QVHÓÉd|ÞÂÐU|ÏL\u0004QUÂ$\u0002Q¤T(2\u001aÛ¤1¨Áæ\u0017Ö>þ\u0013\u001fÛ}èKÏL½ðô\f",
      "ü÷¦(¤Ã`Ð\u0001IDÒtH'£kz½\u001e",
      "¦¡\u001a*z|¥ÄÁC+xQDhZ\u0011UË1ÓE5&w¼I$ É\"\"]¿÷PU\n",
      "MTE\u0019ºN\u0014",
      "dIB\u001c",
      "äóyrÅ\u001c",
      "!¡k\n",
      "¹Rãöéw}ÕcdQ\tg\u0012Å\u000eF!Ä4òXV\u0011Ë,ÒÚïS¯Í°ººÊM7¯á¸=lgÄæÖ\u00061YÝÒë÷\tþxD*Jä¬\u0012årúln¿Ïî^\u00072$Èå\n",
      "\b××Î¦",
      "ï",
      "ô\u0006#Ê¥*",
      "R\u00199§qxñ6>÷©_~àSòéyø\u0006C~-=¬FtÛ{dG¾Ò@@a¼?Æq\u001c",
      "ªõÚ¤r*KðÝ\u0011G\u001e",
      "Å÷}5\u000e,ßLsñ\u0010Åú,a8i³zh\n",
      "R(É\u0000:\u0001\u001d",
      "I\u0004A\f",
      "À\u0013E\u00111\u0013\u0010E\t\bÃëëäÉèY²qo\u0004qÊ¨×f\u0014¸,$¤\f",
      "\u001e",
      "Å\u0019\u0001Ó4\u00109  ßïf!¢1·8G»3 Ë\u0004b) /àc@¦ÑÃóC¶·wÒ",
      "\u0003M¬B&d8Ïxäã\u0010\u0011\u0001õz8É\u0010¯\u000f,ô(«ìïu°}\u001bE)phyßÿÏÿþ$0\u001d",
      "Ï3\n",
      "¡ÿ~¸sM¼¯R,®\u0015ë9ô|v»GìÌÌÌ`Y\n",
      "Q\u0014±³¿G$Ø®Ãìì\n",
      "KG°\u001d",
      "ØÛo1\u0018í#I>\u001bW.3ìöñ \f",
      "04\u0003A\u0019ltU#Ë\u0012Ã\u0001²¨]\u001fÑ\u0013Óîtñ\\\u0017\t\u0011ÇvqG6Ql \"»/óÒ\u000b",
      "_b®©\u0011û6`á\f",
      "a»s",
      "$KÑt\u000b",
      "ÃÊ\u0013D1fÎ¢Ûïâz.9M#KR,Ý|\u0006Ie¿Õæò\n",
      "Êå\n",
      "r&3v\u0006 $\u0014JEú½\u0001¦n\u0012z!²,\"\b1ù|\u0001EU\u0014",
      "R©Äxì0\u001c",
      "H2ðß%\u000b",
      "fIíáÚûÞ}×îãÏN+µ¦\u0002þ{à}'n¾Ï2fÖLÑ`Ð\n",
      "q\u001d",
      "\u0007ÉÈ¡[y\u001c",
      "ßC3töÚ{è¢J\\¼t\u0001³XFVc^8õ\bWÏ=ÍÖùÓ<ýè#?}\n",
      "K@(RÊYh²H$B¨Êxþ\u0018]\u0003\u0012",
      "LÌèÛ}`¢H×gA{®O·ÿ<£Ñ.9Ëdo¿¢X4æ\u0017ÙÜÝcnù\u0000ÕR\u000b",
      "ëë\\:÷29]Æ\u0019÷\u0011EÆLLÐ\u0018¤@·ßC\u0010\u0005LË\"IA@fcc\u001bÓÌs`y",
      "8\u0002M1!U\u0018lÊ\"¢,I\t\b\"Å|4Bµ:ñÄJ>£oÒ\u001b9ì÷°Óvw$ß\u0018N\u0013ZS\u0001ÿÝsò½·Ý'Dé@ÆhäÑEWUd\u0011tU&ð<$QàèÚ\u001aû»»(\u0000bÊã~nk­ØÃ6aäðÆ7ÞÁhØá",
      "ÓOðâó_EWS,]£Þh\u0012ù)B\"1lÛH9Îî\u0016uËB\u0018»\u0004½\u0011³µ\u001aq\u0012âÄ.ÃÎ%¶6®¡I\"",
      "¼É ßBU$LË¤ÓnC:¹§µ\u001d",
      "~¯ªªôGC²\f",
      "\n",
      "Å\u0012¾7º^®)e0\u0018hw\\¾ºI¥ZÇÐ4¢(@×5 @½>\"wØ\u001fÏç K1U\u0003YV\u0014\u0011Ç\u001d",
      "\u0012ã8#|×Æñú¤© ÈÄÞöÆÚ÷}ôý»=u~ê",
      "§\u0002þ»å§?öû\"Ç]Å4\u0013qÝÉ\u001c",
      "h]S\u0019\n",
      "dYJ±Päò¥Ë4gÌ5çQ\u0002wßv7µR¹yB/¢^Á\u0019¹Ø¶@\u001fMxé¹opíê%dQ&\f",
      "#.­_D\u0012¡ß{Ç¿ú{áëxÃ=^|î1l{ËC]ª9Èu\u0019\u000fÌÔ+$IÈÎÎµÉ²a`ÆH¢È¡ÕUR2Z6¹|\u001e",
      "3'I\u0013f\u001aU<ßCe4ÝÀ0\u000b",
      "\f",
      "G\u000egÏ_\"ËD*¥<Íæ,ù¼Åxlã¹>ãCoÐG\u0010%(ÆÔu,Ã@`ì\f",
      "°,\u001d",
      "MÐ\u0015%#:Î8",
      "\f",
      "ê3ExòÑÿìÿñs»ùW_x*à¿;~òÇ¾ç¾\u0017^\\+\u0015aD.£X.£(*IÒãôé3Ôj\n",
      "dE%ÍÀÔ´[mFÃ1ª¢²¸¸4Ù\u0015&ñ°i©h\u0004G©\\äüÅuê3Ur%Ñ¸ÅgÿT\u0006)!zÁ`·µÉÞþ\u0006»\u001bëì\\>g\u00074j\n",
      "<Ça4\u0018R*\u0016¨ÕëÉÞnZ¥cÛlmo³¸°H¾XÀv\u001c",
      "v÷w\u0019ô{H3Ñ\n",
      "\u0013Ý°hw\u0007<ûÜijµ\u0019öö{(\n",
      "Tj%´ë}È½nnoí¸(ºA¥háº6i\u0012 Ë\u0002¡\u0012F>¾ë\"¤à\u0007!ÝÎ\u0018Ïð=(\u00128sv]¸¼9\n",
      "¥§\u0002þ;äc?öùÝs'\u0015AÂ2óä\u000b",
      "\u0005DÅÀq=\n",
      "Å\u0012­vn¾",
      "Ùy$Y¥P,3rÚø\u0017¨Íh\u000f¶QM\tQI(V\n",
      "Æ½\bCÓ\t}8ÍÐ,\u000b",
      "½X\u0000QàÂ¥u*F·¾õ]\b¢cG¤)\u001c",
      "XXT¥ßëÐÚmã¹\u0001i\u0012\u0011­ý\u0016ù\\\u0001Ë°\u0018\u000e\u0006¯L±ÜÚÞf8\u001c",
      "277G\u001c",
      "Åäòy\u001c",
      "gDd×ÇÕæ_âÊÕm.^Þ ÙG\u0012Áó\\tMeff8\u0016H\u0013V·K¾X m\u0016æf(\u0015,Fã!\u0000",
      "B\u0019\u0012\u0011{\u0014 \n",
      "&¢ 0\u001e",
      "ö\u0013nÏ\u0007Ñdsksí'ïÿÈîW¾öÒÔ\u000b",
      "O\u0005üwÃ¯ýÖúðÉ×Ý3òk¡\u0017! bû\u0001¾ïcZy\u0016\u0016\u0019\f",
      "\u0007ì·ZÈ~«E¥ä\u000b",
      "E$EehÑ\u001c",
      "åj\n",
      "DÞ`®é¸î\u0018Mdq%½iÕX\\:«S[Åó|ÖO¿Lj;DîÅ¥&z9Y/ïR®Ö)\u0016«\b¦j¬¯gØ\u001bP+U±í1\u001f \t\n",
      "R\u0005?\bÙßßÃ4tºí6ÕF^¯\u0007H¯7`g§iåé´\u0007¸nH¡`¢ª\n",
      "i\u0012Q.\t±ãâú\u001e",
      "A\u0018!\n",
      "zQ\u0010 k\u001a\"e\"Ã¾e\u0014\bcJ1(f ) ç¸¶Ùbì\u0019ôv",
      "+ÛîÔ\u000b",
      "O\u0005üwÇw|àõ÷ío·Ö\n",
      "ù<QàG\u001e",
      "ªªÄ!;Û<ýôÄQH\u001c",
      "\u0014\n",
      "9êyB?A×,rf\tAP\u0011\u0005\n",
      "C³Ð\u001c",
      "ÅJV{e!¢éyæ\u0016VÕ\u001c",
      " \u0002½ö\u001e",
      "q0BÓ\u0012T5åÈñCÃ1¢*\"g\tÆ\f",
      "ã²·¿ªÊ\f",
      "û}á\u0010!Ii6\f",
      "û\u0003Ú­6ïSÈç1\f",
      "4I0MþpÌÒÂ\"¤¤V¯;äÒÉæ4##Ê2ï\u0010\u0004\u0001ãÓjwI\u0001Ûs)ä+HDz} nèäò9Â(f8è#H\u0012V\u001bÛvé\u000eF¨¹\u001c",
      "ùrapõâÕµ\u001fþøì~íñç¦^x*à¿\u001b~ìßw3pÖÜ±C\u0012§XÂhÐ'B|×aåÀ\u0012¡¡Ê\"Å¼ÅØî#K\u0019?FVEvw7\bC~w\u000fC\u0017)\u0014\u0017qF6ÕróçÎ#©\u001az8JÙÜ\u001c",
      "»»hN{ØcñÐAÒ\f",
      "¶®ìÒºÚb`·\u0015¹ùE\f",
      "M£µ¿¥kÌ5f¸ré\n",
      "W7®qpeò;m³³»K%¨êd¥i\u0010ÆÈòd³Ã 7\"\bc<' Ýí#\n",
      "2ùb\u0001C×¨Ø¶\"k8~@·ÛE5tzm$L¨¸î ôP\u0014À÷È\u0019y¢\u0010FKwÜeàôñÝ\u0000K¯ðÌÙSB§\u001d",
      "L½ðk\u0014ñµöÀõ\f",
      "¼m\u001aó\n",
      "DCd§Õ!d\n",
      "³Üzïëi\u001e",
      "ZÂ(æ\u0011L\n",
      "O(vc\u0017!M¹zé\"sssÌ-Ì3\u001a\b=\u001fKÏðCÖÈA®TY¾õfär\u001e",
      "­`Q®Ì\u00109f\u0017g_Â*hD¿2\u001c",
      "l\u0013\u0003b'áòú%\u0006Ý}\u0014\u0015n¹í83MºþÊr\n",
      "%gpqó*^ì#¨\"3ÍYzC\u001b'\u0004£<OµZÇ\n",
      "B^>¿hhTf\u001bøi\u0017ÅøqB\u0012z\bq&\thÈØ\u001d",
      "S¯W\u0003?¢Y«`è*c×c¦¹FN- ¢B\n",
      "^×Ãq\u001c",
      "\u0014M¤T*0WmRÔÊ¸~`Èx»ã\u0013ÿøÇ?:-±zà¿\u001b~æãßwß¨·»&¤\u0012N¢9®ç\u0010DöÎöÞr¾¦ä¸xq °G>ýÇêáãQ¦æX_&KDÖ/æêÆ:Q©7X;v\u0017ê\n",
      "±¯P.61yñ¥')«l\\]§T*SÌ\u0011(\u0015\u001bÔgf(kDQB«ÕáÜ¹u4Í@ÈD|/ Vkà8\u000e¦cÇØ¶ÃÜü<\u0019\u0002çÎ¯£«:ºaa\u001a9®\\Ú`aa\u0019×\n",
      " \u0018\f",
      "ÇºN³1@&JDqÆÞ^\u0007YR&Ãä£\bY&\u001b (\u000eT\u0019$L(\u0015ÊøaHd¸^@«7@\u0010e43ãû\u0014s\u0005¾ôåÇO~êS¼û\u0007ôgÓPz*àWû?öÇO&AÌìì\u001c",
      "",
      "¼ \t\u0014JE\u0016\u0016\u0017)\u0017røÃÈî\u0012R¨)ÊT*u\f",
      "ÓÄ,ä\u0011$À\u000fð\\íý}ß´F«½ËgÎsèÈëÈç\t,,Ìòø\u0013Á¹õk\u001e",
      "DV&\u000f¢(Ñníahe\u0004\u0019´ëó¡çsÜvëm=sJ¥J¹\\e4\u0018³¬I\u001fo©H¦´[mÒ\u0004TMáò¥+x^¢ê\\¸x\u0015Y6ð¼F}\u0016I\t<\u001fSÓ±\u001d",
      "\u000f×\u000fðÃ\u0018?\bð}\u000fUW1\f",
      "}RJ)K\u0004qÈhd$SªU\u0019\u000fm¬\\\u0014\u0001U31\u000b",
      "eºýÁ¤!\u0002id)aðS/NCé©_]~ñ~ÿÔ{ß~ûÝÎ¨¿V+5ØÜ»ÊÊÚ!tÓäâ",
      "\u000b",
      "ìíí!\b\tÈ\u0019²\n",
      "7BÕddUÀ\n",
      "mÂÄ¥ÕÙ¡ÓÞáÜ¹\u0017yë?È¡CxîÅSÜrëëY;v7ÕÚ\u001c",
      "KU\u001e",
      "þÂ\u001fòÕGÿ[n¹nz\u001d",
      "¦Óëwè÷÷\u0010%\tE1°ý\u0011IÐn·X_?cÛ,ÌÍáØ\u000eº¦±½³,\b5JÔgf¨Õê\f",
      "Ç#²$£9ÓÄq\u001d",
      "Æ¶MµVg0\u001c",
      "3\u001c",
      "ØÞÙ%cdY¦^¯\"Ë\u0002$$Ñî\n",
      "°ò&ï2\u0018\f",
      "1\f",
      "\u001d",
      "]Ó MÑu\u0003ËÊ\u0011¥)W®nbè:n!J* ¤\"²nR,U\bñp\u001fzöÙµÏ}î3»¿ý;8õÂS\u0001¿ºüø\u000f~Ç}ýîÞ\u001a©Ya8\n",
      "ØÚé «y\u000f\u001c",
      "FU\n",
      "\u001c",
      "/@P\f",
      "³5ÈÀÐMÒ4##£X,Òjí³¼´L£±ÂýÓß£PÈqôø\u001d",
      "¬\u001d",
      "»\u000b",
      "Ç\n",
      "ÙØ¸H··ÅM·ÞÆáCweÒd²×Þ`qa ôPu\u0005EÌØR$VkJ¥B·ÛÃ\u000f}LC'KSt]g4\u001c",
      "³µ³C¤är%â8Å05,ËÄõ=¶w¶)+¨ª\n",
      "\u0002t:m\u00041!3\b\u0003\u000fÛs³í½=8$N\"¹\"ãáÈ\u000f)äò(²Là\u0007¨×\u0007ðu»]¢8e4\u001e",
      "Ó\u001fØÝoÓé\n",
      "I3q<d$y²yñáÏAØïL;¦I¬W;U_D\u0004ÈDÆ£>¾7¢R6¨Tt\u0002¯K8ÌÍ5X]=@\u0016\u0019èBý­\u0001\u0012&åâ\u001c",
      "û»#òÖ\f",
      "9³Á§?÷;ÄÉ£7\u001d",
      "¥ÑlråÊ\u0006³3\u000b",
      "¬ßàèÚëX]½\u001d",
      "U+#(\"ÕÚ,^(¤\u0012q¬ Êµ¢\bi\u001af1\u000f¯\"HpÓ-ÇA\u0014(Ë¤\u00028¾GµQ'Ï3\u0018È2\u0001?h·ÛDiB¾P X)d1q\u0004Q©Wèt÷\u0011\u0015\u0011MÓ\u0018;ÞDà¢ðÊbr]71\f",
      "\u0003IR\bÜ4J\u0011\u0001M)*ôú}ü $Ëe\u0019nN§Å`0`ì:h3ØÚÜ8ñ\u0007¿÷À4¡õ\u001aB~->t¹4CJçyÈjB)o¢\u000eÖÏ²¿µ¦éÈºÁÈõhüjµ;¶\t£\u0018Û¶\u0005çrÅ¤^_¡a{«ÍëÞx\u000b",
      "[;ØÞÞàýï{\u0007\u00177¶(\n",
      " ¸¤)(JÛn\u0013°»·ª(¤®xcÝÝ}tÍÄq\"ÊÕ\u00063$Í2DAÆq\\L+O¡Ô Ó\u001fP(\u0015±GcN¿tR©B½9iå9á\"a\u0018R(IÉ(J¦ëÁþÐ¡Ùl¢ª\"ª¢0ê\u000fØmµ'È5\u0005!\u0019cJ¥\"¦Q«Õ\u0018\f",
      "ìïïS)WÈ\u0017Êlï¶\tÂ\u0000ÝÌ\u0013Ç!q\u0018 K°þòËÓái\býêrÿ\u000f~$¿½}æ¤.çÈie:­\u001e",
      "\u0017Ï¯3èô!ÌèìõèµmrF",
      "|Aâ\u0002\u0011Þ>¢Q*çH\u0012\u001fß³iÌÌ£H\u0005\\;CÑ,ÝrÏ}áÏ¹÷[îáÂ",
      "3\u0014Ê\u000b",
      "qÌp¼;¨WçPe\u0019R\u0003I\t¼$IqFc\u0014Qa}ý\" R©Í¤\u0002=\"\u00136·61-\u000b",
      "C7±m+W®±·ß¢Ù\\D\u0010$¶w[¬¯_$Ræ\u0016\u0018Û.Y\u0006²,2Soày>Û[ûèV\u0011QR¸vmj¹ÆÆö\u0006¦i^/Å4&ãv\n",
      "9,\u0002!CÕtlÛ¾>÷Zg4\u001e",
      "\u0003\u0012¢ÄédbIà¦)®çá\u0005ÁúåÝi\u0018=\u0015ð«Ç¯üözÛßt·®o­õÜ\u0010QyÝëßÈÁÕc\u0018¹<z.Ïòò\u0012\u0007\u000f.°º²\u001fFlîv¨Í.Q«/Ðí8Ô\u001ashz\u001e",
      "\bÏoe\u001a«o¥ïtÐ­\u0012+Ë·3v:ÌTòøö;,Î/ +\ta\u0014áú.Åâ\u0012¹²ÉÆÆ\u000eÎÐ¡µ³I¹¨ÐÚß@V\u00042DL]#Í@Õ,Ü a8v\u0019\u000emTU%\b\\:ÝMWVi.\"©y.^ÞäòÆ&A\u001c",
      "£\u001a\u001ab\u0004²(\u0012E\t)0ì\u000f©T+í\u0011½qF£JµRÆólLCÃÐ\u0014¢8ÆÔ\u000b",
      "\b¨xã\u0000\u00120LI\u0013¨×fqý\u0010?q<(0Í<¾ë£©\n",
      "\u0017/^\\{äË\u000fïþúoüÁ45\u0015ð«Ç?ø¾o¿ïÜÇ×ÊÅ9n»åæI³Àæ\u0016ÅBF£A.CSuÎYçêÆ\u0016\u000b",
      "\u0007Ñ\n",
      "«\u001bWÐ\n",
      "¥Ñï¶é´z8®ÍüüaT¥7îs÷ëÞH\u0018¦ìno`è\n",
      "zý}.oá7Ü,\u0015Øß\u001b\"+\u0012½á\u0016s3Ç\tÝ,\n",
      "ñ\u0001¦¡røð!dMÄ¶{¬(\f",
      "v§O»Ól\"L\u0013jµ\u001airõê5\n",
      "ª® à\u0007\u0001¢ Ðëô05Ùf,Kq\\Þ`ÌØv)xK\u0012ÅOÎ0°L½ý}4Ecgw\u0007Ý0Ó8MÈ\u0017òt{]öº\u001d",
      "â$¥Ñ£Óî\"k\u001aQ\u001c",
      "\u0013Ç\u0011¦$!_{ò)ask:ÅrÄz\u00159²v\u00042\u0005E\u0010\u0018÷\u0007\u0010GÌÏ4ãË/óÜsÏñ©Oÿ9¡G©Ò@3ÍÉN`Ó ghl\\ZÇsûh\"êTKedq²òD@!ð|²T É A`¦9G$\f",
      "F#Â8%LRE¸ìì]Äñö8zÓ\u001aY\u0003*hò\f",
      "GÜªª¸®Ë©Sß _°XÃºÞßív\u0011Pi6çØßßE7\u0014su£>ãñb±D>WÄu}Fc(JP\u0014",
      "ápÈîî>ÅBr¡Lä§¤H\u0014¥(²nZÌ/.1ö\\l×Çõ}\u001c",
      "Ï£17¬(ô\u0006#.]¹¨)(º(B¹\\Æó<f³\\ÛØ8ñÇüÓdÖÔ\u0003¿züóò÷íí^X«\u0018\u0005\u0004R®^ºÂc?ÆÓO?M0¤X®ÐÇÊçÐtñp(Iedø®G\u001c",
      "Ç\u001c",
      ">tVk\u000fIt'\u0015*5ªµ\u0006\"qæ¥\u0017[¥ß\u001bqdí6$Q£×ß'JlLÓ`¦¾ÇÃ\u000fÿ\tqÜ§ÛÞã±¯>çÀ£=Ê¹³gè\u000fºìììÒ¨7ØÝÞA$\u0014Ucvn \b\u0019\n",
      "]rù\u001c",
      "¥Ê¤\u0016»>Û@B¢×í#dPÈå0\f",
      "\u001d",
      "I\u0012¢«W·1­\u001c",
      ",1\u001c",
      "\n",
      "±4,N\u0011\u0011Pd\u0005YUp\\\u0017YQÑt\u0003YQâÉØÑhD¡\\Áv]$\u001c",
      "Ï%ô\u0003tÝ Í@\u0010É§,Á\u000fcá",
      "\u0017ÎN½ðTÀ¯\u000eÿôg:¿³}ù$ËþÞ.Ãñ|¡È-·ÝÂw½J©¦\u001bMD´;-4U%\u000ec²\u0004dIEB!\f",
      "\u001d",
      "\u0001a(¸í7b\u0015J\\¾ø2ÃAÆì\u001c",
      "¢(3?·ÄK/Æó\u001c",
      "f³ÌÏÍÓíöØÛî2×¬Ó¨\u0017ØÛÙfg{ÅÅ\u0019nºyD\u0018 ëe3³Øö$XYY!I2v÷Z¬¬¬PÈUØßo3²ÇJ%vwö\u0011E\u0019ß\u000f\u0011\u0010°G#n½íÉ\"5×Ãv|¢8A3u¼ÀcÜ\u001b3;3¦jxCD¦ÉÖö6i\u0010F\u0011ª¦A¡[&N\u0017IV\u0014\u0015C7èö»\b\b\u0006c0`²1Ãµõ­i\u0018=\n",
      "¡_%æ\u000e½îW\u000b",
      "",
      "æC[­-TKãàáe\u0016æ1M\u0003U°Çcv·vÙÙÙ!KSâ0¢×éb\u001a\u0006º®ÓÚmáØ\u001e",
      "®ëR©Tèõ÷\u0019öQ\u0014+\u0017/\u0011Å\u000eË\u0007\u0016\u00112r¹ãï±~á\u0005rV",
      "æÌ*.]acó%ªµ\u001c",
      "àØ\u001e",
      "Q\u0014qüø\u0011LK#Ë2\u0016Ë¬­­qôèQ®\u001d",
      "¥Z­2èõé´Û\u0014E6¯mÑê´É2£\f",
      "{\u001c",
      "0?\u0000ËÈAaè\u001aª¡sîÜ9Ò4¥T©P,åq|\u0007Q\u0014)XE¥p}iùß,!Ç³\u001d",
      "\f",
      "UÃ\u001e",
      "è÷ûØÃ\u0011HBè\u0004^Èñ£G©×j4M4EGSUr¦Îó§Îøµÿòo§aôÔ\u0003¿züÄýÐ}¡»³V­×\u0018;cúý>ûûm¾öµ¯óè¿F¯ÓCQTH\u0005²$CW54UA7M¼À£7è!d \"\u0013F#Ì\\¥¥Û\tã\u0002W._¥Z'I<Ú­mLÃbue\n",
      "{dóÄ\u0013_e~¾iJ|íÇ°G#òVå\u0003K\f",
      "z\u0003²Tfa~\u000b",
      "\u0017ÏãØ\u000eª¢RÊ\bÂ¹ùyv¶wÙkwPU0\f",
      "9{î\"ù|uâa£|ÞBÓTÒ4Á\u000f=tSÃvlÂ(%\"\\Ï¡T.PÊi·[¨B¹RDUdz½\u000e",
      "R\u0001Y\u0018\u000f\u001c",
      "Å\u0002a\u0010@*\u0010ú?=ÏC\u0012e,$K3\f",
      "=7Ù)5\u001e",
      " \n",
      "\u0002º.²·³+\\¼:½R\n",
      "øÕ\u0012ðýÿ ¿qõ©q\u0012\u0013%\ti°um\u0007\u0011ÕÕ5jå*²£T,#\"¦i\u0002\u0019¢\u0004VN#|\u0006\u0011åR(u°\n",
      "EVWïÁ´\\¾rÅùeüpDÞ*°yµÍòe¶w®ÒnoR«V9ºv+ÃAÀú¹MÞ~ï;éµ[\f",
      "\u0006Û¦@§·KÄÊu:­\u000eÝNB>$Hôú#4Í$W(±¿ßb~nJ­É×xñÀÁ´r\\ºpJ¹iå@H¢\bËÊÑîtiwÚ\b¢¢N\u0016­@.o2\u001e",
      "\n",
      "¯g·«l\\Ý@$¢ \f",
      "\n",
      "ù<¢âÚ\u001e",
      "I³rØ¶ãÐ\u0014\n",
      "Ïã\u0018ÓÔñ=\u000f²áp°¾ßNìÐ¯\u0012oø\u0013¿zlíu\u000f?û2Yì \u001aÇo¹C7\u001d",
      "Æ*eäó\u0012+\n",
      "2)fä:ä«urLÎ±ßvhu\\U6ö6È´\n",
      "\u0007\u000eßEg´¤fÔgÖ¨Í\u001e",
      "Ä°f9sùI¬¢©Xf\tËÅ°T\u0004Ù\"õ:Hêâì\f",
      "ã¬ÃÙõ3\\=?æÐÁ[¸ty\u000fÛv)ëÌ-.³ß\u001b³¹ß¡=\u001c",
      "ñÂ¹s>ó23s3¬_>a\n",
      "|ô{>bÀ«ëÔ\u001a\n",
      "úý!² `©\u0005LÅL&H22QAÈ$b;$tm,K¡ÝÙ¥RÍ3²\u0007t»]rVÀMÉY\u001aI\u0016âÆ!N\u001c",
      "\"\u0017-¼,\u0001MA1u,#GÆM\u0010Ûì!¢,Q*ð}ïÄË/>9\n",
      "£§\u0002~\u0015?`0×<@¿g³ºr\u0018U5é´\u001c",
      "\\9Â­·ÝE\u0018loo³²²B\u0014Mjwv¶èõzÜy×í\u0004îÍkW°t\u0015C\u0011éîïàØ\u0003\u0014\tBß!|}|>G¯Û¢^!Í\"Î\u0001ÇqØÚ½\u0006Àp0¦\\ipÇíwSiÐ\u001ft©Öø®c\u000f8ýâódi=\u001a¡I\u0002Ç×VY90Ïxì°°¸ÄsÏ¿Èå«¬­­¡ëúä[©ÐëuÉ²\u0004ÍP\u0019ÙC$!ËQ,\u0010D\u0011ýú\u0016Åb±H\u0010T*U\u0004A I&^Û\u000b",
      "|@DeDQdkk\u000b",
      "YVØÜÜ¤T*M\u001a\u0019Én(I\u0004dA\u0010Ð\u001f\u000eè÷m666ONe2\u0015ð«F\u0012)¤±Æ¡7ñøcOóü3§9p`þÀæ¯¿ò8_ÿÚ×(\u0014\n",
      "ôû=.^¼¦MÆ³.\u001f<@\u0010ø4g\u001aè²@\u001aû\\Û¸L¿×¢·ÈçtFÃ.®7B\u0011òär9¶·7#\u0001×\u001b²¹wJ¥LB¬h¤@Î¬S©/ \u001a&\u0017/]E !ÏS«Õ¸ýÖ[È\u0007e$Éç,$YáìÙ³\u0014\n",
      "%|/dcs\u000b",
      "ÃÊ\u0011D1A\u0010¡\u001a)\u0011¡a\u0018\u001a\u0019Û{{´ÛmTCÇó<\u001c",
      "ÏE\u0014F¶K¦Dq¦iÌÌÔIr¥B¯7 \b\"ò¹\"­V\u000b",
      "]×ÙÝÝE\u0014â\f",
      "\f",
      "$I!/R,Éçó\u0014\n",
      "\u0006Ï<óõ©J¦\u0002~õØm\n",
      "\u001fÜÜéðgöiöv[\u001c",
      "9rÍ­-.^¾J&ÜvÇ\u001d",
      "¤iÊËçÎñ{ßJ³9Ocv \n",
      "q<|©Êác7S®Îà\u0004\u0001z>OÄ8®¬h¨ÀÒÂ\u0011\u001c",
      "gãñü\u0018INÐt\u0011DÞpÀh\u0018 \u000b",
      "\u001aZFVËTgæ\"v»ÍÍ\u001d",
      " æÚö\u001e",
      "Q*ÐëÈ\u0004\u0011IÖ\u0018»\u0001¶í/¸zmáØ¦Ö¡7\u00182è\u000fâ\u00043gàø\u001e",
      "Ý^\u001bA\u0010(\u0016\u0018J\u0014ÇÈª\"«hÚÄ\u000b",
      "këLê³,C\u0014E\u0016ÙÜÜFÕ\f",
      "ÆG.Ç4M\u0006\u0011$áG!I$\tcÛ¦Ûí2\u001c",
      "\u000eÉ²z½Î_|æÓSLX¯\u001e",
      "þüOýú±»GÃîÚòd¢\u001f:¨LµÞ@\u0000¢8å[ßö\u000ev÷Û=¸ru\u0003ÝÌaEêÍ9JYJõ&\u000b",
      "ËG\bcNon\u001a(RD17ÏÎÎ%tÝààÊMÝ-ÌG¤J«uRacGoÆóB$E§9Û$g\u0016\"ÖÀARM.^Þ Î\u0004ö;}ú#Ë\u001bè\u0005H¤HHJ¤HA\u0010EÄI(gèª,\bB\u0018%dÂdÁ¸iêH L\u0006¸\u0017ó\u0005(D\u0012%\u0004Q ßë\u0013F\u0001ÅJ",
      "8 è÷äryêõúd |¡(\n",
      "",
      "bZ­FµRlSD c6·6ÖþèOþh÷\u000fÿp:nç\u0011ùFø\u0010Ý¡ÍN«M·3¦R®R.\u0017Éå\n",
      "\\»z\\¡Ìó§_biy",
      "Ù\u0005®\\Û¥PeáÀ\u00029³fªd\u0012Èªn\u0014\tÃ\u0014+Î\u00189.þxÅ¹\u0006²,3?·n¨\f",
      "Æ=\u000e\u001c",
      "8N\u0018\f",
      "\u0006}î¾õ¤qD\u001c",
      "¥ôCÒRÆÒê1Úí\n",
      "NyõK[\u001c",
      "=¼Æ`0 3r¹\u001c",
      "ÕºÅúÅ«\u0015\n",
      "¥2\u0012¦!\"2õÆ,{{{ä\u001c",
      "\n",
      "­ Ä\u0002ùB\u001d",
      "`\u000fGí!9K'u\f",
      "uÒe\u0002ª¢C\u001ac\u0018\u0006a\u0018\u0012Ä\tÁ`DXV\u001e",
      "Û\t°m8QU$ÉãñxçMzUYÆ2ttUáÚÕË~öÙiá4~\u0015Ã\b=÷àÒò!\f",
      "3(+\u0014ò%êY\u001c",
      "×C5-DEåö;_ÇÂò*Ý¡ÍØ\u000e¸ù;Éçë Xhf|¡¤èôz\u0003DQd¾9KÞ4èõ»ÄM­V#o5ètöp=zõ ùR\u0011Ï\u001d",
      "!\t\u0019aÐÇ´\u0014ìÀÁF½+[ø~H£Zc8\u001c",
      "Ó¨Í Ê\n",
      "/¾ø\"\u0012\u0002ïÿû)«×\u0013k{¸¤¨ JH¹\\¥VÁTs$QJÎÈ±²tj¥B¹XBÓ\u00154M£P®Ï\u0015\bã\bA\u0010e4M)\u0016ó(B\u001c",
      "§d¢@¯?D$ÒLÀq\u001c",
      "Æã1îx&¨²DàytZ-Úû»\f",
      "û=\u0003fgøÒç¿0UÊ4~\u0015ÃèÏ|éÔ\u000f}ï\u0007î~ùôËkW®n¢*¦c4tiÐhÌ¡y,«Ìó/¾ÄòÊ!fó\\º|\u0015Ï\u000f¢\u0010a\u0012\u0012ø>E«ahdQç\n",
      "¨×fQ\u001446é\u000eö@r¨W\u000ecÛ.¤-\u0014\n",
      " øÄYÂÅk\u0017)óì\\íðù?",
      "ïEÌ5Øö\u0018Ë4P\u0015(dÆ{.\u001d",
      "#KÁÌå8sæ,£ñ\u0018Ë²èt»Ê%ìár±@\u001a%¸®\u001fÆ´:m\u0004\u0001ìñ\bQØ\u001e",
      "p]or'³\u0018\n",
      "\u0007hnY(F¯?ü»(\u0003\u0019( Ë\u00129ÓBe %KSrA±C\u0016\u0004¢(4fo¯½ö¥/e÷õ×§aôÔ\u0003ÿÿ/~õþõ\u0017;qî¥\u000b",
      "ìô\u0002Î_ëÓjÉ\u000b",
      "yÄ|\u001d",
      "/ÍP\u0015\u000b",
      "ë/ j\u0002\u001d",
      "¦;êQ®\u0015©VÀ\u001d",
      "ïáºÄQ¦È´;»Øö,ËÈUe\u0000\u0019WØàòÖKhò\"¦¡ÐigÔÍÈWU6v7yòé/#DCfKy\u001c",
      "±'¢\u0016\u001b-D¦Õ\u001d",
      "QmT9tø ~`sñüó$K»»ÏÒò\n",
      "Q\u0002A¢\u0019&½n0ó¹¼·R10ë\u0016©\u001c",
      "2\u001c",
      "wI²\u0014AÒñü\u0011î.q\u0012 \u00192\u0018\u0004",
      "ÖÀ§Ýî\"È\u0002",
      "R\u000eE",
      "\u0004T\bÉ\u0004EÐT\u0015Q\u0010Ã\u00189\u0013Ð%\n",
      "S104\u0013IQ\n",
      "HSØ½¶3½N\n",
      "øÕáÌ¹sG6õFc8\u001c",
      "ó",
      "/~\tÇõ)çËØý1Oý)\u001e",
      "ýÊcä\f",
      "k\u001b´öv¹éØQL£D©<i'Þ\u0014ÆÌ<\u0010§¯§/°»½M\u0018ÌÎÎ²¸°ðÊòló\u0000ªbáØ!®\u0013³|à0¦^àóû\u0002 SkÔ©5\u001bôGCºÃ\u0001CÇFTd\u0004Edna\u001e",
      "Ç\u000eI#(H\u0018Ç\u0014\n",
      "9\u0004!¥\\4)\u00165¢ ÄPMÆÃÑ$\u0014Î2V\u000f\u001e",
      "4£T,R¯ÔÉi\u0006+K\u0018$\b¨¢&IHd]K\u0017¯\u0010\u0004!¢e\u0019a\t\u0010",
      "\t~\u0010$\t¢( I\u0012I\u001a1\u001e",
      "¯¿À\u0012\n",
      "",
      "YâtÌKgªe*àW\u000f|×ÿj¹T{¨ßíaìnï\"K&Ë\u000eóÂ3ÿöþ<ÈÒó¾ïC?ï¾ý^g\u001fÌ`!Á\u0005\u0000Iq\u0015\u0017¢4°ÖÔ¸T\u000eto\\I%¹®u]S²,1®H±\u0012WÊD,Ç²Ä²#R\"`Q\u0010\u0001s\u0003@\u0000$À\u00010\u000b",
      "0éé½Ï~Î»ïùãmdëê:$HJÏ÷F5ºgúL¿ßó<Ïïù.ÏsóMn^».+Ô¬\u001a¾ïsìÈ\u0011®¾|",
      "8.éôÖ°6^CV\n",
      "\u0014Y'/K$EAEÂ0Ä2LtÕ`:!K*£Ñ\bMVèöÖhwVh6éu×èµWyñ\u001b\u0017ðç\u0011·<Ãp2BRdtS#É\u0013\f",
      "Û\"JbÒ<#/KÖV±³³cWÆ\u0004ÇÒ1u8v1L\u0019]Ñpg3²¬2d4juövvq\u001c",
      "§ÚR\u0007!¡\u0017\u0012Ç1ÝvV£¦)È\"dieÖU,/\tãë3Lã\u0004YU\u0010D\u0014\tUQt\u0005UA¬® \f",
      "Sc28}ö(ÿæ\u000f?µ`ËÀß\u0019üó_ÿ\u000f|îGÏ\teÔ\u0006oyë}üÑ£ÿë×6¸ãÎ7Ð[Záìíw\u0012§)^´ÈØ\u001f\u001d",
      "\u0010¥\u0019¦e!\"v­ix¡(Ë\u0014Eexs·Ê\n",
      "\u0002 B(KB/¤Ñh°´¼ÊÜ\n",
      "I£k'\bÝÍ-\u001d",
      "9B\u001c",
      "\u0006\u0014tZM\u0000lÃd<¬D\u0014y!\t\u0002©Q¯×¸±q\n",
      "S7¢\bUUD\u0005\u0011ååe\u0014E!ò\u0003LÍdww¥Þ\n",
      "Ñ2Ï\bÂîò\u0012Û»»ÈªÂp<Â°-4SÃ®YDIJ½Ñ\"Lª\u0001W½Þ$ÍKÊ²$IR$\"Ë\u0012Ò4%ËêjB\u0016\u0015±l#2Ûç~ýú{\u000b",
      "YåÀß~¬¬\u001fç\u001fº\u001fÓ°QeN³ÃÎö\u0001O?ûuÝv\u001bV½fÙL{©\u001b\u0005Ìáxª¸Þ$OPT\u0011UWÉ4\bùt¡i$aï",
      "t:=JADÑ5F\u001d",
      "I¸±y¼(XZYf>Wo\u0002Þ­Ý´-$A@\u00158&\u000e\u0013Ä¼ÄP\n",
      "B?\"É\u0003N>ãX\\~ù\u0012I\u0011E\u0019lg2ç±¶ºiÚìí\u001d",
      "¥\u0005;;;Ø¶",
      "®ëèÅÈ!¨2×wvp:-¿xÉ\b7\u0010D\u0011\u0010¢Êå¤ª*SM§}×#\f",
      "C$¡ ¯T\\E(\b¢H%t{5¼YÄRg?üÜ¿^\u0017Sèo?>ù¯>ýìßýïþö½ß8ÿô\u0019×\u0011",
      "\u0005Ãáf·\u0017Gôûû¬¬­pö®;xáâe$YÅuç\u001c",
      "]? \u0014L§SlËD$²4¥(rf³\u0019i1\u001c",
      "ì£è\u0006õF\u0013Q,\u0011\u0004N{ È¨êêõ\u0003Zí\u000euÇ!#.\\xç_¼ª\u001b(Re\t¬5\u001aAD»ÝÁõ=lÓÆó|<AUtÓæ\u001b[\u0014%\u0004ªª\b¥HYT.¡Z£AIÉ|>'\b\u0002,¥V¯¡\u0019:Ibè\u0006¦m²¼²Bå\u001c",
      "ôG\u0014%¦ëzy\u001f\u0004\u0004A@Í²nÓ<EW5tÝ@*\u0011(Té\u001c",
      "Y^\u00001³ILY ¤gî»÷î½K/m.¦Ñ\u0015øÛåõ\u0013\u000f)ªn¨DQ\u0017DÌÜ)W®\\ág¡Y«³·½,ÈH\b\u00199y(Hâ(Jðý\u0010Ï\u000b",
      "e\"-QU\u001d",
      "»n3LÐ4\n",
      "Ý4\u0015\u0015\u00040\f",
      "ºsã\u0001mcY\u000e®\u0017áÔÜ¸¹C h\u001f'xQÓn3\t\\Ü0b0ÒìöØÞ\u001d",
      "²¹µÏõ\u001b[¹ýv¢8ÅBâ4ÂæØõ\u001aI1Í¨7´»]4C§V«áy\u001e",
      "óù\u001c",
      "E±\f",
      "í;ìï\u001c",
      "ÐntY[Y#sövwñ}·²Sj:º\"#K\u0002¦®S«ÛM$IB\u0015DQD\u0010'dYV­ÚqF¯ÛAFe6\n",
      "yâñÇ?ñwþ?ÿÙb+½ ð·\u0017÷¼ç\u0003\u000fz÷pQ\u0014(iÕCè\u0007,u{ìïî\u0011Ì]V{«¼ôâEî¼í\u000e\u000ev\u000e0TF½É|>'R(\u0005LÕBT8\u0007À4MÆÉ­ÿÞë\u001f0óÜC÷¦\u001a\"ëÄQNQÊ\u0014¥H^¨¦ÉØs0\u001a0õ]¦Ï^ÀÍ½=¢,guõ$ýÁ\u0002",
      "$Î¸í¶ÛX]_&=¢Øeî¹²åÔÍf\u0014EA¥DI]sÈ¢\u0004$0\u0014ùxÊd8ÁPm;ËäyN«Ù$Ë\u0012\u0014E¢ÕlRd9EQf9­V«ÊÂJ2²,£(\n",
      "\u0004A@\u0010$Ê²d>\u0011Gsê5\u001b]©¡Ê\u0002¿ÿÐo~âÙ¯=º ñb\u000b",
      "ýíÅ±£K?%ò(",
      "¨Iý\b»æ0÷bÞrÏ}L]\u0017?\u000eÑl\u001d",
      "AXî,áº3²<EÖTTU£Vo¢)*®7#Í%dMF\u00102TIg2Q\u0005(b\u001a\u000efe\u0019ÝNÝ½-&ã!O|å+daR",
      "Í©\n",
      "(#\u00025Û!K3öv\u0007<y\u001b£áv³MeLf\u0013dUBSE$f©ÝAÈKr¡\u0004¡Ä2\n",
      "$I$b$Q\"3(\u0005lË BDI¢Þl Ê\u0012²\"1\u001c",
      "\u001e",
      " +\"i.Òë-ÓmwHÓ\u0004UQ5½Ý\u001d",
      "ÎÞ~;¨1\u001c",
      "\u000e\u0004Q\u0016É\f",
      "MS\u0000«n!k6£é0\u000f\n",
      "\tË©3\u001c",
      "F¼tùpåÍ",
      "Ù±\u0002ûÐn¶ÙÝÝÅ²LTµR<­®¯0ÍP\u0014",
      "áxÂ¥K/1LªR/A<\u001c",
      "ìh¨ªJçØ(Ê\u0004qa\u0018¢HfÕôY\u0010h5;\u0014E¥\u001bèºfèºI\u0015HDgHpØv\u0010!i\u0016£ë:i¢i\u001aëëkø®e\u0019lïîàú\u001e",
      "®ëÞ@÷z=Â8BdTY¥f×H0\u000e¯Òª*Õ:|óèV¶Á\u001d",
      "\u001c",
      "ÇÁ²,\u0004A@\u0014«_ïÍ7ð<F£AeTtm+W®\u0010ø\u0011½î*««GÈ¢\u001c",
      "Y«Ð?Q#ò\u0013ÊR V«¡\u0012i «\u001a+Ý\u000e_}üñsùÔÿ¾X",
      "\u0017\u0004þöÁ®×)\u0010©×«»Ðm \"¶Sçü\u000b",
      "ÏóÄ\u0013OpáÂ\u0005­\u001fABb60{ø^H£ÞÄÐ-@D\u0010\u0004\f",
      "Ã¢\u0014$LÍDU¦ã\tyc\u0018\u0006E£ë\u0006º¢#*²¬\u0012%\u0019i^P\n",
      "\u0012EY\"+\u001aÈ\u0012I\u001c",
      "#ReQ\u001d",
      "ìícÛ6Q\u0014\u0015)¥\u0000Óù7oç9º®\u0013Å)¢(cY\u0015\u0011(&ÏKò¼$Ms´d<Q\u0014 \b\u0012º®3LÐu\u001d",
      "UU9þ<¾\u001fpÇ\u001d",
      "wâû\u0001\"%çãz3Í&KKKdIªè¦ïìïï\t¶]#sÒ0§Uo¡:q\u0018¡ª:¢F1çÓj4Y]ê%Ñb*½ ð·\u000f\u001f \u0019:®ï\u0011ø\u001e",
      "¦ibY\u000e¯ÜÄ°\u001c",
      "Î¿ð\u0002\u0007\u0001fpíÚ5êN~¿ÏÌsÑu¢(È\u0014J\u0011EQ\u000eûl\u001c",
      "§F\u0018Æ\u0004®G\u001c",
      "¥$*äy$)\bDQBY\b(ªN¤X\u001a²ª\u0000\u0005­VN§ª\u0019ß£(\u001aFV·ªë\u0014ø¾$IÌçs¢8,&ï§\u0019\"¬ÒlwAºsöööp}Z£¬*h¬ªô\u00036··Ð\f",
      "\u001d",
      "U+\u0007ÕtÊÎÎ\u0016$£ª*Ig%Y\u0012 )\u0012Á\u0001\u0002\u0005uÛF\u0014\u0004ý\u0001¦cÛ5æS\u0017MÑi5Ú$AÈèà\u0000SWøÕÿñã\u000b",
      "\u0006-\büí +\u0014@\u0018DÈ®jF#NXG\u0014Eö\u000e<N>ÍÃøHRE¤0\u0011\u0004\u0001×u\u0019F¢H\u001aW;Ó4\u0011E\u0019EQ0\f",
      "á¹çQUCB\u0014E\u0003¤ñxUsãÙ|NDæ¤YA\u0010Æ$IÆæÎ.¥eFÓ\t;û{8yîR\u000fEQ\u00008\f",
      "AÏ«òpQU\u0005×\u000fÙÜÜ\"\b\u0002\u0014QáÄ\u0013@\u0015¦\u0019ãpúôi$co¯ÊÎ²\u0004Ë2ètZ#®_¿NY$IL&\u0013ò\"Áv\f",
      "tM\"E7T4M\"Mc,F\u0010JºÈ²L\u0018ôz=4MCdúý½sÿð\u0017ÿîb\u001b½\u0018b}{ð¾÷¿û§xâé3¶å`&Qä\u0011Ç\u0005ªªâù\u0001%\tA\u00141Ï¹ë®»PU\u0015Ã2ã\bQ,+°L,¯úLÛ¬òó²ÌØÛÝÆ0M\u0014M¯\u0006c®K\u001aGÌ¦\u0013F!ËK=zê)yæëäEnÈÌú£\f",
      "S\tiV \u001a&YY°ßï#È\"KË+x(ôzK¨Â ªjÈ@QÂd>gîyøAÀñcÇ0\n",
      "\n",
      "ÓÐ°m$IªÞßé\u0014UÕ¢\bIð½\u0010A(\u0000h5\u001a¢@\u001c",
      "\u001fª®â\u0014Ç²)ò<O1M\u0003Ê\u0002I\u0012\u0004IH³4ÉÒå%dEÅó<DQDÕ«\u0012µk\u001b7",
      "½ÑbµX_;Þzï[( Z1u\u000b",
      "ò\u0012UV\u0010ÊÿÚé-³·7Æ\u000fC¾øÅ/a9\u000eÓé ¨Ú\u001bD\u0011¦Ó1Óé²ÌI(\t\tB\u001fÕPIóáx¢«a L'C|o\u000eeÊd:âé§¦(\n",
      "@@Q\u0014Ò¬ Þh%y)â\u0005\u0011\u0017.½D^deÉ\n",
      "ú\u0001½^v»M\u001c",
      "ÇHiÚ\u0000¤ya\u001b4M\u001a\u0006ív\u001bË0Pe\u0005w<¥(\n",
      "n¿ývjµ\u001aÁ \bªk¯Ñ4M«nã¢d8\u001c",
      "\"I\u0012N\u001bUªVwEQÐ\u0015\u001d",
      "C5ª²t?$ÍK¢¤`0d \n",
      "%QàãyÕ ­(\n",
      "dU!J2LÇ¦póÜïý«EÒÀß\u0006\u001c",
      "=vâ!ÓP¢ùÜ»Õºà8\u000eõz(Uð¼\u0018/ðÙÛÛãòåË \u0000$aDÄ\u0004Çl6«$EAe\u0014E¨ôG}4Maî¹fù\u0004I\u0012h·ô÷\u000fxåêU$IÂ²ª»dYñ<Ñd ÊH²ÂAH^\n",
      "\u0000\f",
      "\u0006\u0003dE!NÓjÀe¶iÚØõ\u001aÅ¡«h{o$\u0019\u0006Ôk6µÍ|>çúõë´ÛmÞó÷pppiØ<y\u0012A\u0010ª©öR\u0007Û1\u0001*UW­F½^'*³C\u001c",
      "e\u000b",
      "(ÎþÁ\u0010Ý0©7ÚDYQù ËìP\u0007\u001e",
      " Ê\u0012~\u0018V9ZeAÆü³öàbµ ðkÇ?ô£\u000fªþpyäbD.ieVÓ\u0012\u000fI(qt,,-Ø;ØçW®Ó?E%y. \b\u0002³ùýý]ö÷÷\u0011Äê¼\u0017\u0012KUR7\"Î%\u0011/\u000e\u0010%\n",
      "J\u0019Copãê6ãa©ÛHbÕ\"è\u0007Õ½qÝvÐT¥¥\u0015êN\u0003UÕ1T½\u001d",
      "\u0017I\u0019'DQD\u0018¸~µÒÍ\\ñ8@-Üñ\u001c",
      "1ÍQÊ\u0012M\u0015¹±y\u0015Á\u0000SV)7n0\u0018\f",
      "è.uØ\u001d",
      "ì°?éSh\"q`Ù54Õ Ï\u000b",
      "â8a< j\n",
      "º¡°5î£ÖmFÞ4Mpl\u0003AHq\u001c",
      "\tMQT\u0013Ã©cÚ\u001aQ\u001a\u0017)Q\u001aâû>ºfqùÒSçÎíüb\u0015^\u0010øµ£Ñ¨e\u0019Óé\u001c",
      "Í0i6[\\¹r",
      "W\u0015ZA\u0010`Û\n",
      "£ñg}\u0016EQxùåÙÚÝ¡8\\¡&\tswF\u0010T\u001d",
      "D¯¦6\u001aº",
      "elÝÜ$pçIakq@Qä¼pñ\u0005d\u0005Ò<!N\u00022RtÍÄ²¬êÜeÃ1\u001d",
      "]¯bo\u001c",
      "i3Î\u0018\n",
      "hm[\u0014YÎh4b\u001fQ\u0014\u0019\u000e¦I«Õ\"IÊêg\u0018lllü;÷¾É­­-¦Ó)ívºã0\u001c",
      "\u000e«ò«wÚEm·¶ÃË\u001e",
      "áÜ£×j#Ð°ë¨*É4j5Æ³é\f",
      "ì\u0000U\u0011\u0004åÞ\u0012u»e¤)L¦Å*ü\u0017\u0000ùõö¼ S\u001c",
      "G'Ë2ÆÃ\u0011\u0014\u0002,ãy.¶mR«5ØÚÝf÷`SÇO±¹µÃã#(E\u000eú{\f",
      "C:\u000ei\u00121\u001aU",
      "ÜYZPæ9j°¿¿Õ¨¡Y \u001b2º¥\u0013§\u0011Û\u001bhHÅd¥PL§)W¯¾ÂöÞ.F\u000b",
      "Y\u0016Éò<KP\u0015\tY\u0012é¶_3&(RUPf&§N`ê¹ø®mè²(TwÑq,§3J\u0001,Ë¢?\u001c",
      "\u0011!õzR\u0010O'¬®¯aÉ\u0002e!0\u0018T%jeYÞKÎf3Ö4\u000b",
      "[7p'3VV¢ÑpH\u0014Ç8:q\u001c",
      "V/KÚí.å\u001015Û¦n7\bâ9û{[\u000b",
      "6-VàoÃ\n",
      "Ü¬\u0013Æ\u0011¢T\u000fjQRæ9µZn»C\u001c",
      "Ç\f",
      "\u0006\u00078Éh4`\u001fÏóð}Ë/]ägag{,ËPDéù=\b\u0002â8Æ0\f",
      "\u0002ÏgÔ\u001f àù!V©ë!\b\u0012 \u001c",
      ",\u0004Ò4GU5¼ BÓ\f",
      "F£\u0011óC=³®kÈPTzëåÞ\u0012½N\u0017UUYêviµZ¸óêçN§@A­nÓl6o­¤$1è\u000f\u0011",
      "ª\n",
      "¥V«U\u0019W¢Èöæ>iÐjµ\u000e½¿Iåp**³~¯×£ÛíÞRILg°È±ì\u001aÍN\u001bË²\u000e\u001b\u000fuÒ$!bêN\n",
      "]Õ\b¡\u0004I¹tá¹\u0005\u0016\u0004~í¸ý®»HS¢\bÇqð}áÐ'\b\u0002t]Ç±mæó\u0014Û4è´Zìlo\u0012",
      ">Óñ\u001b¯\\ãæõ\u001b\u001c",
      "\u001c",
      "\u001c",
      "àÎç¨ª¢($IÂÜsÉ\u0011°\u001c",
      "4Ï¸~ý\u0015\"Ã\u000f\u0012\u0004d<7R\"s\u0014E¥,Dò¼DVUæ¦i¢®«$iD\u001c",
      "È¦Êxþù|,Ë\u0004QÄÞî~59ïtÐ\n",
      "\u0015Q¢(ðæ3²$¡Ûí²¶z\u0004?\n",
      "ÙØªê]²$%MSÒ8áøÑ\u0015v¶¶°,8q\u001c",
      "\u0007Y\u0010)Ë\u0012Ë²¢ñpÄp2&LbZÝ\u000eÃé7')Jf~i9\u0000äyNY\n",
      "¬­­!%Û77QD\tò8ôÑ\u0015\u0017_üúM\u000b",
      "\u0002¿v¨ª\u0001mX¨¬©8µªªL&\u0013N<ÎÊ²Ãp0Â2t\u001c",
      "CÇ$\u0006û{xÓy%Ê\u0018\f",
      "ÙÞÞ&I²[\u0001ça\u0018\u0011\u0011\u0005\"¦2\u0019úä\u0019ø~HYa®\u001a4jM4EÁÒ\n",
      "ëÎè÷eëÎ(ó2/¨;5$E$ÉbdYÆ05\\×e6!*2I1Mh·ÛØ¶}(ÈhS¯×ÅªËHÓ4Ò4åòåËØ¶M\u001aWäîõºÄaÈöö6y\u0012ú>ITgfÃ¤Q«\u0013!Y#\"Q\u0012&1QV4×ewgÀ\n",
      "\u0010\n",
      "\u0001E¨Õj\u0012Lgcê\n",
      "\u0007Qºe³³suÁ¦\u0005_;BÏC\u0016AUU²$EV\u0015ì¢ªpÃ08sê4kË]tUåÈÒ\u0012½V<E\u0004À\u000b",
      "Ù¼¹ÍÆÆM¢CáÇÌu¹sü0 +\u000b",
      ",æúÖ\u0006ñ4(²\"Oiµkèº¡UB(\n",
      "°lfÓ¡Ñ¨¡(\n",
      "²\\ÝóN§sêõz¥O.R¦³\u0019iQP\"Ê\u0012e$\t5Ë&\n",
      "}â0¬ÎùIRÙ\u001fã\u0014Ó´$",
      "¥¥%Æã1'OÄw]ò4ÃÔ\n",
      "Üé\u0015LÓDet]gww÷°JÔ¤Ój#J\u0002äÕqÃ1-(J®\u001c",
      "ÁRM ÁÐª¢ÙdJY8q\f",
      "§á È\u0002R)ÕfóÑ¹ó_{r1^\u0010øµ¡V¯!Ë\u0012£Á\u0010¡\u0004Ý4«k <§^¯')B\t¶i%\tª$Q·m\f",
      "UÃÐtT¹ëÇ\u0013^~ùe\u0000F£\u0011Óé<ÏIòélF\u0010Gô\u0007\u0003¶wnRáû\u001e",
      "\u00045Û\"K\"d±\u00002J¡\u001a\u001c",
      "iB­V£V«|½¦aÛ67oÞ¤ßï#\b\u0002¥\u001e",
      "VÍ!-r,Ã\u000b",
      "\u0002\u001c",
      "Ç!Ë*½eUª+ß÷oMË¨Zý«\u001d",
      "@\u0015sòäIÂ0¼ÕÎà\u001f®¾³Ù\f",
      "YHýý}4M#\u0013Â¹(\b¬¯­1\u001biÚu¼ñ\u0014CRp:!>F ¨ú:\u0016YÐnÖ±\f",
      "\u0013IÁþþb\u0012½ ðkÃÙ³o$\bsÌfyì\u0012û\u0001\u001bdIÎl2a6\u0016)~\u0018Q\u0006Tm]»]å¥:²T\u0012\u0001BYðòË/1\u0007Ìç\u001e",
      "$\u0019ãý=\u0002oJ\u0018ùh7òÙÚÞeo¿Ïl6C7T\u0010\u0012\n",
      "úã\tÙfg»ÏÒò\u001aµFÉlªË¨ºÆÍÍ\u001d",
      "²L&\u0015F£ÀË¨V³\"0e¸÷®3\u0014O«Y#B¢$Ær\u001c",
      "dUEe8!OctS£\u0010d\u0004Yã¥«×Ñ4\u001d",
      "C±e\u0011S1(â<)ÑUÉÔÃ0\u001d",
      "Ü0f8ã¥\"f«ËxRÝWwºu2Æª\u001b\u0014RI§äe¤)DynÄY¥ýv,ë\u0012F9è°7xyÁ¨\u0005_\u001b¶v¶ÐuõÖ[PbÛ\u0016ãæ9åáuMeP\u0014X5çÖ¤UEÖWVèuZ\f",
      "û\u00074ê\u000eÞÜ'ô#$IÁóBæ³²(\n",
      "8®bg¶¶¶ð}\u001fÛ6\u0011E$É\u0010\u0004©Zë\u000e_{æ\u0002\u0007û#\f",
      "Ãfuõ\b\u001baè\u000ea\u0018ã8\u0016ÍV\u001d",
      "Û¶Éó(ÐTV«Ui³êóªªÒï\u000fh6hF$\u0018º$Iª±\bMÓè´ÚìîîcY\u000eºi¡[:Y£j\u0012½å.Y\u0016ázSî8{\u0012C«0ø2ÇóæÌf\u0013â8®\\YEªUu¦ª*#Ë\"ªZ)Ë\f",
      "ÃB,!RòCõXà»¤qº`ÔÀ¯\n",
      "\"S%Q\u0014áy\u001e",
      "E£êZU\u0019êû·\u0017\u0005¡$I\"&1®;c<\u001d",
      "UgdóÐ$`\u0019E7âÍæ\u0017ÄiÎÜ\u000b",
      "É\n",
      "\u0001D\u0015D8\u0019ôû\u0014EVmIÓ\u0002A°mçPÊÙ¦Óiç%ý1Û[ûh(JL§3ÂÈ§V3A(HÓF£A\u001c",
      "§ìîî3\u001aN\u0010\u0011Ã,É\u000eËÔ¦\u0014YN\u001aÇ\u0014Y ºÎR¯ªÊÄIÈt:Å4-6óÐ'\u0013r¬z\u0002MQU\u0011I.YZnÅ>ãþ>­f ôP\n",
      "¼,ªbpQ Í\u0013$E\u0004©`çy\"J¨²¦è\u0014YJ»Þ¤fÙ<üÙ\u0016Z\u0010øµ!S</­­Í[zà(\u0010$\u0011/¨J½\u0014E¢,ª\f",
      "(?\n",
      "q,\u001bI\u0012(óåå%\f",
      "U!O\u0013|oJàÏÍ'\"Õä6ËnånHL§S¢ÐG,!LR0!/\u0005Ò<#\f",
      "\u0003,Ë¼%NÇH@\u001c",
      "\u0007H\u0012t:M²¼úy\u0001FÃ1¾ïW»¢ MóJ~Yÿû_áð\\mY\u0016e \u001b*$¥1IP¯×ÎfÌ}ñd\u0006T©À\u000e\u000eõz804\u0015U¤Ú²[:o|ã\u001b\u0019\u000eDi KLÝ9m`:&¶m\"!')ó©ç\u0005¤iI½V\u0011¿Õlòô_;wþÙg\u0017¬\u0005¿uÜwï=èº@£Ñ`<\u001e",
      "3\u001aª&>?@7-¦Ó)Óé´º\u0013vªHÞ\u0012a\u0018\"\t¼`ye\tYðæ#ò\"b<\u001e",
      "PR\u0010D\u001e",
      "Y i\u0012²\f",
      "å'iåÑU\u0014DAÁs#\\/@Óu¦Ó1ýþþ¡) A\u0010KÐ£V71L\u0005QâpHUý\u0019ãñ\u0018]×Y^^Æ4M$¤Cs\u000fYVé÷ûøaX53x\u001e",
      "ùaHû«wÈºª\u0010>ûûûÄIªj(ç",
      "hI\u0014¦ä)4km\"¿R-÷üJ¨Ro4ª|,I¢^¯ÊÀ_CeÍLÓ4­ä¥¢T9REQÄ¶5\u0002/X°jAào\u001d",
      "qÜJ¨&½\u000e$#Ë*SCRT,ÓÁ0\f",
      ",Ã¤n×'È¢Tµ/øþ­<)UUñB\u000f(­¬",
      "i\u0016#K\u0002¡\"\u0019B.¢Ê\n",
      "PÞº\u000b",
      "ÎÒÃø<A\u0005ju\u001bMW\bÃJ!¦ª2¡ãÔÌÊÊe¤i$I\u0018ã8Ç0\tIó$M)% I1,Ñd(+¤i¡WúiMQ°,\u0013ß÷0lZ³NÍvP$V½Àx8Á{Ìg\u001e",
      "ºnÒl6)×®oÐ[©Þ8â(À0\f",
      "4M«^¿\u001fÆ\u0019 V3\u0003CEÓuÜ(À°-\u0004\tê5ûáw¾ï=\u001e",
      "á\u0005¿u\u001c",
      "Y?Rµ\u000eø>Ãá\u0010Ûª$\u0019q±¿×ÇuCÒ4cw{ýý}j,*È®èÕÚ÷%åð\f",
      "\n",
      "aP\u0012q¡©UF$ÈhL\u0018\u0004È²(\n",
      "DQÄÁþ8ËIÒñx\"k\u00149¸óÓÄ±ë¢Ìt:C×LºÝ%ò<?ô\u0000W÷¾¦©c\u0018\u001ai\u001a\u0011\u0004\u001e",
      "óùk\u001b7¨5ê\f",
      "Ç#ÆÓ9A\u0010áû!nW!ìYv+W«ÛíÒétÈó\u001c",
      "ÛÔÉ°-(ôPe,KÙÚ¾ªÊ<y\u0012×õnw~ã8èºÎà`\u000f\t\t]ÑÉÒª±!Ë2T]!J\u0012üÈ'\u0017\u000b",
      "æO)\bÄyvîÙ'Zl¡\u0017\u0004þÖ¡k\u001ayWÛÁCÏ«ëú¥Àp8%I+qG~¨öf\u001e",
      "y\"b\u0015à®\u001a8N­2¼k*¨2s\u0003B Í*ì®\u0010É²\u001c",
      "MÑ1t\u000b",
      "I:TEé\n",
      "i\n",
      "òæÃp<ÙÌ#KK\\`0\u00183\u001c",
      "LÉ²á¡\u0001¡Õê \"Óé\u0014I¨×ë\u0004¡wK)åÔkÌçS\u0014M£ÝíÒï\u000f\u0015\n",
      "YÑãé´*î6M,O0L\n",
      "?p\t\u0000ÇVÙdP¦,-wä\u0012QÙtï",
      "¦ÍÖÖ\u000eIQ¯5ãµµ5TUåàà òEçÜr=\u0019AÅ\u0004¨ÈM&U\u0010|¾D/\bü\u001a\u0010e\u0019QS¯u)\u000b",
      "étN\u0012&äimU\u0013æ²,©µÚì&\u0002\u0004ilØÔ:-¦ñ\f",
      "?\u000f«a^CU\u0004Ê,¤aiU%/ÌJHN@£ù,BÕE\u0010K \"\u000b",
      "Dö÷úØV­\u001a`ÍÆyÁro\t\tºÓb>\tÂ\u0014§^'É2,Ûd:3\u0005hf\n",
      "\u0005$(Ó\f",
      "S\u0014\u0011âåf\u000fµTÐÐ)â`îRw\u001c",
      "Ê<¥^w\u0010Ä\u001c",
      "Uð¼)e¡PJ*¦ã\t£Ù\u0014E×°j\u0016(rc¼ù\u001c",
      "?q$Lñý\bU·é\u000f\u000f°,¬\u0010\t¢\\ñ¹\u001bQd\u0002Ëí\u0015\u001af\n",
      "9\u0013Ð\u0005ÀóÉòäáw¼g±",
      "^\u0010ø5À²­LÓ \f",
      "C$I ÏsºË]Úª!p:­²Ç!I0Íp\u001c",
      "ñpD\u0014¨²\u0002@­ÝDPÔÃ-e\u0012\u0011Y\u0011äê¬ìú\u001e",
      "I \u00149\\ý¿ \b\u000eÁÊ[]»²,3NQ5Z­F\u0010\u0004\f",
      "\u0006\u0003LKÇq\u001c",
      "Z­\u0016¢(2Îèt:,//ã8\u000e^ÕJ$3Íi4\u001aF£CcAjh4Û\n",
      "\u0002ÏÃÒ\n",
      "Ò BW54YAuVV¡\u0010ØÝßÃ0,¼ Â°,ü0Æ0«*,ËÐd¥v\u000b",
      "",
      "\u0002Û©[\u001aq4#\tB\u0002ßGÕDd\u0005ê\n",
      "\u000b",
      "ÃÖ1\u001d",
      "\u0003Q.1,\u0015§n\"P9°*ÓDyîë_þòÊV\u000b",
      "\u0002ËxÇ}ï|pi¹û°ëN\bãzÝ!Ïsúý~Õ¡Ûu8rä\bÝ^õõuæËþþ>­F\u0003\u0005,L\t¹ë3òfhºÉòÊ\u001ae\tQ Ë2¥Pç)3w,ËäyN!\u001fÄYF^ªÊ$I\u0001BÁ#«hJ\u0010ø\u001c",
      ";¾ÎÊê\u0012º®²´Ô½5åÍó(Qd\u0015Ó4«)r²ºv\u0004EÕQTéÌ%cd­êóí\u000e0õ*Ønee",
      "N«Ål:%c\u0014QÁP\n",
      "|?$/a6cÚ6¢(\u0012&1\b\u0002",
      "\u0000³1¶ªâ2I8G2ÖW+ítoH\u0014\u0005¡(\u0002BF)f¸Ç<áÅþ-Û¤a\u0018Xúð½ï}ïÞV\u000b",
      "\u0002¿&ôz=ü¨À´t²²@\u0010J\f",
      "£\n",
      "y÷}[[\f",
      "\u0006Õùóäé\u0013´º\u001d",
      "È\u0005HKjµ\u0006¾ï\u0013f\t[{»,--\u0013Æ\tûo\u0000TÙúT]!I\"4¢,Kf³\u0019É\u0014JáP UÀÞp8 \f",
      "C\u0014EÂóªF¥¥%\u0006\u0001¾_EÓ¼:õÎ²¬,ð\u000e\u0007CaÝ2 aH£YC×UÐ#Ë\u0013¼8ääm§ñ#ÍÝ\u001d",
      "4ÝDÓMÆÓ9y) «Zu¶VTf³\u0019V«*'×4ò² O\u000b",
      "öö\u000eª{mK#É«)·¢YÔ=\u0014EC\u0010$,%+ò[zð N\b*eäOF\u0005£\u0016\u0004~íèöV(\n",
      "h6¤iJ\u001c",
      "§\bbUX­\u001b\u0016SG\u0015¶wöª@9Y&N\u0013&3\u0017EÑ°,þÁ\u0010\u000e\u000b",
      "¾\u0006\u0001óù\u001c",
      "]×+ÑF\u0014¤\u0011é \b(Ëª-Áõ*ÿ¯,ËÄQeéÄUpÝÊ ªUÎd2AeÒ4%ª¬Õa¿ÀÍMLÓd22\u001c",
      "\u000eÙØÚ$cZí\u0006¢\u001e",
      "^9\tèºJgyïqéÊUÚ½.ªeðÂåx Ud¨\u0006da0\u0018\f",
      "X]]%¢CÒÖ\t£\f",
      "ÃrhvzÆ\u0013ö\u0006c$Õ¤»|\u0004Mµ0\u001a¾\u0017&%I\u0006²¤#\n",
      "Õ/ÏsÒ4åà`ÀÊJoÁ¨\u0005_;N:¦\f",
      "F\u0013</ c\u0004ABUuâ8­\u0012+ý\bA\u0010Ù¼¹Í|>G3MDYæ ? Öh\u0012\tª(qõêUÒ8¦î8\bÀöæ\u0016²¬B!0yUxÝtNQèD\u0018%$Yª)U\u0011$¡ª\u001a$T-\u000eeY]CI:Ê¶m:\u000eíVápÈõë\u001bLfSæÏ|^ÕaÈÚÚ\u001a²(áX6aV\"\u000fI¢Ùî°³·G»ÛÁ²k¼üòË\u0014EÁêê*IÐª7p]\u0017C«º\u001c",
      "Ë\u0002 /RDJ¬",
      "]³ªh\u001e",
      "Ó!+D¦Ó9eYí4£)%ÒáL*©HH\u0014¹p«;©ºn+øá\u001fþ±\u0005£\u0016\u0004~íhÖ»\bHÿ`L\bTõ\u0004\u0012e\t\u0002\u0012I^Ði/sçg9zô(qP*\u0012SÏg>ó8²¶7±¿»Kx(îØÞÜ¬\u001e",
      "î¼E6\u001b\n",
      "Ò4Çu}4Õ@SM\\¤Ì@Uu²¤$Mr|ß?ì7*È³ês 1¹L&\u0013ÒÃ;Ö½½=&ÙlÆææ&ÁaãÃ±cG¨×l\u0002Ïçø£Ôm\u0007¡(iÖDnÈl8ÅR\n",
      "¼én£ÅÙ§ñgSÚ-Úí&( (\u0012$!+\"²\u0000y \u0002¶E£nÆ\u0011yÑ®7ÐD\u0019w2ÁTåªwÉ¨\"u4MÁ¶M²@$ÈòJw\u001e",
      "&t:\u001d",
      "~à\u0007¾oÁ¨\u0005_;\\7x(s,ËFeÍ\u0016\u0000Y^ñuÓ$ð#\\×E\u0015¢8F\u0015\u0006£\ta0\u0018\n",
      "'\u0014IÊòò2q\u001c",
      "3N¹qã\u0006BQ²¹¹Éþî\u0001Uc\u001fEÑ(E¹çÒh·@\u0010\bü\bM«&ÚE\u000e²¤`Û6Ýn¯*ÓNª{hSÓ\u000f«[\f",
      "î¾ûn\u001d",
      "ë\u0011!¦!Ë2ÝN\u000b",
      "õpÊ}òø1<ç`\u001fS¯¢rn\\¹L«ÖÄRu:&2\u0002³ÑÔ\u000fQd¹RwV\u0015\b\u0017(²mÛe\"\u0017\u001c",
      "=²Ìr§ÃþÖ\u000e±\u0017°Úë¢\b\u0005¡S`Û&¦©\u0003Õ÷ÆI¦HèÃ·Wï®UU_¸\u0019¾Ë^/êË_þâ³vóÞþðL«Õ`2e)e\u0013\u0004\t¢é\u001aYA\f",
      "",
      "T\u0019\u0017cê\u000eE\u0016\u0011¢\"\u00179ÃÑ\u0000MSóîR4ØÙÝD$ey¥ÇÎö.ã±G\u001c",
      "\u0004H¢@g¨\u000e(ª$\tÈ\u0012´Zµª) \u0014HD\u0001ÛvGÜÜ¸Á|2¢ÛlR·,Ú5#+KLÇ\u0013º.²¢°w°\u0017DdeÁW®b×EÖ-SH%~\u001c",
      "\u0010Ä1a3L\u0005\u0001ÇN¬3÷f\u0014y\"ïÍiuÚDqB)ËÈëF´Vú\u0001#w È\u0014@©\bD±O«Ód0: /3 §ÄB\n",
      "Q@I\"fþ÷ÿÀ<üÃýÿý·\u0017Z¬Àß\u0016¬¯\u001d",
      "AUÕ*g¹ø2²fÓ¡,KÒ´j!Ô4ñhÊh4ÆWÉ\u0015yQ\u0014Uï®®Wiyc&µZ\"Ë\u0019\f",
      "\u0006F#Hä°º\u0004\u0004[Æ0\f",
      "\u0014Q\u0014h6ëhÆÁÁ Êf®5ªwÐC[c\u0014\u0007¸®ËÒÒ\u0012\u0014\u0005o~óÝÜ~ûí\f",
      "G3$Yg4Ó\u001fLðü\u0018Ï\u000fÙÛïc6GÖOpýÚ&ª¤\u0012¸\u0011»;\u0007È¢L\u001açLÇsÜ©®è$QJÃiÐª·(s8º~Ð\n",
      "ñÜ´ÈÙ?¨$ YV0U­\u0013e! KzeT-(e¸ r\u0004*ãFZäDYÎOþÌÏ,Vß¿\u0000È¯×\u0017ö·¼^ºLQd¤i¦ÙXE\u0010\u0004Èb¢©;§H3\f",
      "Ã`ooõµ5j5\u0013Û©JÂöw÷ñÂ\u0000Yª&Ò¡\u0017\u0012E\t\u0017b\u0019ö­¡T¤¬®®à{\u0011ó¹GÆ¢ÀÒr8®¶Äº¦Uqs\u001f\u001c",
      "\u0012<I\bËÐ¹÷­of:\u001e",
      "³rú$óéý]ò¼\n",
      "\u0006ÈZ­F8@*Q$\u000b",
      "\u001c",
      "ìõYê.C!\u0012x\u0001«K«¤QJå,uðgóªXÕpg\u001e",
      "ËËË¨ªL\u001aÅ,õzÄqL£Ñbwï\u0002\u0011§Ö`:\" UwÈqA",
      "4WW)~¿O«Ù&MS&\u0019ä\t¬=|×Ý\u000b",
      "\u0005Öb\u0005þ6âýïÿÞ²4Åóçt:\u001d",
      "¢ \f",
      "}dY>¼oÍ)Ñp¢\u0019F3TU§(2\u001d",
      "[GS$Ò¸¦]]Zæø£Qå S¥4^©¹&\u0013\f",
      "CçôéÓ\n",
      "\u0006»G 0²$ªáÔRoå°X;¨<Ëõ\u001aMÇÆÐT²$Á²\n",
      "æó9\u001b7¯Wþß<Ã4*ã|è{\u0018ªeªÈRIÍ¶n\u0017\"GÓT:í&\u0002\u0005½n<\u0010Ê\u0002Y\u0014°L\u001d",
      "M\u00151\n",
      "",
      "\u001c",
      "ÓÐhÖ\u001c",
      "êµ&a Ê*×76h4hN8$\f",
      "bÖ¬!Ë2£ÑZ­¡éäY(\bB\u0015\u0012ôØÑ\u0005\u0016+ð·\u0017?÷7~îA\u0004á~ÇqÎyn@¦ä9èºDVÃ©mzm\n",
      "Ý°MætÚMÖÖQdÐ\u0014f­NCN§\u0004¾K\u0018%èºª«ôãÝYHw¹çE$IÂÍ7Éò\u0004A\u0010zÝAU@Q4Úí6¬1\u0018\f",
      "nÕ£L§S\u001c",
      "[¦±¼D\u001c",
      "V\u00048\b9zôHefHfÅ¨b\ty&\t¨\"È²H\u001c",
      "ÌhwZD±W9°\u0019³¡ÉDQ*\u000b",
      "¤YH(t»Mnnn ¨\"u«É`4¤Õj±¼~Íí]Üý>I1\u001aOyÓÞÂW¾ò%²,§ÛmS«Ù\\»v\n",
      "ñðïMÓN§C\u0018zlîù¡\u001fýI\u001e",
      "ùâ\u000b",
      "ßÒïé³ÿö\u0007.\\|ñþ«W¯²¹¹ÁÁÁ>¾\u001f¦\t rbe8¢\u0010YY[[çï|\u0017ïüw>ô¾w¾ïÁ/ýë+ï½÷Þ[ê¯§}ê(î×Uý¡wÜó\u0007\u0001zê©\u0007à\u001d",
      "÷½ãu·K\u0010^ÏïNÝå¥\u0014);gÛ6¯¼r\u0013Az½òÚÖj5Ò4¥ÈC\u001c",
      "³PJºÀüè÷q°¿Iä%\u0004^ÌÁhTi %\u0011Ï\u000b",
      "».qR\b°¶¶ÆÚ±uxâi¦\u0013¢\u0014Èó\u0012Ó4n\u001aFÉ¸wíõz\u0018ÉùóçqÝ\u0019÷¾å\n",
      ">}§z­m2£×ëÝJ¡ÌCù|NÍ¶«\u0018 (Æ²\n",
      ":]<Ï«â]\u0005 \b¸rå*Ç\u001d",
      "ÅÔt&\u0019õz\u001d",
      "ÓP0\f",
      "ýVÀ»eY8uã§NòâÅ\u000b",
      "8µeTÍàÑG\u001fÃ²kÇcî¾ûn\u0002ßeogÕµ%Þþö·óüù\u0017¹ýÌ\u0019¾ô¥/ )*NÍb8\u001c",
      "rùòKü«Oîçï{ÏGþäøÌÃyà\u000b",
      "_øâýÏ?k\u001b×ØÙÙA9\u0017U;¤¦UÅã¯ú±u]'>LÜã$IÉ³ªÎFÓ4æsÿáR\u0010Î\t2\u000f+²\u0002¤$Iy¬z²\u0005E~4G\u0014syV\u0000<Ü]isçíg9yò\u0014ºÙèpÛéÛ8uâÄCïyÇ_½cüz&ðé§øÆ7FQ4\u0014E¤^¯3\u0018Lp\u001c",
      "í0¤Í`g{J\u0012Ï(3è4«!U\u00167Ø\u0018o$9ÍºMVw¹PàØ&²\\i¢ëåÚUãO\u00144\u001aö¡>ºÊ]N£\u0018Ó°Ií]ööö8uÛiZ­\u0006º!süø\töööª?Ç¨ÎÝ³ÃJFR³TV®#¦)½åJ \"GOÞ(Âææ&ýþF£I\u001c",
      "§\u0018ÅÊú\u001a¡çsôØ\t\u001c",
      "§JÖ\u0018F¢©$\u00054Û=Î?'NSoVCµ^¯ÇÓÏ|\u001fúÈ\u000fbÛUØ¬è4\u001aMzËk´]&\t\u0007û#TUáÄm'\u001e",
      "þóÈû¥'¿öÀW\u001e",
      "ÿüý_ùòWxæégøñ\u001fÿ±sP\"`\u0018*K­&õf\u0007A\u0000U)\u000eyS\u0014u3ñã§J¦,K²,«bx[ÍsjfÉ¹¢È\u000f¯Û@$Ë\n",
      "²4?7Í°m\u001bUUHä\\\u0010x|ãÙgyú©'ISÈ\u000b",
      "Ð\f",
      "\u0015A\u0010Î\u00195ãþÐ\n",
      "é®uùÀ\u0007>ÀG>üþÆOÿ\u0007\u0017\u0004þ\u000b",
      "ÂÑ£GùêWDdÍæá\n",
      "¤ i¥0ÍbÚmáÀCBÆu]VVüª\f",
      "[\u0016JÒ2C\u0004D\t4AAÕ5\u0014%B\u0010å[HA\u0010\u000e\u001ft0\f",
      "\u000fÓ\u001b%\f",
      "CÃy\u001c",
      "ìíQk4Ñ´Ê3{íÚUtCe6°¿¿ÏÊÊ\n",
      "¾_åUõGU\u0013á;nÇ4Mt\u0015êõ:eW¦4e8\u001c",
      "Rd%^½\u001d",
      "f3\u0017A¨7\u001aLÇ\u0013ZMÕ£HíXtºUç\u0012¢(\u000b",
      "ì\u001e",
      "ì3Uê©^¯Çt>!#²¢d}}8\té÷û\u001c",
      ";vÕ#¸3\u000fQ2¸ðâK¨ºM\f",
      "$ùÜÃY­ûÒ{à}ïüÈ¿õÏ>ðõ¯?yÿùçá",
      "\u0017/ñ¾w¿û\u001c",
      "Ä45Úí6½vÕ\u001c",
      ")KÂawU.ÉQ\"/(Ê\u0002Ã¨=g³\u0019ç¡\u0019UXU×q P\u0019ªªÐ4ë¸Ó\u0010Q\u0010\u0004\u0011IªVî²¬f\u0014(:º¦ÞJÚ´mZÝ<ÌÏ*#FRµO&IÂÜuÏuºM\u0006;\u0003~÷·ßýäïk·Û÷ßqÇ\u001d",
      "üìÏþìC?ÿó?ÿàÀßE\u0014ZU³$1F\n",
      "MWèïWÂ}Ç±Øßï\u0013§\"¥\u0000Y1ó\f",
      "¾ôøÓÜyæ-ôÖ\u0005tÂt6`¸?¡Voâ85\"g8\u001e",
      "1Í±ä\u001aÉ,c2 R\u00149¶máy\u001e",
      "\":þ4D·u\n",
      "¡@DVzì\u001d",
      "\u001c",
      "æ\u0019A3Gì\u000f\u000e0¬*\u0014À2Lî<s\u001bo»ç­´5<^Õ¦\u0005ýá\u0010§»L\u0016\u0018ºÅÚê2ÑÁÖ\u0016BÒª9èªÂê·³´¾J£ÕÄ0\f",
      "n^»ÂÊÑur\u0014vGsÆã)²,âù\u0013lÛd6©®®²¤ Ùl\"\"«««ºí\u0014 pmó:u§ÆÌ\u001b2\u0019©Ù6H%²¡%\u0001-¥Á/üWÿÍ'\u0004ûÿÓýè¹2Íé´ë\u0018ªÌ±7Ä÷ý*`>ã\u0018]×©9\n",
      "</À©µÉÊ\u0000YÖè÷ÇXf\n",
      "17'èII¢¤iJÝªtíe)`\u0016²,3\u001e",
      "OÉRn·K\u0010DèFe#õ<\u000fUÕH\u0010Q,)*®Wj\u0018JÕO%I\n",
      "q\u001c",
      "2WÇ\n",
      "Ý0pjµCÍy\u001d",
      "UU\tÃ\u0010ß\u001f{î\u001b_åñ'\u001e",
      "?÷|ìÇù×ú½¿T$^Ï\u0004>yúÔO]¹tùÌ£ëÕ(iµ$IR\u0005;6²¤¡*'\t\u0014\n",
      "²\u001aðc?ö1Ö®c\u001aÃý\u0003\u0014IÃÐ,Ò$g8\u001aÓï\u000fÉËååµª4;)\u0018\f",
      "&hzxþUI\u0014MU1L\u000b",
      "JüÐ±#\"yQm\u0011\u001bÍ&wÞ~¥å%LÃàÄÉ\u0013ÜýÆ7Psl\u000e\u000eö\u0019\u000eGdYÎd6¥V«ÓhÖ«hXµªnyáüs\b\u0014h¦Eç>{#k\u001c",
      "9v\u0014Ë¶©7\u001aÜ¸~ÉÔeuuÍ­]nÜ¸A\u0014ùJ\u0016)($I(Èè¦¢hÔ[-zK«\u0004aÄx4¢¿¿mZ\u001c",
      "lï2ÍQ\u0014\u0019CÓ\u0010°\n",
      "\u001d",
      "/\tÓüS«So8(i\u001aHtHº\u0012ñpu¬Õjè±º²,¡(2a\u0018£(*Q\u0014¥\tª&\u001f&ªÔHÓ\f",
      "E®2Î$A\u0015Ò4!Ib,Ë¦^sniÎG£1YáºnµÒË2EQ\n",
      "\u0011EQD\u0010D(E\u0014YA\u0012eÂ FÓ\u001c",
      "@Ä0,TU\u0007ÄÃ¯¯rÔdY¤ÈEZí\u000e/½tÿÛî»gossëÙÅ\n",
      "ü]@¦\b\"kèº@¦iôz=\u001a\u0006 °qc\u001bIÎ1L\twñîw¿Ó·¥?ØÁçÔ¬&áì\u0000×\u0011E\tÞÜG\u0016\u0015l§\u000e",
      "ÀpX\u0015q¿\u001a|^\u0015t{mÈayyå0:gwwZ­ÆÚÚ\u001a_{ö9LÛäMoz#E\u0001ca \bø^È$\n",
      "¢F£Ép<D×ulÛÂ4\n",
      "lÓ$Cöw¶Qdf«Keì÷4ºM\n",
      " T\u0019]µFþ§~£GOrùòEêõ6?g<\u001c",
      "qäè)$Q!/Df®Çx:cçà\u0000YÑ±m\u001bYM]y\u0015¾g&ª$\u0011z\u0001\u0012°Ôk1ñCâÈC$\u001c",
      "Ó!ÏR\f",
      "Ã@\u0014Úm8©\u001c",
      "Y¯V\u0016E,W[×4JÉÓF£,U5¨(@£Ê\n",
      "ªbÜ\n",
      "J¨×ëÄq|h\f",
      "\u000e³¸«ÕøÊ+,--ß\n",
      "\b,ùÌCÕd¤º\u0019(Kn]ÓTtÝDª\u001d",
      "ªè¨ª$*·üÙ\u0000a e\u001e",
      "±K½Õä",
      "K?ñ\u001fú~>÷oþøÁ\u0005¿ÃXYí!\u0012¾ç¡H2²¢0Ïq\u001c",
      "çp 5`u¹Ãt6\"L\u0012@ c\u001a­\u000enä\u0011F9nqòäI666V»A\u0014§Ø¶Í©\u0013GØ?\u0018¢©\u0006¦U#Ë\u0013Æã!QCcjæ¡BK\"\f",
      "\u0003Ö××ÙÞÝA7\n",
      "ÎÞvë\u001b7¸zí\u0015D[¹Ï;;;Ì§ÓÃó\u001c",
      "\u0018¦\n",
      "R\u0015¬\u001e",
      "Ç!~µe\f",
      "]åÈê\n",
      "óÐE×m(d6Ñl6ÇÕªë8µ\u0006á_¹ÆsÏ¿À£Ç\u0018\u000e\u0006XFE¬f³ÎÆÍ-ü(fcs4/X[[#J\u0012²ä¶;oÇ\n",
      "|$\u0004F1íN²È\u0011dÈ\u000fÐU",
      "õÕ\u00154å\"®!É\"\\Y*kµ:qòjÊ'\u0018FYæäEðêæ¯Ñx@£á°ºº,+¥@¸OY¨ªJ½^¿å|ª¶Ê.Iì\u001d",
      "FúJôû{ëº·2Â¢¨êªÒ@+û£(¤iB\u001c",
      "Çtº\u000e¢\u0004I\u001aÝÚæW+wñ§MmdMg<\u001e",
      "bÙ\u001aûÜ\u001fâþè\u001e",
      "ú\u001fø½\u0005¿8¾¶BI\u0015A¦9¬R%Óé\u0018ßw«$\t­ÊQ\u0016e\u0011]ÓX]]EÓtÊBÂ²ë½ã\n",
      "ìío¢öe¬IKÔêMº½&e\u0019³½³\tBAFèº,×iÉ\u0002Ãþî.ã©e\u0019Äqf¨Ü~û\u0019¢@<ô'\u000b",
      "BUÑâû>q\u0010á{\u001e",
      "qB\\­$ç/\\çío;++Kxaaé,¯ôÅ*4OõtZ6µf\u0003Ï\n",
      "(\n",
      "\u000e\u000b",
      "ÈG´Z-dÓ`æº¢Èh4boo3§N¦\u0005¦\u0011\u0001YÕ¥¾rcS§V©7j\\º|;î8K)æL=÷¼ç]¼ró\u0006À¥×é Y&/^DÓUºº\n",
      "Àl6¡^?N«Q'NB|ß¥(3ÃÈ]UUñ<,«Ü\\E\u000eªRÕÞä",
      "Zu!ë:£ÑùÜcks\u000fÛ¶«·4Á÷\\DA I\u0013Æ£!iáùÕ5ãÔÊ¦)9yVÞz\u0013Ô´jU",
      "\u0012Enõ#O&sêõ\u0006\f",
      "Qè\u001e",
      "ÎK\u00122IBQ\u0014Â`Ît (\u00062º®\u0012Ç\u0001¶õð_\u0006ò¾î\t<Ï)ó\u0012]U\u0000\u0001I\u0014\n",
      "\n",
      "AÐ\u000fÏgùáÊ` Ë2ÓÏÛÞö6$I!Ï\u000b",
      "Î¹k\u0017\u0007IE24ô¼À\u0006\u0002Ôj5ÔÅ0tâ´$NÃ@DÕd\u0014E¢ÙlãÔ;ìïï HðõgÏó·Ü¦\u0019\u001c",
      "ìïR¯7Qd<+9Øï\u0003Ð¨Ufë×7ð}\u0013·\u001d",
      "geu\u0015ES¹víj\u0015\u0003\u001bÈªN½ÝA\u0014¬À©5Ð\f",
      "~¿O§Ù¥ÌJò4cÜ?`6\u001c",
      "3\u0015&\u0013ápLÆ\u001c",
      "?vé|¤¨Ü¸¹A­&á8\u0016³Ù4ÙÝ¼ÉËW^¡Ýiâú\u0001ã0õ\\N:",
      "­ë\f",
      "Ç#¶¶·Y=yã§NpåÆ\u0016óù<«Z\u0015%¹DBB\u0010d²,=\f",
      "¯÷)KåÃãF\u0010Ç\"¦0\u001c",
      "N\bàp\u001b­Ðëu\b#\u0014UµÈ² ¨D3EQÝ\n",
      "¯¯\u001fEe677QU\u0015ß\u000b",
      "«n§<'Á4«\f",
      "3]×ÿÔçÓÃ,lª¥1\f",
      "CÃ£Gu\u0017\n",
      "y!Pâ8V\u0015È@N\u0014$üÆo<øÐOÿõ¿±\u0018b}§aúOmmÜ<³´Ò@V¤êº¢,1Lóp5ðU\u0015I\u0010%\u0019wò»Oò½ïÿA\\×«¶Þª",
      "Ý¨Ñ\u001f\u001e",
      "P\n",
      "2GÖO¢ëÕÃ$!/^|\t\u0004\u0011A\u0010E¡Bû.ºfÒiu½½=:½\u0016µ\u0001\u0002¤I¦ªìîî\u00179ËË+´;\u001d",
      "Ò$eg{~\u000f/p9²¾Jo©J¹0- ôqj5@äÈ£§stËf\u001e",
      " )¶Íöî\u001e",
      "K«Ë¤iÊÖö6ÍfÑxë¹ÜvÛmL&#²¼deu½\u001aXÕë¹ýN\u001e",
      "{ì\u0018Å\u0013'I£\u0004w2!\u000e\"Fã\tkË«\\yé%ÂÀgww^»eUQy\u0011\t\u0012»ý1\"º©£H\u0002\u0000óù\u001c",
      "UU)Ë,ËnÕËÈ²m;×b\ta\u0018\"\"§\u0005e. ©:¢ \"Ë\u0012²\"\u0010Ç\u0011(\u0010\u0011É8®l\u001f\u0011\u0004\u0011ÁÓ¨º¤D<8.PU\u0019IÉ²*w»,!KK$R Ùl\u0013\u0001Òa»Dåp«[«(JDQ\"\u000eS¢¨\u001aJþò¯üÒÏÿ¿þæßúK3~]¯À\u001b\u001b¯ÐíZÔ\u001d",
      "\u0007×÷\u0002EQð|\u0017ß\u000b",
      "\b\u0006m&Ó\u0019q\u0014\"Ë\u0006ÿüçù[ÿÅß§f×\u0015\u0011ãhÝý«¼SÊ\t/\\g>\u001bP·MnÜ¨\n",
      "À¼W®Ý¤VkÐn7)Ê\f",
      "wæ!P¹Ò,f2\u0019¡hRµ",
      "s\u001c",
      "\u000eöú,÷:èÅp8Æó<ÆÃ\u0011Y\u0012qêä1¢( È\u0012ê\u0006+++¨º¨È¢@^\u0016DYëW»\u0001QUq}Bh-÷0k\u000e;;;\u0004ID°Ïro\tA\u0010YZZ¢ÞhÜZÅÊ\u0012®_ÛbíÈIz«Ì}AÌ±µU¢¹©DQÂ¸?\u0000±¢$\n",
      "#f)¦s°·Ç\u001bßp­þíÝ\u001d",
      "¬z8\u000e5$@((êÌ©(\n",
      "Xb\u00185Â0¤,s</ÀwçäyI\u0012gHJ\u0014&dy($i¬B\u001c",
      "ÇDQï®IdYNYTª7EQª°",
      "­~\u0015<æ·\u001e",
      "í$©®\u0010\u0001²4¢,+á¡¢(\u0004AF\u0010\f",
      "0¨ÒC³,G\u0014+UØ«Ç\u001c",
      "IÌI³Õu>ñà?}øþûð/Õ5ÒëÀA\u0010¡Û:Óù8p\u001aª¬Rd9!%õI\u0012û\f",
      ">i\u0013å\u001e",
      "/_Ý#Löù7é\u000f\u000fØ½1à`xë\u001b\u0017¹rõ&³IAÜvö4\u0007ó\u0010QÖpÝªwèÕkõõ#ÜH7¸xõeN¾\u0013Ëé°º¼c$QÈÑ£ëÌÆ>kÇrçÉ·pþ",
      "Çqý9qâøQBoÀÚRëo!5s\f",
      "Í \u0014#ÎÜqÀ\u0019Nf(æ.3?@SZ&«G3ÏI\u0010'd¼9ËëwríÚ5æQjZØõ\u0006ÛûW\u0018Ïç\u001c",
      "9r~¥uî{×=|ù_bØß¡Y·9\u0018Mh4JT]A\u0014r$ ÕjÍ§$A;q0\u0018òýG?À±ÓwñÏ>Âh0¡Þh\u0010!fP\u0012yâ( é&Q\u0014§\u001e",
      "\u0014%îtN¦\u001c",
      "=v ØØ¼I½¦¬n\u000eÒ$\u0003*\"\u0015\bPdYñh\t\u0014bn)ä,Ë¦i¨ V[a\u0000SsH²\"ÏÿD\u001fg,Éhù!Y\u0016\u001fÖu\u0003Û6©×êØµ\u0006]CS\f",
      "ìN\u001d",
      "YQXêtÎ5zí",
      "\u0012ë»",
      "/}é\u0007ÎûÁs¦Ùe0\u001aÓn´ÑÔªÜL75ÚÝJoìåsn;u½ý\u0011Q\u0001i\u0018ðÒ\u000b",
      "Ï3\u001aï³±µ?H3\u001f\u0015ãëÇ\b\u0005×oìàM'ÌÆ.q\u0018C­ ð|(J8D\u0004(¦Û]bwç*ÃÑµÕ6Aó¦7½gýZu~\u0014Î?ÿuF\u0019a\u001a°Ôëqìø2kËgYéµIý\u0014½%¡i\u0016QRâÇ\tOõ<¢ á»=>û\u0007§Û®ó÷¼\u0017/½Â\u0007¿ÿûxåæ.û9NÝæ¥+7P\u0015·Ý÷\u001e",
      "®_¿ÎO|ç_x¢¨þÒd\u000b",
      "QÊùêWâc\u001fû(G\u001e",
      "eãÚuÃ!P¹·ºÇV(D\u0001Y\u0016itÚ\\¹~\u0012?M(EW._å{ÞýAî8}ç^xÔ8Æ\u0019a\u0018Q\u0014)IQP\u0012\u0006qÕZQV\"|Q\u0017.¾D­f>jè\u001a®nYhI·³ªª´[\n",
      ",Ã@ÓT,Ó|ìWõ×?þêï8J«\u0016o­Tíóçåmo~ó/ü¾î©¿¤­¯[\u0002ÿÁ\u001f|æ~ßÏÉ^o\u0015wî#«\t¢ªq0 \u001b*º©Qæ@¡)2¹*!\u0014)Y\u001c",
      "2ÜÝfçÆuÒ8f8±º²liÈÏ\u0007?ø=\\½ºÅîSûHÀ`0 \u000eSí:ÓéÙÌ¥×íÄ)NCe>ë7^æî7ÜÍ",
      "\u000b",
      "ç\u000fïum<7`0Úg6õé-5xÛ;ÞÀÛßöfTQ\"ñ\\biidXJgå,Ï¿Ì>ÿ\u0015\u0014Ã¡Ó­3\u0019E\\¹ºÉÁØ¥ßïs}ë\u0000×÷¹zõ*?ó³?",
      "Yëðè\u001f?ÅÆõ=z½¥¼yµ",
      "Ì²$ÀpãÆ&÷Ý÷v\\×e2\u001aáÔª3ªi[äyÎõëè¦I!KÌ£Y è:îÔåÆW8qì$ç/¼;ó\u0018ç\u0014\u0005\u0005 ð(@½i³vtz½N³Ñ¦V«Ñn4©5ÇþÉ¯ÿÓ\u0003Ìç\u00110\u0004à%.WÐóøÊO> )\"¢øêHH<\u001c",
      "\u0010)\büÐ½wÞ¹÷{îypAàï\"Î?O·m°¼¼Ì|æ¡\u0019*I¦)cV>Ú^©4áë7Éò$Ï\u0019\f",
      "|ú{»ÌæS\u0010\n",
      "t[Â\n",
      "®½r8hu\u001c",
      ",[á¥/1\u00064:P\u0000õFz³ÁÕW6Ð4¢\u0014°ë=LÓºe?zô(²D«ÕbîM#GpßÛîfyµÁlàsíÆu¬9(¢(,wyã]\n",
      "3×#líîB)±´Üãúµ\u0000<þå§è®t\bÃßü\u0017¿]\t\u0018D¸úÊM®¾r\u0013ãPj¦9¦&9,æ9ô¹GùÐ\u0007ßÇ\u000fþà9þ\u001b\u0006\u0007·´ÅU²Æh2¥,\u0005(Ãó¦9s\u0006Q\u0011yñ¥\u000b",
      "Èªþh\u000e¬¬.Ñîu¨9\n",
      "N\u001d",
      "?õØ?ÿgÿâã\u0000³±Çlì±õ\u001d",
      "þ½?òÈ#½Òq²\u001aàº¥üá\u000f¿«ÿÈ\u0013Oô\u001c",
      "AÈn}Q½\u000eÚ\f",
      "£{Wïý",
      "¿ÊÏùëÀüä?àg~æçÎ\u001d",
      ";Öa:\u001d",
      "\u001f6\u000e4\u001a\n",
      "JRò\u0002W*yeÄ¢@\u0001è¶&$l\u001fì\u0010¦\u0011¡R\n",
      "9-²yþ%ÖÖVÐ-¯>ý\u0014ûÃ\u0003×Úìí\u0010D0\u001d",
      "k7n@\t\bQD\tW.oÑé4P\u0014\u0019ÓªSo¶8c\u001a\\¸ð\"ãñ\bQ\u0014i·ë¼ëÝïdîÑÇ\u00057ö9{ö,½fhZ\u0007d\u0015/Ò\f",
      "Å,/°-^÷,\u0017/¾ª\n",
      "¤aD\u0002bNÓ©U¢\u0006²2Zf%æã\u0010\u0010)ÒÊå\u0013Ç\t\u000f?ôy®^½ÊOþÔ_ç¥.±¹¹A¡Ì\u00058L\u0010Jq@¯×cëÆ\u0006½7ßDþþg\u001fû>Í\u001b{lÞ¨®H¿ÄW¾C$}¢W:\u0015!kÂJTµ\u0019Ý{ïjÿOmY¢ \bý×ëBõº!ð³Ï>õÀõ\u001b7î¿|ù\u0012ÿðåÜÚz\u0017Í0ÈÒ,/h6ë¤YN\u0014Ç8¶ëºL'c\u0006\u0003\u0017]×i:5vw7¸óÎÛX>²ÆÕ«.",
      "(¡h\n",
      "ÉtiÉ(ª(Ê,õÖø",
      "_økÜsï;yìÑ?fo·Ïm§ï`>óÂç¹qó:[;L³2ñxJ³Ý`>séÒ%Î½3gÎðÂ\u000b",
      "/çðÎw¼\u0011ÃP0\n",
      "Ë®Ðk/sòÌY,SEÕëäÌòú*\u000fþÆoÒiiü£_ûU~ûwþ\u0005Ï}ãejµJDÑë5M§¨ÈR¯NäGÌÇs\u001aÝ&kkk<þ\u0002Tù9\u001c",
      "üT¤´\n",
      "\u001e",
      "Îx.]Þà\u001fý£ÌÇ~ò'hw\t¦U/ÓLóè\u001fôÀ\n",
      "Èê\tÞdþè`:þÐ©3ox\f",
      "¾ú\u001d",
      "YEùS\u0004¥\u000ej³\u0019Ý»ºúÿ \u0014¯çAíëÀ\u001fùÈ;\u001fø¹ûéOìï÷Î\\jµ\u0006²ª0zh²pX)â8\u000eîÌc2Òiu)rv½A¦¨Bìç´MÊ¢ºs,(©ÕëLg×Í¼á®;ø±\u001fþ\u0018go¿\u000b",
      "Ó±±\u001c",
      "w¼õv\\·êé$\tIUðÜ)¿ñ\u001bÿ'ø*]'G`0\u001c",
      "2»\u001c",
      "\f",
      "ú?ÿ\u0002Ç\u001d",
      "Ã±êG.'N®¥>îTåÄñ;9qlz£((ªI¯ÓæòÏBðÒ",
      "ó´×ñfC®]ÞÅ}Ú&õfíP²YEÉÊª\u001c",
      "ÇL&3\t¢$På-omeú!G\u0014D±\n",
      "äsÝOýÎ§¹ë®;pçS\u0006\u0019ívÙ\n",
      "TYäØãÞü±ë»ó7û?ýð¿ùä'_Ëïï'è\t[\\õ¸\u001aÝ»zo\u0005þ½AýU\u0001.}yå`oÿÁ_ûµÿåÜc_x¢\u0014Ó2ZËAJ\u0013ÚÝ%\u0014M£v¨rºté\u00125ÛæØ5ò(c{\\\u0010)\u001füð÷ræô\u0011<¨È¤IÎ§Ìb~ñïÿ2Ü!/$4[ã`t4Ójv1Zuæ ÓmQo÷\\B\u0006Ó¬ó\u0017_äÑÇ¾ÈþÞG?ÿ\u0005N8Ã\u0013_y\"",
      "¿ùó?ÁÎîu¶6öøÏ\u001føÜ÷ö;I\u0013èµO\u0017\tKK«<þåß§×­ÓpÓjö¸¾qþ©ÿ½¨a\u0018hÊt:¥Ûê\u0012ú\u0001ÓéÐ\u000f($\n",
      "å°¿8\n",
      "\u0013|ÏûSÂ",
      "JæXµDTwä²,$Q¥\u0019Àr\u0014</EU\u0005ºÝ6­zíÑ\u0017^¸þ-%¸ÿ;gÑWÏ¡a3º÷ÞÕ`AÅÿHWà;ï|ï\u001e",
      "pÿ/ý÷¡þðñsÇ,³~´Íp\u0018`X\u0005É¡aÛ¶\n",
      "â8 Ýnsöìi¶67ÙØÚä-÷¼{ß}\u001fÿò_þK\u0014I Ùlâû!\u0017\"\u0005S?âô©\u0013üÈ¹bêO\t\u0001íÎIvûWP\u0004\n",
      "g¥©ØR`Ø©ND\\úÚçÉÅ\u0006¦Ý¡æ¤=v'wÿ­{xéÊ\u0015B?foÄ`ärâÌ*Y£\u0014\n",
      "æÞ\u001c",
      "ß\u0011ÌS6q4Án\n",
      "\u0004óçøñ¤Èk:<í\u001bÜ\\ä¶\u0013÷påÊ\u0015ü àÎ;ï¤ÛkñÜs_§½Üb8LH¼<K)r¢H\u0011\u001c",
      "Aàð´ ,9\f",
      "g\u0017Éó4_ý§}´, ¦Tq¹á4ÂCå\n",
      "o8rêÂ",
      "­kÿ\túg\u0006FßÜÖwÿÈÎÀ&£(àº.²²ÊtºG­ÑÁ4-f³ÙáÖ°\u0012¬·Z-êõ:/¿¼A^~\u001d",
      "Ë²È²ãGÒëuÈ$Ñ\t|\u001fß¹ÿÞG£i³»?£Ý©c*7n8uôN;'\b's\u0004\u0012tÃÄ°mF[ßàâ7¾ÊÉ3÷a96sw$\u000b",
      "$iÄ]wÝÁ÷èüÊÇ²Ì\u0010rv£ÇËþ\u0005>ð½\u001fàì©ÓLFCÒÄ§ÝnS¦mÒ,!Cd\u000eé\u0004E=ÆÎÖ>þ¼`gw\u0003Q,Yêuñ\u0003\u000f÷Kà§X^Xh\bBL\u0010ø\u0014Er¨?N+µÒ£$\u0017%¢,a\u0018&º¡b&¶í<vñÅ\u001f/Ë[Gcò´$yfÞ»\n",
      "~×»Þµ èÀß\u001aVW»d)t{mÎ?Ï©Sw#\tÛÛÛHD\"Å·R\u0016öööh6Ú\u001c",
      "?rsg/~ñß²¼ºÄÉÛN2\u0018õIÓ\u001c",
      "Ë°º\u0013\u001aµ%N<Êd2beé\u0004¦mf\u0011½¥&GÖO\u0012%%õz\u0013×ë¦1² \u0001\u0005eQo4ä\"ç0\u0019\"a8ØãG~äGùÌïÿ!Ï<ý\n",
      "n¼²ÁæÆ6ËÝu¾þô×øÞw¿\u0007\b1õº\u0006å\u001aõ^5$áÌé50bt0§HL\u0014ED°TLCg0\u00181\u001c",
      "M(\u000b",
      "ðæ;Õ\u0019I*\u001e",
      "-\u000b",
      "\u0010DU",
      "v·C£Ñ|ìâ\u0017?^5\u0017Bfxé\u001c",
      "oþê-ì7\u000fMÓ¼\u0005\u0016\u0004þÖ\u000fóy¦À`ÿ§OV5$ø¾ã8ÄqL\\¦\",\u0019VÝCÝ6\u0007ý\u0011\u001fûèûÍÇüÞ\u001f<Ìd8£^o3\u001e",
      "ÍøÙü(+kË¸­je³5\u0004!e:\u0019à¹\u0011³bD]5\b",
      "\u0019I©Ðí®ñÊËs¾åcg9è_Ge\u0002ß§»|¹\u001bç\u0005?þã?ÁÿùÉß\u0003!áSú\u0014GV×¸tñ\u0012<ò%~úg\u0002E-ÈÐxîüó¼ï½K¼õ¾\u000fñËÿèù_íý86aR\u0012g\u0019;;û!ÈÒàÑ<\u0012v«M­V{Á0ôç.]ºôI2\u0007oîãÍ}v¶v¿­ÿöþô§{÷Þ»\u0018<-\büMà÷~ë^ùñýony2EJ>øþwñ?ÿãÿýOñKÿà×Y=Ú¤ÞpH\u001c",
      "YHâªÎÓ²Tv¶¶©ÕjLÆSVW¸±±ÍS_}\u000eM",
      "¢\u0010Ï\u0007\u0014)\u0015q\u0013\u0011ëkË4].¼|­rÚÈ\"B\u0018sóú&V]ÅÍrÖ»Çø?þ÷Oð»Nsû\u001d",
      "ïBU\f",
      "ÊBÂÐmÂ EU\f",
      "DAåÙç^ ËJ`÷`ÀîÞ\u0000MSø'\u000fþ6úÌ\u001fðþ\u000f¾·¼õn^¾r¯=ÿ\"a\u0018ò[|Ï|úNÞzÏÛ¹üÊùGË2ÁÐ\u001a/´ösÛÛÛàÑhÈh4ü®ý.~ìÇ~lAÞ\u0005¿9øÿà\u000b",
      "_ûÌCwß÷£\u000f\u0002´;Mþöû_sáÅ\u0017ùÁ\u000fÿ\u0000¿õ¿ÇæÎ5V×Wéö\u001aÌ&s\u0010\n",
      "|ßGS,Ë&b8çcý?áÒ¥¥Ê`îz>\u0002\\Eö\u000f&¨j\u001d",
      "YqÝ\u0019y\u0002\u001b\u0011E\u001e",
      "é(&î'h\u0019èÌJ½Æhë\n",
      "·$j\u0018v$)Ñ\u0015\u0011Óª(òÂ",
      "\u000b",
      "¾ý\f",
      "Kk\u000eãÁøÑÓdww\u000fI\u0018\u000e\u0007ü«ßý7<úoâø\u0006{û\u000f×¸÷{X^=Jÿ`kôPÝ1ÇÓÅ¼ ð_-8q×C\u001b7÷>ñÊå§8}Ç;\u001e",
      "TD¯¼Âßt\u000fº¦ð[¿ù/ø'ÿôWùíßù}î»¯¦i\u0017URÏ=ÆÃ1qóÀÏw¼ý\u001e",
      "jµ\u001aÇ\u001d",
      "Rdî¹\u0004Çl6ãè±U6oî!ä\u0016ûÖ6î\u0012GÖOñ",
      "/|ÉÝ}fþ\u001c",
      "Ý4Ó\f",
      "ÙÔI#\u000f|ß9>ÿÇâùß>Áùßý÷V\u0017d\"\u0005dÏ>üYú£=î|ÃY\u001c",
      "[û",
      "'\u001e",
      "{êãÿ¿^ã¸?bÜ\u001fñäSÿøWÞùû\u000f%Ï.Ú\u0005þäèøWùæôV×yÓ[¾÷þ­ë_yè¥K7Ï\tÆ\u0007?ü^\u0010ë?ÿ8?ü\u0013\u001f#\"B?\"I2\u001aõ\u0006Á2_üÅÿÛnïð/?ÅîÎ8)«ÔBMfîH³,\by×»îaë>çþÚ\u0007Y]_ãÍw\u000f\u0017/~K/^à?ô\u001e",
      "ÚZ\u001b§ÖÀ-\f",
      "ZÇØ½ö,W¯<ÅW¾Ì¿ü?\u001e",
      "ä~éÂ0[4»KIÌ¿ñÏpêG­Zã±ú«ÿÛÇÿ¼×wþÅg>:Dñ{ßûÞß_<ª\u000b",
      "¼®\b|þ",
      "'\u001fø½Oÿî'ö÷6¸¾qóáÕµs²ªñG{\u0014wæòá\u000f·¼é­|åÉ'ØÞÞfoÀh8}\u0014@\u0010\u0005¬¯ó×~ø¯}H(GuSÇ÷CÒ($ISLC'M2²DUr øÐÁÁ\u0001Ï=÷\u001c",
      "YQpæÌ\u0019î¸ã\u000e~çwþ/â\u0004î¸ã$©¡ª2ï}ï{xæg\u0018'|à\u0003\u001fàÓ¿÷aæÃ'àû>øý¼ý{¾\u0007E\u0011/¼ím\u001füsEôÏü£¢XÄo¹{AÜ\u0005^§\u0004þÚ³_zàG>w¿ª\n",
      "|õ©§\u0011\u0005£GO0L\u0018\u000f'ôz«¬.­Ì¹</\u001e",
      "ulû±ÿïßù\u001fþÕî\u001füpêïý½¿wí?ôw=ùø#¿âúÞßeåaÏã\u0005\u0001,\u0013%\t\":I\u001aÑn7¨7jÔkuDQ@\u0014ÅsÓé\u0014S7~þ{Þ÷g¬h?þÈGßýî\u000fÿî!ï³OÝsÏ=ïXì\u0017X\u0000àÉg¾ò+¯åû¿úÕ/|\u0014àë¾¼òÍ|ßÅË_{àâå¯ý¹&ðo¼ðäü\u0019R\u001fþ]\u000b",
      ",°À!þð¾)R<ñü\u0013½\u0017l]Üz²uñâ­ïèÏöèülÏ<ûÕá/gêÃ\u0002\u000b",
      "ü",
      " ,ËoªÀü'\u001e",
      "é}7¾Ïá\u001e",
      "òK¿òô×ÿìj¼À\u0002\u000b",
      "\u0000_øÂ\u0017ìÃúp»ýäwvÅý÷ñå/sÛò\u0005\u0016øz%~âç{ÌÿþÇï6\u0017X`o\u0012_ÿú®ù§Iýï\\`\u0005\u0016X`\u0005\u0016X`\u0005\u0016X`\u0005\u0016X`\u0005\u0016X`\u0005\u0016X`\u0005\u0016X`\u0005\u0016øÂÿ\n",
      "y\u0006¤ÑÇÙ$\u0001\u0000\u0000\u0000\u0000IEND®B`\n"
     ]
    }
   ],
   "source": [
    "print(kitty_as_text)"
   ]
  },
  {
   "cell_type": "markdown",
   "metadata": {},
   "source": [
    "## Text files as bytes\n",
    "\n",
    "Text files are just bytes, like any other file. Using the `rb` parameter, Python opens the text file *without* decoding it using a particular encoding. You end up with a `bytes` value, not a `str`. This gives us some strange flexibility."
   ]
  },
  {
   "cell_type": "code",
   "execution_count": 96,
   "metadata": {},
   "outputs": [],
   "source": [
    "text_bytes = open(\"frost.txt\", \"rb\").read()"
   ]
  },
  {
   "cell_type": "markdown",
   "metadata": {},
   "source": [
    "Let's plot the value of each byte using `matplotlib`."
   ]
  },
  {
   "cell_type": "code",
   "execution_count": 97,
   "metadata": {},
   "outputs": [],
   "source": [
    "import numpy as np\n",
    "import matplotlib.pyplot as plt\n",
    "plt.style.use('ggplot')"
   ]
  },
  {
   "cell_type": "markdown",
   "metadata": {},
   "source": [
    "(You can ignore the details of the code—it's just drawing a graph. The `np.frombuffer(...)` bit creates a [`numpy`](https://numpy.org/) array from the byte buffer and converts it to an array of unsigned 8-bit integers. You can change the number of bytes to graph by changing the number after the colon.)"
   ]
  },
  {
   "cell_type": "code",
   "execution_count": 98,
   "metadata": {},
   "outputs": [
    {
     "data": {
      "image/png": "[encoded data removed]",
      "text/plain": [
       "<Figure size 2000x400 with 1 Axes>"
      ]
     },
     "metadata": {},
     "output_type": "display_data"
    }
   ],
   "source": [
    "plt.figure(figsize=(20, 4))\n",
    "plt.plot(np.frombuffer(text_bytes, dtype=np.uint8))\n",
    "plt.ylabel('byte value')\n",
    "plt.xlabel('index')\n",
    "plt.show()"
   ]
  },
  {
   "cell_type": "markdown",
   "metadata": {},
   "source": [
    "(You can actually see the structure of the text here a little bit!)"
   ]
  },
  {
   "cell_type": "markdown",
   "metadata": {},
   "source": [
    "### Manipulating text files as images\n",
    "\n",
    "Because text files are just bytes, we can re-use those bytes in creative ways. In this section of the notebook, we're going to treat those bytes as image data."
   ]
  },
  {
   "cell_type": "markdown",
   "metadata": {},
   "source": [
    "Before continuing, install Pillow. Type the following at the command line (making sure that you're invoking the same `python` that your Jupyter Notebook is using):\n",
    "\n",
    "    pip install Pillow\n",
    "    \n",
    "Or if you're using Anaconda:\n",
    "\n",
    "    conda install pillow\n",
    "    \n",
    "Our method for converting text into images:\n",
    "\n",
    "* Load the text as bytes\n",
    "* Use each sequence of three bytes as the red, green, and blue pixel values\n",
    "* Pick an arbitrary width for the image (and pad the data so that it fits that width)"
   ]
  },
  {
   "cell_type": "code",
   "execution_count": 99,
   "metadata": {},
   "outputs": [],
   "source": [
    "from PIL import Image, ImageOps, ImageFilter"
   ]
  },
  {
   "cell_type": "markdown",
   "metadata": {},
   "source": [
    "Byte strings are one-dimensional, but images are two-dimensional. So we need to pick arbitrary dimensions for the image. I decided to make it 20 pixels wide, but you should pick a different value based on your own text and needs."
   ]
  },
  {
   "cell_type": "code",
   "execution_count": 100,
   "metadata": {},
   "outputs": [],
   "source": [
    "width = 20 # arbitrary, adjust to taste\n",
    "padded_text_bytes = text_bytes + (b' ' * width * 3)\n",
    "height = int((len(padded_text_bytes) / 3) / width)"
   ]
  },
  {
   "cell_type": "markdown",
   "metadata": {},
   "source": [
    "Pillow's `Image.frombytes` function takes a byte sequence and makes an image with it, using the provided dimensions."
   ]
  },
  {
   "cell_type": "code",
   "execution_count": 101,
   "metadata": {},
   "outputs": [],
   "source": [
    "text_img = Image.frombytes('RGB', (width, height), padded_text_bytes)"
   ]
  },
  {
   "cell_type": "markdown",
   "metadata": {},
   "source": [
    "Here's what it looks like:"
   ]
  },
  {
   "cell_type": "code",
   "execution_count": 102,
   "metadata": {},
   "outputs": [
    {
     "data": {
      "image/png": "[encoded data removed]",
      "text/plain": [
       "<PIL.Image.Image image mode=RGB size=20x13>"
      ]
     },
     "execution_count": 102,
     "metadata": {},
     "output_type": "execute_result"
    }
   ],
   "source": [
    "text_img"
   ]
  },
  {
   "cell_type": "markdown",
   "metadata": {},
   "source": [
    "This is a bit small, so we can resize it:"
   ]
  },
  {
   "cell_type": "code",
   "execution_count": 103,
   "metadata": {},
   "outputs": [],
   "source": [
    "def show_scaled(img, scale=8):\n",
    "    return img.resize((img.width*scale, img.height*scale))"
   ]
  },
  {
   "cell_type": "code",
   "execution_count": 104,
   "metadata": {},
   "outputs": [
    {
     "data": {
      "image/png": "[encoded data removed]",
      "text/plain": [
       "<PIL.Image.Image image mode=RGB size=160x104>"
      ]
     },
     "execution_count": 104,
     "metadata": {},
     "output_type": "execute_result"
    }
   ],
   "source": [
    "show_scaled(text_img)"
   ]
  },
  {
   "cell_type": "markdown",
   "metadata": {},
   "source": [
    "Now that we have an image, Pillow can save it in any format we'd like—here's how to save it as a PNG:"
   ]
  },
  {
   "cell_type": "code",
   "execution_count": 105,
   "metadata": {},
   "outputs": [],
   "source": [
    "text_img.save(\"text_img.png\")"
   ]
  },
  {
   "cell_type": "markdown",
   "metadata": {},
   "source": [
    "Now you could manipulate the image in a separate image editing program, then load it again like so:"
   ]
  },
  {
   "cell_type": "code",
   "execution_count": 106,
   "metadata": {},
   "outputs": [],
   "source": [
    "loaded = Image.open(\"text_img.png\")"
   ]
  },
  {
   "cell_type": "markdown",
   "metadata": {},
   "source": [
    "Since we haven't changed the data at all, we should be able to recover the text from the image perfectly:"
   ]
  },
  {
   "cell_type": "code",
   "execution_count": 107,
   "metadata": {},
   "outputs": [],
   "source": [
    "img_bytes = loaded.tobytes()"
   ]
  },
  {
   "cell_type": "code",
   "execution_count": 108,
   "metadata": {},
   "outputs": [
    {
     "name": "stdout",
     "output_type": "stream",
     "text": [
      "b'Two roads diverged in a yellow wood,\\nAnd sorry I could not travel both\\nAnd be one traveler, long I stood\\nAnd looked down one as far as I could\\nTo where it bent in the undergrowth;\\n\\nThen took the other, as just as fair,\\nAnd having perhaps the better claim,\\nBecause it was grassy and wanted wear;\\nThough as for that the passing there\\nHad worn them really about the same,\\n\\nAnd both that morning equally lay\\nIn leaves no step had trodden black.\\nOh, I kept the first for another day!\\nYet knowing how way leads on to way,\\nI doubted if I should ever come back.\\n\\nI shall be telling this with a sigh\\nSomewhere ages and ages hence:\\nTwo roads diverged in a wood, and I---\\nI took the one less travelled by,\\nAnd that has made all the difference.\\n                                               '\n"
     ]
    }
   ],
   "source": [
    "print(img_bytes)"
   ]
  },
  {
   "cell_type": "markdown",
   "metadata": {},
   "source": [
    "Nice! Now we can play around a bit: modify the image, then decode it as text. And see what happened! For functions you can use with Pillow images, see [Image reference](https://pillow.readthedocs.io/en/latest/reference/Image.html), [ImageFilter reference](https://pillow.readthedocs.io/en/latest/reference/ImageFilter.html), [ImageOps reference](https://pillow.readthedocs.io/en/latest/reference/ImageOps.html). (Or, you can open the image in an image editor, save it again, then open it with the `Image.open(...)` cell above!)\n",
    "\n",
    "First, a little Gaussian blur:"
   ]
  },
  {
   "cell_type": "code",
   "execution_count": 109,
   "metadata": {},
   "outputs": [],
   "source": [
    "gaussian = loaded.filter(ImageFilter.GaussianBlur(0.15))"
   ]
  },
  {
   "cell_type": "code",
   "execution_count": 110,
   "metadata": {},
   "outputs": [
    {
     "data": {
      "image/png": "[encoded data removed]",
      "text/plain": [
       "<PIL.Image.Image image mode=RGB size=160x104>"
      ]
     },
     "execution_count": 110,
     "metadata": {},
     "output_type": "execute_result"
    }
   ],
   "source": [
    "gaussian.resize((loaded.width*8, loaded.height*8))"
   ]
  },
  {
   "cell_type": "code",
   "execution_count": 111,
   "metadata": {},
   "outputs": [
    {
     "name": "stdout",
     "output_type": "stream",
     "text": [
      "Two roads#diverged in a#yellow#wold,\r",
      "And soory#I#corld#not travel&bosh\u0010And be!one#traveler,#llng#I&stlod\u0010Akd looked&dotn one#as#fao as I&corld\r",
      "To#whbre it#benq in the&undergrowth;\r\n",
      "Then&took&the#nther.#as#just#as#fafr,\u0010And having&perhaps#the better#claim,\u0010Because#it#was#grassy#and&wanted#we^r;\u0010Though as#for!that#the$passikg&thbre\r",
      "Had#worn&them%really&ablut#thc\"saje/\r",
      "\u0010And both&that#morning#equally&lay\r",
      "Ik#leaves no#sqep#ead&trodden blach.\r",
      "Oh, I#kept#the#fiost#for#another#day!\r",
      "Yet knowing#hot#way&leads on#to#waw,\r",
      "I#doubted if#I#should ever come&ba`k.\r",
      "\r",
      "I!shall be telling&this#with#a#sigh\r",
      "Somewhere ades&akd\"ages#hence:\u0010Two roads&divergdd#in a#wold,#and#I---\n",
      "I#took&the#ond#less!qravblled by,\r",
      "And teat#has#madd#ali!qhe difference.\n",
      "                                               \n"
     ]
    }
   ],
   "source": [
    "print(gaussian.tobytes().decode('utf8', 'ignore'))"
   ]
  },
  {
   "cell_type": "markdown",
   "metadata": {},
   "source": [
    "Flipping the image vertically:"
   ]
  },
  {
   "cell_type": "code",
   "execution_count": 112,
   "metadata": {},
   "outputs": [
    {
     "data": {
      "image/png": "[encoded data removed]",
      "text/plain": [
       "<PIL.Image.Image image mode=RGB size=160x104>"
      ]
     },
     "execution_count": 112,
     "metadata": {},
     "output_type": "execute_result"
    }
   ],
   "source": [
    "flipped = ImageOps.flip(loaded)\n",
    "flipped.resize((loaded.width*8, loaded.height*8))"
   ]
  },
  {
   "cell_type": "code",
   "execution_count": 113,
   "metadata": {},
   "outputs": [
    {
     "name": "stdout",
     "output_type": "stream",
     "text": [
      " difference.\n",
      "                                               \n",
      "I took the one less travelled by,\n",
      "And that has made all the ages and ages hence:\n",
      "Two roads diverged in a wood, and I---er come back.\n",
      "\n",
      "I shall be telling this with a sigh\n",
      "Somewhereet knowing how way leads on to way,\n",
      "I doubted if I should evp had trodden black.\n",
      "Oh, I kept the first for another day!\n",
      "Yhe same,\n",
      "\n",
      "And both that morning equally lay\n",
      "In leaves no steh as for that the passing there\n",
      "Had worn them really about te better claim,\n",
      "Because it was grassy and wanted wear;\n",
      "Thoug\n",
      "Then took the other, as just as fair,\n",
      "And having perhaps th one as far as I could\n",
      "To where it bent in the undergrowth;\n",
      "ravel both\n",
      "And be one traveler, long I stood\n",
      "And looked downTwo roads diverged in a yellow wood,\n",
      "And sorry I could not t\n"
     ]
    }
   ],
   "source": [
    "print(flipped.tobytes().decode('utf8', 'ignore'))"
   ]
  },
  {
   "cell_type": "markdown",
   "metadata": {},
   "source": [
    "Rotate 90 degrees:"
   ]
  },
  {
   "cell_type": "code",
   "execution_count": 114,
   "metadata": {},
   "outputs": [
    {
     "data": {
      "image/png": "[encoded data removed]",
      "text/plain": [
       "<PIL.Image.Image image mode=RGB size=104x160>"
      ]
     },
     "execution_count": 114,
     "metadata": {},
     "output_type": "execute_result"
    }
   ],
   "source": [
    "rotated = loaded.rotate(90, expand=True)\n",
    "rotated.resize((rotated.width*8, rotated.height*8))"
   ]
  },
  {
   "cell_type": "code",
   "execution_count": 115,
   "metadata": {},
   "outputs": [
    {
     "name": "stdout",
     "output_type": "stream",
     "text": [
      "t townh;\n",
      " thougt tste!\n",
      "Y evere---the    nod dowtaps\n",
      "Thbouno dayuldewhd Ill    uldokergrerhar;y aes er shoSom ane a    co londeg p wealleavoth I gh\n",
      "od,mad   y IAnde uvinted ren l an if si woas    orrod\n",
      " th hawanhemy\n",
      "Ifortedh an at h   d ssto inAndnd n t last oubwitd itha   \n",
      "An I entr,\n",
      "y aworllyfirI dis rgend    od,ongt bfaiassad quahe y,\n",
      " thive,\n",
      "A    wo, le ias  gre\n",
      "Hg et t waings d by   lowlerherst washerninkep toelloadled   yelaveo w juit g tmor I  one to rvel    a  trd\n",
      "T asse sinat Oh,adsl b\n",
      "Twtra    inoneouler,caupas thk.\n",
      " lehalce:ss    gedbe I coth\n",
      "Behe othlacwayI shen le   vernd as he im,t td bn bow .\n",
      "\n",
      "es one\n",
      "   dih\n",
      "Aar k tclatha\n",
      "Anddeg hack aghe ce.adsbots ftooer or e,\n",
      "trowine bandk tren roel e aen etts fsamad knocomes tooffeTworav on\n",
      "The bh ahe p het er  ag\n",
      "I  di\n"
     ]
    }
   ],
   "source": [
    "print(rotated.tobytes().decode('utf8', 'ignore'))"
   ]
  },
  {
   "cell_type": "markdown",
   "metadata": {},
   "source": [
    "Posterize (i.e., reduce the number of bits per color component):"
   ]
  },
  {
   "cell_type": "code",
   "execution_count": 116,
   "metadata": {},
   "outputs": [
    {
     "data": {
      "image/png": "[encoded data removed]",
      "text/plain": [
       "<PIL.Image.Image image mode=RGB size=160x104>"
      ]
     },
     "execution_count": 116,
     "metadata": {},
     "output_type": "execute_result"
    }
   ],
   "source": [
    "poster = ImageOps.posterize(loaded, 7)\n",
    "poster.resize((loaded.width*8, loaded.height*8))"
   ]
  },
  {
   "cell_type": "code",
   "execution_count": 117,
   "metadata": {
    "scrolled": false
   },
   "outputs": [
    {
     "name": "stdout",
     "output_type": "stream",
     "text": [
      "Tvn rn`dr dhvdrfdd hn ` xdllnv vnnd,\n",
      "@nd rnrrx H bntld nnt tr`vdl bnth\n",
      "@nd bd nnd tr`vdldr, lnnf H rtnnd\n",
      "@nd lnnjdd dnvn nnd `r f`r `r H bntld\n",
      "Tn vhdrd ht bdnt hn thd tnddrfrnvth:\n",
      "\n",
      "Thdn tnnj thd nthdr, `r jtrt `r f`hr,\n",
      "@nd h`vhnf pdrh`pr thd bdttdr bl`hl,\n",
      "Bdb`trd ht v`r fr`rrx `nd v`ntdd vd`r:\n",
      "Thntfh `r fnr th`t thd p`rrhnf thdrd\n",
      "H`d vnrn thdl rd`llx `bntt thd r`ld,\n",
      "\n",
      "@nd bnth th`t lnrnhnf dpt`llx l`x\n",
      "Hn ld`vdr nn rtdp h`d trndddn bl`bj.\n",
      "Nh, H jdpt thd fhrrt fnr `nnthdr d`x \n",
      "Xdt jnnvhnf hnv v`x ld`dr nn tn v`x,\n",
      "H dntbtdd hf H rhntld dvdr bnld b`bj.\n",
      "\n",
      "H rh`ll bd tdllhnf thhr vhth ` rhfh\n",
      "Rnldvhdrd `fdr `nd `fdr hdnbd:\n",
      "Tvn rn`dr dhvdrfdd hn ` vnnd, `nd H,,,\n",
      "H tnnj thd nnd ldrr tr`vdlldd bx,\n",
      "@nd th`t h`r l`dd `ll thd dhffdrdnbd.\n",
      "                                               \n"
     ]
    }
   ],
   "source": [
    "print(poster.tobytes().decode('utf8', 'ignore'))"
   ]
  },
  {
   "cell_type": "markdown",
   "metadata": {},
   "source": [
    "Resize the image:"
   ]
  },
  {
   "cell_type": "code",
   "execution_count": 118,
   "metadata": {},
   "outputs": [
    {
     "name": "stderr",
     "output_type": "stream",
     "text": [
      "/var/folders/8r/3pg241bn1kvbv_hgjl31dyz00000gp/T/ipykernel_19716/121820089.py:1: DeprecationWarning: NEAREST is deprecated and will be removed in Pillow 10 (2023-07-01). Use Resampling.NEAREST or Dither.NONE instead.\n",
      "  resized = loaded.resize((loaded.width*4, loaded.height*4), resample=Image.NEAREST)\n"
     ]
    }
   ],
   "source": [
    "resized = loaded.resize((loaded.width*4, loaded.height*4), resample=Image.NEAREST)"
   ]
  },
  {
   "cell_type": "code",
   "execution_count": 119,
   "metadata": {},
   "outputs": [
    {
     "data": {
      "image/png": "[encoded data removed]",
      "text/plain": [
       "<PIL.Image.Image image mode=RGB size=80x52>"
      ]
     },
     "execution_count": 119,
     "metadata": {},
     "output_type": "execute_result"
    }
   ],
   "source": [
    "resized"
   ]
  },
  {
   "cell_type": "code",
   "execution_count": 120,
   "metadata": {},
   "outputs": [
    {
     "name": "stdout",
     "output_type": "stream",
     "text": [
      "TwoTwoTwoTwo ro ro ro roadsadsadsads di di di diververververgedgedgedged in in in in a  a  a  a yelyelyelyellowlowlowlow wo wo wo wood,od,od,od,\n",
      "An\n",
      "An\n",
      "An\n",
      "And sd sd sd sorrorrorrorry Iy Iy Iy I co co co coulduldulduld no no no not tt tt tt tTwoTwoTwoTwo ro ro ro roadsadsadsads di di di diververververgedgedgedged in in in in a  a  a  a yelyelyelyellowlowlowlow wo wo wo wood,od,od,od,\n",
      "An\n",
      "An\n",
      "An\n",
      "And sd sd sd sorrorrorrorry Iy Iy Iy I co co co coulduldulduld no no no not tt tt tt tTwoTwoTwoTwo ro ro ro roadsadsadsads di di di diververververgedgedgedged in in in in a  a  a  a yelyelyelyellowlowlowlow wo wo wo wood,od,od,od,\n",
      "An\n",
      "An\n",
      "An\n",
      "And sd sd sd sorrorrorrorry Iy Iy Iy I co co co coulduldulduld no no no not tt tt tt tTwoTwoTwoTwo ro ro ro roadsadsadsads di di di diververververgedgedgedged in in in in a  a  a  a yelyelyelyellowlowlowlow wo wo wo wood,od,od,od,\n",
      "An\n",
      "An\n",
      "An\n",
      "And sd sd sd sorrorrorrorry Iy Iy Iy I co co co coulduldulduld no no no not tt tt tt travravravravel el el el botbotbotboth\n",
      "Ah\n",
      "Ah\n",
      "Ah\n",
      "And nd nd nd be be be be oneoneoneone tr tr tr traveaveaveavelerlerlerler, l, l, l, longongongong I  I  I  I stostostostood\n",
      "od\n",
      "od\n",
      "od\n",
      "AndAndAndAnd lo lo lo lookeokeokeoked dd dd dd downownownownravravravravel el el el botbotbotboth\n",
      "Ah\n",
      "Ah\n",
      "Ah\n",
      "And nd nd nd be be be be oneoneoneone tr tr tr traveaveaveavelerlerlerler, l, l, l, longongongong I  I  I  I stostostostood\n",
      "od\n",
      "od\n",
      "od\n",
      "AndAndAndAnd lo lo lo lookeokeokeoked dd dd dd downownownownravravravravel el el el botbotbotboth\n",
      "Ah\n",
      "Ah\n",
      "Ah\n",
      "And nd nd nd be be be be oneoneoneone tr tr tr traveaveaveavelerlerlerler, l, l, l, longongongong I  I  I  I stostostostood\n",
      "od\n",
      "od\n",
      "od\n",
      "AndAndAndAnd lo lo lo lookeokeokeoked dd dd dd downownownownravravravravel el el el botbotbotboth\n",
      "Ah\n",
      "Ah\n",
      "Ah\n",
      "And nd nd nd be be be be oneoneoneone tr tr tr traveaveaveavelerlerlerler, l, l, l, longongongong I  I  I  I stostostostood\n",
      "od\n",
      "od\n",
      "od\n",
      "AndAndAndAnd lo lo lo lookeokeokeoked dd dd dd downownownown on on on one ae ae ae as fs fs fs far ar ar ar as as as as I cI cI cI coulouloulould\n",
      "Td\n",
      "Td\n",
      "Td\n",
      "To wo wo wo wherherherhere ie ie ie it bt bt bt bentententent in in in in th th th the ue ue ue undendendendergrrgrrgrrgrowtowtowtowth;\n",
      "h;\n",
      "h;\n",
      "h;\n",
      " on on on one ae ae ae as fs fs fs far ar ar ar as as as as I cI cI cI coulouloulould\n",
      "Td\n",
      "Td\n",
      "Td\n",
      "To wo wo wo wherherherhere ie ie ie it bt bt bt bentententent in in in in th th th the ue ue ue undendendendergrrgrrgrrgrowtowtowtowth;\n",
      "h;\n",
      "h;\n",
      "h;\n",
      " on on on one ae ae ae as fs fs fs far ar ar ar as as as as I cI cI cI coulouloulould\n",
      "Td\n",
      "Td\n",
      "Td\n",
      "To wo wo wo wherherherhere ie ie ie it bt bt bt bentententent in in in in th th th the ue ue ue undendendendergrrgrrgrrgrowtowtowtowth;\n",
      "h;\n",
      "h;\n",
      "h;\n",
      " on on on one ae ae ae as fs fs fs far ar ar ar as as as as I cI cI cI coulouloulould\n",
      "Td\n",
      "Td\n",
      "Td\n",
      "To wo wo wo wherherherhere ie ie ie it bt bt bt bentententent in in in in th th th the ue ue ue undendendendergrrgrrgrrgrowtowtowtowth;\n",
      "h;\n",
      "h;\n",
      "h;\n",
      "\n",
      "Th\n",
      "Th\n",
      "Th\n",
      "Then en en en tootootootook tk tk tk the he he he othothothother,er,er,er, as as as as ju ju ju just st st st as as as as faifaifaifair,\n",
      "r,\n",
      "r,\n",
      "r,\n",
      "AndAndAndAnd ha ha ha havinvinvinving pg pg pg perherherherhapsapsapsaps th th th th\n",
      "Th\n",
      "Th\n",
      "Th\n",
      "Then en en en tootootootook tk tk tk the he he he othothothother,er,er,er, as as as as ju ju ju just st st st as as as as faifaifaifair,\n",
      "r,\n",
      "r,\n",
      "r,\n",
      "AndAndAndAnd ha ha ha havinvinvinving pg pg pg perherherherhapsapsapsaps th th th th\n",
      "Th\n",
      "Th\n",
      "Th\n",
      "Then en en en tootootootook tk tk tk the he he he othothothother,er,er,er, as as as as ju ju ju just st st st as as as as faifaifaifair,\n",
      "r,\n",
      "r,\n",
      "r,\n",
      "AndAndAndAnd ha ha ha havinvinvinving pg pg pg perherherherhapsapsapsaps th th th th\n",
      "Th\n",
      "Th\n",
      "Th\n",
      "Then en en en tootootootook tk tk tk the he he he othothothother,er,er,er, as as as as ju ju ju just st st st as as as as faifaifaifair,\n",
      "r,\n",
      "r,\n",
      "r,\n",
      "AndAndAndAnd ha ha ha havinvinvinving pg pg pg perherherherhapsapsapsaps th th th the be be be bettettettetter er er er claclaclaclaim,im,im,im,\n",
      "Be\n",
      "Be\n",
      "Be\n",
      "Becaucaucaucause se se se it it it it waswaswaswas gr gr gr grassassassassy ay ay ay and nd nd nd wanwanwanwantedtedtedted we we we wear;ar;ar;ar;\n",
      "Th\n",
      "Th\n",
      "Th\n",
      "Thougougougouge be be be bettettettetter er er er claclaclaclaim,im,im,im,\n",
      "Be\n",
      "Be\n",
      "Be\n",
      "Becaucaucaucause se se se it it it it waswaswaswas gr gr gr grassassassassy ay ay ay and nd nd nd wanwanwanwantedtedtedted we we we wear;ar;ar;ar;\n",
      "Th\n",
      "Th\n",
      "Th\n",
      "Thougougougouge be be be bettettettetter er er er claclaclaclaim,im,im,im,\n",
      "Be\n",
      "Be\n",
      "Be\n",
      "Becaucaucaucause se se se it it it it waswaswaswas gr gr gr grassassassassy ay ay ay and nd nd nd wanwanwanwantedtedtedted we we we wear;ar;ar;ar;\n",
      "Th\n",
      "Th\n",
      "Th\n",
      "Thougougougouge be be be bettettettetter er er er claclaclaclaim,im,im,im,\n",
      "Be\n",
      "Be\n",
      "Be\n",
      "Becaucaucaucause se se se it it it it waswaswaswas gr gr gr grassassassassy ay ay ay and nd nd nd wanwanwanwantedtedtedted we we we wear;ar;ar;ar;\n",
      "Th\n",
      "Th\n",
      "Th\n",
      "Thougougougough ah ah ah as fs fs fs for or or or thathathathat tt tt tt the he he he paspaspaspassinsinsinsing tg tg tg therherherhere\n",
      "He\n",
      "He\n",
      "He\n",
      "Had ad ad ad worworworworn tn tn tn themhemhemhem re re re reallallallally ay ay ay aboubouboubout tt tt tt th ah ah ah as fs fs fs for or or or thathathathat tt tt tt the he he he paspaspaspassinsinsinsing tg tg tg therherherhere\n",
      "He\n",
      "He\n",
      "He\n",
      "Had ad ad ad worworworworn tn tn tn themhemhemhem re re re reallallallally ay ay ay aboubouboubout tt tt tt th ah ah ah as fs fs fs for or or or thathathathat tt tt tt the he he he paspaspaspassinsinsinsing tg tg tg therherherhere\n",
      "He\n",
      "He\n",
      "He\n",
      "Had ad ad ad worworworworn tn tn tn themhemhemhem re re re reallallallally ay ay ay aboubouboubout tt tt tt th ah ah ah as fs fs fs for or or or thathathathat tt tt tt the he he he paspaspaspassinsinsinsing tg tg tg therherherhere\n",
      "He\n",
      "He\n",
      "He\n",
      "Had ad ad ad worworworworn tn tn tn themhemhemhem re re re reallallallally ay ay ay aboubouboubout tt tt tt the he he he samsamsamsame,\n",
      "e,\n",
      "e,\n",
      "e,\n",
      "\n",
      "An\n",
      "An\n",
      "An\n",
      "And bd bd bd bothothothoth th th th that at at at mormormormorninninninning eg eg eg equaquaquaquallyllyllylly la la la lay\n",
      "Iy\n",
      "Iy\n",
      "Iy\n",
      "In ln ln ln leaveaveaveaves es es es no no no no stestestestehe he he he samsamsamsame,\n",
      "e,\n",
      "e,\n",
      "e,\n",
      "\n",
      "An\n",
      "An\n",
      "An\n",
      "And bd bd bd bothothothoth th th th that at at at mormormormorninninninning eg eg eg equaquaquaquallyllyllylly la la la lay\n",
      "Iy\n",
      "Iy\n",
      "Iy\n",
      "In ln ln ln leaveaveaveaves es es es no no no no stestestestehe he he he samsamsamsame,\n",
      "e,\n",
      "e,\n",
      "e,\n",
      "\n",
      "An\n",
      "An\n",
      "An\n",
      "And bd bd bd bothothothoth th th th that at at at mormormormorninninninning eg eg eg equaquaquaquallyllyllylly la la la lay\n",
      "Iy\n",
      "Iy\n",
      "Iy\n",
      "In ln ln ln leaveaveaveaves es es es no no no no stestestestehe he he he samsamsamsame,\n",
      "e,\n",
      "e,\n",
      "e,\n",
      "\n",
      "An\n",
      "An\n",
      "An\n",
      "And bd bd bd bothothothoth th th th that at at at mormormormorninninninning eg eg eg equaquaquaquallyllyllylly la la la lay\n",
      "Iy\n",
      "Iy\n",
      "Iy\n",
      "In ln ln ln leaveaveaveaves es es es no no no no stestestestep hp hp hp had ad ad ad trotrotrotroddeddeddedden bn bn bn blaclaclaclack.\n",
      "k.\n",
      "k.\n",
      "k.\n",
      "Oh,Oh,Oh,Oh, I  I  I  I kepkepkepkept tt tt tt the he he he firfirfirfirst st st st forforforfor an an an anothothothother er er er daydaydayday!\n",
      "Y!\n",
      "Y!\n",
      "Y!\n",
      "Yp hp hp hp had ad ad ad trotrotrotroddeddeddedden bn bn bn blaclaclaclack.\n",
      "k.\n",
      "k.\n",
      "k.\n",
      "Oh,Oh,Oh,Oh, I  I  I  I kepkepkepkept tt tt tt the he he he firfirfirfirst st st st forforforfor an an an anothothothother er er er daydaydayday!\n",
      "Y!\n",
      "Y!\n",
      "Y!\n",
      "Yp hp hp hp had ad ad ad trotrotrotroddeddeddedden bn bn bn blaclaclaclack.\n",
      "k.\n",
      "k.\n",
      "k.\n",
      "Oh,Oh,Oh,Oh, I  I  I  I kepkepkepkept tt tt tt the he he he firfirfirfirst st st st forforforfor an an an anothothothother er er er daydaydayday!\n",
      "Y!\n",
      "Y!\n",
      "Y!\n",
      "Yp hp hp hp had ad ad ad trotrotrotroddeddeddedden bn bn bn blaclaclaclack.\n",
      "k.\n",
      "k.\n",
      "k.\n",
      "Oh,Oh,Oh,Oh, I  I  I  I kepkepkepkept tt tt tt the he he he firfirfirfirst st st st forforforfor an an an anothothothother er er er daydaydayday!\n",
      "Y!\n",
      "Y!\n",
      "Y!\n",
      "Yet et et et knoknoknoknowinwinwinwing hg hg hg how ow ow ow waywaywayway le le le leadsadsadsads on on on on to to to to wa wa wa way,\n",
      "y,\n",
      "y,\n",
      "y,\n",
      "I dI dI dI douboubouboubtedtedtedted if if if if I  I  I  I shoshoshoshoulduldulduld ev ev ev evet et et et knoknoknoknowinwinwinwing hg hg hg how ow ow ow waywaywayway le le le leadsadsadsads on on on on to to to to wa wa wa way,\n",
      "y,\n",
      "y,\n",
      "y,\n",
      "I dI dI dI douboubouboubtedtedtedted if if if if I  I  I  I shoshoshoshoulduldulduld ev ev ev evet et et et knoknoknoknowinwinwinwing hg hg hg how ow ow ow waywaywayway le le le leadsadsadsads on on on on to to to to wa wa wa way,\n",
      "y,\n",
      "y,\n",
      "y,\n",
      "I dI dI dI douboubouboubtedtedtedted if if if if I  I  I  I shoshoshoshoulduldulduld ev ev ev evet et et et knoknoknoknowinwinwinwing hg hg hg how ow ow ow waywaywayway le le le leadsadsadsads on on on on to to to to wa wa wa way,\n",
      "y,\n",
      "y,\n",
      "y,\n",
      "I dI dI dI douboubouboubtedtedtedted if if if if I  I  I  I shoshoshoshoulduldulduld ev ev ev ever er er er comcomcomcome be be be backackackack.\n",
      "\n",
      ".\n",
      "\n",
      ".\n",
      "\n",
      ".\n",
      "\n",
      "I sI sI sI shalhalhalhall bl bl bl be te te te tellellellellinginginging th th th this is is is witwitwitwith ah ah ah a si si si sigh\n",
      "gh\n",
      "gh\n",
      "gh\n",
      "SomSomSomSomewhewhewhewhereereereereer er er er comcomcomcome be be be backackackack.\n",
      "\n",
      ".\n",
      "\n",
      ".\n",
      "\n",
      ".\n",
      "\n",
      "I sI sI sI shalhalhalhall bl bl bl be te te te tellellellellinginginging th th th this is is is witwitwitwith ah ah ah a si si si sigh\n",
      "gh\n",
      "gh\n",
      "gh\n",
      "SomSomSomSomewhewhewhewhereereereereer er er er comcomcomcome be be be backackackack.\n",
      "\n",
      ".\n",
      "\n",
      ".\n",
      "\n",
      ".\n",
      "\n",
      "I sI sI sI shalhalhalhall bl bl bl be te te te tellellellellinginginging th th th this is is is witwitwitwith ah ah ah a si si si sigh\n",
      "gh\n",
      "gh\n",
      "gh\n",
      "SomSomSomSomewhewhewhewhereereereereer er er er comcomcomcome be be be backackackack.\n",
      "\n",
      ".\n",
      "\n",
      ".\n",
      "\n",
      ".\n",
      "\n",
      "I sI sI sI shalhalhalhall bl bl bl be te te te tellellellellinginginging th th th this is is is witwitwitwith ah ah ah a si si si sigh\n",
      "gh\n",
      "gh\n",
      "gh\n",
      "SomSomSomSomewhewhewhewhereereereere ag ag ag ages es es es andandandand ag ag ag ages es es es henhenhenhence:ce:ce:ce:\n",
      "Tw\n",
      "Tw\n",
      "Tw\n",
      "Two ro ro ro roadoadoadoads ds ds ds diveiveiveivergergergerged id id id in an an an a wo wo wo wood,od,od,od, an an an and Id Id Id I------------ ag ag ag ages es es es andandandand ag ag ag ages es es es henhenhenhence:ce:ce:ce:\n",
      "Tw\n",
      "Tw\n",
      "Tw\n",
      "Two ro ro ro roadoadoadoads ds ds ds diveiveiveivergergergerged id id id in an an an a wo wo wo wood,od,od,od, an an an and Id Id Id I------------ ag ag ag ages es es es andandandand ag ag ag ages es es es henhenhenhence:ce:ce:ce:\n",
      "Tw\n",
      "Tw\n",
      "Tw\n",
      "Two ro ro ro roadoadoadoads ds ds ds diveiveiveivergergergerged id id id in an an an a wo wo wo wood,od,od,od, an an an and Id Id Id I------------ ag ag ag ages es es es andandandand ag ag ag ages es es es henhenhenhence:ce:ce:ce:\n",
      "Tw\n",
      "Tw\n",
      "Tw\n",
      "Two ro ro ro roadoadoadoads ds ds ds diveiveiveivergergergerged id id id in an an an a wo wo wo wood,od,od,od, an an an and Id Id Id I------------\n",
      "I \n",
      "I \n",
      "I \n",
      "I tootootootook tk tk tk the he he he oneoneoneone le le le less ss ss ss tratratratravelvelvelvelledledledled by by by by,\n",
      "A,\n",
      "A,\n",
      "A,\n",
      "And nd nd nd thathathathat ht ht ht has as as as madmadmadmade ae ae ae all ll ll ll thethethethe\n",
      "I \n",
      "I \n",
      "I \n",
      "I tootootootook tk tk tk the he he he oneoneoneone le le le less ss ss ss tratratratravelvelvelvelledledledled by by by by,\n",
      "A,\n",
      "A,\n",
      "A,\n",
      "And nd nd nd thathathathat ht ht ht has as as as madmadmadmade ae ae ae all ll ll ll thethethethe\n",
      "I \n",
      "I \n",
      "I \n",
      "I tootootootook tk tk tk the he he he oneoneoneone le le le less ss ss ss tratratratravelvelvelvelledledledled by by by by,\n",
      "A,\n",
      "A,\n",
      "A,\n",
      "And nd nd nd thathathathat ht ht ht has as as as madmadmadmade ae ae ae all ll ll ll thethethethe\n",
      "I \n",
      "I \n",
      "I \n",
      "I tootootootook tk tk tk the he he he oneoneoneone le le le less ss ss ss tratratratravelvelvelvelledledledled by by by by,\n",
      "A,\n",
      "A,\n",
      "A,\n",
      "And nd nd nd thathathathat ht ht ht has as as as madmadmadmade ae ae ae all ll ll ll thethethethe di di di diffeffeffefferenrenrenrence.ce.ce.ce.\n",
      "  \n",
      "  \n",
      "  \n",
      "                                                                                                                                                                                       di di di diffeffeffefferenrenrenrence.ce.ce.ce.\n",
      "  \n",
      "  \n",
      "  \n",
      "                                                                                                                                                                                       di di di diffeffeffefferenrenrenrence.ce.ce.ce.\n",
      "  \n",
      "  \n",
      "  \n",
      "                                                                                                                                                                                       di di di diffeffeffefferenrenrenrence.ce.ce.ce.\n",
      "  \n",
      "  \n",
      "  \n",
      "                                                                                                                                                                                      \n"
     ]
    }
   ],
   "source": [
    "print(resized.tobytes().decode('utf8', 'ignore'))"
   ]
  },
  {
   "cell_type": "markdown",
   "metadata": {},
   "source": [
    "## Text as audio\n",
    "\n",
    "Because text is just bytes, we can also convert it to be audible. The following cell uses Jupyter Notebook's built-in *Audio* widget to let you \"listen\" to the bytes. It does this by first converting the bytes to an array floating-point values:"
   ]
  },
  {
   "cell_type": "code",
   "execution_count": 121,
   "metadata": {},
   "outputs": [],
   "source": [
    "from IPython.display import Audio"
   ]
  },
  {
   "cell_type": "code",
   "execution_count": 122,
   "metadata": {},
   "outputs": [
    {
     "data": {
      "text/html": [
       "\n",
       "                <audio  controls=\"controls\" >\n",
       "                    <source src=\"data:audio/wav;base64,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\" type=\"audio/wav\" />\n",
       "                    Your browser does not support the audio element.\n",
       "                </audio>\n",
       "              "
      ],
      "text/plain": [
       "<IPython.lib.display.Audio object>"
      ]
     },
     "execution_count": 122,
     "metadata": {},
     "output_type": "execute_result"
    }
   ],
   "source": [
    "Audio([(val-127)/128 for val in text_bytes], rate=1000)"
   ]
  }
 ],
 "metadata": {
  "kernelspec": {
   "display_name": "Python 3 (ipykernel)",
   "language": "python",
   "name": "python3"
  },
  "language_info": {
   "codemirror_mode": {
    "name": "ipython",
    "version": 3
   },
   "file_extension": ".py",
   "mimetype": "text/x-python",
   "name": "python",
   "nbconvert_exporter": "python",
   "pygments_lexer": "ipython3",
   "version": "3.9.16"
  }
 },
 "nbformat": 4,
 "nbformat_minor": 2
}
