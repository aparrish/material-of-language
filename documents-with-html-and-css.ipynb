{
 "cells": [
  {
   "cell_type": "markdown",
   "id": "38e7cf14",
   "metadata": {},
   "source": [
    "# How to make documents with HTML and CSS\n",
    "\n",
    "by [Allison Parrish](https://www.decontextualize.com/)\n",
    "\n",
    "This is a short guide to writing HTML and CSS. The goal of the guide is to introduce you to the basic concepts and get you up and running as quickly as possible with useful bits of code. This guide is targeted at people who have little or no experience with writing code, though you may want to become familiar with the concept of a [text editor](https://developer.mozilla.org/en-US/docs/Learn/Common_questions/Tools_and_setup/What_software_do_I_need#dig_deeper) before you begin.\n",
    "\n",
    "These notes take the form of a [Juypter Notebook](https://jupyter.org/), but you don't have to have Jupyter Notebook in order to read and follow along! If you do happen to be using Jupyter Notebook, you can edit the cells with HTML code and run them to see the rendered output below the example code. (Note that the `%%html --isolated` bits in the examples below is a part of Jupyter Notebook syntax, and isn't required when you're writing HTML.)\n",
    "\n",
    "There are many ways to author documents on a computer: word processors, typesetting systems like LaTeX, page design software like Adobe InDesign, etc. The combination of HTML and CSS has a number of important advantages in comparison to these systems. First, HTML and CSS are both open standards that are not owned by anyone—you don't have to rent them or license them. Second, HTML and CSS are designed with accessibility in mind: HTML documents are intended to be device-neutral and legible using any number of devices and renders (including screen readers). Finally, HTML documents can be viewed anywhere you have a web browser. And even, like, your toaster has a web browser in it nowadays, for better or worse.\n",
    "\n",
    "## HTML: an overview\n",
    "\n",
    "HTML stands for “HyperText Markup Language,” and that’s a pretty good description of what it is. HTML allows you to take plain text documents and “mark them up” with a language that gives extra meaning to the text, above and beyond the meaning of the letters and words themselves. This meaning is typically reflected in the way the document is rendered visually (via, e.g., different font styles and sizes). Essentially, HTML is a typesetting tool for the web.\n",
    "\n",
    "Nearly every document that you look at on the Internet is written in HTML. Most browsers allow you to examine the HTML source code of any web page you visit. In Chrome, you can do so by right-clicking (or ctrl+click) on the web browser window and select “View Source.” (Try it with this web page right now, or some other page you have open in your web browser.) Your web browser knows how to interpret this jumble of weird-looking characters and render the page to the screen (or other media, as we'll discover later).\n",
    "\n",
    "The task before us: learn how to write HTML so that web browsers can interpret our hopes, dreams and desires for what a web page should look like.\n",
    "\n",
    "### What HTML looks like\n",
    "\n",
    "HTML consists of a series of tags. Tags have a name, a series of key/value pairs called attributes, and some textual content. Attributes are optional. Here’s a simple example, using the HTML `<p>` tag (`p` means “paragraph”):"
   ]
  },
  {
   "cell_type": "code",
   "execution_count": 8,
   "id": "d141815f",
   "metadata": {},
   "outputs": [
    {
     "data": {
      "text/html": [
       "<p>Mother said there'd be days like these.</p>\n"
      ],
      "text/plain": [
       "<IPython.core.display.HTML object>"
      ]
     },
     "metadata": {
      "text/html": {
       "isolated": true
      }
     },
     "output_type": "display_data"
    }
   ],
   "source": [
    "%%html --isolated\n",
    "<p>Mother said there'd be days like these.</p>"
   ]
  },
  {
   "cell_type": "markdown",
   "id": "03c02472",
   "metadata": {},
   "source": [
    "(**Note**: In examples like the one above, the rendered HTML is shown underneath the code. The `%%html --isolated` syntax is a bit of Jupyter Notebook that allows you to display HTML inside of the notebook itself. **Do not** include this syntax when writing HTML outside of a Jupyter Notebook!)"
   ]
  },
  {
   "cell_type": "markdown",
   "id": "15a4b196",
   "metadata": {},
   "source": [
    "#### Tag anatomy\n",
    "\n",
    "This example has just one tag in it: a `<p>` tag. The source code for a tag has two parts, its opening tag (`<p>`) and its closing tag (`</p>`). In between the opening and closing tag, you see the tag’s contents (in this case, the text Mother said there'd be days like these.).\n",
    "\n",
    "Here’s another example, using the HTML `<div>` tag:"
   ]
  },
  {
   "cell_type": "code",
   "execution_count": 13,
   "id": "0cbaf453",
   "metadata": {},
   "outputs": [
    {
     "data": {
      "text/html": [
       "<div class=\"header\" style=\"background: cyan;\">Mammoth Falls</div>\n"
      ],
      "text/plain": [
       "<IPython.core.display.HTML object>"
      ]
     },
     "metadata": {
      "text/html": {
       "isolated": true
      }
     },
     "output_type": "display_data"
    }
   ],
   "source": [
    "%%html --isolated\n",
    "<div class=\"header\" style=\"background: cyan;\">Mammoth Falls</div>"
   ]
  },
  {
   "cell_type": "markdown",
   "id": "b5a9d4b6",
   "metadata": {},
   "source": [
    "In this example, the tag’s name is `div`. The tag has two attributes: `class`, with value `header`, and `style`, with value `background: cyan;`. The content of this tag is `Mammoth Falls`.\n",
    "\n",
    "#### Tag relationships\n",
    "\n",
    "Tags can contain other tags, in a hierarchical relationship. For example, here’s some HTML to make a bulletted list:"
   ]
  },
  {
   "cell_type": "code",
   "execution_count": 14,
   "id": "ff88be2a",
   "metadata": {},
   "outputs": [
    {
     "data": {
      "text/html": [
       "<ul>\n",
       "  <li>Item one</li>\n",
       "  <li>Item two</li>\n",
       "  <li>Item three</li>\n",
       "</ul>\n"
      ],
      "text/plain": [
       "<IPython.core.display.HTML object>"
      ]
     },
     "metadata": {
      "text/html": {
       "isolated": true
      }
     },
     "output_type": "display_data"
    }
   ],
   "source": [
    "%%html --isolated\n",
    "<ul>\n",
    "  <li>Item one</li>\n",
    "  <li>Item two</li>\n",
    "  <li>Item three</li>\n",
    "</ul>"
   ]
  },
  {
   "cell_type": "markdown",
   "id": "cd51c77c",
   "metadata": {},
   "source": [
    "The `<ul>` tag (ul stands for “unordered list”) in this example has three other `<li>` tags inside of it (li stands for “list item”). The `<ul>` tag is said to be the “parent” of the `<li>` tags, and the `<li>` tags are the “children” of the `<ul>` tag. All tags grouped under a particular parent tag are called “siblings.”\n",
    "\n",
    "There are dozens of HTML tags. One of the biggest parts of reading and writing HTML is learning all of the various “tags” and what they mean.\n",
    "\n",
    "### An example \n",
    "\n",
    "Let's look an example HTML page. I designed this page to demonstrate how HTML works. It's not a very sophisticated page, but it's a good start! It's called [Kittens and the TV Shows They Love](http://static.decontextualize.com/kittens.html). Click on the page and have a look.\n",
    "\n",
    "Now let's go over the source code, reproduced below:\n",
    "\n",
    "\t<!doctype html>\n",
    "\t<html>\n",
    "\t  <head>\n",
    "\t    <title>Kittens!</title>\n",
    "\t    <style type=\"text/css\">\n",
    "\t      span.lastcheckup { font-family: \"Courier\", fixed; font-size: 11px; }\n",
    "\t    </style>\n",
    "\t  </head>\n",
    "\t  <body>\n",
    "\t    <h1>Kittens and the TV Shows They Love</h1>\n",
    "\t    <div class=\"kitten\">\n",
    "\t      <h2>Fluffy</h2>\n",
    "\t      <div><img src=\"http://placekitten.com/120/120\"></div>\n",
    "\t      <ul class=\"tvshows\">\n",
    "\t        <li>\n",
    "\t          <a href=\"http://www.imdb.com/title/tt0106145/\">Deep Space Nine</a>\n",
    "\t        </li>\n",
    "\t        <li>\n",
    "\t          <a href=\"http://www.imdb.com/title/tt0088576/\">Mr. Belvedere</a>\n",
    "\t        </li>\n",
    "\t      </ul>\n",
    "\t      Last check-up: <span class=\"lastcheckup\">2014-01-17</span>\n",
    "\t    </div>\n",
    "\t    <div class=\"kitten\">\n",
    "\t      <h2>Monsieur Whiskeurs</h2>\n",
    "\t      <div><img src=\"http://placekitten.com/110/110\"></div>\n",
    "\t      <ul class=\"tvshows\">\n",
    "\t        <li>\n",
    "\t          <a href=\"http://www.imdb.com/title/tt0106179/\">The X-Files</a>\n",
    "\t        </li>\n",
    "\t        <li>\n",
    "\t          <a href=\"http://www.imdb.com/title/tt0098800/\">Fresh Prince</a>\n",
    "\t        </li>\n",
    "\t      </ul>\n",
    "\t      Last check-up: <span class=\"lastcheckup\">2013-11-02</span>\n",
    "\t    </div>\n",
    "\t  </body>\n",
    "\t</html>\n",
    "\n",
    "This is pretty well organized HTML, but if you don't know how to read HTML, it will still look like a big jumble. Here's how I would characterize the structure of this HTML, reading in my own idea of what the meaning of the elements are.\n",
    "\n",
    "* The `<!doctype html>` at the top of the file is a special line that tells the browser what kind of document this is (its \"doctype\").\n",
    "* The `<html>` tag is the \"root\" element of the document. HTML documents almost always have an `<html>` tag that contains everything else.\n",
    "* The `<head>` and `<body>` tags also have a special meaning: the `<head>` tag contains \"header\" information about the document---things that are important for the browser to understand the document, but that don't get displayed on the page, like the document's title (enclosed in a `<title>` tag), which shows up in the title bar of the browser window. The `<body>` tag is the parent tag of all the elements that are to be displayed on the page.\n",
    "* The `<h1>` tag means \"Header, Level 1.\" We'll talk more about the meaning of this tag later, but the main effect it has is to make the text inside the tag appear very large and in bold on the page.\n",
    "* We have two \"kittens,\" both of which are contained in `<div>` tags with class `kitten`. (The `<div>` tag means \"division\"---it's a neutral way of saying \"this is a bunch of related stuff on the page.\")\n",
    "* Each \"kitten\" `<div>` has an `<h2>` tag (\"Header, Level 2\") with that\n",
    "kitten's name.\n",
    "* There's an image for each kitten, specified with an `<img>` tag. The `src` attribute of the `<img>` tag specifies where the browser should look for the image of the kitten.\n",
    "* Each kitten has a list (a `<ul>` with class `tvshows`) of television shows, contained within `<li>` tags.\n",
    "* Those list items themselves have links (`<a>` tags) with an `href` attribute that contains a link to an IMDB entry for that show.\n",
    "\n",
    "> BONUS QUIZ: What's the parent tag of `<a href=\"http://www.imdb.com/title/tt0088576/\">Mr. Belvedere</a>`? Both `<div class=\"kitten\">` tags share a parent tag---what is it? What attributes are present on both `<img>` tags?"
   ]
  },
  {
   "cell_type": "markdown",
   "id": "46bd52f8",
   "metadata": {},
   "source": [
    "### HTML is meant to be \"semantic\" markup\n",
    "\n",
    "When marking up a text file with HTML, the goal to aim for is to use your\n",
    "markup to indicate what a particular stretch of text *means*---not to dictate\n",
    "how it *looks*. (There's a whole separate language---CSS--to control how\n",
    "elements look.) This is called \"semantic\" markup. The idea is that by\n",
    "marking up what a document means, many different kinds of computer programs\n",
    "(traditional browsers, for example, but also things like screen readers,\n",
    "web scrapers, other kinds of automated agents) will be able to reliably use\n",
    "your marked up text as a source of information.\n",
    "\n",
    "Marking up your text semantically also makes it easier to make changes to the\n",
    "text's later. Here's an example. Say you've been writing an essay for a class\n",
    "in Microsoft Word, and your instructor initially said that every paragraph in\n",
    "the text should be separated from the next with a blank line. Okay, you say,\n",
    "and go ahead and insert extra hard returns between each paragraph in your\n",
    "essay:\n",
    "\n",
    "![Some paragraphs](https://hypertext.decontextualize.com/public/paragraphs1.png)\n",
    "\n",
    "Later you get an e-mail from the instructor (who is a little scatterbrained but everyone loves her regardless) that tells you that instead your paragraphs should be indented one tab over, and that there shouldn't be any blank lines between them. Okay, you say, and go back through the essay, getting rid of the blank lines and inserting tabs:\n",
    "\n",
    "![Is this good enough for you, instructor?!](https://hypertext.decontextualize.com/public/paragraphs2.png)\n",
    "\n",
    "Later still you get another e-mail from the instructor (quite clearly embarrassed about having to inconvenience you a second time) saying that now paragraphs should alternate between tabbed over and not tabbed over, and every other paragraph should be in bold, 24 point Comic Sans. Exasperated, you go back through the document and make all those changes:\n",
    "\n",
    "![Wait, why did I sign up for this class again?](https://hypertext.decontextualize.com/public/paragraphs3.png)\n",
    "\n",
    "At some point, making changes like this gets ridiculous. One solution is this:\n",
    "what if you simply marked a stretch of text as a \"paragraph,\" without specifying exactly WHAT a paragraph looks like? Then, later, you could come up with a set of rules that says \"when I have a paragraph in my document, make it look like THIS.\" That way, when your strange instructor requests arbitrary changes to the style of your document, you only have to make changes in one place.\n",
    "\n",
    "Schematically, all that looks like this:\n",
    "\n",
    "![Document, renderer, output](https://hypertext.decontextualize.com/public/semanticworkflow.png)\n",
    "\n",
    "You write the document with semantic markup, then put it in the \"renderer\"\n",
    "which decides how to translate the semantic document into some visual\n",
    "representation (the \"output\"). When we're talking about web pages, the\n",
    "HTML file is the \"document semantic markup,\" the renderer is the web browser,\n",
    "and the output is what you see on screen.\n",
    "\n",
    "(The genius of this process is that multiple \"renderers\" can interpret your\n",
    "document. Even renderers that you don't know about. The \"renderer\" doesn't\n",
    "even have to be a web browser at all! You might write a renderer that, e.g.,\n",
    "turned an HTML file into an audiobook, or made it accessible on different kinds\n",
    "of devices other than computers, or that automatically extracts information\n",
    "from the document in order to summarize it, etc. etc. etc.)\n",
    "\n",
    "### Some tags and their meanings\n",
    "\n",
    "We don't need to go through every possible HTML tag. Check out the [MDN HTML element reference](https://developer.mozilla.org/en-US/docs/Web/HTML/Element) for a complete list. But here's a high-level introduction to some of the tags you'll be most likely to see.\n",
    "\n",
    "#### Headers\n",
    "\n",
    "There are six tags called `<hN>`, where `N` is 1, 2, 3, 4, 5 or 6. These are\n",
    "\"header\" tags, used to represent headings of sections in your document. The\n",
    "`<h1>` tag marks the most important header, `<h2>` marks subheaders of the\n",
    "`<h1>`, and `<h3>` is used for subheaders in the `<h2>` section, etc. (Why only\n",
    "6? I guess the creators of HTML figured that when you reach a\n",
    "sub-sub-sub-sub-subsection, you should probably stop trying to organize your\n",
    "document so thoroughly.)\n",
    "\n",
    "Example:"
   ]
  },
  {
   "cell_type": "code",
   "execution_count": 128,
   "id": "36a95b3d",
   "metadata": {},
   "outputs": [
    {
     "data": {
      "text/html": [
       "<h1>The Constitution of the United States</h1>\n",
       "<h2>Article I.</h2>\n",
       "<h3>Section I.</h3>\n",
       "<p>All legislative Powers herein granted shall be vested in a magical\n",
       "    aardvark, sent from space to rescue us all.</p>\n",
       "<h3>Section II.</h3>\n",
       "<p>The space aardvark shall be composed of sugar, spice, and\n",
       "    everything nice.</p>\n"
      ],
      "text/plain": [
       "<IPython.core.display.HTML object>"
      ]
     },
     "metadata": {
      "text/html": {
       "isolated": true
      }
     },
     "output_type": "display_data"
    }
   ],
   "source": [
    "%%html --isolated\n",
    "<h1>The Constitution of the United States</h1>\n",
    "<h2>Article I.</h2>\n",
    "<h3>Section I.</h3>\n",
    "<p>All legislative Powers herein granted shall be vested in a magical\n",
    "    aardvark, sent from space to rescue us all.</p>\n",
    "<h3>Section II.</h3>\n",
    "<p>The space aardvark shall be composed of sugar, spice, and\n",
    "    everything nice.</p>"
   ]
  },
  {
   "cell_type": "markdown",
   "id": "eae45b12",
   "metadata": {},
   "source": [
    "#### Paragraphs\n",
    "\n",
    "The \"p\" in `<p>` means \"paragraph.\" Use this tag to surround paragraphs in\n",
    "your document.\n",
    "\n",
    "Example:"
   ]
  },
  {
   "cell_type": "code",
   "execution_count": 129,
   "id": "aea9d4e9",
   "metadata": {},
   "outputs": [
    {
     "data": {
      "text/html": [
       "<p>It is a truth universally acknowledged, that a single aardvark in\n",
       "possession of a good spaceship, must be in want of a matter/antimatter\n",
       "annihilation device.</p>\n",
       "\n",
       "<p>However little known the feelings or views of such an aardvark may be on\n",
       "his first entering a neighbourhood, this truth is so well fixed in the minds\n",
       "of the surrounding families, that he is considered the rightful property of\n",
       "some one or other of their betentacled offspring.</p>\n"
      ],
      "text/plain": [
       "<IPython.core.display.HTML object>"
      ]
     },
     "metadata": {
      "text/html": {
       "isolated": true
      }
     },
     "output_type": "display_data"
    }
   ],
   "source": [
    "%%html --isolated\n",
    "<p>It is a truth universally acknowledged, that a single aardvark in\n",
    "possession of a good spaceship, must be in want of a matter/antimatter\n",
    "annihilation device.</p>\n",
    "\n",
    "<p>However little known the feelings or views of such an aardvark may be on\n",
    "his first entering a neighbourhood, this truth is so well fixed in the minds\n",
    "of the surrounding families, that he is considered the rightful property of\n",
    "some one or other of their betentacled offspring.</p>"
   ]
  },
  {
   "cell_type": "markdown",
   "id": "bc47e11c",
   "metadata": {},
   "source": [
    "#### Lists\n",
    "\n",
    "Often when writing a document, you want to give a list of things. HTML\n",
    "provides two ways write such lists: the `<ol>` tag and the `<ul>` tag. Use `<ol>` for ordered lists (with numbers preceding each item) and `<ul>` for unordered lists (with bullet points).\n",
    "Individual element in the list is represented by an `<li>` tag. Here's an ordered list:"
   ]
  },
  {
   "cell_type": "code",
   "execution_count": 130,
   "id": "cbdd4e24",
   "metadata": {},
   "outputs": [
    {
     "data": {
      "text/html": [
       "<ol>\n",
       "    <li>Camembert</li>\n",
       "    <li>Cheddar</li>\n",
       "    <li>Casu marzu</li>\n",
       "    <li>Cotswald</li>\n",
       "</ol>\n"
      ],
      "text/plain": [
       "<IPython.core.display.HTML object>"
      ]
     },
     "metadata": {
      "text/html": {
       "isolated": true
      }
     },
     "output_type": "display_data"
    }
   ],
   "source": [
    "%%html --isolated\n",
    "<ol>\n",
    "    <li>Camembert</li>\n",
    "    <li>Cheddar</li>\n",
    "    <li>Casu marzu</li>\n",
    "    <li>Cotswald</li>\n",
    "</ol>"
   ]
  },
  {
   "cell_type": "markdown",
   "id": "c39a7686",
   "metadata": {},
   "source": [
    "(The `<ol>` tag is another great example of the power of abstracting the\n",
    "meaning of your document away from its presentation: the browser takes care\n",
    "of actually displaying the numbers for each item, so you don't have to\n",
    "update the numbers if you put new items in the list!)\n",
    "\n",
    "And here's an unordered list:"
   ]
  },
  {
   "cell_type": "code",
   "execution_count": 131,
   "id": "d78dbc58",
   "metadata": {},
   "outputs": [
    {
     "data": {
      "text/html": [
       "<ul>\n",
       "    <li>Head</li>\n",
       "    <li>Shoulders</li>\n",
       "    <li>Knees</li>\n",
       "    <li>Toes</li>\n",
       "</ul>\n"
      ],
      "text/plain": [
       "<IPython.core.display.HTML object>"
      ]
     },
     "metadata": {
      "text/html": {
       "isolated": true
      }
     },
     "output_type": "display_data"
    }
   ],
   "source": [
    "%%html --isolated\n",
    "<ul>\n",
    "    <li>Head</li>\n",
    "    <li>Shoulders</li>\n",
    "    <li>Knees</li>\n",
    "    <li>Toes</li>\n",
    "</ul>"
   ]
  },
  {
   "cell_type": "markdown",
   "id": "83a620f1",
   "metadata": {},
   "source": [
    "#### Strong\n",
    "\n",
    "The `<strong>` tag indicates text that is of higher importance than the\n",
    "surrounding text because of its meaning. Usually, browsers will render this\n",
    "in bold. Example:"
   ]
  },
  {
   "cell_type": "code",
   "execution_count": 132,
   "id": "e295ef12",
   "metadata": {},
   "outputs": [
    {
     "data": {
      "text/html": [
       "<p>Pay <strong>very close</strong> attention to this example.</p>\n"
      ],
      "text/plain": [
       "<IPython.core.display.HTML object>"
      ]
     },
     "metadata": {
      "text/html": {
       "isolated": true
      }
     },
     "output_type": "display_data"
    }
   ],
   "source": [
    "%%html --isolated\n",
    "<p>Pay <strong>very close</strong> attention to this example.</p>"
   ]
  },
  {
   "cell_type": "markdown",
   "id": "931821bc",
   "metadata": {},
   "source": [
    "#### Emphasized\n",
    "\n",
    "This tag is used to indicate text that is emphasized, perhaps because of the\n",
    "way it's meant to be read aloud. It's usually rendered as italic text. Example:"
   ]
  },
  {
   "cell_type": "code",
   "execution_count": 133,
   "id": "e03c28d5",
   "metadata": {},
   "outputs": [
    {
     "data": {
      "text/html": [
       "<p>Put your laptop lids <em>down</em> please.</p>\n"
      ],
      "text/plain": [
       "<IPython.core.display.HTML object>"
      ]
     },
     "metadata": {
      "text/html": {
       "isolated": true
      }
     },
     "output_type": "display_data"
    }
   ],
   "source": [
    "%%html --isolated\n",
    "<p>Put your laptop lids <em>down</em> please.</p>"
   ]
  },
  {
   "cell_type": "markdown",
   "id": "04002447",
   "metadata": {},
   "source": [
    "#### Divisions and spans\n",
    "\n",
    "Sometimes there isn't an HTML tag that matches up exactly with your intended meaning. In those cases, you can use the `<div>` tag or the `<span>` tag. The `<div>` tag is a block-level element and the `<span>` tag is an inline element. We haven't talked about the distinction between these yet, but I promise it will become clear in due time. Here's an example of these tags in use:"
   ]
  },
  {
   "cell_type": "code",
   "execution_count": 134,
   "id": "77e10b23",
   "metadata": {},
   "outputs": [
    {
     "data": {
      "text/html": [
       "<div>I have this thing where I get older, <span>but just never wiser</span>.</div>\n"
      ],
      "text/plain": [
       "<IPython.core.display.HTML object>"
      ]
     },
     "metadata": {
      "text/html": {
       "isolated": true
      }
     },
     "output_type": "display_data"
    }
   ],
   "source": [
    "%%html --isolated\n",
    "<div>I have this thing where I get older, <span>but just never wiser</span>.</div>"
   ]
  },
  {
   "cell_type": "markdown",
   "id": "0bd4894a",
   "metadata": {},
   "source": [
    "That's weird! The tags didn't make the text look different. That's because `<div>` and `<span>` don't have default styles, unlike most other HTML tags! What's a \"style,\" you ask? Well, I'm about to tell you. Hold your horses."
   ]
  },
  {
   "cell_type": "markdown",
   "id": "52b34cce",
   "metadata": {},
   "source": [
    "## Style with CSS\n",
    "\n",
    "Most elements have a \"style\" associated with them: rules for what\n",
    "that element should look like when it's rendered on the screen. Browsers have\n",
    "built-in style rules: by default, for example, an `<h1>` tag is displayed in a\n",
    "large, bold font, and an `<h2>` tag is displayed in a large font that is\n",
    "nonetheless slightly smaller than `<h1>`; an `<li>` tag is displayed with a\n",
    "little dot off to the side; an `<a>` tag has its text colored blue and\n",
    "underlined.\n",
    "\n",
    "But we can also *change* the way that HTML elements look, either on a\n",
    "tag-by-tag basis, or by making rules that apply to whole categories of tags.\n",
    "The language that we do this with is called\n",
    "[CSS](http://en.wikipedia.org/wiki/Cascading_Style_Sheets) (\"Cascading Style\n",
    "Sheets\").\n",
    "\n",
    "CSS (\"Cascading Style Sheets\") is a simple language for adding style\n",
    "information to elements in an HTML document. By \"style\" I mean any information\n",
    "about how the element should look, instead of what it means. That includes\n",
    "things like:\n",
    "\n",
    "* How big should the font be? Should the text be plain, bold, italic?\n",
    "* How wide and tall should the element be?\n",
    "* Should the element have some space around it, like a margin?\n",
    "* How about a border?\n",
    "* Should the text in the element be aligned in a particular way? To the left, to the right, centered?\n",
    "\n",
    "### CSS properties\n",
    "\n",
    "The way you work with CSS is by assigning `values` to the CSS `properties` of\n",
    "elements. The [MDN CSS Reference](https://developer.mozilla.org/en-US/docs/Web/CSS/Reference) has an exhaustive list of CSS properties. Every property has its own rules about what values are\n",
    "acceptable. Learning CSS is a matter of learning which properties are\n",
    "available, what those properties do, and what values you can assign to them.\n",
    "\n",
    "A property definition looks like this:\n",
    "\n",
    "\tproperty-name: property-value;\n",
    "\n",
    "... replacing `property-name` with the name of the property you want to set,\n",
    "and `property-value` with the value you want to set for that property. Let's\n",
    "take, for example, the [`color` property](https://developer.mozilla.org/en-US/docs/Web/CSS/color), which sets the color of text inside an element. To set the value for this property to `red`, you would write:\n",
    "\n",
    "\tcolor: red;\n",
    "\n",
    "Some properties have more sophisticated ways of specifying their value. For\n",
    "example, [the `border` property](https://developer.mozilla.org/en-US/docs/Web/CSS/border), which sets the color and size of an element's border, takes multiple values, separated by spaces. Like this:\n",
    "\n",
    "\tborder: 1px black solid;\n",
    "\n",
    "We'll go over some of the more useful properties below and give examples of how\n",
    "to set their values below. But don't be afraid to experiment!\n",
    "\n",
    "### Styling individual elements\n",
    "\n",
    "Of course, it's not enough to just write CSS properties out in the ether. We\n",
    "need something to set the CSS property on! The easiest way to add style to an\n",
    "element is by putting CSS properties directly into the tag's `style` attribute.\n",
    "For example, take a `<p>` tag"
   ]
  },
  {
   "cell_type": "code",
   "execution_count": 31,
   "id": "b8cfbc1d",
   "metadata": {},
   "outputs": [
    {
     "data": {
      "text/html": [
       "<p>One of literature's finest paragraphs.</p>\n"
      ],
      "text/plain": [
       "<IPython.core.display.HTML object>"
      ]
     },
     "metadata": {
      "text/html": {
       "isolated": true
      }
     },
     "output_type": "display_data"
    }
   ],
   "source": [
    "%%html --isolated\n",
    "<p>One of literature's finest paragraphs.</p>"
   ]
  },
  {
   "cell_type": "markdown",
   "id": "6b04c0a7",
   "metadata": {},
   "source": [
    "We can change the color of this text by putting a CSS property inside of the\n",
    "element's `style` attribute:"
   ]
  },
  {
   "cell_type": "code",
   "execution_count": 32,
   "id": "138b2652",
   "metadata": {},
   "outputs": [
    {
     "data": {
      "text/html": [
       "<p style=\"color: red;\">One of literature's finest paragraphs.</p>\n"
      ],
      "text/plain": [
       "<IPython.core.display.HTML object>"
      ]
     },
     "metadata": {
      "text/html": {
       "isolated": true
      }
     },
     "output_type": "display_data"
    }
   ],
   "source": [
    "%%html --isolated\n",
    "<p style=\"color: red;\">One of literature's finest paragraphs.</p>"
   ]
  },
  {
   "cell_type": "markdown",
   "id": "5e56a063",
   "metadata": {},
   "source": [
    "Or, we could set the paragraph's background color:"
   ]
  },
  {
   "cell_type": "code",
   "execution_count": 33,
   "id": "47a7cacb",
   "metadata": {},
   "outputs": [
    {
     "data": {
      "text/html": [
       "<p style=\"background: yellow;\">One of literature's finest paragraphs.</p>\n"
      ],
      "text/plain": [
       "<IPython.core.display.HTML object>"
      ]
     },
     "metadata": {
      "text/html": {
       "isolated": true
      }
     },
     "output_type": "display_data"
    }
   ],
   "source": [
    "%%html --isolated\n",
    "<p style=\"background: yellow;\">One of literature's finest paragraphs.</p>"
   ]
  },
  {
   "cell_type": "markdown",
   "id": "5bf92359",
   "metadata": {},
   "source": [
    "You can also set more than one property in the same `style` attribute, like\n",
    "so:"
   ]
  },
  {
   "cell_type": "code",
   "execution_count": 34,
   "id": "765f3a38",
   "metadata": {},
   "outputs": [
    {
     "data": {
      "text/html": [
       "<p style=\"color: red; background: yellow;\">One of literature's finest paragraphs.</p>\n"
      ],
      "text/plain": [
       "<IPython.core.display.HTML object>"
      ]
     },
     "metadata": {
      "text/html": {
       "isolated": true
      }
     },
     "output_type": "display_data"
    }
   ],
   "source": [
    "%%html --isolated\n",
    "<p style=\"color: red; background: yellow;\">One of literature's finest paragraphs.</p>"
   ]
  },
  {
   "cell_type": "markdown",
   "id": "30486d01",
   "metadata": {},
   "source": [
    "Let's add one more attribute, to set the size of the font in the paragraph:"
   ]
  },
  {
   "cell_type": "code",
   "execution_count": 35,
   "id": "0d89b433",
   "metadata": {},
   "outputs": [
    {
     "data": {
      "text/html": [
       "<p style=\"color: red; background: yellow; font-size: 24px;\">One of literature's finest paragraphs.</p>\n"
      ],
      "text/plain": [
       "<IPython.core.display.HTML object>"
      ]
     },
     "metadata": {
      "text/html": {
       "isolated": true
      }
     },
     "output_type": "display_data"
    }
   ],
   "source": [
    "%%html --isolated\n",
    "<p style=\"color: red; background: yellow; font-size: 24px;\">One of literature's finest paragraphs.</p>"
   ]
  },
  {
   "cell_type": "markdown",
   "id": "99b662f9",
   "metadata": {},
   "source": [
    "### Types and units in CSS\n",
    "\n",
    "As you can see above, the values for CSS properties can look very different\n",
    "from each other, and also sometimes have arcane little letters at the\n",
    "end of them (what's `px`, for example)? Let's explain a few of them, in\n",
    "particular those that are used in a number of different properties.\n",
    "\n",
    "#### Colors\n",
    "\n",
    "Colors in CSS can be specified in a number of ways; here are some of the most\n",
    "common:\n",
    "\n",
    "* using a [color name](https://developer.mozilla.org/en-US/docs/Web/CSS/named-color) (like `red`, `green`, `white`, `black`, etc.);\n",
    "* using `rgb(r, g, b)` where `r`, `g`, and `b` are either integers from 0 to 255 or percentages from 0% to 100%;\n",
    "* or using #RRGGBB, where `RR`, `GG`, and `BB` are two-digit hexadecimal numbers.\n",
    "\n",
    "Read [MDN's documentation on the CSS color type](https://developer.mozilla.org/en-US/docs/Web/CSS/color_value) for more information, including other color spaces and transparency.\n",
    "\n",
    "#### Sizes and lengths\n",
    "\n",
    "Many CSS properties have values specified with a particular amount that\n",
    "corresponds to some kind of distance or measurement on screen, like font\n",
    "sizes, border widths, shadow offsets, position of an element on the page,\n",
    "etc. Sizes and lengths are commonly expressed in a few different kinds of units of length:\n",
    "\n",
    "* `1em` specifies approximately the length of the letter 'M' in the page's default font.\n",
    "* `1px` specifies exactly the size of one pixel on screen.\n",
    "* `1pt` specifies one \"point,\" a typographical measurement equal to 1/72 of an inch. (12pts is equal to 16px is equal to 1em.)\n",
    "* `1%` (generally) specifies one percent of the width of the element's containing element. (Percentages are used to set sizes of block level elements, or position offsets; when used to size text, \"100%\" is the default font size, or 1em; \"110%\" would be ten percent bigger than that, etc.).\n",
    "* `1cm`: exactly one centimeter (calculated based on the pixel density of your display).\n",
    "\n",
    "The MDN reference has an exhaustive list of [all kinds of lengths](https://developer.mozilla.org/en-US/docs/Web/CSS/length), including a breakdown by relative length and absolute length.\n",
    "\n",
    "Whenever you're specifying a size or length, you need to include one of these\n",
    "units! Attempting to size something with CSS without giving a unit is like\n",
    "asking the question \"What is the circumference of this cheesewheel?\" and\n",
    "receiving the answer \"Six.\" Six what? Inches? Feet? Miles? Just how big is\n",
    "this cheesewheel. Here's an example showing several different lengths:"
   ]
  },
  {
   "cell_type": "code",
   "execution_count": 30,
   "id": "8e0fb8b5",
   "metadata": {},
   "outputs": [
    {
     "data": {
      "text/html": [
       "<div style=\"background-color: cyan; width: 20em;\">hello</div>\n",
       "<div style=\"background-color: cyan; width: 20px;\">hello</div>\n",
       "<div style=\"background-color: cyan; width: 20pt;\">hello</div>\n",
       "<div style=\"background-color: cyan; width: 20%;\">hello</div>\n",
       "<div style=\"background-color: cyan; width: 20cm;\">hello</div>\n"
      ],
      "text/plain": [
       "<IPython.core.display.HTML object>"
      ]
     },
     "metadata": {
      "text/html": {
       "isolated": true
      }
     },
     "output_type": "display_data"
    }
   ],
   "source": [
    "%%html --isolated\n",
    "<div style=\"background-color: cyan; width: 20em;\">hello</div>\n",
    "<div style=\"background-color: cyan; width: 20px;\">hello</div>\n",
    "<div style=\"background-color: cyan; width: 20pt;\">hello</div>\n",
    "<div style=\"background-color: cyan; width: 20%;\">hello</div>\n",
    "<div style=\"background-color: cyan; width: 20cm;\">hello</div>"
   ]
  },
  {
   "cell_type": "markdown",
   "id": "282f130a",
   "metadata": {},
   "source": [
    "#### Some useful and interesting CSS properties\n",
    "\n",
    "... to get you started:\n",
    "\n",
    "* For fonts: [font-family](https://developer.mozilla.org/en-US/docs/Web/CSS/font-family), [font-size](https://developer.mozilla.org/en-US/docs/Web/CSS/font-size), [line-height](https://developer.mozilla.org/en-US/docs/Web/CSS/line-height)\n",
    "* Color and backgrounds: [color](https://developer.mozilla.org/en-US/docs/Web/CSS/color), [background-color](https://developer.mozilla.org/en-US/docs/Web/CSS/background-color), [background-image](https://developer.mozilla.org/en-US/docs/Web/CSS/background-image)\n",
    "* Attributes related to the [CSS box model](https://developer.mozilla.org/en-US/docs/Web/CSS/CSS_Box_Model/Introduction_to_the_CSS_box_model): [padding](https://developer.mozilla.org/en-US/docs/Web/CSS/padding), [border](https://developer.mozilla.org/en-US/docs/Web/CSS/border), [margin](https://developer.mozilla.org/en-US/docs/Web/CSS/margin)\n",
    "* Setting dimensions: [width](https://developer.mozilla.org/en-US/docs/Web/CSS/width) and [height](https://developer.mozilla.org/en-US/docs/Web/CSS/height)\n",
    "\n",
    "### CSS rules\n",
    "\n",
    "Writing styles that apply to individual tags is all well and good, but what makes CSS actually powerful is its ability to apply the same style to many elements on the same page. We can use CSS *rules* to make this happen.\n",
    "\n",
    "A CSS rule looks like this, from a schematic standpoint:\n",
    "\n",
    "\tselector { property1: value1; property2: value2; property3: value3; ... }\n",
    "\n",
    "That is: a *selector* followed by a series of properties and values (each of which is followed by a semicolon), enclosed in curly braces. The portion of the rule inside curly braces describes what CSS properties we want to be applied; the selector describes what kinds of elements those styles should apply to.\n",
    "\n",
    "To include CSS rules in your markup, put them inside a `<style>` tag, like so:"
   ]
  },
  {
   "cell_type": "code",
   "execution_count": 38,
   "id": "db33bb7b",
   "metadata": {},
   "outputs": [
    {
     "data": {
      "text/html": [
       "<style>\n",
       "  p { color: blue; }\n",
       "</style>\n",
       "<p>Goodbye!</p>\n"
      ],
      "text/plain": [
       "<IPython.core.display.HTML object>"
      ]
     },
     "metadata": {
      "text/html": {
       "isolated": true
      }
     },
     "output_type": "display_data"
    }
   ],
   "source": [
    "%%html --isolated\n",
    "<style>\n",
    "  p { color: blue; }\n",
    "</style>\n",
    "<p>Goodbye!</p>"
   ]
  },
  {
   "cell_type": "markdown",
   "id": "ba70e5cf",
   "metadata": {},
   "source": [
    "You can include as many rules as you want. Rules included in this way will apply to all elements on the page, regardless of whether or not they occur before the `<style>` tag. It's conventional to put the `<style>` tag inside your HTML's `<head>` tag. (We'll discuss the structure of a conventional HTML file a bit later.)\n",
    "\n",
    "#### Selecting every element\n",
    "\n",
    "Let's go into some detail about CSS selectors. The simplest kind of selector simply names a tag. The CSS properties in the rule will then be applied to every element that uses this HTML tag. For example, the following rule would make every `<em>` element render in a slightly larger font than the rest of the page:\n",
    "\n",
    "\tem { font-size: 120%; }\n",
    "\n",
    "Or, to give every `<h2>` tag a border on the bottom:\n",
    "\n",
    "\th2 { border-bottom: 1px black solid; }\n",
    "\n",
    "See it in action:"
   ]
  },
  {
   "cell_type": "code",
   "execution_count": 41,
   "id": "907d9716",
   "metadata": {},
   "outputs": [
    {
     "data": {
      "text/html": [
       "<style>\n",
       "    em { font-size: 120%; }\n",
       "    h2 { border-bottom: 1px black solid; }\n",
       "</style>\n",
       "<h2>Hi, it's me</h2>\n",
       "<p>I'm the problem, <em>it's me</em>.</p>\n"
      ],
      "text/plain": [
       "<IPython.core.display.HTML object>"
      ]
     },
     "metadata": {
      "text/html": {
       "isolated": true
      }
     },
     "output_type": "display_data"
    }
   ],
   "source": [
    "%%html --isolated\n",
    "<style>\n",
    "    em { font-size: 120%; }\n",
    "    h2 { border-bottom: 1px black solid; }\n",
    "</style>\n",
    "<h2>Hi, it's me</h2>\n",
    "<p>I'm the problem, <em>it's me</em>.</p>"
   ]
  },
  {
   "cell_type": "markdown",
   "id": "8d21e7f0",
   "metadata": {},
   "source": [
    "#### Selecting elements with the same `class` attribute\n",
    "\n",
    "You may have noticed that the `class` attribute of HTML elements appears to\n",
    "be a little bit magical---it shows up everywhere and seems to be associated\n",
    "with the way elements look. The reason for this is that CSS rules can be\n",
    "written to apply to all elements that have their `class` attribute set to\n",
    "a particular value.\n",
    "\n",
    "Say, for example, you had an element like this:\n",
    "\n",
    "\t<p class=\"fancypants\">Fondue feta cream cheese. Lancashire who moved my\n",
    "\tcheese say cheese ricotta fromage monterey jack bavarian bergkase cottage\n",
    "\tcheese.</p>\n",
    "\n",
    "We could write a rule that applies to this element (and not, e.g., any other\n",
    "`<p>` tags that don't have that class attribute, or have some other class\n",
    "attribute) like so:\n",
    "\n",
    "\t.fancypants { text-align: center; font-family: fantasy; line-height: 150%; }\n",
    "\n",
    "See it in action:"
   ]
  },
  {
   "cell_type": "code",
   "execution_count": 43,
   "id": "a00de6e3",
   "metadata": {},
   "outputs": [
    {
     "data": {
      "text/html": [
       "<style type=\"text/css\">\n",
       "    .fancypants { text-align: center; font-family: fantasy; line-height: 150%; }\n",
       "</style>\n",
       "<p class=\"fancypants\">Fondue feta cream cheese. Lancashire who moved my\n",
       "cheese say cheese ricotta fromage monterey jack bavarian bergkase cottage\n",
       "cheese.</p>\n",
       "<p>This paragraph has no particular style. Snooze.</p>\n"
      ],
      "text/plain": [
       "<IPython.core.display.HTML object>"
      ]
     },
     "metadata": {
      "text/html": {
       "isolated": true
      }
     },
     "output_type": "display_data"
    }
   ],
   "source": [
    "%%html --isolated\n",
    "<style type=\"text/css\">\n",
    "    .fancypants { text-align: center; font-family: fantasy; line-height: 150%; }\n",
    "</style>\n",
    "<p class=\"fancypants\">Fondue feta cream cheese. Lancashire who moved my\n",
    "cheese say cheese ricotta fromage monterey jack bavarian bergkase cottage\n",
    "cheese.</p>\n",
    "<p>This paragraph has no particular style. Snooze.</p>"
   ]
  },
  {
   "cell_type": "markdown",
   "id": "aa730511",
   "metadata": {},
   "source": [
    "Note that the class `fancypants` doesn't have any particular built-in\n",
    "meaning---it's just a word that I decided to use for this purpose. You can name\n",
    "your classes whatever you want ([with some\n",
    "restrictions](http://stackoverflow.com/questions/448981/what-characters-are-valid-in-css-class-selectors)—basically, use lowercase letters and hyphens). Just make sure that the class\n",
    "you use in the HTML attribute is the same as the class in the CSS rule. (Also note that the CSS selector has a `.`, but the class name in the `class` attribute does not. This is a mistake I make all the time!)\n",
    "\n",
    "Part of the power of setting styles this way is that you can potentially have\n",
    "styles that apply to different types of elements (e.g., with different\n",
    "tags). Here's a rule that gives an element a pretty border:\n",
    "\n",
    "\t.prettyborder { padding: 5px; border: 3px pink solid; }\n",
    "\n",
    "Now I can give this class to all different kinds of elements, e.g.\n",
    "\n",
    "\t<p>This is <em class=\"prettyborder\">a test</em>. We have a saboteur aboard.\n",
    "\tMaybe we better talk out here.</p>\n",
    "\t<ul>\n",
    "\t\t<li class=\"prettyborder\">The observation lounge turned into a swamp.</li>\n",
    "\t\t<li>Your shields were failing, sir. Not if I weaken first.</li>\n",
    "\t\t<li>You're going to be an interesting companion.</li>\n",
    "\t</ul>\n",
    "\n",
    "See it in action:"
   ]
  },
  {
   "cell_type": "code",
   "execution_count": 44,
   "id": "c420bd7d",
   "metadata": {},
   "outputs": [
    {
     "data": {
      "text/html": [
       "<style type=\"text/css\">\n",
       ".prettyborder { padding: 5px; border: 3px pink solid; }\n",
       "</style>\n",
       "<p>This is <em class=\"prettyborder\">a test</em>. We have a saboteur aboard.\n",
       "Maybe we better talk out here.</p>\n",
       "<ul>\n",
       "<li class=\"prettyborder\">The observation lounge turned into a swamp.</li>\n",
       "<li>Your shields were failing, sir. Not if I weaken first.</li>\n",
       "<li>You're going to be an interesting companion.</li>\n",
       "</ul>\n"
      ],
      "text/plain": [
       "<IPython.core.display.HTML object>"
      ]
     },
     "metadata": {
      "text/html": {
       "isolated": true
      }
     },
     "output_type": "display_data"
    }
   ],
   "source": [
    "%%html --isolated\n",
    "<style type=\"text/css\">\n",
    ".prettyborder { padding: 5px; border: 3px pink solid; }\n",
    "</style>\n",
    "<p>This is <em class=\"prettyborder\">a test</em>. We have a saboteur aboard.\n",
    "Maybe we better talk out here.</p>\n",
    "<ul>\n",
    "<li class=\"prettyborder\">The observation lounge turned into a swamp.</li>\n",
    "<li>Your shields were failing, sir. Not if I weaken first.</li>\n",
    "<li>You're going to be an interesting companion.</li>\n",
    "</ul>"
   ]
  },
  {
   "cell_type": "markdown",
   "id": "ceba9fee",
   "metadata": {},
   "source": [
    "#### Selecting a single element\n",
    "\n",
    "You can write a CSS rule that applies to a single element by giving the element an `id` attribute, and then referencing that attribute with a `#` in the rule's selector. It looks like this:"
   ]
  },
  {
   "cell_type": "code",
   "execution_count": 47,
   "id": "75872869",
   "metadata": {},
   "outputs": [
    {
     "data": {
      "text/html": [
       "<style>\n",
       "    #fancy { font-family: cursive; font-size: 16pt; font-style: italic; }\n",
       "</style>\n",
       "<p>This is a normal paragraph.</p>\n",
       "<p id=\"fancy\">This is a very fancy paragraph.</p>\n",
       "<p>Another normal paragraph.</p>\n"
      ],
      "text/plain": [
       "<IPython.core.display.HTML object>"
      ]
     },
     "metadata": {
      "text/html": {
       "isolated": true
      }
     },
     "output_type": "display_data"
    }
   ],
   "source": [
    "%%html --isolated\n",
    "<style>\n",
    "    #fancy { font-family: cursive; font-size: 16pt; font-style: italic; }\n",
    "</style>\n",
    "<p>This is a normal paragraph.</p>\n",
    "<p id=\"fancy\">This is a very fancy paragraph.</p>\n",
    "<p>Another normal paragraph.</p>"
   ]
  },
  {
   "cell_type": "markdown",
   "id": "f59bbe9d",
   "metadata": {},
   "source": [
    "This is essentially the same thing as setting the style inline using the `style` attribute."
   ]
  },
  {
   "cell_type": "markdown",
   "id": "938aefa1",
   "metadata": {},
   "source": [
    "#### Compound selectors\n",
    "\n",
    "You may write a rule that you want to apply to some collection of elements\n",
    "that is tricky to write a single selector for. Fortunately, it's possible to\n",
    "specify multiple selectors to apply to a single rule: just put commas\n",
    "between each of the selectors that you want the rule to apply to. For\n",
    "example, here's a rule that applies to `<b>` tags and `<i>` tags:"
   ]
  },
  {
   "cell_type": "code",
   "execution_count": 49,
   "id": "565449a6",
   "metadata": {},
   "outputs": [
    {
     "data": {
      "text/html": [
       "<style type=\"text/css\">\n",
       "b, i { font-family: monospace; }\n",
       "</style>\n",
       "<p><b>Bold</b> and <i>italic</i> tags. Incredible.</p>\n"
      ],
      "text/plain": [
       "<IPython.core.display.HTML object>"
      ]
     },
     "metadata": {
      "text/html": {
       "isolated": true
      }
     },
     "output_type": "display_data"
    }
   ],
   "source": [
    "%%html --isolated\n",
    "<style type=\"text/css\">\n",
    "b, i { font-family: monospace; }\n",
    "</style>\n",
    "<p><b>Bold</b> and <i>italic</i> tags. Incredible.</p>"
   ]
  },
  {
   "cell_type": "markdown",
   "id": "e9b2e67c",
   "metadata": {},
   "source": [
    "You can make a rule that applies to multiple classes as well:"
   ]
  },
  {
   "cell_type": "code",
   "execution_count": 50,
   "id": "166798be",
   "metadata": {},
   "outputs": [
    {
     "data": {
      "text/html": [
       "<style type=\"text/css\">\n",
       "    .fancy, .important { color: pink; text-shadow: 3px 3px black; }\n",
       "</style>\n",
       "<p><span class=\"fancy\">This is fancy</span> and \n",
       "<span class=\"important\">this is important</span>.</p>\n"
      ],
      "text/plain": [
       "<IPython.core.display.HTML object>"
      ]
     },
     "metadata": {
      "text/html": {
       "isolated": true
      }
     },
     "output_type": "display_data"
    }
   ],
   "source": [
    "%%html --isolated\n",
    "<style type=\"text/css\">\n",
    "    .fancy, .important { color: pink; text-shadow: 3px 3px black; }\n",
    "</style>\n",
    "<p><span class=\"fancy\">This is fancy</span> and \n",
    "<span class=\"important\">this is important</span>.</p>"
   ]
  },
  {
   "cell_type": "markdown",
   "id": "38363a78",
   "metadata": {},
   "source": [
    "You can, of course, combine rules for classes and rules for tags in the\n",
    "same rule! And you can have more than two selectors, as long as they're all\n",
    "separated by commas:"
   ]
  },
  {
   "cell_type": "code",
   "execution_count": 51,
   "id": "eb107426",
   "metadata": {},
   "outputs": [
    {
     "data": {
      "text/html": [
       "<style type=\"text/css\">\n",
       "em, .interesting, .lovely { font-weight: bold; }\n",
       "</style>\n",
       "<p><span class=\"interesting\">Interesting</span> and\n",
       "<span class=\"lovely\">lovely</span> and <em>emphasized</em>.</p>\n"
      ],
      "text/plain": [
       "<IPython.core.display.HTML object>"
      ]
     },
     "metadata": {
      "text/html": {
       "isolated": true
      }
     },
     "output_type": "display_data"
    }
   ],
   "source": [
    "%%html --isolated\n",
    "<style type=\"text/css\">\n",
    "em, .interesting, .lovely { font-weight: bold; }\n",
    "</style>\n",
    "<p><span class=\"interesting\">Interesting</span> and\n",
    "<span class=\"lovely\">lovely</span> and <em>emphasized</em>.</p>"
   ]
  },
  {
   "cell_type": "markdown",
   "id": "b910e7ef",
   "metadata": {},
   "source": [
    "#### Pseudo-classes\n",
    "\n",
    "A pseudo-class allows you to select an element based not on its tag name\n",
    "or its class, but some other characteristic or state. MDN has an [exhaustive list of pseudo-classes](https://developer.mozilla.org/en-US/docs/Web/CSS/Pseudo-classes).\n",
    "\n",
    "Importantly, there are pseudo-classes that allow you to change the style of `<a>` tags based on whether or not they've been visited, and to change the style of elements when the mouse hovers over them.\n",
    "\n",
    "Let's look at the `<a>` pseudo-classes first. They are `:link`, `:visited` and\n",
    "`:active`. Here's how they work:\n",
    "\n",
    "* `:link`: sets the default style of a link\n",
    "* `:visited` sets the style of a link that has been \"visited\" (e.g., the user has clicked on the link some time in the past)\n",
    "* `:active` sets the style of a link that is \"active,\" i.e., the style of the link when the user has the mouse button pressed.\n",
    "\n",
    "You set a style for a pseudo-class by attaching the pseudo-class directly to\n",
    "the end of the selector you want the pseudo-class to apply to. For example,\n",
    "to set the `:visited` pseudo-class for all `<a>` tags:\n",
    "\n",
    "\ta:visited { color: green; font-size: 110%; }\n",
    "\n",
    "You could also say that you want the `:visited` pseudo-class to apply to all\n",
    "members of a particular class like so:\n",
    "\n",
    "\t.weird:visited { color: green; }\n",
    "\n",
    "Here it is in action:"
   ]
  },
  {
   "cell_type": "code",
   "execution_count": 52,
   "id": "1eb6082f",
   "metadata": {},
   "outputs": [
    {
     "data": {
      "text/html": [
       "<style type=\"text/css\">\n",
       ".weird:visited { color: green; }\n",
       "</style>\n",
       "<p><a href=\"https://www.decontextualize.com/\" class=\"weird\">This link</a> is\n",
       "weird.</p>\n"
      ],
      "text/plain": [
       "<IPython.core.display.HTML object>"
      ]
     },
     "metadata": {
      "text/html": {
       "isolated": true
      }
     },
     "output_type": "display_data"
    }
   ],
   "source": [
    "%%html --isolated\n",
    "<style type=\"text/css\">\n",
    ".weird:visited { color: green; }\n",
    "</style>\n",
    "<p><a href=\"https://www.decontextualize.com/\" class=\"weird\">This link</a> is\n",
    "weird.</p>"
   ]
  },
  {
   "cell_type": "markdown",
   "id": "ac67ae6c",
   "metadata": {},
   "source": [
    "(Note that for privacy reasons, [the kinds of CSS attributes that you can apply to `:visited` links are limited](https://developer.mozilla.org/en-US/docs/Web/CSS/Privacy_and_the_:visited_selector).)\n",
    "\n",
    "Let's set an `:active` style for the same class:"
   ]
  },
  {
   "cell_type": "code",
   "execution_count": 57,
   "id": "eb9c3e14",
   "metadata": {},
   "outputs": [
    {
     "data": {
      "text/html": [
       "<style type=\"text/css\">\n",
       "    .weird:visited { color: green; }\n",
       "    .weird:active { font-size: 150%; }\n",
       "</style>\n",
       "<p><a href=\"https://www.decontextualize.com/\" class=\"weird\">This link</a> is\n",
       "weird.</p>\n"
      ],
      "text/plain": [
       "<IPython.core.display.HTML object>"
      ]
     },
     "metadata": {
      "text/html": {
       "isolated": true
      }
     },
     "output_type": "display_data"
    }
   ],
   "source": [
    "%%html --isolated\n",
    "<style type=\"text/css\">\n",
    "    .weird:visited { color: green; }\n",
    "    .weird:active { font-size: 150%; }\n",
    "</style>\n",
    "<p><a href=\"https://www.decontextualize.com/\" class=\"weird\">This link</a> is\n",
    "weird.</p>"
   ]
  },
  {
   "cell_type": "markdown",
   "id": "16d681c6",
   "metadata": {},
   "source": [
    "The `:hover` attribute can be applied to any element, not just links. It\n",
    "applies to whatever element is currently under the user's mouse. Let's\n",
    "try it out (make sure to mouse over the second paragraph):"
   ]
  },
  {
   "cell_type": "code",
   "execution_count": 56,
   "id": "4eb30109",
   "metadata": {},
   "outputs": [
    {
     "data": {
      "text/html": [
       "<style type=\"text/css\">\n",
       ".fun:hover { font-size: 150%; border: 5px pink solid; }\n",
       "</style>\n",
       "<p>Just a normal paragraph.</p>\n",
       "<p class=\"fun\">This is a FUN paragraph!</p>\n",
       "<p>Another boring paragraph. Sigh.</p>\n"
      ],
      "text/plain": [
       "<IPython.core.display.HTML object>"
      ]
     },
     "metadata": {
      "text/html": {
       "isolated": true
      }
     },
     "output_type": "display_data"
    }
   ],
   "source": [
    "%%html --isolated\n",
    "<style type=\"text/css\">\n",
    ".fun:hover { font-size: 150%; border: 5px pink solid; }\n",
    "</style>\n",
    "<p>Just a normal paragraph.</p>\n",
    "<p class=\"fun\">This is a FUN paragraph!</p>\n",
    "<p>Another boring paragraph. Sigh.</p>"
   ]
  },
  {
   "cell_type": "markdown",
   "id": "cf874635",
   "metadata": {},
   "source": [
    "#### Other selectors\n",
    "\n",
    "[There are many other ways to write selectors](https://developer.mozilla.org/en-US/docs/Web/Guide/CSS/Getting_Started/Selectors), including sophisticated\n",
    "selectors that allow to write rules that apply to elements based on \n",
    "hierarchical relationships. (We may use some of these later in the class!)"
   ]
  },
  {
   "cell_type": "markdown",
   "id": "b721bec9",
   "metadata": {},
   "source": [
    "## Display styles and positioning\n",
    "\n",
    "It's easy enough to place HTML elements into a document, and to change how\n",
    "those elements look with CSS. CSS also allows us to determine *where* on the\n",
    "page an element will appear.\n",
    "\n",
    "HTML elements belong to one of two categories: block and\n",
    "inline. By default, block elements are positioned one on top of another on the\n",
    "page, in the order the occur in the HTML source. Inline elements also are\n",
    "positioned on the page in the order they occur in the HTML source, but they're\n",
    "placed in the \"flow\" of the page's text. This is called \"[normal flow](https://developer.mozilla.org/en-US/docs/Learn/CSS/CSS_layout/Normal_Flow).\""
   ]
  },
  {
   "cell_type": "code",
   "execution_count": 60,
   "id": "bbc158cb",
   "metadata": {},
   "outputs": [
    {
     "data": {
      "text/html": [
       "<p>Paragraphs are block elements.</p>\n",
       "<p>Here's another paragraph. <em>The &lt;em&gt; tag</em> is an inline element.</p>\n",
       "<p>Another paragraph.</p>\n"
      ],
      "text/plain": [
       "<IPython.core.display.HTML object>"
      ]
     },
     "metadata": {
      "text/html": {
       "isolated": true
      }
     },
     "output_type": "display_data"
    }
   ],
   "source": [
    "%%html --isolated\n",
    "<p>Paragraphs are block elements.</p>\n",
    "<p>Here's another paragraph. <em>The &lt;em&gt; tag</em> is an inline element.</p>\n",
    "<p>Another paragraph.</p>"
   ]
  },
  {
   "cell_type": "markdown",
   "id": "46dec395",
   "metadata": {},
   "source": [
    "But we can actually *change* whether an element is rendered as a block or inline using the CSS `display` attribute. For example:"
   ]
  },
  {
   "cell_type": "code",
   "execution_count": 61,
   "id": "a9f77751",
   "metadata": {},
   "outputs": [
    {
     "data": {
      "text/html": [
       "<p>Paragraphs are block elements.</p>\n",
       "<p>Here's another paragraph. <em style=\"display: block;\">The &lt;em&gt;\n",
       "    tag</em> is an inline element, by default.</p>\n",
       "<p>Another paragraph.</p>\n"
      ],
      "text/plain": [
       "<IPython.core.display.HTML object>"
      ]
     },
     "metadata": {
      "text/html": {
       "isolated": true
      }
     },
     "output_type": "display_data"
    }
   ],
   "source": [
    "%%html --isolated\n",
    "<p>Paragraphs are block elements.</p>\n",
    "<p>Here's another paragraph. <em style=\"display: block;\">The &lt;em&gt;\n",
    "    tag</em> is an inline element, by default.</p>\n",
    "<p>Another paragraph.</p>"
   ]
  },
  {
   "cell_type": "markdown",
   "id": "29020749",
   "metadata": {},
   "source": [
    "As you can see, by setting the `<em>` tag's `display` attribute to `block`, we caused it to be rendered on a separate line—i.e., as a block element. (This ability to change an element's display type can be helpful when writing markup that is inline semantically but requires block-like behavior in its layout, or vice-versa.)\n",
    "\n",
    "### Positioning elements with `position`\n",
    "\n",
    "The `position` attribute makes it possible to adjust an element's placement on the page in a way that breaks out of the normal flow. The `position` attribute can have one of several values, which we'll discuss below: `relative`, `absolute`, and `fixed`. In each case, you'll specify the position of the element using either `top` or `bottom` (to specify the vertical position of the element) and either `left` or `right` (to specify\n",
    "the horizontal position of the element).\n",
    "\n",
    "#### Relative position\n",
    "\n",
    "Setting the `position` attribute to `relative` allows you to nudge the\n",
    "element from the location it would be normally when the browser lays out\n",
    "the page. Here's an example:"
   ]
  },
  {
   "cell_type": "code",
   "execution_count": 63,
   "id": "dbddbe68",
   "metadata": {},
   "outputs": [
    {
     "data": {
      "text/html": [
       "<p>Now is the <em style=\"position: relative; top: 5px; left: 5px;\">winter</em> of our discontent.</p>\n"
      ],
      "text/plain": [
       "<IPython.core.display.HTML object>"
      ]
     },
     "metadata": {
      "text/html": {
       "isolated": true
      }
     },
     "output_type": "display_data"
    }
   ],
   "source": [
    "%%html --isolated\n",
    "<p>Now is the <em style=\"position: relative; top: 5px; left: 5px;\">winter</em> of our discontent.</p>"
   ]
  },
  {
   "cell_type": "markdown",
   "id": "19cde9c8",
   "metadata": {},
   "source": [
    "Setting the `position` of the `<em>` element to `relative` allows us to set\n",
    "the `top` and `left` attributes. The `top` attribute tells the browser where on\n",
    "the page to render the element: in particular, how far it should be displayed from the its normal vertical position. The `left` attribute does the same thing,\n",
    "except for the horizontal position.\n",
    "\n",
    "These values can be negative as well, causing the element to move up or to the\n",
    "left, instead of down or to the right:"
   ]
  },
  {
   "cell_type": "code",
   "execution_count": 72,
   "id": "a6e5173f",
   "metadata": {},
   "outputs": [
    {
     "data": {
      "text/html": [
       "<p>Now is the <em style=\"position: relative; top: -10px; left: -15px;\">winter</em> of our discontent.</p>\n"
      ],
      "text/plain": [
       "<IPython.core.display.HTML object>"
      ]
     },
     "metadata": {
      "text/html": {
       "isolated": true
      }
     },
     "output_type": "display_data"
    }
   ],
   "source": [
    "%%html --isolated\n",
    "<p>Now is the <em style=\"position: relative; top: -10px; left: -15px;\">winter</em> of our discontent.</p>"
   ]
  },
  {
   "cell_type": "markdown",
   "id": "333a03e1",
   "metadata": {},
   "source": [
    "Note that `position: relative` without setting a `top` or a `left` just leaves\n",
    "the element exactly where it would have been:"
   ]
  },
  {
   "cell_type": "code",
   "execution_count": 73,
   "id": "be44e2b9",
   "metadata": {},
   "outputs": [
    {
     "data": {
      "text/html": [
       "<p>Now is the\n",
       "<em style=\"position: relative;\">winter</em>\n",
       "of our discontent.</p>\n"
      ],
      "text/plain": [
       "<IPython.core.display.HTML object>"
      ]
     },
     "metadata": {
      "text/html": {
       "isolated": true
      }
     },
     "output_type": "display_data"
    }
   ],
   "source": [
    "%%html --isolated\n",
    "<p>Now is the\n",
    "<em style=\"position: relative;\">winter</em>\n",
    "of our discontent.</p>"
   ]
  },
  {
   "cell_type": "markdown",
   "id": "6d5bc100",
   "metadata": {},
   "source": [
    "#### Absolute position\n",
    "\n",
    "Absolute positioning allows you to place an element at an arbitrary position\n",
    "inside of its containing element. For example:"
   ]
  },
  {
   "cell_type": "code",
   "execution_count": 74,
   "id": "dc0577f6",
   "metadata": {},
   "outputs": [
    {
     "data": {
      "text/html": [
       "<div style=\"position: relative; border: 1px black solid;\">Now is the\n",
       "<em style=\"position: absolute; top: -10px; left: -5px;\">winter</em>\n",
       "of our discontent.</div>\n"
      ],
      "text/plain": [
       "<IPython.core.display.HTML object>"
      ]
     },
     "metadata": {
      "text/html": {
       "isolated": true
      }
     },
     "output_type": "display_data"
    }
   ],
   "source": [
    "%%html --isolated\n",
    "<div style=\"position: relative; border: 1px black solid;\">Now is the\n",
    "<em style=\"position: absolute; top: -10px; left: -5px;\">winter</em>\n",
    "of our discontent.</div>"
   ]
  },
  {
   "cell_type": "markdown",
   "id": "055ad910",
   "metadata": {},
   "source": [
    "The word `winter` is displayed ten pixels above and five pixels to the left,\n",
    "not from where it usually would have been rendered, but from the top-left\n",
    "position of the `<div>` that contains it. (I've included a border around the\n",
    "`<div>` so you can see the `<div>`'s dimensions more clearly.)\n",
    "\n",
    "Note that for `absolute` to work, the containing element must have some value\n",
    "for `position`, even if that position is just `relative` without a `top` or\n",
    "`left`.\n",
    "\n",
    "Note also that (unlike `position: relative`) `absolute` doesn't leave a\n",
    "\"gap\" where the element would normally have been rendered.\n",
    "\n",
    "You can use `position: absolute` to create a \"collage\" effect, positioning\n",
    "`<div>`s and other elements on the page at arbitrary positions:"
   ]
  },
  {
   "cell_type": "code",
   "execution_count": 75,
   "id": "403aad74",
   "metadata": {},
   "outputs": [
    {
     "data": {
      "text/html": [
       "<div style=\"position: relative; height: 320px;\">\n",
       "    <p style=\"position: absolute; width: 150px; top: 100px; left: 400px;\">\n",
       "        How long can two people talk about nothing?\n",
       "    </p>\n",
       "    <p style=\"position: absolute; width: 150px; top: 10px; left: 50px;\">\n",
       "        As much as I care about you, my first duty is to the ship.\n",
       "    </p>\n",
       "    <p style=\"position: absolute; width: 150px; top: 220px; left: 320px;\">\n",
       "        You're going to be an interesting companion, Mr. Data.\n",
       "    </p>\n",
       "    <img src=\"https://hypertext.decontextualize.com/public/bigriker.jpg\"\n",
       "        style=\"position: absolute; width: 150px; top: 95px; left: 150px;\">\n",
       "</div>\n"
      ],
      "text/plain": [
       "<IPython.core.display.HTML object>"
      ]
     },
     "metadata": {
      "text/html": {
       "isolated": true
      }
     },
     "output_type": "display_data"
    }
   ],
   "source": [
    "%%html --isolated\n",
    "<div style=\"position: relative; height: 320px;\">\n",
    "    <p style=\"position: absolute; width: 150px; top: 100px; left: 400px;\">\n",
    "        How long can two people talk about nothing?\n",
    "    </p>\n",
    "    <p style=\"position: absolute; width: 150px; top: 10px; left: 50px;\">\n",
    "        As much as I care about you, my first duty is to the ship.\n",
    "    </p>\n",
    "    <p style=\"position: absolute; width: 150px; top: 220px; left: 320px;\">\n",
    "        You're going to be an interesting companion, Mr. Data.\n",
    "    </p>\n",
    "    <img src=\"https://hypertext.decontextualize.com/public/bigriker.jpg\"\n",
    "        style=\"position: absolute; width: 150px; top: 95px; left: 150px;\">\n",
    "</div>"
   ]
  },
  {
   "cell_type": "markdown",
   "id": "9fa6b104",
   "metadata": {},
   "source": [
    "#### Fixed position\n",
    "\n",
    "There's one more kind of `position`: `fixed`. A `fixed` position attaches an\n",
    "element to the browser's \"viewport\": the part of the browser window\n",
    "that displays the actual content of the page. The MDN documentation has a [great example of fixed position](https://developer.mozilla.org/en-US/docs/Web/CSS/position#fixed_positioning).\n",
    "\n",
    "Setting the `top` and `left` of a `position: fixed` element describes how\n",
    "far from the upper left-hand corner of the browser's viewport the element\n",
    "should be positioned. This is useful for making things like menus, toolbars,\n",
    "etc.---anything you want the reader to see regardless of where they've\n",
    "scrolled to on the page."
   ]
  },
  {
   "cell_type": "markdown",
   "id": "27afaaef",
   "metadata": {},
   "source": [
    "#### Setting positions with `right` and `bottom`\n",
    "\n",
    "In all of the examples above, we've used `top` and `left` to position elements.\n",
    "You can also use `bottom` and `right`---these attributes to the same thing\n",
    "as their counterparts, except they say how far from the bottom or right-hand\n",
    "side of the containing element (or the viewport) to place the element.\n",
    "\n",
    "An example with `absolute`:"
   ]
  },
  {
   "cell_type": "code",
   "execution_count": 99,
   "id": "11cbe69c",
   "metadata": {},
   "outputs": [
    {
     "data": {
      "text/html": [
       "<div style=\"position: relative; border: 1px black solid;\">Now is the\n",
       "<em style=\"position: absolute; bottom: -10px; right: 5px;\">winter</em>\n",
       "of our discontent.</div>\n"
      ],
      "text/plain": [
       "<IPython.core.display.HTML object>"
      ]
     },
     "metadata": {
      "text/html": {
       "isolated": true
      }
     },
     "output_type": "display_data"
    }
   ],
   "source": [
    "%%html --isolated\n",
    "<div style=\"position: relative; border: 1px black solid;\">Now is the\n",
    "<em style=\"position: absolute; bottom: -10px; right: 5px;\">winter</em>\n",
    "of our discontent.</div>"
   ]
  },
  {
   "cell_type": "markdown",
   "id": "fbdd81da",
   "metadata": {},
   "source": [
    "## More sophisticated layouts with grids\n",
    "\n",
    "Write-up and explanations TK! See the [MDN Grid tutorial](https://developer.mozilla.org/en-US/docs/Learn/CSS/CSS_layout/Grids) for a step-by-step introduction. I also found [this Grid Garden game](https://cssgridgarden.com/) to be useful!"
   ]
  },
  {
   "cell_type": "code",
   "execution_count": 126,
   "id": "af894b90",
   "metadata": {
    "scrolled": true
   },
   "outputs": [
    {
     "data": {
      "text/html": [
       "<style>\n",
       "    #container {\n",
       "        display: grid;\n",
       "        grid-template-columns: 15em 15em 15em;\n",
       "    }\n",
       "    p {\n",
       "        border: 1px black solid;\n",
       "        padding: 0.5em;\n",
       "        margin: 0.5em;\n",
       "    }\n",
       "</style>\n",
       "<div id=\"container\">\n",
       "    <p>The Fool</p>\n",
       "    <p>The Magician</p>\n",
       "    <p>The High Priestess</p>\n",
       "    <p>The Empress</p>\n",
       "    <p>The Emperor</p>\n",
       "    <p>The Hierophant</p>\n",
       "    <p>The Lovers</p>\n",
       "    <p>The Chariot</p>\n",
       "    <p>Strength</p>\n",
       "    <p>The Hermit</p>\n",
       "    <p>Wheel of Fortune</p>\n",
       "    <p>Justice</p>\n",
       "    <p>The Hanged Man</p>\n",
       "    <p>Death</p>\n",
       "</div>\n"
      ],
      "text/plain": [
       "<IPython.core.display.HTML object>"
      ]
     },
     "metadata": {
      "text/html": {
       "isolated": true
      }
     },
     "output_type": "display_data"
    }
   ],
   "source": [
    "%%html --isolated\n",
    "<style>\n",
    "    #container {\n",
    "        display: grid;\n",
    "        grid-template-columns: 15em 15em 15em;\n",
    "    }\n",
    "    p {\n",
    "        border: 1px black solid;\n",
    "        padding: 0.5em;\n",
    "        margin: 0.5em;\n",
    "    }\n",
    "</style>\n",
    "<div id=\"container\">\n",
    "    <p>The Fool</p>\n",
    "    <p>The Magician</p>\n",
    "    <p>The High Priestess</p>\n",
    "    <p>The Empress</p>\n",
    "    <p>The Emperor</p>\n",
    "    <p>The Hierophant</p>\n",
    "    <p>The Lovers</p>\n",
    "    <p>The Chariot</p>\n",
    "    <p>Strength</p>\n",
    "    <p>The Hermit</p>\n",
    "    <p>Wheel of Fortune</p>\n",
    "    <p>Justice</p>\n",
    "    <p>The Hanged Man</p>\n",
    "    <p>Death</p>\n",
    "</div>"
   ]
  },
  {
   "cell_type": "code",
   "execution_count": 118,
   "id": "a37823a9",
   "metadata": {},
   "outputs": [
    {
     "data": {
      "text/html": [
       "<style>\n",
       "    #container {\n",
       "        display: grid;\n",
       "        grid-template-columns: repeat(5, 1fr);\n",
       "    }\n",
       "    p {\n",
       "        border: 1px black solid;\n",
       "        padding: 0.5em;\n",
       "        margin: 0.5em;\n",
       "    }\n",
       "</style>\n",
       "<div id=\"container\">\n",
       "    <p>The Fool</p>\n",
       "    <p>The Magician</p>\n",
       "    <p>The High Priestess</p>\n",
       "    <p>The Empress</p>\n",
       "    <p>The Emperor</p>\n",
       "    <p>The Hierophant</p>\n",
       "    <p>The Lovers</p>\n",
       "    <p>The Chariot</p>\n",
       "    <p>Strength</p>\n",
       "    <p>The Hermit</p>\n",
       "    <p>Wheel of Fortune</p>\n",
       "    <p>Justice</p>\n",
       "    <p>The Hanged Man</p>\n",
       "    <p>Death</p>\n",
       "</div>\n"
      ],
      "text/plain": [
       "<IPython.core.display.HTML object>"
      ]
     },
     "metadata": {
      "text/html": {
       "isolated": true
      }
     },
     "output_type": "display_data"
    }
   ],
   "source": [
    "%%html --isolated\n",
    "<style>\n",
    "    #container {\n",
    "        display: grid;\n",
    "        grid-template-columns: repeat(5, 1fr);\n",
    "    }\n",
    "    p {\n",
    "        border: 1px black solid;\n",
    "        padding: 0.5em;\n",
    "        margin: 0.5em;\n",
    "    }\n",
    "</style>\n",
    "<div id=\"container\">\n",
    "    <p>The Fool</p>\n",
    "    <p>The Magician</p>\n",
    "    <p>The High Priestess</p>\n",
    "    <p>The Empress</p>\n",
    "    <p>The Emperor</p>\n",
    "    <p>The Hierophant</p>\n",
    "    <p>The Lovers</p>\n",
    "    <p>The Chariot</p>\n",
    "    <p>Strength</p>\n",
    "    <p>The Hermit</p>\n",
    "    <p>Wheel of Fortune</p>\n",
    "    <p>Justice</p>\n",
    "    <p>The Hanged Man</p>\n",
    "    <p>Death</p>\n",
    "</div>"
   ]
  },
  {
   "cell_type": "code",
   "execution_count": 108,
   "id": "4b7fca2f",
   "metadata": {},
   "outputs": [
    {
     "data": {
      "text/html": [
       "<style>\n",
       "    #container {\n",
       "        display: grid;\n",
       "        grid-template-columns: 30em 10em 10em 10em;\n",
       "    }\n",
       "    p {\n",
       "        border: 1px black solid;\n",
       "        padding: 0.5em;\n",
       "        margin: 0.5em;\n",
       "    }\n",
       "</style>\n",
       "<div id=\"container\">\n",
       "    <p>The Fool</p>\n",
       "    <p>The Magician</p>\n",
       "    <p>The High Priestess</p>\n",
       "    <p>The Empress</p>\n",
       "    <p>The Emperor</p>\n",
       "    <p>The Hierophant</p>\n",
       "    <p>The Lovers</p>\n",
       "    <p>The Chariot</p>\n",
       "    <p>Strength</p>\n",
       "    <p>The Hermit</p>\n",
       "    <p>Wheel of Fortune</p>\n",
       "    <p>Justice</p>\n",
       "    <p>The Hanged Man</p>\n",
       "    <p>Death</p>\n",
       "</div>\n"
      ],
      "text/plain": [
       "<IPython.core.display.HTML object>"
      ]
     },
     "metadata": {
      "text/html": {
       "isolated": true
      }
     },
     "output_type": "display_data"
    }
   ],
   "source": [
    "%%html --isolated\n",
    "<style>\n",
    "    #container {\n",
    "        display: grid;\n",
    "        grid-template-columns: 30em 10em 10em 10em;\n",
    "    }\n",
    "    p {\n",
    "        border: 1px black solid;\n",
    "        padding: 0.5em;\n",
    "        margin: 0.5em;\n",
    "    }\n",
    "</style>\n",
    "<div id=\"container\">\n",
    "    <p>The Fool</p>\n",
    "    <p>The Magician</p>\n",
    "    <p>The High Priestess</p>\n",
    "    <p>The Empress</p>\n",
    "    <p>The Emperor</p>\n",
    "    <p>The Hierophant</p>\n",
    "    <p>The Lovers</p>\n",
    "    <p>The Chariot</p>\n",
    "    <p>Strength</p>\n",
    "    <p>The Hermit</p>\n",
    "    <p>Wheel of Fortune</p>\n",
    "    <p>Justice</p>\n",
    "    <p>The Hanged Man</p>\n",
    "    <p>Death</p>\n",
    "</div>"
   ]
  },
  {
   "cell_type": "code",
   "execution_count": 117,
   "id": "0146cbd1",
   "metadata": {},
   "outputs": [
    {
     "data": {
      "text/html": [
       "<style>\n",
       "    #container {\n",
       "        display: grid;\n",
       "        grid-template-columns: repeat(5, 1fr);\n",
       "        grid-template-rows: 3em 10em 3em;\n",
       "    }\n",
       "    p {\n",
       "        border: 1px black solid;\n",
       "        padding: 0.5em;\n",
       "        margin: 0.5em;\n",
       "    }\n",
       "</style>\n",
       "<div id=\"container\">\n",
       "    <p>The Fool</p>\n",
       "    <p>The Magician</p>\n",
       "    <p>The High Priestess</p>\n",
       "    <p>The Empress</p>\n",
       "    <p>The Emperor</p>\n",
       "    <p>The Hierophant</p>\n",
       "    <p>The Lovers</p>\n",
       "    <p>The Chariot</p>\n",
       "    <p>Strength</p>\n",
       "    <p>The Hermit</p>\n",
       "    <p>Wheel of Fortune</p>\n",
       "    <p>Justice</p>\n",
       "    <p>The Hanged Man</p>\n",
       "    <p>Death</p>\n",
       "</div>\n"
      ],
      "text/plain": [
       "<IPython.core.display.HTML object>"
      ]
     },
     "metadata": {
      "text/html": {
       "isolated": true
      }
     },
     "output_type": "display_data"
    }
   ],
   "source": [
    "%%html --isolated\n",
    "<style>\n",
    "    #container {\n",
    "        display: grid;\n",
    "        grid-template-columns: repeat(5, 1fr);\n",
    "        grid-template-rows: 3em 10em 3em;\n",
    "    }\n",
    "    p {\n",
    "        border: 1px black solid;\n",
    "        padding: 0.5em;\n",
    "        margin: 0.5em;\n",
    "    }\n",
    "</style>\n",
    "<div id=\"container\">\n",
    "    <p>The Fool</p>\n",
    "    <p>The Magician</p>\n",
    "    <p>The High Priestess</p>\n",
    "    <p>The Empress</p>\n",
    "    <p>The Emperor</p>\n",
    "    <p>The Hierophant</p>\n",
    "    <p>The Lovers</p>\n",
    "    <p>The Chariot</p>\n",
    "    <p>Strength</p>\n",
    "    <p>The Hermit</p>\n",
    "    <p>Wheel of Fortune</p>\n",
    "    <p>Justice</p>\n",
    "    <p>The Hanged Man</p>\n",
    "    <p>Death</p>\n",
    "</div>"
   ]
  },
  {
   "cell_type": "code",
   "execution_count": 125,
   "id": "41f0a7e4",
   "metadata": {},
   "outputs": [
    {
     "data": {
      "text/html": [
       "<style>\n",
       "    #container {\n",
       "        display: grid;\n",
       "        grid-template-columns: repeat(5, 1fr);\n",
       "        grid-template-rows: 3em 10em 3em;\n",
       "    }\n",
       "    p {\n",
       "        border: 1px black solid;\n",
       "        padding: 0.5em;\n",
       "        margin: 0.5em;\n",
       "    }\n",
       "</style>\n",
       "<div id=\"container\">\n",
       "    <p style=\"grid-column: 1 / 6; grid-row: 1;\">The Fool</p>\n",
       "    <p style=\"grid-column: 1; grid-row: 2;\">The Magician</p>\n",
       "    <p style=\"grid-column: 2 / 5; grid-row: 2;\">The High Priestess</p>\n",
       "    <p style=\"grid-column: 5; grid-row: 2;\">The Empress</p>\n",
       "    <p style=\"grid-column: 1 / 3; grid-row: 3;\">The Emperor</p>\n",
       "    <p style=\"grid-column: 3 / 6; grid-row: 3;\">The Hierophant</p>\n",
       "</div>\n"
      ],
      "text/plain": [
       "<IPython.core.display.HTML object>"
      ]
     },
     "metadata": {
      "text/html": {
       "isolated": true
      }
     },
     "output_type": "display_data"
    }
   ],
   "source": [
    "%%html --isolated\n",
    "<style>\n",
    "    #container {\n",
    "        display: grid;\n",
    "        grid-template-columns: repeat(5, 1fr);\n",
    "        grid-template-rows: 3em 10em 3em;\n",
    "    }\n",
    "    p {\n",
    "        border: 1px black solid;\n",
    "        padding: 0.5em;\n",
    "        margin: 0.5em;\n",
    "    }\n",
    "</style>\n",
    "<div id=\"container\">\n",
    "    <p style=\"grid-column: 1 / 6; grid-row: 1;\">The Fool</p>\n",
    "    <p style=\"grid-column: 1; grid-row: 2;\">The Magician</p>\n",
    "    <p style=\"grid-column: 2 / 5; grid-row: 2;\">The High Priestess</p>\n",
    "    <p style=\"grid-column: 5; grid-row: 2;\">The Empress</p>\n",
    "    <p style=\"grid-column: 1 / 3; grid-row: 3;\">The Emperor</p>\n",
    "    <p style=\"grid-column: 3 / 6; grid-row: 3;\">The Hierophant</p>\n",
    "</div>"
   ]
  },
  {
   "cell_type": "markdown",
   "id": "07ae54ad",
   "metadata": {},
   "source": [
    "## Writing HTML in a separate file\n",
    "\n",
    "Making example HTML inside of a Jupyter Notebook is fun, but if to do some real damage, you'll probably want to put your HTML in a separate file. That's easy to do! Just use a text editor (like the one built into Juypter Notebook), put some HTML code in it, and save it with a `.html` extension. When that's done, you can open it up in a web browser and behold your masterful work! I recommend using the following \"boilerplate\" code when you're making a new HTML file:\n",
    "\n",
    "    <!DOCTYPE html>\n",
    "    <html lang=\"en\">\n",
    "    <head>\n",
    "        <meta charset=\"utf-8\">\n",
    "        <title>put your title here</title>\n",
    "        <style>\n",
    "            /* your styles go here */\n",
    "        </style>\n",
    "    </head>\n",
    "    <body>\n",
    "    blah blah blah\n",
    "    </body>\n",
    "    </html>\n",
    "    \n",
    "This boilerplate correctly sets things like the document type and the character set, which maximizes browser compatibility and accessibility. Change `en` in the `lang` attribute to the [appropriate language code](https://accessibility.psu.edu/foreignlanguages/langtaghtml/).\n",
    "\n",
    "Once you have an HTML file that you like, you can upload it to a hosting service so that everyone in the world can see it. [Neocities](https://neocities.org/) is a very friendly hosting service for HTML beginners."
   ]
  },
  {
   "cell_type": "markdown",
   "id": "ea9bba15",
   "metadata": {},
   "source": [
    "## Where to go next\n",
    "\n",
    "MDN's [Learn Web Development](https://developer.mozilla.org/en-US/docs/Learn) is fantastic!"
   ]
  }
 ],
 "metadata": {
  "kernelspec": {
   "display_name": "Python 3 (ipykernel)",
   "language": "python",
   "name": "python3"
  },
  "language_info": {
   "codemirror_mode": {
    "name": "ipython",
    "version": 3
   },
   "file_extension": ".py",
   "mimetype": "text/x-python",
   "name": "python",
   "nbconvert_exporter": "python",
   "pygments_lexer": "ipython3",
   "version": "3.9.16"
  }
 },
 "nbformat": 4,
 "nbformat_minor": 5
}
